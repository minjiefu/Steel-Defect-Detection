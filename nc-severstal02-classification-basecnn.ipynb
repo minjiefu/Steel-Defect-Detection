{
 "cells": [
  {
   "cell_type": "code",
   "execution_count": 1,
   "metadata": {
    "_cell_guid": "b1076dfc-b9ad-4769-8c92-a6c4dae69d19",
    "_uuid": "8f2839f25d086af736a60e9eeb907d3b93b6e0e5",
    "execution": {
     "iopub.execute_input": "2021-03-19T04:18:35.467634Z",
     "iopub.status.busy": "2021-03-19T04:18:35.467005Z",
     "iopub.status.idle": "2021-03-19T04:18:41.411691Z",
     "shell.execute_reply": "2021-03-19T04:18:41.412980Z"
    },
    "papermill": {
     "duration": 5.973049,
     "end_time": "2021-03-19T04:18:41.413368",
     "exception": false,
     "start_time": "2021-03-19T04:18:35.440319",
     "status": "completed"
    },
    "tags": []
   },
   "outputs": [],
   "source": [
    "import os\n",
    "import cv2\n",
    "import numpy as np\n",
    "import pandas as pd\n",
    "import tensorflow as tf\n",
    "from tensorflow import keras\n",
    "from tensorflow.keras import layers\n",
    "from tensorflow.keras.callbacks import Callback, ModelCheckpoint, ReduceLROnPlateau,EarlyStopping\n",
    "from tensorflow.keras.preprocessing.image import ImageDataGenerator\n",
    "from tensorflow.keras.models import Sequential, Model, load_model\n",
    "from tensorflow.keras.layers import Input, Dense, Conv2D, MaxPooling2D\n",
    "from tensorflow.keras.layers import GlobalAveragePooling2D, AveragePooling2D\n",
    "from tensorflow.keras.layers import ZeroPadding2D, Dropout, Flatten, add, Reshape\n",
    "from tensorflow.keras.layers import Activation, BatchNormalization\n",
    "from tensorflow.keras.optimizers import Adam, SGD, Nadam\n",
    "from tensorflow.keras.utils import plot_model,to_categorical\n",
    "from tensorflow.keras import backend as K\n",
    "from tensorflow.keras import initializers\n",
    "from tensorflow.keras.preprocessing.image import ImageDataGenerator\n",
    "\n",
    "from tqdm import tqdm\n",
    "from sklearn.model_selection import train_test_split\n",
    "from sklearn.metrics import confusion_matrix, classification_report\n",
    "import matplotlib.pyplot as plt\n",
    "import seaborn as sns"
   ]
  },
  {
   "cell_type": "markdown",
   "metadata": {
    "papermill": {
     "duration": 0.046757,
     "end_time": "2021-03-19T04:18:41.495630",
     "exception": false,
     "start_time": "2021-03-19T04:18:41.448873",
     "status": "completed"
    },
    "tags": []
   },
   "source": [
    "## Read train and test files"
   ]
  },
  {
   "cell_type": "code",
   "execution_count": 2,
   "metadata": {
    "_cell_guid": "b1076dfc-b9ad-4769-8c92-a6c4dae69d19",
    "_uuid": "8f2839f25d086af736a60e9eeb907d3b93b6e0e5",
    "execution": {
     "iopub.execute_input": "2021-03-19T04:18:41.576071Z",
     "iopub.status.busy": "2021-03-19T04:18:41.575328Z",
     "iopub.status.idle": "2021-03-19T04:18:42.086578Z",
     "shell.execute_reply": "2021-03-19T04:18:42.087029Z"
    },
    "papermill": {
     "duration": 0.551266,
     "end_time": "2021-03-19T04:18:42.087184",
     "exception": false,
     "start_time": "2021-03-19T04:18:41.535918",
     "status": "completed"
    },
    "tags": []
   },
   "outputs": [
    {
     "name": "stdout",
     "output_type": "stream",
     "text": [
      "(7095, 3)\n"
     ]
    },
    {
     "data": {
      "text/html": [
       "<div>\n",
       "<style scoped>\n",
       "    .dataframe tbody tr th:only-of-type {\n",
       "        vertical-align: middle;\n",
       "    }\n",
       "\n",
       "    .dataframe tbody tr th {\n",
       "        vertical-align: top;\n",
       "    }\n",
       "\n",
       "    .dataframe thead th {\n",
       "        text-align: right;\n",
       "    }\n",
       "</style>\n",
       "<table border=\"1\" class=\"dataframe\">\n",
       "  <thead>\n",
       "    <tr style=\"text-align: right;\">\n",
       "      <th></th>\n",
       "      <th>ImageId</th>\n",
       "      <th>ClassId</th>\n",
       "      <th>EncodedPixels</th>\n",
       "    </tr>\n",
       "  </thead>\n",
       "  <tbody>\n",
       "    <tr>\n",
       "      <th>0</th>\n",
       "      <td>0002cc93b.jpg</td>\n",
       "      <td>1</td>\n",
       "      <td>29102 12 29346 24 29602 24 29858 24 30114 24 3...</td>\n",
       "    </tr>\n",
       "    <tr>\n",
       "      <th>1</th>\n",
       "      <td>0007a71bf.jpg</td>\n",
       "      <td>3</td>\n",
       "      <td>18661 28 18863 82 19091 110 19347 110 19603 11...</td>\n",
       "    </tr>\n",
       "    <tr>\n",
       "      <th>2</th>\n",
       "      <td>000a4bcdd.jpg</td>\n",
       "      <td>1</td>\n",
       "      <td>37607 3 37858 8 38108 14 38359 20 38610 25 388...</td>\n",
       "    </tr>\n",
       "    <tr>\n",
       "      <th>3</th>\n",
       "      <td>000f6bf48.jpg</td>\n",
       "      <td>4</td>\n",
       "      <td>131973 1 132228 4 132483 6 132738 8 132993 11 ...</td>\n",
       "    </tr>\n",
       "    <tr>\n",
       "      <th>4</th>\n",
       "      <td>0014fce06.jpg</td>\n",
       "      <td>3</td>\n",
       "      <td>229501 11 229741 33 229981 55 230221 77 230468...</td>\n",
       "    </tr>\n",
       "  </tbody>\n",
       "</table>\n",
       "</div>"
      ],
      "text/plain": [
       "         ImageId  ClassId                                      EncodedPixels\n",
       "0  0002cc93b.jpg        1  29102 12 29346 24 29602 24 29858 24 30114 24 3...\n",
       "1  0007a71bf.jpg        3  18661 28 18863 82 19091 110 19347 110 19603 11...\n",
       "2  000a4bcdd.jpg        1  37607 3 37858 8 38108 14 38359 20 38610 25 388...\n",
       "3  000f6bf48.jpg        4  131973 1 132228 4 132483 6 132738 8 132993 11 ...\n",
       "4  0014fce06.jpg        3  229501 11 229741 33 229981 55 230221 77 230468..."
      ]
     },
     "execution_count": 2,
     "metadata": {},
     "output_type": "execute_result"
    }
   ],
   "source": [
    "train_df = pd.read_csv('../input/severstal-steel-defect-detection/train.csv')\n",
    "\n",
    "print(train_df.shape)\n",
    "train_df.head()"
   ]
  },
  {
   "cell_type": "code",
   "execution_count": 3,
   "metadata": {
    "_cell_guid": "b1076dfc-b9ad-4769-8c92-a6c4dae69d19",
    "_uuid": "8f2839f25d086af736a60e9eeb907d3b93b6e0e5",
    "execution": {
     "iopub.execute_input": "2021-03-19T04:18:42.132179Z",
     "iopub.status.busy": "2021-03-19T04:18:42.131657Z",
     "iopub.status.idle": "2021-03-19T04:18:42.155111Z",
     "shell.execute_reply": "2021-03-19T04:18:42.154487Z"
    },
    "papermill": {
     "duration": 0.047811,
     "end_time": "2021-03-19T04:18:42.155226",
     "exception": false,
     "start_time": "2021-03-19T04:18:42.107415",
     "status": "completed"
    },
    "tags": []
   },
   "outputs": [
    {
     "name": "stdout",
     "output_type": "stream",
     "text": [
      "(5506, 3)\n"
     ]
    },
    {
     "data": {
      "text/html": [
       "<div>\n",
       "<style scoped>\n",
       "    .dataframe tbody tr th:only-of-type {\n",
       "        vertical-align: middle;\n",
       "    }\n",
       "\n",
       "    .dataframe tbody tr th {\n",
       "        vertical-align: top;\n",
       "    }\n",
       "\n",
       "    .dataframe thead th {\n",
       "        text-align: right;\n",
       "    }\n",
       "</style>\n",
       "<table border=\"1\" class=\"dataframe\">\n",
       "  <thead>\n",
       "    <tr style=\"text-align: right;\">\n",
       "      <th></th>\n",
       "      <th>ImageId</th>\n",
       "      <th>EncodedPixels</th>\n",
       "      <th>ClassId</th>\n",
       "    </tr>\n",
       "  </thead>\n",
       "  <tbody>\n",
       "    <tr>\n",
       "      <th>0</th>\n",
       "      <td>0000f269f.jpg</td>\n",
       "      <td>1 409600</td>\n",
       "      <td>0</td>\n",
       "    </tr>\n",
       "    <tr>\n",
       "      <th>1</th>\n",
       "      <td>000ccc2ac.jpg</td>\n",
       "      <td>1 409600</td>\n",
       "      <td>0</td>\n",
       "    </tr>\n",
       "    <tr>\n",
       "      <th>2</th>\n",
       "      <td>002451917.jpg</td>\n",
       "      <td>1 409600</td>\n",
       "      <td>0</td>\n",
       "    </tr>\n",
       "    <tr>\n",
       "      <th>3</th>\n",
       "      <td>003c5da97.jpg</td>\n",
       "      <td>1 409600</td>\n",
       "      <td>0</td>\n",
       "    </tr>\n",
       "    <tr>\n",
       "      <th>4</th>\n",
       "      <td>0042e163f.jpg</td>\n",
       "      <td>1 409600</td>\n",
       "      <td>0</td>\n",
       "    </tr>\n",
       "  </tbody>\n",
       "</table>\n",
       "</div>"
      ],
      "text/plain": [
       "         ImageId EncodedPixels  ClassId\n",
       "0  0000f269f.jpg      1 409600        0\n",
       "1  000ccc2ac.jpg      1 409600        0\n",
       "2  002451917.jpg      1 409600        0\n",
       "3  003c5da97.jpg      1 409600        0\n",
       "4  0042e163f.jpg      1 409600        0"
      ]
     },
     "execution_count": 3,
     "metadata": {},
     "output_type": "execute_result"
    }
   ],
   "source": [
    "submission_df = pd.read_csv('../input/severstal-steel-defect-detection/sample_submission.csv')\n",
    "print(submission_df.shape)\n",
    "submission_df.head()"
   ]
  },
  {
   "cell_type": "code",
   "execution_count": 4,
   "metadata": {
    "_cell_guid": "b1076dfc-b9ad-4769-8c92-a6c4dae69d19",
    "_uuid": "8f2839f25d086af736a60e9eeb907d3b93b6e0e5",
    "execution": {
     "iopub.execute_input": "2021-03-19T04:18:42.203580Z",
     "iopub.status.busy": "2021-03-19T04:18:42.202757Z",
     "iopub.status.idle": "2021-03-19T04:18:42.208025Z",
     "shell.execute_reply": "2021-03-19T04:18:42.207630Z"
    },
    "papermill": {
     "duration": 0.032308,
     "end_time": "2021-03-19T04:18:42.208132",
     "exception": false,
     "start_time": "2021-03-19T04:18:42.175824",
     "status": "completed"
    },
    "tags": []
   },
   "outputs": [
    {
     "data": {
      "text/plain": [
       "5506"
      ]
     },
     "execution_count": 4,
     "metadata": {},
     "output_type": "execute_result"
    }
   ],
   "source": [
    "unique_submission_images = submission_df['ImageId'].unique()\n",
    "len(unique_submission_images)"
   ]
  },
  {
   "cell_type": "code",
   "execution_count": 5,
   "metadata": {
    "_cell_guid": "b1076dfc-b9ad-4769-8c92-a6c4dae69d19",
    "_uuid": "8f2839f25d086af736a60e9eeb907d3b93b6e0e5",
    "execution": {
     "iopub.execute_input": "2021-03-19T04:18:42.256916Z",
     "iopub.status.busy": "2021-03-19T04:18:42.256073Z",
     "iopub.status.idle": "2021-03-19T04:18:42.262565Z",
     "shell.execute_reply": "2021-03-19T04:18:42.263024Z"
    },
    "papermill": {
     "duration": 0.034624,
     "end_time": "2021-03-19T04:18:42.263169",
     "exception": false,
     "start_time": "2021-03-19T04:18:42.228545",
     "status": "completed"
    },
    "tags": []
   },
   "outputs": [
    {
     "name": "stdout",
     "output_type": "stream",
     "text": [
      "(5506, 1)\n"
     ]
    },
    {
     "data": {
      "text/html": [
       "<div>\n",
       "<style scoped>\n",
       "    .dataframe tbody tr th:only-of-type {\n",
       "        vertical-align: middle;\n",
       "    }\n",
       "\n",
       "    .dataframe tbody tr th {\n",
       "        vertical-align: top;\n",
       "    }\n",
       "\n",
       "    .dataframe thead th {\n",
       "        text-align: right;\n",
       "    }\n",
       "</style>\n",
       "<table border=\"1\" class=\"dataframe\">\n",
       "  <thead>\n",
       "    <tr style=\"text-align: right;\">\n",
       "      <th></th>\n",
       "      <th>ImageId</th>\n",
       "    </tr>\n",
       "  </thead>\n",
       "  <tbody>\n",
       "    <tr>\n",
       "      <th>0</th>\n",
       "      <td>0000f269f.jpg</td>\n",
       "    </tr>\n",
       "    <tr>\n",
       "      <th>1</th>\n",
       "      <td>000ccc2ac.jpg</td>\n",
       "    </tr>\n",
       "    <tr>\n",
       "      <th>2</th>\n",
       "      <td>002451917.jpg</td>\n",
       "    </tr>\n",
       "    <tr>\n",
       "      <th>3</th>\n",
       "      <td>003c5da97.jpg</td>\n",
       "    </tr>\n",
       "    <tr>\n",
       "      <th>4</th>\n",
       "      <td>0042e163f.jpg</td>\n",
       "    </tr>\n",
       "  </tbody>\n",
       "</table>\n",
       "</div>"
      ],
      "text/plain": [
       "         ImageId\n",
       "0  0000f269f.jpg\n",
       "1  000ccc2ac.jpg\n",
       "2  002451917.jpg\n",
       "3  003c5da97.jpg\n",
       "4  0042e163f.jpg"
      ]
     },
     "execution_count": 5,
     "metadata": {},
     "output_type": "execute_result"
    }
   ],
   "source": [
    "submission_df = pd.DataFrame(unique_submission_images, columns=['ImageId'])\n",
    "print(submission_df.shape)\n",
    "submission_df.head()"
   ]
  },
  {
   "cell_type": "markdown",
   "metadata": {
    "_cell_guid": "b1076dfc-b9ad-4769-8c92-a6c4dae69d19",
    "_uuid": "8f2839f25d086af736a60e9eeb907d3b93b6e0e5",
    "papermill": {
     "duration": 0.021173,
     "end_time": "2021-03-19T04:18:42.306427",
     "exception": false,
     "start_time": "2021-03-19T04:18:42.285254",
     "status": "completed"
    },
    "tags": []
   },
   "source": [
    "## Combine defected and no-defect images"
   ]
  },
  {
   "cell_type": "code",
   "execution_count": 6,
   "metadata": {
    "_cell_guid": "b1076dfc-b9ad-4769-8c92-a6c4dae69d19",
    "_uuid": "8f2839f25d086af736a60e9eeb907d3b93b6e0e5",
    "execution": {
     "iopub.execute_input": "2021-03-19T04:18:42.356164Z",
     "iopub.status.busy": "2021-03-19T04:18:42.355479Z",
     "iopub.status.idle": "2021-03-19T04:18:44.140827Z",
     "shell.execute_reply": "2021-03-19T04:18:44.140271Z"
    },
    "papermill": {
     "duration": 1.813065,
     "end_time": "2021-03-19T04:18:44.140960",
     "exception": false,
     "start_time": "2021-03-19T04:18:42.327895",
     "status": "completed"
    },
    "tags": []
   },
   "outputs": [
    {
     "name": "stdout",
     "output_type": "stream",
     "text": [
      "(12568, 2)\n",
      "1    6666\n",
      "0    5902\n",
      "Name: defect_label, dtype: int64\n"
     ]
    },
    {
     "data": {
      "text/html": [
       "<div>\n",
       "<style scoped>\n",
       "    .dataframe tbody tr th:only-of-type {\n",
       "        vertical-align: middle;\n",
       "    }\n",
       "\n",
       "    .dataframe tbody tr th {\n",
       "        vertical-align: top;\n",
       "    }\n",
       "\n",
       "    .dataframe thead th {\n",
       "        text-align: right;\n",
       "    }\n",
       "</style>\n",
       "<table border=\"1\" class=\"dataframe\">\n",
       "  <thead>\n",
       "    <tr style=\"text-align: right;\">\n",
       "      <th></th>\n",
       "      <th>ImageId</th>\n",
       "      <th>defect_label</th>\n",
       "    </tr>\n",
       "  </thead>\n",
       "  <tbody>\n",
       "    <tr>\n",
       "      <th>0</th>\n",
       "      <td>0002cc93b.jpg</td>\n",
       "      <td>1</td>\n",
       "    </tr>\n",
       "  </tbody>\n",
       "</table>\n",
       "</div>"
      ],
      "text/plain": [
       "         ImageId  defect_label\n",
       "0  0002cc93b.jpg             1"
      ]
     },
     "execution_count": 6,
     "metadata": {},
     "output_type": "execute_result"
    }
   ],
   "source": [
    "TRAIN_PATH = '../input/severstal-steel-defect-detection/train_images/'\n",
    "TEST_PATH = '../input/severstal-steel-defect-detection/test_images/'\n",
    "\n",
    "train_flist = os.listdir(TRAIN_PATH) \n",
    "\n",
    "image_defects = train_df['ImageId'].unique().tolist()\n",
    "image_no_defects=[item for item in train_flist if item not in image_defects]\n",
    "\n",
    "#df_bin is the dataframe with label defect based on train_df \n",
    "df_bin = train_df.drop_duplicates(subset=['ImageId'], keep='last').copy()\n",
    "df_bin.loc[:, 'defect_label'] = 1\n",
    "\n",
    "df_noDefect_bin = pd.DataFrame(image_no_defects,columns=['ImageId'])\n",
    "df_noDefect_bin.loc[:, 'defect_label'] = 0\n",
    "\n",
    "frames = [df_bin[['ImageId', \"defect_label\"]], df_noDefect_bin]\n",
    "df = pd.concat(frames).reset_index(drop=True)\n",
    "print(df.shape)\n",
    "print(df['defect_label'].value_counts())\n",
    "df.head(1)"
   ]
  },
  {
   "cell_type": "markdown",
   "metadata": {
    "papermill": {
     "duration": 0.022106,
     "end_time": "2021-03-19T04:18:44.185973",
     "exception": false,
     "start_time": "2021-03-19T04:18:44.163867",
     "status": "completed"
    },
    "tags": []
   },
   "source": [
    "## Split train data, load and resave images"
   ]
  },
  {
   "cell_type": "code",
   "execution_count": 7,
   "metadata": {
    "execution": {
     "iopub.execute_input": "2021-03-19T04:18:44.235354Z",
     "iopub.status.busy": "2021-03-19T04:18:44.234857Z",
     "iopub.status.idle": "2021-03-19T04:18:44.258280Z",
     "shell.execute_reply": "2021-03-19T04:18:44.257783Z"
    },
    "papermill": {
     "duration": 0.050467,
     "end_time": "2021-03-19T04:18:44.258404",
     "exception": false,
     "start_time": "2021-03-19T04:18:44.207937",
     "status": "completed"
    },
    "tags": []
   },
   "outputs": [],
   "source": [
    "nb_images = df.shape[0]\n",
    "df_train, df_test = train_test_split(df, test_size=0.2, \n",
    "                                                    stratify = df['defect_label'], \n",
    "                                                    random_state=2021)\n",
    "\n",
    "df_train, df_val = train_test_split(df_train, test_size=0.25, \n",
    "                                                  stratify = df_train['defect_label'],\n",
    "                                                  random_state=2021) \n",
    "\n",
    "# 0.25 x 0.8 = 0.2"
   ]
  },
  {
   "cell_type": "code",
   "execution_count": 8,
   "metadata": {
    "_cell_guid": "b1076dfc-b9ad-4769-8c92-a6c4dae69d19",
    "_uuid": "8f2839f25d086af736a60e9eeb907d3b93b6e0e5",
    "execution": {
     "iopub.execute_input": "2021-03-19T04:18:44.313372Z",
     "iopub.status.busy": "2021-03-19T04:18:44.312406Z",
     "iopub.status.idle": "2021-03-19T04:22:01.711213Z",
     "shell.execute_reply": "2021-03-19T04:22:01.710584Z"
    },
    "papermill": {
     "duration": 197.429111,
     "end_time": "2021-03-19T04:22:01.711387",
     "exception": false,
     "start_time": "2021-03-19T04:18:44.282276",
     "status": "completed"
    },
    "tags": []
   },
   "outputs": [
    {
     "name": "stderr",
     "output_type": "stream",
     "text": [
      "100%|██████████| 7540/7540 [01:57<00:00, 63.94it/s]\n",
      "100%|██████████| 2514/2514 [00:40<00:00, 62.35it/s]\n",
      "100%|██████████| 2514/2514 [00:39<00:00, 64.27it/s]\n",
      "/opt/conda/lib/python3.7/site-packages/ipykernel_launcher.py:32: SettingWithCopyWarning: \n",
      "A value is trying to be set on a copy of a slice from a DataFrame.\n",
      "Try using .loc[row_indexer,col_indexer] = value instead\n",
      "\n",
      "See the caveats in the documentation: https://pandas.pydata.org/pandas-docs/stable/user_guide/indexing.html#returning-a-view-versus-a-copy\n"
     ]
    }
   ],
   "source": [
    "IMAGE_SIZE = 64 #256\n",
    "\n",
    "def load_img(code, base, resize=True):\n",
    "    path = f'{base}/{code}'\n",
    "    img = cv2.imread(path)\n",
    "    img = cv2.cvtColor(img, cv2.COLOR_BGR2RGB)\n",
    "    if resize:\n",
    "        img = cv2.resize(img, (IMAGE_SIZE, IMAGE_SIZE))\n",
    "    return img\n",
    "\n",
    "def validate_path(path):\n",
    "    if not os.path.exists(path):\n",
    "        os.makedirs(path)\n",
    "\n",
    "train_path = '../tmp/train'\n",
    "validate_path(train_path)\n",
    "val_path = '../tmp/val'\n",
    "validate_path(val_path)\n",
    "test_path = '../tmp/test'\n",
    "validate_path(test_path)\n",
    "\n",
    "def process_img(df, train_path):\n",
    "    #read image, resize and save\n",
    "    for code in tqdm(df['ImageId']):\n",
    "        img = load_img(\n",
    "            code,\n",
    "            base='../input/severstal-steel-defect-detection/train_images'\n",
    "        )\n",
    "        path = code.replace('.jpg', '')\n",
    "        cv2.imwrite(f'{train_path}/{path}.png', img)\n",
    "\n",
    "    df['ImageId'] = df['ImageId'].apply(lambda x: x.replace('.jpg', '.png'))\n",
    "    return df\n",
    "df_train = process_img(df_train,train_path)\n",
    "df_val = process_img(df_val,val_path)\n",
    "df_test = process_img(df_test,test_path)"
   ]
  },
  {
   "cell_type": "code",
   "execution_count": 9,
   "metadata": {
    "execution": {
     "iopub.execute_input": "2021-03-19T04:22:02.622759Z",
     "iopub.status.busy": "2021-03-19T04:22:02.622183Z",
     "iopub.status.idle": "2021-03-19T04:22:02.631276Z",
     "shell.execute_reply": "2021-03-19T04:22:02.630769Z"
    },
    "papermill": {
     "duration": 0.464699,
     "end_time": "2021-03-19T04:22:02.631394",
     "exception": false,
     "start_time": "2021-03-19T04:22:02.166695",
     "status": "completed"
    },
    "tags": []
   },
   "outputs": [
    {
     "name": "stdout",
     "output_type": "stream",
     "text": [
      "(7540, 2) (2514, 2) (2514, 2)\n",
      "1    3999\n",
      "0    3541\n",
      "Name: defect_label, dtype: int64\n",
      "1    1334\n",
      "0    1180\n",
      "Name: defect_label, dtype: int64\n",
      "1    1333\n",
      "0    1181\n",
      "Name: defect_label, dtype: int64\n"
     ]
    }
   ],
   "source": [
    "print(df_train.shape,df_val.shape,df_test.shape)\n",
    "print(df_train['defect_label'].value_counts())\n",
    "print(df_val['defect_label'].value_counts())\n",
    "print(df_test['defect_label'].value_counts())"
   ]
  },
  {
   "cell_type": "markdown",
   "metadata": {
    "papermill": {
     "duration": 0.455417,
     "end_time": "2021-03-19T04:22:03.535002",
     "exception": false,
     "start_time": "2021-03-19T04:22:03.079585",
     "status": "completed"
    },
    "tags": []
   },
   "source": [
    "## Define ImageDataGenerator and data augmentation"
   ]
  },
  {
   "cell_type": "code",
   "execution_count": 10,
   "metadata": {
    "_cell_guid": "b1076dfc-b9ad-4769-8c92-a6c4dae69d19",
    "_uuid": "8f2839f25d086af736a60e9eeb907d3b93b6e0e5",
    "execution": {
     "iopub.execute_input": "2021-03-19T04:22:04.467657Z",
     "iopub.status.busy": "2021-03-19T04:22:04.466842Z",
     "iopub.status.idle": "2021-03-19T04:22:04.557953Z",
     "shell.execute_reply": "2021-03-19T04:22:04.558777Z"
    },
    "papermill": {
     "duration": 0.565116,
     "end_time": "2021-03-19T04:22:04.558998",
     "exception": false,
     "start_time": "2021-03-19T04:22:03.993882",
     "status": "completed"
    },
    "tags": []
   },
   "outputs": [
    {
     "name": "stdout",
     "output_type": "stream",
     "text": [
      "Found 7540 validated image filenames.\n",
      "Found 2514 validated image filenames.\n",
      "Found 2514 validated image filenames.\n"
     ]
    }
   ],
   "source": [
    "BATCH_SIZE = 32\n",
    "\n",
    "# Using original generator\n",
    "data_generator = ImageDataGenerator(\n",
    "        zoom_range=0.1,  # set range for random zoom\n",
    "        # set mode for filling points outside the input boundaries\n",
    "        fill_mode='constant',\n",
    "        cval=0.,\n",
    "        rotation_range=10,\n",
    "        height_shift_range=0.05,\n",
    "        width_shift_range=0.05,\n",
    "        horizontal_flip=True,\n",
    "        vertical_flip=True,\n",
    "        rescale=1/255.,\n",
    "    )\n",
    "val_generator = ImageDataGenerator(\n",
    "        rescale=1/255.\n",
    "    )\n",
    "\n",
    "train_gen = data_generator.flow_from_dataframe(\n",
    "        df_train, \n",
    "        directory='../tmp/train',\n",
    "        x_col='ImageId', \n",
    "        y_col='defect_label', \n",
    "        class_mode='raw',\n",
    "        target_size=(64, 64),\n",
    "        batch_size=BATCH_SIZE,\n",
    "        )\n",
    "\n",
    "val_gen =  val_generator.flow_from_dataframe(\n",
    "        df_val, \n",
    "        directory='../tmp/val',\n",
    "        x_col='ImageId', \n",
    "        y_col='defect_label', \n",
    "        class_mode='raw',\n",
    "        target_size=(64, 64),\n",
    "        batch_size=BATCH_SIZE,\n",
    "        )\n",
    "test_gen =  val_generator.flow_from_dataframe(\n",
    "        df_test, \n",
    "        directory='../tmp/test',\n",
    "        x_col='ImageId', \n",
    "        y_col='defect_label', \n",
    "        class_mode='raw',\n",
    "        target_size=(64, 64),\n",
    "        batch_size=BATCH_SIZE,\n",
    "        shuffle=False\n",
    "        )"
   ]
  },
  {
   "cell_type": "code",
   "execution_count": 11,
   "metadata": {
    "_cell_guid": "b1076dfc-b9ad-4769-8c92-a6c4dae69d19",
    "_uuid": "8f2839f25d086af736a60e9eeb907d3b93b6e0e5",
    "execution": {
     "iopub.execute_input": "2021-03-19T04:22:05.518383Z",
     "iopub.status.busy": "2021-03-19T04:22:05.517801Z",
     "iopub.status.idle": "2021-03-19T04:22:09.238387Z",
     "shell.execute_reply": "2021-03-19T04:22:09.237746Z"
    },
    "papermill": {
     "duration": 4.223489,
     "end_time": "2021-03-19T04:22:09.238589",
     "exception": false,
     "start_time": "2021-03-19T04:22:05.015100",
     "status": "completed"
    },
    "tags": []
   },
   "outputs": [
    {
     "name": "stdout",
     "output_type": "stream",
     "text": [
      "Found 5506 validated image filenames.\n"
     ]
    }
   ],
   "source": [
    "submission_gen = ImageDataGenerator(rescale=1/255.).flow_from_dataframe(\n",
    "        submission_df,\n",
    "        directory='../input/severstal-steel-defect-detection/test_images/',\n",
    "        x_col='ImageId',\n",
    "        class_mode=None,\n",
    "        target_size=(64, 64),\n",
    "        batch_size=BATCH_SIZE,\n",
    "        shuffle=False\n",
    "    )"
   ]
  },
  {
   "cell_type": "markdown",
   "metadata": {
    "papermill": {
     "duration": 0.553079,
     "end_time": "2021-03-19T04:22:10.246856",
     "exception": false,
     "start_time": "2021-03-19T04:22:09.693777",
     "status": "completed"
    },
    "tags": []
   },
   "source": [
    "## Define Model"
   ]
  },
  {
   "cell_type": "code",
   "execution_count": 12,
   "metadata": {
    "_cell_guid": "b1076dfc-b9ad-4769-8c92-a6c4dae69d19",
    "_uuid": "8f2839f25d086af736a60e9eeb907d3b93b6e0e5",
    "execution": {
     "iopub.execute_input": "2021-03-19T04:22:11.585181Z",
     "iopub.status.busy": "2021-03-19T04:22:11.584629Z",
     "iopub.status.idle": "2021-03-19T04:22:14.821512Z",
     "shell.execute_reply": "2021-03-19T04:22:14.820763Z"
    },
    "papermill": {
     "duration": 3.850366,
     "end_time": "2021-03-19T04:22:14.821713",
     "exception": false,
     "start_time": "2021-03-19T04:22:10.971347",
     "status": "completed"
    },
    "tags": []
   },
   "outputs": [
    {
     "name": "stdout",
     "output_type": "stream",
     "text": [
      "Model: \"sequential\"\n",
      "_________________________________________________________________\n",
      "Layer (type)                 Output Shape              Param #   \n",
      "=================================================================\n",
      "conv2d (Conv2D)              (None, 64, 64, 64)        1792      \n",
      "_________________________________________________________________\n",
      "conv2d_1 (Conv2D)            (None, 64, 64, 64)        36928     \n",
      "_________________________________________________________________\n",
      "batch_normalization (BatchNo (None, 64, 64, 64)        256       \n",
      "_________________________________________________________________\n",
      "max_pooling2d (MaxPooling2D) (None, 32, 32, 64)        0         \n",
      "_________________________________________________________________\n",
      "conv2d_2 (Conv2D)            (None, 32, 32, 64)        36928     \n",
      "_________________________________________________________________\n",
      "conv2d_3 (Conv2D)            (None, 32, 32, 64)        36928     \n",
      "_________________________________________________________________\n",
      "batch_normalization_1 (Batch (None, 32, 32, 64)        256       \n",
      "_________________________________________________________________\n",
      "max_pooling2d_1 (MaxPooling2 (None, 16, 16, 64)        0         \n",
      "_________________________________________________________________\n",
      "conv2d_4 (Conv2D)            (None, 16, 16, 128)       73856     \n",
      "_________________________________________________________________\n",
      "conv2d_5 (Conv2D)            (None, 16, 16, 128)       147584    \n",
      "_________________________________________________________________\n",
      "batch_normalization_2 (Batch (None, 16, 16, 128)       512       \n",
      "_________________________________________________________________\n",
      "max_pooling2d_2 (MaxPooling2 (None, 8, 8, 128)         0         \n",
      "_________________________________________________________________\n",
      "conv2d_6 (Conv2D)            (None, 8, 8, 128)         147584    \n",
      "_________________________________________________________________\n",
      "conv2d_7 (Conv2D)            (None, 8, 8, 128)         147584    \n",
      "_________________________________________________________________\n",
      "batch_normalization_3 (Batch (None, 8, 8, 128)         512       \n",
      "_________________________________________________________________\n",
      "max_pooling2d_3 (MaxPooling2 (None, 4, 4, 128)         0         \n",
      "_________________________________________________________________\n",
      "flatten (Flatten)            (None, 2048)              0         \n",
      "_________________________________________________________________\n",
      "dense (Dense)                (None, 128)               262272    \n",
      "_________________________________________________________________\n",
      "dropout (Dropout)            (None, 128)               0         \n",
      "_________________________________________________________________\n",
      "dense_1 (Dense)              (None, 64)                8256      \n",
      "_________________________________________________________________\n",
      "dropout_1 (Dropout)          (None, 64)                0         \n",
      "_________________________________________________________________\n",
      "dense_2 (Dense)              (None, 1)                 65        \n",
      "=================================================================\n",
      "Total params: 901,313\n",
      "Trainable params: 900,545\n",
      "Non-trainable params: 768\n",
      "_________________________________________________________________\n"
     ]
    }
   ],
   "source": [
    "input_shape = (IMAGE_SIZE,IMAGE_SIZE,3)\n",
    "prob_drop_hidden = 0.5\n",
    "\n",
    "def build_model():\n",
    "    model = Sequential()\n",
    "\n",
    "    # conv layer\n",
    "    model.add(Conv2D(filters=64, kernel_size=(3, 3), strides=(1,1), padding='same', activation='relu', \n",
    "                   input_shape=input_shape))    \n",
    "    model.add(Conv2D(filters=64, kernel_size=(3, 3), strides=(1,1), padding='same', activation='relu', ))    \n",
    "    model.add(BatchNormalization())\n",
    "    model.add(MaxPooling2D(pool_size=(2, 2), strides=(2, 2), padding='same'))\n",
    "    \n",
    "    model.add(Conv2D(filters=64, kernel_size=(3, 3), strides=(1,1), padding='same', activation='relu' ))\n",
    "    model.add(Conv2D(filters=64, kernel_size=(3, 3), strides=(1,1), padding='same', activation='relu' ))\n",
    "    model.add(BatchNormalization())\n",
    "    model.add(MaxPooling2D(pool_size=(2, 2), strides=(2, 2), padding='same'))\n",
    "\n",
    "    model.add(Conv2D(filters=128, kernel_size=(3, 3), strides=(1,1), padding='same', activation='relu' ))\n",
    "    model.add(Conv2D(filters=128, kernel_size=(3, 3), strides=(1,1), padding='same', activation='relu' ))\n",
    "    model.add(BatchNormalization())\n",
    "    model.add(MaxPooling2D(pool_size=(2, 2), strides=(2,2), padding='same'))\n",
    "    \n",
    "    model.add(Conv2D(filters=128, kernel_size=(3, 3), strides=(1,1), padding='same', activation='relu' ))\n",
    "    model.add(Conv2D(filters=128, kernel_size=(3, 3), strides=(1,1), padding='same', activation='relu' ))\n",
    "    model.add(BatchNormalization())\n",
    "    model.add(MaxPooling2D(pool_size=(2, 2), strides=(2,2), padding='same'))\n",
    "\n",
    "    model.add(Flatten())\n",
    "\n",
    "    # fc1 layer\n",
    "    model.add(Dense(128, activation='relu'))\n",
    "    model.add(Dropout(rate=prob_drop_hidden))\n",
    "\n",
    "    # fc2 layer\n",
    "    model.add(Dense(64, activation='relu'))\n",
    "    model.add(Dropout(rate=prob_drop_hidden))\n",
    "\n",
    "    # The output of the model \n",
    "    model.add(layers.Dense(1, activation='sigmoid'))\n",
    "    \n",
    "    model.compile(\n",
    "        loss='binary_crossentropy',\n",
    "        optimizer= Adam(learning_rate = 0.001),\n",
    "        metrics=['accuracy']\n",
    "    )\n",
    "    \n",
    "    return model\n",
    "model = build_model()\n",
    "model.summary()"
   ]
  },
  {
   "cell_type": "markdown",
   "metadata": {
    "papermill": {
     "duration": 0.458079,
     "end_time": "2021-03-19T04:22:15.734379",
     "exception": false,
     "start_time": "2021-03-19T04:22:15.276300",
     "status": "completed"
    },
    "tags": []
   },
   "source": [
    "## Model training"
   ]
  },
  {
   "cell_type": "code",
   "execution_count": 13,
   "metadata": {
    "_cell_guid": "b1076dfc-b9ad-4769-8c92-a6c4dae69d19",
    "_uuid": "8f2839f25d086af736a60e9eeb907d3b93b6e0e5",
    "execution": {
     "iopub.execute_input": "2021-03-19T04:22:16.649847Z",
     "iopub.status.busy": "2021-03-19T04:22:16.648163Z",
     "iopub.status.idle": "2021-03-19T04:22:16.650411Z",
     "shell.execute_reply": "2021-03-19T04:22:16.650852Z"
    },
    "papermill": {
     "duration": 0.467761,
     "end_time": "2021-03-19T04:22:16.650990",
     "exception": false,
     "start_time": "2021-03-19T04:22:16.183229",
     "status": "completed"
    },
    "tags": []
   },
   "outputs": [],
   "source": [
    "epochs = 200\n",
    "\n",
    "import math\n",
    "# We take the ceiling because we do not drop the remainder of the batch\n",
    "compute_steps_per_epoch = lambda x: int(math.ceil(1. * x / BATCH_SIZE))\n",
    "\n",
    "steps_per_epoch = compute_steps_per_epoch(df_train.shape[0])\n",
    "validation_steps = compute_steps_per_epoch(df_val.shape[0])\n",
    "\n",
    "es = EarlyStopping(monitor='val_loss', mode='min', verbose=2, patience=50)\n",
    "\n",
    "mc = ModelCheckpoint(\n",
    "    'model.h5', \n",
    "    monitor='val_accuracy', \n",
    "    verbose=1, \n",
    "    save_best_only=True, \n",
    "    save_weights_only=False,\n",
    "    mode='auto'\n",
    ")"
   ]
  },
  {
   "cell_type": "code",
   "execution_count": 14,
   "metadata": {
    "_cell_guid": "b1076dfc-b9ad-4769-8c92-a6c4dae69d19",
    "_uuid": "8f2839f25d086af736a60e9eeb907d3b93b6e0e5",
    "execution": {
     "iopub.execute_input": "2021-03-19T04:22:17.572384Z",
     "iopub.status.busy": "2021-03-19T04:22:17.571861Z",
     "iopub.status.idle": "2021-03-19T04:59:01.100544Z",
     "shell.execute_reply": "2021-03-19T04:59:01.101759Z"
    },
    "papermill": {
     "duration": 2203.98465,
     "end_time": "2021-03-19T04:59:01.102136",
     "exception": false,
     "start_time": "2021-03-19T04:22:17.117486",
     "status": "completed"
    },
    "scrolled": false,
    "tags": []
   },
   "outputs": [
    {
     "name": "stdout",
     "output_type": "stream",
     "text": [
      "Epoch 1/200\n",
      "236/236 [==============================] - 18s 61ms/step - loss: 0.9127 - accuracy: 0.5349 - val_loss: 0.6780 - val_accuracy: 0.5672\n",
      "\n",
      "Epoch 00001: val_accuracy improved from -inf to 0.56722, saving model to model.h5\n",
      "Epoch 2/200\n",
      "236/236 [==============================] - 15s 62ms/step - loss: 0.6622 - accuracy: 0.5926 - val_loss: 0.6623 - val_accuracy: 0.5863\n",
      "\n",
      "Epoch 00002: val_accuracy improved from 0.56722 to 0.58632, saving model to model.h5\n",
      "Epoch 3/200\n",
      "236/236 [==============================] - 13s 57ms/step - loss: 0.6008 - accuracy: 0.6545 - val_loss: 0.5642 - val_accuracy: 0.6810\n",
      "\n",
      "Epoch 00003: val_accuracy improved from 0.58632 to 0.68099, saving model to model.h5\n",
      "Epoch 4/200\n",
      "236/236 [==============================] - 14s 59ms/step - loss: 0.5567 - accuracy: 0.6932 - val_loss: 0.6568 - val_accuracy: 0.5963\n",
      "\n",
      "Epoch 00004: val_accuracy did not improve from 0.68099\n",
      "Epoch 5/200\n",
      "236/236 [==============================] - 15s 61ms/step - loss: 0.5372 - accuracy: 0.7214 - val_loss: 0.5251 - val_accuracy: 0.7156\n",
      "\n",
      "Epoch 00005: val_accuracy improved from 0.68099 to 0.71559, saving model to model.h5\n",
      "Epoch 6/200\n",
      "236/236 [==============================] - 14s 58ms/step - loss: 0.5311 - accuracy: 0.7220 - val_loss: 2.1139 - val_accuracy: 0.4714\n",
      "\n",
      "Epoch 00006: val_accuracy did not improve from 0.71559\n",
      "Epoch 7/200\n",
      "236/236 [==============================] - 15s 63ms/step - loss: 0.5030 - accuracy: 0.7447 - val_loss: 0.5162 - val_accuracy: 0.7267\n",
      "\n",
      "Epoch 00007: val_accuracy improved from 0.71559 to 0.72673, saving model to model.h5\n",
      "Epoch 8/200\n",
      "236/236 [==============================] - 14s 57ms/step - loss: 0.5225 - accuracy: 0.7372 - val_loss: 0.5685 - val_accuracy: 0.6989\n",
      "\n",
      "Epoch 00008: val_accuracy did not improve from 0.72673\n",
      "Epoch 9/200\n",
      "236/236 [==============================] - 15s 63ms/step - loss: 0.4903 - accuracy: 0.7565 - val_loss: 0.4849 - val_accuracy: 0.7530\n",
      "\n",
      "Epoch 00009: val_accuracy improved from 0.72673 to 0.75298, saving model to model.h5\n",
      "Epoch 10/200\n",
      "236/236 [==============================] - 14s 58ms/step - loss: 0.4627 - accuracy: 0.7747 - val_loss: 0.6796 - val_accuracy: 0.6169\n",
      "\n",
      "Epoch 00010: val_accuracy did not improve from 0.75298\n",
      "Epoch 11/200\n",
      "236/236 [==============================] - 15s 63ms/step - loss: 0.4556 - accuracy: 0.7749 - val_loss: 0.7493 - val_accuracy: 0.5692\n",
      "\n",
      "Epoch 00011: val_accuracy did not improve from 0.75298\n",
      "Epoch 12/200\n",
      "236/236 [==============================] - 14s 58ms/step - loss: 0.4592 - accuracy: 0.7690 - val_loss: 0.6002 - val_accuracy: 0.7224\n",
      "\n",
      "Epoch 00012: val_accuracy did not improve from 0.75298\n",
      "Epoch 13/200\n",
      "236/236 [==============================] - 13s 57ms/step - loss: 0.4468 - accuracy: 0.7840 - val_loss: 0.5473 - val_accuracy: 0.7239\n",
      "\n",
      "Epoch 00013: val_accuracy did not improve from 0.75298\n",
      "Epoch 14/200\n",
      "236/236 [==============================] - 15s 64ms/step - loss: 0.4319 - accuracy: 0.7929 - val_loss: 0.5686 - val_accuracy: 0.6877\n",
      "\n",
      "Epoch 00014: val_accuracy did not improve from 0.75298\n",
      "Epoch 15/200\n",
      "236/236 [==============================] - 13s 57ms/step - loss: 0.4263 - accuracy: 0.7924 - val_loss: 0.4287 - val_accuracy: 0.7808\n",
      "\n",
      "Epoch 00015: val_accuracy improved from 0.75298 to 0.78083, saving model to model.h5\n",
      "Epoch 16/200\n",
      "236/236 [==============================] - 15s 63ms/step - loss: 0.4122 - accuracy: 0.8033 - val_loss: 1.3433 - val_accuracy: 0.5680\n",
      "\n",
      "Epoch 00016: val_accuracy did not improve from 0.78083\n",
      "Epoch 17/200\n",
      "236/236 [==============================] - 14s 60ms/step - loss: 0.4433 - accuracy: 0.7794 - val_loss: 0.5410 - val_accuracy: 0.7391\n",
      "\n",
      "Epoch 00017: val_accuracy did not improve from 0.78083\n",
      "Epoch 18/200\n",
      "236/236 [==============================] - 15s 64ms/step - loss: 0.4203 - accuracy: 0.8000 - val_loss: 0.3953 - val_accuracy: 0.8055\n",
      "\n",
      "Epoch 00018: val_accuracy improved from 0.78083 to 0.80549, saving model to model.h5\n",
      "Epoch 19/200\n",
      "236/236 [==============================] - 14s 58ms/step - loss: 0.4276 - accuracy: 0.7935 - val_loss: 0.8550 - val_accuracy: 0.5963\n",
      "\n",
      "Epoch 00019: val_accuracy did not improve from 0.80549\n",
      "Epoch 20/200\n",
      "236/236 [==============================] - 15s 63ms/step - loss: 0.3906 - accuracy: 0.8076 - val_loss: 0.9414 - val_accuracy: 0.5986\n",
      "\n",
      "Epoch 00020: val_accuracy did not improve from 0.80549\n",
      "Epoch 21/200\n",
      "236/236 [==============================] - 14s 59ms/step - loss: 0.3839 - accuracy: 0.8185 - val_loss: 0.4998 - val_accuracy: 0.7784\n",
      "\n",
      "Epoch 00021: val_accuracy did not improve from 0.80549\n",
      "Epoch 22/200\n",
      "236/236 [==============================] - 13s 57ms/step - loss: 0.3909 - accuracy: 0.8107 - val_loss: 0.3609 - val_accuracy: 0.8222\n",
      "\n",
      "Epoch 00022: val_accuracy improved from 0.80549 to 0.82220, saving model to model.h5\n",
      "Epoch 23/200\n",
      "236/236 [==============================] - 15s 64ms/step - loss: 0.3742 - accuracy: 0.8313 - val_loss: 0.4735 - val_accuracy: 0.7856\n",
      "\n",
      "Epoch 00023: val_accuracy did not improve from 0.82220\n",
      "Epoch 24/200\n",
      "236/236 [==============================] - 14s 59ms/step - loss: 0.3563 - accuracy: 0.8302 - val_loss: 0.4847 - val_accuracy: 0.7717\n",
      "\n",
      "Epoch 00024: val_accuracy did not improve from 0.82220\n",
      "Epoch 25/200\n",
      "236/236 [==============================] - 15s 64ms/step - loss: 0.3575 - accuracy: 0.8284 - val_loss: 0.3964 - val_accuracy: 0.7932\n",
      "\n",
      "Epoch 00025: val_accuracy did not improve from 0.82220\n",
      "Epoch 26/200\n",
      "236/236 [==============================] - 14s 58ms/step - loss: 0.3595 - accuracy: 0.8350 - val_loss: 0.3793 - val_accuracy: 0.8286\n",
      "\n",
      "Epoch 00026: val_accuracy improved from 0.82220 to 0.82856, saving model to model.h5\n",
      "Epoch 27/200\n",
      "236/236 [==============================] - 16s 67ms/step - loss: 0.3510 - accuracy: 0.8349 - val_loss: 0.4041 - val_accuracy: 0.8126\n",
      "\n",
      "Epoch 00027: val_accuracy did not improve from 0.82856\n",
      "Epoch 28/200\n",
      "236/236 [==============================] - 14s 58ms/step - loss: 0.3620 - accuracy: 0.8294 - val_loss: 0.3790 - val_accuracy: 0.8329\n",
      "\n",
      "Epoch 00028: val_accuracy improved from 0.82856 to 0.83294, saving model to model.h5\n",
      "Epoch 29/200\n",
      "236/236 [==============================] - 15s 64ms/step - loss: 0.3448 - accuracy: 0.8336 - val_loss: 0.4019 - val_accuracy: 0.8079\n",
      "\n",
      "Epoch 00029: val_accuracy did not improve from 0.83294\n",
      "Epoch 30/200\n",
      "236/236 [==============================] - 14s 61ms/step - loss: 0.3456 - accuracy: 0.8404 - val_loss: 0.4486 - val_accuracy: 0.7745\n",
      "\n",
      "Epoch 00030: val_accuracy did not improve from 0.83294\n",
      "Epoch 31/200\n",
      "236/236 [==============================] - 14s 58ms/step - loss: 0.3244 - accuracy: 0.8487 - val_loss: 0.5253 - val_accuracy: 0.7478\n",
      "\n",
      "Epoch 00031: val_accuracy did not improve from 0.83294\n",
      "Epoch 32/200\n",
      "236/236 [==============================] - 16s 66ms/step - loss: 0.3405 - accuracy: 0.8457 - val_loss: 0.3680 - val_accuracy: 0.8278\n",
      "\n",
      "Epoch 00032: val_accuracy did not improve from 0.83294\n",
      "Epoch 33/200\n",
      "236/236 [==============================] - 14s 59ms/step - loss: 0.3293 - accuracy: 0.8457 - val_loss: 0.8413 - val_accuracy: 0.6905\n",
      "\n",
      "Epoch 00033: val_accuracy did not improve from 0.83294\n",
      "Epoch 34/200\n",
      "236/236 [==============================] - 16s 66ms/step - loss: 0.3211 - accuracy: 0.8505 - val_loss: 0.8345 - val_accuracy: 0.6647\n",
      "\n",
      "Epoch 00034: val_accuracy did not improve from 0.83294\n",
      "Epoch 35/200\n",
      "236/236 [==============================] - 14s 59ms/step - loss: 0.3278 - accuracy: 0.8485 - val_loss: 0.3268 - val_accuracy: 0.8564\n",
      "\n",
      "Epoch 00035: val_accuracy improved from 0.83294 to 0.85640, saving model to model.h5\n",
      "Epoch 36/200\n",
      "236/236 [==============================] - 16s 68ms/step - loss: 0.3185 - accuracy: 0.8576 - val_loss: 0.3951 - val_accuracy: 0.8214\n",
      "\n",
      "Epoch 00036: val_accuracy did not improve from 0.85640\n",
      "Epoch 37/200\n",
      "236/236 [==============================] - 14s 57ms/step - loss: 0.3435 - accuracy: 0.8451 - val_loss: 0.4360 - val_accuracy: 0.8043\n",
      "\n",
      "Epoch 00037: val_accuracy did not improve from 0.85640\n",
      "Epoch 38/200\n",
      "236/236 [==============================] - 14s 58ms/step - loss: 0.3114 - accuracy: 0.8555 - val_loss: 0.4537 - val_accuracy: 0.8111\n",
      "\n",
      "Epoch 00038: val_accuracy did not improve from 0.85640\n",
      "Epoch 39/200\n",
      "236/236 [==============================] - 16s 70ms/step - loss: 0.3100 - accuracy: 0.8579 - val_loss: 0.4221 - val_accuracy: 0.7820\n",
      "\n",
      "Epoch 00039: val_accuracy did not improve from 0.85640\n",
      "Epoch 40/200\n",
      "236/236 [==============================] - 14s 58ms/step - loss: 0.3006 - accuracy: 0.8673 - val_loss: 0.3635 - val_accuracy: 0.8218\n",
      "\n",
      "Epoch 00040: val_accuracy did not improve from 0.85640\n",
      "Epoch 41/200\n",
      "236/236 [==============================] - 16s 68ms/step - loss: 0.3120 - accuracy: 0.8537 - val_loss: 0.4512 - val_accuracy: 0.7904\n",
      "\n",
      "Epoch 00041: val_accuracy did not improve from 0.85640\n",
      "Epoch 42/200\n",
      "236/236 [==============================] - 14s 59ms/step - loss: 0.3012 - accuracy: 0.8674 - val_loss: 0.3889 - val_accuracy: 0.8329\n",
      "\n",
      "Epoch 00042: val_accuracy did not improve from 0.85640\n",
      "Epoch 43/200\n",
      "236/236 [==============================] - 16s 68ms/step - loss: 0.3093 - accuracy: 0.8489 - val_loss: 0.3284 - val_accuracy: 0.8433\n",
      "\n",
      "Epoch 00043: val_accuracy did not improve from 0.85640\n",
      "Epoch 44/200\n",
      "236/236 [==============================] - 14s 57ms/step - loss: 0.2850 - accuracy: 0.8697 - val_loss: 0.3190 - val_accuracy: 0.8552\n",
      "\n",
      "Epoch 00044: val_accuracy did not improve from 0.85640\n",
      "Epoch 45/200\n",
      "236/236 [==============================] - 14s 61ms/step - loss: 0.2828 - accuracy: 0.8642 - val_loss: 0.3793 - val_accuracy: 0.8103\n",
      "\n",
      "Epoch 00045: val_accuracy did not improve from 0.85640\n",
      "Epoch 46/200\n",
      "236/236 [==============================] - 16s 66ms/step - loss: 0.2795 - accuracy: 0.8794 - val_loss: 0.3439 - val_accuracy: 0.8711\n",
      "\n",
      "Epoch 00046: val_accuracy improved from 0.85640 to 0.87112, saving model to model.h5\n",
      "Epoch 47/200\n",
      "236/236 [==============================] - 14s 58ms/step - loss: 0.2683 - accuracy: 0.8807 - val_loss: 0.3245 - val_accuracy: 0.8492\n",
      "\n",
      "Epoch 00047: val_accuracy did not improve from 0.87112\n",
      "Epoch 48/200\n",
      "236/236 [==============================] - 16s 69ms/step - loss: 0.2728 - accuracy: 0.8777 - val_loss: 0.4349 - val_accuracy: 0.8023\n",
      "\n",
      "Epoch 00048: val_accuracy did not improve from 0.87112\n",
      "Epoch 49/200\n",
      "236/236 [==============================] - 14s 58ms/step - loss: 0.2747 - accuracy: 0.8799 - val_loss: 0.3393 - val_accuracy: 0.8560\n",
      "\n",
      "Epoch 00049: val_accuracy did not improve from 0.87112\n",
      "Epoch 50/200\n",
      "236/236 [==============================] - 16s 69ms/step - loss: 0.2705 - accuracy: 0.8807 - val_loss: 0.3329 - val_accuracy: 0.8512\n",
      "\n",
      "Epoch 00050: val_accuracy did not improve from 0.87112\n",
      "Epoch 51/200\n",
      "236/236 [==============================] - 14s 61ms/step - loss: 0.2630 - accuracy: 0.8871 - val_loss: 0.5111 - val_accuracy: 0.7932\n",
      "\n",
      "Epoch 00051: val_accuracy did not improve from 0.87112\n",
      "Epoch 52/200\n",
      "236/236 [==============================] - 14s 60ms/step - loss: 0.2664 - accuracy: 0.8770 - val_loss: 0.2645 - val_accuracy: 0.8910\n",
      "\n",
      "Epoch 00052: val_accuracy improved from 0.87112 to 0.89101, saving model to model.h5\n",
      "Epoch 53/200\n",
      "236/236 [==============================] - 16s 69ms/step - loss: 0.2660 - accuracy: 0.8894 - val_loss: 0.7855 - val_accuracy: 0.7259\n",
      "\n",
      "Epoch 00053: val_accuracy did not improve from 0.89101\n",
      "Epoch 54/200\n",
      "236/236 [==============================] - 14s 60ms/step - loss: 0.2598 - accuracy: 0.8837 - val_loss: 0.3143 - val_accuracy: 0.8648\n",
      "\n",
      "Epoch 00054: val_accuracy did not improve from 0.89101\n",
      "Epoch 55/200\n",
      "236/236 [==============================] - 16s 67ms/step - loss: 0.2588 - accuracy: 0.8894 - val_loss: 0.3339 - val_accuracy: 0.8528\n",
      "\n",
      "Epoch 00055: val_accuracy did not improve from 0.89101\n",
      "Epoch 56/200\n",
      "236/236 [==============================] - 15s 62ms/step - loss: 0.2583 - accuracy: 0.8914 - val_loss: 0.3974 - val_accuracy: 0.8397\n",
      "\n",
      "Epoch 00056: val_accuracy did not improve from 0.89101\n",
      "Epoch 57/200\n",
      "236/236 [==============================] - 14s 57ms/step - loss: 0.2484 - accuracy: 0.8910 - val_loss: 0.3094 - val_accuracy: 0.8799\n",
      "\n",
      "Epoch 00057: val_accuracy did not improve from 0.89101\n",
      "Epoch 58/200\n",
      "236/236 [==============================] - 16s 70ms/step - loss: 0.2456 - accuracy: 0.8863 - val_loss: 0.4211 - val_accuracy: 0.8214\n",
      "\n",
      "Epoch 00058: val_accuracy did not improve from 0.89101\n",
      "Epoch 59/200\n",
      "236/236 [==============================] - 14s 58ms/step - loss: 0.2477 - accuracy: 0.8937 - val_loss: 0.3242 - val_accuracy: 0.8612\n",
      "\n",
      "Epoch 00059: val_accuracy did not improve from 0.89101\n",
      "Epoch 60/200\n",
      "236/236 [==============================] - 18s 76ms/step - loss: 0.2586 - accuracy: 0.8886 - val_loss: 0.3016 - val_accuracy: 0.8695\n",
      "\n",
      "Epoch 00060: val_accuracy did not improve from 0.89101\n",
      "Epoch 61/200\n",
      "236/236 [==============================] - 14s 60ms/step - loss: 0.2378 - accuracy: 0.8963 - val_loss: 0.4213 - val_accuracy: 0.8238\n",
      "\n",
      "Epoch 00061: val_accuracy did not improve from 0.89101\n",
      "Epoch 62/200\n",
      "236/236 [==============================] - 16s 69ms/step - loss: 0.2237 - accuracy: 0.9023 - val_loss: 0.4026 - val_accuracy: 0.8719\n",
      "\n",
      "Epoch 00062: val_accuracy did not improve from 0.89101\n",
      "Epoch 63/200\n",
      "236/236 [==============================] - 14s 59ms/step - loss: 0.2616 - accuracy: 0.8930 - val_loss: 0.3816 - val_accuracy: 0.8508\n",
      "\n",
      "Epoch 00063: val_accuracy did not improve from 0.89101\n",
      "Epoch 64/200\n",
      "236/236 [==============================] - 14s 58ms/step - loss: 0.2329 - accuracy: 0.8948 - val_loss: 0.2625 - val_accuracy: 0.8846\n",
      "\n",
      "Epoch 00064: val_accuracy did not improve from 0.89101\n",
      "Epoch 65/200\n",
      "236/236 [==============================] - 17s 71ms/step - loss: 0.2282 - accuracy: 0.9028 - val_loss: 0.2970 - val_accuracy: 0.8803\n",
      "\n",
      "Epoch 00065: val_accuracy did not improve from 0.89101\n",
      "Epoch 66/200\n",
      "236/236 [==============================] - 13s 57ms/step - loss: 0.2409 - accuracy: 0.8984 - val_loss: 0.3270 - val_accuracy: 0.8663\n",
      "\n",
      "Epoch 00066: val_accuracy did not improve from 0.89101\n",
      "Epoch 67/200\n",
      "236/236 [==============================] - 17s 73ms/step - loss: 0.2314 - accuracy: 0.9048 - val_loss: 0.2787 - val_accuracy: 0.8914\n",
      "\n",
      "Epoch 00067: val_accuracy improved from 0.89101 to 0.89141, saving model to model.h5\n",
      "Epoch 68/200\n",
      "236/236 [==============================] - 13s 57ms/step - loss: 0.2344 - accuracy: 0.9000 - val_loss: 0.3197 - val_accuracy: 0.8568\n",
      "\n",
      "Epoch 00068: val_accuracy did not improve from 0.89141\n",
      "Epoch 69/200\n",
      "236/236 [==============================] - 14s 59ms/step - loss: 0.2205 - accuracy: 0.9096 - val_loss: 0.2884 - val_accuracy: 0.8898\n",
      "\n",
      "Epoch 00069: val_accuracy did not improve from 0.89141\n",
      "Epoch 70/200\n",
      "236/236 [==============================] - 17s 70ms/step - loss: 0.2262 - accuracy: 0.9055 - val_loss: 0.3849 - val_accuracy: 0.8528\n",
      "\n",
      "Epoch 00070: val_accuracy did not improve from 0.89141\n",
      "Epoch 71/200\n",
      "236/236 [==============================] - 14s 60ms/step - loss: 0.2244 - accuracy: 0.9055 - val_loss: 0.3574 - val_accuracy: 0.8512\n",
      "\n",
      "Epoch 00071: val_accuracy did not improve from 0.89141\n",
      "Epoch 72/200\n",
      "236/236 [==============================] - 17s 72ms/step - loss: 0.2128 - accuracy: 0.9034 - val_loss: 0.3219 - val_accuracy: 0.8799\n",
      "\n",
      "Epoch 00072: val_accuracy did not improve from 0.89141\n",
      "Epoch 73/200\n",
      "236/236 [==============================] - 14s 60ms/step - loss: 0.2299 - accuracy: 0.9008 - val_loss: 0.3741 - val_accuracy: 0.8687\n",
      "\n",
      "Epoch 00073: val_accuracy did not improve from 0.89141\n",
      "Epoch 74/200\n",
      "236/236 [==============================] - 14s 57ms/step - loss: 0.2226 - accuracy: 0.9062 - val_loss: 0.4790 - val_accuracy: 0.8373\n",
      "\n",
      "Epoch 00074: val_accuracy did not improve from 0.89141\n",
      "Epoch 75/200\n",
      "236/236 [==============================] - 18s 75ms/step - loss: 0.2148 - accuracy: 0.9068 - val_loss: 0.5035 - val_accuracy: 0.7904\n",
      "\n",
      "Epoch 00075: val_accuracy did not improve from 0.89141\n",
      "Epoch 76/200\n",
      "236/236 [==============================] - 14s 58ms/step - loss: 0.2175 - accuracy: 0.9084 - val_loss: 0.3691 - val_accuracy: 0.8588\n",
      "\n",
      "Epoch 00076: val_accuracy did not improve from 0.89141\n",
      "Epoch 77/200\n",
      "236/236 [==============================] - 14s 58ms/step - loss: 0.2213 - accuracy: 0.9031 - val_loss: 0.5171 - val_accuracy: 0.8075\n",
      "\n",
      "Epoch 00077: val_accuracy did not improve from 0.89141\n",
      "Epoch 78/200\n",
      "236/236 [==============================] - 15s 63ms/step - loss: 0.2077 - accuracy: 0.9101 - val_loss: 0.3680 - val_accuracy: 0.8671\n",
      "\n",
      "Epoch 00078: val_accuracy did not improve from 0.89141\n",
      "Epoch 79/200\n",
      "236/236 [==============================] - 16s 70ms/step - loss: 0.2095 - accuracy: 0.9146 - val_loss: 0.3781 - val_accuracy: 0.8576\n",
      "\n",
      "Epoch 00079: val_accuracy did not improve from 0.89141\n",
      "Epoch 80/200\n",
      "236/236 [==============================] - 15s 63ms/step - loss: 0.2042 - accuracy: 0.9137 - val_loss: 0.5487 - val_accuracy: 0.7570\n",
      "\n",
      "Epoch 00080: val_accuracy did not improve from 0.89141\n",
      "Epoch 81/200\n",
      "236/236 [==============================] - 14s 58ms/step - loss: 0.1998 - accuracy: 0.9165 - val_loss: 0.3565 - val_accuracy: 0.8715\n",
      "\n",
      "Epoch 00081: val_accuracy did not improve from 0.89141\n",
      "Epoch 82/200\n",
      "236/236 [==============================] - 14s 60ms/step - loss: 0.2028 - accuracy: 0.9185 - val_loss: 0.3289 - val_accuracy: 0.8922\n",
      "\n",
      "Epoch 00082: val_accuracy improved from 0.89141 to 0.89220, saving model to model.h5\n",
      "Epoch 83/200\n",
      "236/236 [==============================] - 14s 58ms/step - loss: 0.2033 - accuracy: 0.9142 - val_loss: 0.2876 - val_accuracy: 0.8946\n",
      "\n",
      "Epoch 00083: val_accuracy improved from 0.89220 to 0.89459, saving model to model.h5\n",
      "Epoch 84/200\n",
      "236/236 [==============================] - 18s 78ms/step - loss: 0.2026 - accuracy: 0.9181 - val_loss: 0.3073 - val_accuracy: 0.8735\n",
      "\n",
      "Epoch 00084: val_accuracy did not improve from 0.89459\n",
      "Epoch 85/200\n",
      "236/236 [==============================] - 14s 57ms/step - loss: 0.2082 - accuracy: 0.9186 - val_loss: 0.5053 - val_accuracy: 0.7991\n",
      "\n",
      "Epoch 00085: val_accuracy did not improve from 0.89459\n",
      "Epoch 86/200\n",
      "236/236 [==============================] - 14s 61ms/step - loss: 0.1937 - accuracy: 0.9206 - val_loss: 0.3091 - val_accuracy: 0.8815\n",
      "\n",
      "Epoch 00086: val_accuracy did not improve from 0.89459\n",
      "Epoch 87/200\n",
      "236/236 [==============================] - 14s 59ms/step - loss: 0.1999 - accuracy: 0.9192 - val_loss: 0.3046 - val_accuracy: 0.8839\n",
      "\n",
      "Epoch 00087: val_accuracy did not improve from 0.89459\n",
      "Epoch 88/200\n",
      "236/236 [==============================] - 14s 58ms/step - loss: 0.1912 - accuracy: 0.9161 - val_loss: 0.3299 - val_accuracy: 0.8687\n",
      "\n",
      "Epoch 00088: val_accuracy did not improve from 0.89459\n",
      "Epoch 89/200\n",
      "236/236 [==============================] - 18s 77ms/step - loss: 0.1980 - accuracy: 0.9145 - val_loss: 0.3410 - val_accuracy: 0.8663\n",
      "\n",
      "Epoch 00089: val_accuracy did not improve from 0.89459\n",
      "Epoch 90/200\n",
      "236/236 [==============================] - 14s 58ms/step - loss: 0.1914 - accuracy: 0.9177 - val_loss: 0.3595 - val_accuracy: 0.8691\n",
      "\n",
      "Epoch 00090: val_accuracy did not improve from 0.89459\n",
      "Epoch 91/200\n",
      "236/236 [==============================] - 14s 60ms/step - loss: 0.1845 - accuracy: 0.9232 - val_loss: 0.5485 - val_accuracy: 0.8134\n",
      "\n",
      "Epoch 00091: val_accuracy did not improve from 0.89459\n",
      "Epoch 92/200\n",
      "236/236 [==============================] - 14s 59ms/step - loss: 0.1878 - accuracy: 0.9204 - val_loss: 0.3945 - val_accuracy: 0.8429\n",
      "\n",
      "Epoch 00092: val_accuracy did not improve from 0.89459\n",
      "Epoch 93/200\n",
      "236/236 [==============================] - 17s 74ms/step - loss: 0.1784 - accuracy: 0.9250 - val_loss: 0.4055 - val_accuracy: 0.8640\n",
      "\n",
      "Epoch 00093: val_accuracy did not improve from 0.89459\n",
      "Epoch 94/200\n",
      "236/236 [==============================] - 14s 61ms/step - loss: 0.1927 - accuracy: 0.9200 - val_loss: 0.3167 - val_accuracy: 0.8866\n",
      "\n",
      "Epoch 00094: val_accuracy did not improve from 0.89459\n",
      "Epoch 95/200\n",
      "236/236 [==============================] - 14s 61ms/step - loss: 0.1777 - accuracy: 0.9281 - val_loss: 0.3377 - val_accuracy: 0.8675\n",
      "\n",
      "Epoch 00095: val_accuracy did not improve from 0.89459\n",
      "Epoch 96/200\n",
      "236/236 [==============================] - 13s 57ms/step - loss: 0.1842 - accuracy: 0.9275 - val_loss: 0.3444 - val_accuracy: 0.8831\n",
      "\n",
      "Epoch 00096: val_accuracy did not improve from 0.89459\n",
      "Epoch 97/200\n",
      "236/236 [==============================] - 14s 60ms/step - loss: 0.1947 - accuracy: 0.9230 - val_loss: 0.3758 - val_accuracy: 0.8667\n",
      "\n",
      "Epoch 00097: val_accuracy did not improve from 0.89459\n",
      "Epoch 98/200\n",
      "236/236 [==============================] - 18s 75ms/step - loss: 0.1857 - accuracy: 0.9242 - val_loss: 0.2837 - val_accuracy: 0.8978\n",
      "\n",
      "Epoch 00098: val_accuracy improved from 0.89459 to 0.89777, saving model to model.h5\n",
      "Epoch 99/200\n",
      "236/236 [==============================] - 14s 58ms/step - loss: 0.1824 - accuracy: 0.9275 - val_loss: 0.2603 - val_accuracy: 0.9077\n",
      "\n",
      "Epoch 00099: val_accuracy improved from 0.89777 to 0.90772, saving model to model.h5\n",
      "Epoch 100/200\n",
      "236/236 [==============================] - 14s 58ms/step - loss: 0.1872 - accuracy: 0.9227 - val_loss: 0.5047 - val_accuracy: 0.8254\n",
      "\n",
      "Epoch 00100: val_accuracy did not improve from 0.90772\n",
      "Epoch 101/200\n",
      "236/236 [==============================] - 14s 59ms/step - loss: 0.1686 - accuracy: 0.9304 - val_loss: 0.3597 - val_accuracy: 0.8755\n",
      "\n",
      "Epoch 00101: val_accuracy did not improve from 0.90772\n",
      "Epoch 102/200\n",
      "236/236 [==============================] - 14s 59ms/step - loss: 0.1751 - accuracy: 0.9260 - val_loss: 0.3311 - val_accuracy: 0.8759\n",
      "\n",
      "Epoch 00102: val_accuracy did not improve from 0.90772\n",
      "Epoch 103/200\n",
      "236/236 [==============================] - 18s 76ms/step - loss: 0.1787 - accuracy: 0.9286 - val_loss: 0.4779 - val_accuracy: 0.8341\n",
      "\n",
      "Epoch 00103: val_accuracy did not improve from 0.90772\n",
      "Epoch 104/200\n",
      "236/236 [==============================] - 14s 59ms/step - loss: 0.1842 - accuracy: 0.9163 - val_loss: 0.5058 - val_accuracy: 0.8413\n",
      "\n",
      "Epoch 00104: val_accuracy did not improve from 0.90772\n",
      "Epoch 105/200\n",
      "236/236 [==============================] - 14s 57ms/step - loss: 0.1722 - accuracy: 0.9303 - val_loss: 0.3035 - val_accuracy: 0.9025\n",
      "\n",
      "Epoch 00105: val_accuracy did not improve from 0.90772\n",
      "Epoch 106/200\n",
      "236/236 [==============================] - 14s 60ms/step - loss: 0.1624 - accuracy: 0.9298 - val_loss: 0.3825 - val_accuracy: 0.8560\n",
      "\n",
      "Epoch 00106: val_accuracy did not improve from 0.90772\n",
      "Epoch 107/200\n",
      "236/236 [==============================] - 15s 63ms/step - loss: 0.1626 - accuracy: 0.9329 - val_loss: 0.4755 - val_accuracy: 0.8107\n",
      "\n",
      "Epoch 00107: val_accuracy did not improve from 0.90772\n",
      "Epoch 108/200\n",
      "236/236 [==============================] - 17s 73ms/step - loss: 0.1673 - accuracy: 0.9368 - val_loss: 0.3502 - val_accuracy: 0.8644\n",
      "\n",
      "Epoch 00108: val_accuracy did not improve from 0.90772\n",
      "Epoch 109/200\n",
      "236/236 [==============================] - 14s 58ms/step - loss: 0.1645 - accuracy: 0.9274 - val_loss: 0.4235 - val_accuracy: 0.8437\n",
      "\n",
      "Epoch 00109: val_accuracy did not improve from 0.90772\n",
      "Epoch 110/200\n",
      "236/236 [==============================] - 13s 57ms/step - loss: 0.1670 - accuracy: 0.9269 - val_loss: 0.4053 - val_accuracy: 0.8775\n",
      "\n",
      "Epoch 00110: val_accuracy did not improve from 0.90772\n",
      "Epoch 111/200\n",
      "236/236 [==============================] - 14s 59ms/step - loss: 0.1595 - accuracy: 0.9298 - val_loss: 0.9505 - val_accuracy: 0.7383\n",
      "\n",
      "Epoch 00111: val_accuracy did not improve from 0.90772\n",
      "Epoch 112/200\n",
      "236/236 [==============================] - 16s 69ms/step - loss: 0.1806 - accuracy: 0.9275 - val_loss: 0.3286 - val_accuracy: 0.8886\n",
      "\n",
      "Epoch 00112: val_accuracy did not improve from 0.90772\n",
      "Epoch 113/200\n",
      "236/236 [==============================] - 16s 67ms/step - loss: 0.1443 - accuracy: 0.9392 - val_loss: 0.6400 - val_accuracy: 0.8290\n",
      "\n",
      "Epoch 00113: val_accuracy did not improve from 0.90772\n",
      "Epoch 114/200\n",
      "236/236 [==============================] - 13s 56ms/step - loss: 0.1662 - accuracy: 0.9321 - val_loss: 0.5721 - val_accuracy: 0.8481\n",
      "\n",
      "Epoch 00114: val_accuracy did not improve from 0.90772\n",
      "Epoch 115/200\n",
      "236/236 [==============================] - 14s 59ms/step - loss: 0.1592 - accuracy: 0.9334 - val_loss: 0.5774 - val_accuracy: 0.8031\n",
      "\n",
      "Epoch 00115: val_accuracy did not improve from 0.90772\n",
      "Epoch 116/200\n",
      "236/236 [==============================] - 14s 58ms/step - loss: 0.1616 - accuracy: 0.9360 - val_loss: 0.3810 - val_accuracy: 0.8687\n",
      "\n",
      "Epoch 00116: val_accuracy did not improve from 0.90772\n",
      "Epoch 117/200\n",
      "236/236 [==============================] - 18s 76ms/step - loss: 0.1627 - accuracy: 0.9399 - val_loss: 0.7232 - val_accuracy: 0.8130\n",
      "\n",
      "Epoch 00117: val_accuracy did not improve from 0.90772\n",
      "Epoch 118/200\n",
      "236/236 [==============================] - 14s 60ms/step - loss: 0.1590 - accuracy: 0.9350 - val_loss: 0.3454 - val_accuracy: 0.8986\n",
      "\n",
      "Epoch 00118: val_accuracy did not improve from 0.90772\n",
      "Epoch 119/200\n",
      "236/236 [==============================] - 13s 57ms/step - loss: 0.1487 - accuracy: 0.9400 - val_loss: 0.5041 - val_accuracy: 0.8437\n",
      "\n",
      "Epoch 00119: val_accuracy did not improve from 0.90772\n",
      "Epoch 120/200\n",
      "236/236 [==============================] - 14s 61ms/step - loss: 0.1554 - accuracy: 0.9409 - val_loss: 0.4259 - val_accuracy: 0.8683\n",
      "\n",
      "Epoch 00120: val_accuracy did not improve from 0.90772\n",
      "Epoch 121/200\n",
      "236/236 [==============================] - 13s 56ms/step - loss: 0.1687 - accuracy: 0.9351 - val_loss: 0.4427 - val_accuracy: 0.8636\n",
      "\n",
      "Epoch 00121: val_accuracy did not improve from 0.90772\n",
      "Epoch 122/200\n",
      "236/236 [==============================] - 19s 80ms/step - loss: 0.1480 - accuracy: 0.9384 - val_loss: 0.4694 - val_accuracy: 0.8636\n",
      "\n",
      "Epoch 00122: val_accuracy did not improve from 0.90772\n",
      "Epoch 123/200\n",
      "236/236 [==============================] - 13s 57ms/step - loss: 0.1647 - accuracy: 0.9366 - val_loss: 0.5300 - val_accuracy: 0.8345\n",
      "\n",
      "Epoch 00123: val_accuracy did not improve from 0.90772\n",
      "Epoch 124/200\n",
      "236/236 [==============================] - 14s 61ms/step - loss: 0.1481 - accuracy: 0.9423 - val_loss: 0.3757 - val_accuracy: 0.8846\n",
      "\n",
      "Epoch 00124: val_accuracy did not improve from 0.90772\n",
      "Epoch 125/200\n",
      "236/236 [==============================] - 13s 57ms/step - loss: 0.1390 - accuracy: 0.9445 - val_loss: 0.3132 - val_accuracy: 0.9033\n",
      "\n",
      "Epoch 00125: val_accuracy did not improve from 0.90772\n",
      "Epoch 126/200\n",
      "236/236 [==============================] - 14s 57ms/step - loss: 0.1440 - accuracy: 0.9393 - val_loss: 0.3869 - val_accuracy: 0.8632\n",
      "\n",
      "Epoch 00126: val_accuracy did not improve from 0.90772\n",
      "Epoch 127/200\n",
      "236/236 [==============================] - 19s 80ms/step - loss: 0.1433 - accuracy: 0.9432 - val_loss: 0.4720 - val_accuracy: 0.8349\n",
      "\n",
      "Epoch 00127: val_accuracy did not improve from 0.90772\n",
      "Epoch 128/200\n",
      "236/236 [==============================] - 14s 58ms/step - loss: 0.1374 - accuracy: 0.9459 - val_loss: 0.4489 - val_accuracy: 0.8333\n",
      "\n",
      "Epoch 00128: val_accuracy did not improve from 0.90772\n",
      "Epoch 129/200\n",
      "236/236 [==============================] - 14s 57ms/step - loss: 0.1535 - accuracy: 0.9338 - val_loss: 0.5644 - val_accuracy: 0.8477\n",
      "\n",
      "Epoch 00129: val_accuracy did not improve from 0.90772\n",
      "Epoch 130/200\n",
      "236/236 [==============================] - 14s 58ms/step - loss: 0.1546 - accuracy: 0.9371 - val_loss: 0.3306 - val_accuracy: 0.8926\n",
      "\n",
      "Epoch 00130: val_accuracy did not improve from 0.90772\n",
      "Epoch 131/200\n",
      "236/236 [==============================] - 14s 60ms/step - loss: 0.1511 - accuracy: 0.9419 - val_loss: 0.4128 - val_accuracy: 0.8878\n",
      "\n",
      "Epoch 00131: val_accuracy did not improve from 0.90772\n",
      "Epoch 132/200\n",
      "236/236 [==============================] - 19s 79ms/step - loss: 0.1387 - accuracy: 0.9408 - val_loss: 0.3475 - val_accuracy: 0.8608\n",
      "\n",
      "Epoch 00132: val_accuracy did not improve from 0.90772\n",
      "Epoch 133/200\n",
      "236/236 [==============================] - 14s 60ms/step - loss: 0.1573 - accuracy: 0.9366 - val_loss: 0.3479 - val_accuracy: 0.8771\n",
      "\n",
      "Epoch 00133: val_accuracy did not improve from 0.90772\n",
      "Epoch 134/200\n",
      "236/236 [==============================] - 13s 57ms/step - loss: 0.1539 - accuracy: 0.9344 - val_loss: 0.4775 - val_accuracy: 0.8369\n",
      "\n",
      "Epoch 00134: val_accuracy did not improve from 0.90772\n",
      "Epoch 135/200\n",
      "236/236 [==============================] - 14s 59ms/step - loss: 0.1376 - accuracy: 0.9455 - val_loss: 0.8126 - val_accuracy: 0.7693\n",
      "\n",
      "Epoch 00135: val_accuracy did not improve from 0.90772\n",
      "Epoch 136/200\n",
      "236/236 [==============================] - 14s 58ms/step - loss: 0.1511 - accuracy: 0.9364 - val_loss: 0.3212 - val_accuracy: 0.9037\n",
      "\n",
      "Epoch 00136: val_accuracy did not improve from 0.90772\n",
      "Epoch 137/200\n",
      "236/236 [==============================] - 19s 82ms/step - loss: 0.1368 - accuracy: 0.9480 - val_loss: 0.6748 - val_accuracy: 0.7757\n",
      "\n",
      "Epoch 00137: val_accuracy did not improve from 0.90772\n",
      "Epoch 138/200\n",
      "236/236 [==============================] - 14s 59ms/step - loss: 0.1467 - accuracy: 0.9442 - val_loss: 0.3665 - val_accuracy: 0.8783\n",
      "\n",
      "Epoch 00138: val_accuracy did not improve from 0.90772\n",
      "Epoch 139/200\n",
      "236/236 [==============================] - 14s 60ms/step - loss: 0.1462 - accuracy: 0.9411 - val_loss: 0.4620 - val_accuracy: 0.8469\n",
      "\n",
      "Epoch 00139: val_accuracy did not improve from 0.90772\n",
      "Epoch 140/200\n",
      "236/236 [==============================] - 14s 58ms/step - loss: 0.1405 - accuracy: 0.9407 - val_loss: 0.5363 - val_accuracy: 0.8496\n",
      "\n",
      "Epoch 00140: val_accuracy did not improve from 0.90772\n",
      "Epoch 141/200\n",
      "236/236 [==============================] - 14s 57ms/step - loss: 0.1345 - accuracy: 0.9457 - val_loss: 0.3157 - val_accuracy: 0.9065\n",
      "\n",
      "Epoch 00141: val_accuracy did not improve from 0.90772\n",
      "Epoch 142/200\n",
      "236/236 [==============================] - 20s 85ms/step - loss: 0.1395 - accuracy: 0.9431 - val_loss: 0.3273 - val_accuracy: 0.8906\n",
      "\n",
      "Epoch 00142: val_accuracy did not improve from 0.90772\n",
      "Epoch 143/200\n",
      "236/236 [==============================] - 14s 59ms/step - loss: 0.1424 - accuracy: 0.9428 - val_loss: 0.3514 - val_accuracy: 0.9089\n",
      "\n",
      "Epoch 00143: val_accuracy improved from 0.90772 to 0.90891, saving model to model.h5\n",
      "Epoch 144/200\n",
      "236/236 [==============================] - 14s 59ms/step - loss: 0.1335 - accuracy: 0.9458 - val_loss: 0.3695 - val_accuracy: 0.8890\n",
      "\n",
      "Epoch 00144: val_accuracy did not improve from 0.90891\n",
      "Epoch 145/200\n",
      "236/236 [==============================] - 13s 57ms/step - loss: 0.1309 - accuracy: 0.9490 - val_loss: 0.4046 - val_accuracy: 0.8536\n",
      "\n",
      "Epoch 00145: val_accuracy did not improve from 0.90891\n",
      "Epoch 146/200\n",
      "236/236 [==============================] - 14s 59ms/step - loss: 0.1256 - accuracy: 0.9511 - val_loss: 0.5138 - val_accuracy: 0.8488\n",
      "\n",
      "Epoch 00146: val_accuracy did not improve from 0.90891\n",
      "Epoch 147/200\n",
      "236/236 [==============================] - 19s 82ms/step - loss: 0.1365 - accuracy: 0.9471 - val_loss: 0.4329 - val_accuracy: 0.8492\n",
      "\n",
      "Epoch 00147: val_accuracy did not improve from 0.90891\n",
      "Epoch 148/200\n",
      "236/236 [==============================] - 14s 59ms/step - loss: 0.1403 - accuracy: 0.9382 - val_loss: 0.3777 - val_accuracy: 0.8866\n",
      "\n",
      "Epoch 00148: val_accuracy did not improve from 0.90891\n",
      "Epoch 149/200\n",
      "236/236 [==============================] - 14s 58ms/step - loss: 0.1275 - accuracy: 0.9464 - val_loss: 0.3779 - val_accuracy: 0.8982\n",
      "\n",
      "Epoch 00149: val_accuracy did not improve from 0.90891\n",
      "Epoch 00149: early stopping\n"
     ]
    }
   ],
   "source": [
    "history = model.fit(\n",
    "    train_gen,\n",
    "    steps_per_epoch= steps_per_epoch,\n",
    "    validation_data=val_gen,\n",
    "    validation_steps= validation_steps,\n",
    "    epochs=epochs,\n",
    "    callbacks=[es,mc]\n",
    ")"
   ]
  },
  {
   "cell_type": "code",
   "execution_count": 15,
   "metadata": {
    "_cell_guid": "b1076dfc-b9ad-4769-8c92-a6c4dae69d19",
    "_uuid": "8f2839f25d086af736a60e9eeb907d3b93b6e0e5",
    "execution": {
     "iopub.execute_input": "2021-03-19T04:59:17.646775Z",
     "iopub.status.busy": "2021-03-19T04:59:17.644992Z",
     "iopub.status.idle": "2021-03-19T04:59:17.647344Z",
     "shell.execute_reply": "2021-03-19T04:59:17.647751Z"
    },
    "papermill": {
     "duration": 8.032845,
     "end_time": "2021-03-19T04:59:17.647890",
     "exception": false,
     "start_time": "2021-03-19T04:59:09.615045",
     "status": "completed"
    },
    "tags": []
   },
   "outputs": [],
   "source": [
    "def history_plot(model_id, history1):\n",
    "\tplt.figure(figsize=(14,16)) \n",
    "\t# plot loss\n",
    "\tplt.subplot(2, 1, 1)\n",
    "\tplt.title('Cross Entropy Loss - ' + model_id, fontsize = 12)\n",
    "\tplt.plot(history1.history['loss'], color='blue', label='train base')\n",
    "\tplt.plot(history1.history['val_loss'], color='cyan', label='val base')\n",
    "\tplt.xlabel(\"Epochs\",fontsize = 12)\n",
    "\tplt.ylabel(\"Loss\", fontsize = 12)\n",
    "\tplt.legend(loc='upper right')\n",
    "\n",
    "\t# plot accuracy\n",
    "\tplt.subplot(2, 1, 2)\n",
    "\tplt.title('Classification Accuracy ' + model_id, fontsize = 10)\n",
    "\tplt.plot(history1.history['accuracy'], color='blue', label='train base')\n",
    "\tplt.plot(history1.history['val_accuracy'], color='cyan', label='val base')\n",
    "\tplt.xlabel(\"Epochs\", fontsize = 12)\n",
    "\tplt.ylabel(\"Accuracy\", fontsize = 12)\n",
    "\tplt.legend(loc='lower right')\n",
    "\n",
    "\tplt.show()"
   ]
  },
  {
   "cell_type": "code",
   "execution_count": 16,
   "metadata": {
    "_cell_guid": "b1076dfc-b9ad-4769-8c92-a6c4dae69d19",
    "_uuid": "8f2839f25d086af736a60e9eeb907d3b93b6e0e5",
    "execution": {
     "iopub.execute_input": "2021-03-19T04:59:33.564721Z",
     "iopub.status.busy": "2021-03-19T04:59:33.563850Z",
     "iopub.status.idle": "2021-03-19T04:59:33.566666Z",
     "shell.execute_reply": "2021-03-19T04:59:33.567070Z"
    },
    "papermill": {
     "duration": 7.834441,
     "end_time": "2021-03-19T04:59:33.567205",
     "exception": false,
     "start_time": "2021-03-19T04:59:25.732764",
     "status": "completed"
    },
    "tags": []
   },
   "outputs": [
    {
     "data": {
      "text/plain": [
       "dict_keys(['loss', 'accuracy', 'val_loss', 'val_accuracy'])"
      ]
     },
     "execution_count": 16,
     "metadata": {},
     "output_type": "execute_result"
    }
   ],
   "source": [
    "history.history.keys()"
   ]
  },
  {
   "cell_type": "code",
   "execution_count": 17,
   "metadata": {
    "_cell_guid": "b1076dfc-b9ad-4769-8c92-a6c4dae69d19",
    "_uuid": "8f2839f25d086af736a60e9eeb907d3b93b6e0e5",
    "execution": {
     "iopub.execute_input": "2021-03-19T04:59:50.166579Z",
     "iopub.status.busy": "2021-03-19T04:59:50.165698Z",
     "iopub.status.idle": "2021-03-19T04:59:50.496298Z",
     "shell.execute_reply": "2021-03-19T04:59:50.496718Z"
    },
    "papermill": {
     "duration": 8.386147,
     "end_time": "2021-03-19T04:59:50.496876",
     "exception": false,
     "start_time": "2021-03-19T04:59:42.110729",
     "status": "completed"
    },
    "tags": []
   },
   "outputs": [
    {
     "data": {
      "image/png": "[encoded data removed]",
      "text/plain": [
       "<Figure size 1008x1152 with 2 Axes>"
      ]
     },
     "metadata": {
      "needs_background": "light"
     },
     "output_type": "display_data"
    }
   ],
   "source": [
    "history_plot('CNN Model', history)"
   ]
  },
  {
   "cell_type": "code",
   "execution_count": 18,
   "metadata": {
    "_cell_guid": "b1076dfc-b9ad-4769-8c92-a6c4dae69d19",
    "_uuid": "8f2839f25d086af736a60e9eeb907d3b93b6e0e5",
    "execution": {
     "iopub.execute_input": "2021-03-19T05:00:06.534546Z",
     "iopub.status.busy": "2021-03-19T05:00:06.533624Z",
     "iopub.status.idle": "2021-03-19T05:00:06.550011Z",
     "shell.execute_reply": "2021-03-19T05:00:06.549126Z"
    },
    "papermill": {
     "duration": 7.951277,
     "end_time": "2021-03-19T05:00:06.550134",
     "exception": false,
     "start_time": "2021-03-19T04:59:58.598857",
     "status": "completed"
    },
    "tags": []
   },
   "outputs": [],
   "source": [
    "model.load_weights('model.h5')"
   ]
  },
  {
   "cell_type": "code",
   "execution_count": 19,
   "metadata": {
    "execution": {
     "iopub.execute_input": "2021-03-19T05:00:23.331770Z",
     "iopub.status.busy": "2021-03-19T05:00:23.330042Z",
     "iopub.status.idle": "2021-03-19T05:00:23.332340Z",
     "shell.execute_reply": "2021-03-19T05:00:23.332733Z"
    },
    "papermill": {
     "duration": 8.22497,
     "end_time": "2021-03-19T05:00:23.332874",
     "exception": false,
     "start_time": "2021-03-19T05:00:15.107904",
     "status": "completed"
    },
    "tags": []
   },
   "outputs": [],
   "source": [
    "category_names = [\"No Defect\", \"Defect\"]"
   ]
  },
  {
   "cell_type": "code",
   "execution_count": 20,
   "metadata": {
    "_cell_guid": "b1076dfc-b9ad-4769-8c92-a6c4dae69d19",
    "_uuid": "8f2839f25d086af736a60e9eeb907d3b93b6e0e5",
    "execution": {
     "iopub.execute_input": "2021-03-19T05:00:39.269147Z",
     "iopub.status.busy": "2021-03-19T05:00:39.268267Z",
     "iopub.status.idle": "2021-03-19T05:00:41.038787Z",
     "shell.execute_reply": "2021-03-19T05:00:41.039185Z"
    },
    "papermill": {
     "duration": 9.583871,
     "end_time": "2021-03-19T05:00:41.039341",
     "exception": false,
     "start_time": "2021-03-19T05:00:31.455470",
     "status": "completed"
    },
    "tags": []
   },
   "outputs": [
    {
     "name": "stdout",
     "output_type": "stream",
     "text": [
      "predicting...\n",
      "79/79 [==============================] - 2s 20ms/step\n"
     ]
    }
   ],
   "source": [
    "y_test = df_test['defect_label']\n",
    "\n",
    "STEP_SIZE_TEST = compute_steps_per_epoch(y_test.shape[0])\n",
    "print('predicting...')\n",
    "\n",
    "predictions = model.predict(\n",
    "    test_gen,\n",
    "    steps = STEP_SIZE_TEST,\n",
    "    verbose=1)"
   ]
  },
  {
   "cell_type": "code",
   "execution_count": 21,
   "metadata": {
    "execution": {
     "iopub.execute_input": "2021-03-19T05:00:57.416316Z",
     "iopub.status.busy": "2021-03-19T05:00:57.414541Z",
     "iopub.status.idle": "2021-03-19T05:00:57.416891Z",
     "shell.execute_reply": "2021-03-19T05:00:57.417282Z"
    },
    "papermill": {
     "duration": 8.052417,
     "end_time": "2021-03-19T05:00:57.417415",
     "exception": false,
     "start_time": "2021-03-19T05:00:49.364998",
     "status": "completed"
    },
    "tags": []
   },
   "outputs": [],
   "source": [
    "y_pred = (predictions > 0.5).astype(\"int32\")"
   ]
  },
  {
   "cell_type": "code",
   "execution_count": 22,
   "metadata": {
    "_cell_guid": "b1076dfc-b9ad-4769-8c92-a6c4dae69d19",
    "_uuid": "8f2839f25d086af736a60e9eeb907d3b93b6e0e5",
    "execution": {
     "iopub.execute_input": "2021-03-19T05:01:13.694374Z",
     "iopub.status.busy": "2021-03-19T05:01:13.693513Z",
     "iopub.status.idle": "2021-03-19T05:01:13.704169Z",
     "shell.execute_reply": "2021-03-19T05:01:13.704674Z"
    },
    "papermill": {
     "duration": 8.114658,
     "end_time": "2021-03-19T05:01:13.704848",
     "exception": false,
     "start_time": "2021-03-19T05:01:05.590190",
     "status": "completed"
    },
    "tags": []
   },
   "outputs": [
    {
     "name": "stdout",
     "output_type": "stream",
     "text": [
      "              precision    recall  f1-score   support\n",
      "\n",
      "   No Defect       0.92      0.92      0.92      1181\n",
      "      Defect       0.93      0.93      0.93      1333\n",
      "\n",
      "    accuracy                           0.92      2514\n",
      "   macro avg       0.92      0.92      0.92      2514\n",
      "weighted avg       0.92      0.92      0.92      2514\n",
      "\n"
     ]
    }
   ],
   "source": [
    "# classification report\n",
    "report_string = classification_report(y_test, y_pred, target_names=category_names)\n",
    "print(report_string)"
   ]
  },
  {
   "cell_type": "code",
   "execution_count": 23,
   "metadata": {
    "execution": {
     "iopub.execute_input": "2021-03-19T05:01:30.235595Z",
     "iopub.status.busy": "2021-03-19T05:01:30.234793Z",
     "iopub.status.idle": "2021-03-19T05:01:30.404304Z",
     "shell.execute_reply": "2021-03-19T05:01:30.404725Z"
    },
    "papermill": {
     "duration": 8.276056,
     "end_time": "2021-03-19T05:01:30.404890",
     "exception": false,
     "start_time": "2021-03-19T05:01:22.128834",
     "status": "completed"
    },
    "tags": []
   },
   "outputs": [
    {
     "data": {
      "image/png": "[encoded data removed]",
      "text/plain": [
       "<Figure size 432x360 with 2 Axes>"
      ]
     },
     "metadata": {
      "needs_background": "light"
     },
     "output_type": "display_data"
    }
   ],
   "source": [
    "def plot_cm(y_true, y_pred, figsize=(6,5)):\n",
    "    cm = confusion_matrix(y_true, y_pred, labels=np.unique(y_true))\n",
    "    cm_sum = np.sum(cm, axis=1, keepdims=True)\n",
    "    cm_perc = cm / cm_sum.astype(float) * 100\n",
    "    annot = np.empty_like(cm).astype(str)\n",
    "    nrows, ncols = cm.shape\n",
    "    for i in range(nrows):\n",
    "        for j in range(ncols):\n",
    "            c = cm[i, j]\n",
    "            p = cm_perc[i, j]\n",
    "            if i == j:\n",
    "                s = cm_sum[i]\n",
    "                annot[i, j] = '%.1f%%\\n%d/%d' % (p, c, s)\n",
    "            elif c == 0:\n",
    "                annot[i, j] = ''\n",
    "            elif i<j:\n",
    "                annot[i, j] = '%.1f%%\\n%d\\nFP' % (p, c)\n",
    "            else:\n",
    "                annot[i, j] = '%.1f%%\\n%d\\nFN' % (p, c)\n",
    "    #cm = pd.DataFrame(cm, index=np.unique(y_true), columns=np.unique(y_true))\n",
    "    cm = pd.DataFrame(cm, index=category_names, columns=category_names)\n",
    "    cm.index.name = 'Actual'\n",
    "    cm.columns.name = 'Predicted'\n",
    "    fig, ax = plt.subplots(figsize=figsize)\n",
    "    sns.set(font_scale=1.4)\n",
    "    sns.heatmap(cm, cmap= \"YlGnBu\", annot=annot, fmt='', ax=ax, annot_kws={\"fontsize\":12})\n",
    "\n",
    "plot_cm(y_test, y_pred, figsize=(6,5))"
   ]
  },
  {
   "cell_type": "code",
   "execution_count": 24,
   "metadata": {
    "execution": {
     "iopub.execute_input": "2021-03-19T05:01:46.778982Z",
     "iopub.status.busy": "2021-03-19T05:01:46.778054Z",
     "iopub.status.idle": "2021-03-19T05:01:46.967399Z",
     "shell.execute_reply": "2021-03-19T05:01:46.966900Z"
    },
    "papermill": {
     "duration": 8.419396,
     "end_time": "2021-03-19T05:01:46.967530",
     "exception": false,
     "start_time": "2021-03-19T05:01:38.548134",
     "status": "completed"
    },
    "tags": []
   },
   "outputs": [
    {
     "name": "stdout",
     "output_type": "stream",
     "text": [
      "ROC AUC=0.974\n"
     ]
    },
    {
     "data": {
      "image/png": "[encoded data removed]",
      "text/plain": [
       "<Figure size 432x288 with 1 Axes>"
      ]
     },
     "metadata": {},
     "output_type": "display_data"
    }
   ],
   "source": [
    "from sklearn.metrics import roc_curve, auc, roc_auc_score\n",
    "\n",
    "# calculate scores\n",
    "auc = roc_auc_score(y_test, predictions)\n",
    "# summarize scores\n",
    "print('ROC AUC=%.3f' % (auc))\n",
    "# calculate roc curves\n",
    "\n",
    "ns_fpr, ns_tpr, _ = roc_curve(y_test, predictions)\n",
    "\n",
    "# plot the roc curve for the model\n",
    "plt.plot(ns_fpr, ns_tpr, linestyle='--', label=\"AUC = \"+ str(auc))\n",
    "plt.plot([0, 1], [0, 1], color='navy', lw=2, linestyle='--')\n",
    "# axis labels\n",
    "plt.xlabel('False Positive Rate')\n",
    "plt.ylabel('True Positive Rate')\n",
    "# show the legend\n",
    "plt.legend()\n",
    "# show the plot\n",
    "plt.show()\n"
   ]
  },
  {
   "cell_type": "markdown",
   "metadata": {
    "papermill": {
     "duration": 8.210492,
     "end_time": "2021-03-19T05:02:03.512316",
     "exception": false,
     "start_time": "2021-03-19T05:01:55.301824",
     "status": "completed"
    },
    "tags": []
   },
   "source": [
    "## Save Model"
   ]
  },
  {
   "cell_type": "code",
   "execution_count": 25,
   "metadata": {
    "_cell_guid": "79c7e3d0-c299-4dcb-8224-4455121ee9b0",
    "_uuid": "d629ff2d2480ee46fbb7e2d37f6b5fab8052498a",
    "execution": {
     "iopub.execute_input": "2021-03-19T05:02:19.764526Z",
     "iopub.status.busy": "2021-03-19T05:02:19.763709Z",
     "iopub.status.idle": "2021-03-19T05:02:19.842448Z",
     "shell.execute_reply": "2021-03-19T05:02:19.841588Z"
    },
    "papermill": {
     "duration": 8.199177,
     "end_time": "2021-03-19T05:02:19.842601",
     "exception": false,
     "start_time": "2021-03-19T05:02:11.643424",
     "status": "completed"
    },
    "tags": []
   },
   "outputs": [
    {
     "name": "stdout",
     "output_type": "stream",
     "text": [
      "File name is severstal-classification-CNNbase-2021-03-19-05-02-19.h5\n"
     ]
    }
   ],
   "source": [
    "from datetime import *\n",
    "filename1 = \"severstal-classification-CNNbase\" + \"-\" + datetime.now().strftime(\"%Y-%m-%d-%H-%M-%S\")+\".h5\"\n",
    "print (\"File name is \"+filename1)\n",
    "model.save(filename1, save_format=\"h5\")"
   ]
  },
  {
   "cell_type": "markdown",
   "metadata": {
    "papermill": {
     "duration": 8.060276,
     "end_time": "2021-03-19T05:02:36.161405",
     "exception": false,
     "start_time": "2021-03-19T05:02:28.101129",
     "status": "completed"
    },
    "tags": []
   },
   "source": [
    "## Predict submission file"
   ]
  },
  {
   "cell_type": "code",
   "execution_count": 26,
   "metadata": {
    "_cell_guid": "b1076dfc-b9ad-4769-8c92-a6c4dae69d19",
    "_uuid": "8f2839f25d086af736a60e9eeb907d3b93b6e0e5",
    "execution": {
     "iopub.execute_input": "2021-03-19T05:02:52.486994Z",
     "iopub.status.busy": "2021-03-19T05:02:52.485189Z",
     "iopub.status.idle": "2021-03-19T05:03:42.336985Z",
     "shell.execute_reply": "2021-03-19T05:03:42.336495Z"
    },
    "papermill": {
     "duration": 57.887448,
     "end_time": "2021-03-19T05:03:42.337112",
     "exception": false,
     "start_time": "2021-03-19T05:02:44.449664",
     "status": "completed"
    },
    "tags": []
   },
   "outputs": [
    {
     "name": "stdout",
     "output_type": "stream",
     "text": [
      "predicting...\n",
      "173/173 [==============================] - 49s 286ms/step\n"
     ]
    }
   ],
   "source": [
    "STEP_SIZE_TEST = compute_steps_per_epoch(submission_df.shape[0])\n",
    "print('predicting...')\n",
    "\n",
    "submit_test = model.predict(\n",
    "    submission_gen,\n",
    "    steps=STEP_SIZE_TEST,\n",
    "    verbose=1\n",
    ")"
   ]
  },
  {
   "cell_type": "code",
   "execution_count": 27,
   "metadata": {
    "_cell_guid": "b1076dfc-b9ad-4769-8c92-a6c4dae69d19",
    "_uuid": "8f2839f25d086af736a60e9eeb907d3b93b6e0e5",
    "execution": {
     "iopub.execute_input": "2021-03-19T05:03:59.273534Z",
     "iopub.status.busy": "2021-03-19T05:03:59.272516Z",
     "iopub.status.idle": "2021-03-19T05:03:59.274966Z",
     "shell.execute_reply": "2021-03-19T05:03:59.275529Z"
    },
    "papermill": {
     "duration": 8.730118,
     "end_time": "2021-03-19T05:03:59.275688",
     "exception": false,
     "start_time": "2021-03-19T05:03:50.545570",
     "status": "completed"
    },
    "tags": []
   },
   "outputs": [],
   "source": [
    "submission_df['defect_label'] = (submit_test > 0.5).astype(\"int32\")"
   ]
  },
  {
   "cell_type": "code",
   "execution_count": 28,
   "metadata": {
    "execution": {
     "iopub.execute_input": "2021-03-19T05:04:15.373465Z",
     "iopub.status.busy": "2021-03-19T05:04:15.372726Z",
     "iopub.status.idle": "2021-03-19T05:04:15.376332Z",
     "shell.execute_reply": "2021-03-19T05:04:15.375925Z"
    },
    "papermill": {
     "duration": 8.128859,
     "end_time": "2021-03-19T05:04:15.376449",
     "exception": false,
     "start_time": "2021-03-19T05:04:07.247590",
     "status": "completed"
    },
    "tags": []
   },
   "outputs": [
    {
     "data": {
      "text/html": [
       "<div>\n",
       "<style scoped>\n",
       "    .dataframe tbody tr th:only-of-type {\n",
       "        vertical-align: middle;\n",
       "    }\n",
       "\n",
       "    .dataframe tbody tr th {\n",
       "        vertical-align: top;\n",
       "    }\n",
       "\n",
       "    .dataframe thead th {\n",
       "        text-align: right;\n",
       "    }\n",
       "</style>\n",
       "<table border=\"1\" class=\"dataframe\">\n",
       "  <thead>\n",
       "    <tr style=\"text-align: right;\">\n",
       "      <th></th>\n",
       "      <th>ImageId</th>\n",
       "      <th>defect_label</th>\n",
       "    </tr>\n",
       "  </thead>\n",
       "  <tbody>\n",
       "    <tr>\n",
       "      <th>0</th>\n",
       "      <td>0000f269f.jpg</td>\n",
       "      <td>0</td>\n",
       "    </tr>\n",
       "    <tr>\n",
       "      <th>1</th>\n",
       "      <td>000ccc2ac.jpg</td>\n",
       "      <td>1</td>\n",
       "    </tr>\n",
       "    <tr>\n",
       "      <th>2</th>\n",
       "      <td>002451917.jpg</td>\n",
       "      <td>1</td>\n",
       "    </tr>\n",
       "    <tr>\n",
       "      <th>3</th>\n",
       "      <td>003c5da97.jpg</td>\n",
       "      <td>1</td>\n",
       "    </tr>\n",
       "    <tr>\n",
       "      <th>4</th>\n",
       "      <td>0042e163f.jpg</td>\n",
       "      <td>1</td>\n",
       "    </tr>\n",
       "  </tbody>\n",
       "</table>\n",
       "</div>"
      ],
      "text/plain": [
       "         ImageId  defect_label\n",
       "0  0000f269f.jpg             0\n",
       "1  000ccc2ac.jpg             1\n",
       "2  002451917.jpg             1\n",
       "3  003c5da97.jpg             1\n",
       "4  0042e163f.jpg             1"
      ]
     },
     "execution_count": 28,
     "metadata": {},
     "output_type": "execute_result"
    }
   ],
   "source": [
    "submission_df.head()"
   ]
  },
  {
   "cell_type": "code",
   "execution_count": 29,
   "metadata": {
    "execution": {
     "iopub.execute_input": "2021-03-19T05:04:32.241351Z",
     "iopub.status.busy": "2021-03-19T05:04:32.240646Z",
     "iopub.status.idle": "2021-03-19T05:04:32.243924Z",
     "shell.execute_reply": "2021-03-19T05:04:32.244405Z"
    },
    "papermill": {
     "duration": 8.613271,
     "end_time": "2021-03-19T05:04:32.244593",
     "exception": false,
     "start_time": "2021-03-19T05:04:23.631322",
     "status": "completed"
    },
    "tags": []
   },
   "outputs": [
    {
     "data": {
      "text/plain": [
       "1    3588\n",
       "0    1918\n",
       "Name: defect_label, dtype: int64"
      ]
     },
     "execution_count": 29,
     "metadata": {},
     "output_type": "execute_result"
    }
   ],
   "source": [
    "submission_df['defect_label'].value_counts()"
   ]
  },
  {
   "cell_type": "code",
   "execution_count": 30,
   "metadata": {
    "_cell_guid": "b1076dfc-b9ad-4769-8c92-a6c4dae69d19",
    "_uuid": "8f2839f25d086af736a60e9eeb907d3b93b6e0e5",
    "execution": {
     "iopub.execute_input": "2021-03-19T05:04:48.203533Z",
     "iopub.status.busy": "2021-03-19T05:04:48.202715Z",
     "iopub.status.idle": "2021-03-19T05:04:48.338426Z",
     "shell.execute_reply": "2021-03-19T05:04:48.337937Z"
    },
    "papermill": {
     "duration": 8.216662,
     "end_time": "2021-03-19T05:04:48.338547",
     "exception": false,
     "start_time": "2021-03-19T05:04:40.121885",
     "status": "completed"
    },
    "tags": []
   },
   "outputs": [],
   "source": [
    "#pd.DataFrame(history.history).to_csv('CNN_BaseModel_history.csv', index=False)\n",
    "df.to_csv('train_binClass.csv', index=False)\n",
    "submission_df.to_csv('submission_df_classification_result.csv', index=False)"
   ]
  },
  {
   "cell_type": "code",
   "execution_count": null,
   "metadata": {
    "papermill": {
     "duration": 8.683003,
     "end_time": "2021-03-19T05:05:05.162133",
     "exception": false,
     "start_time": "2021-03-19T05:04:56.479130",
     "status": "completed"
    },
    "tags": []
   },
   "outputs": [],
   "source": []
  }
 ],
 "metadata": {
  "kernelspec": {
   "display_name": "Python 3",
   "language": "python",
   "name": "python3"
  },
  "language_info": {
   "codemirror_mode": {
    "name": "ipython",
    "version": 3
   },
   "file_extension": ".py",
   "mimetype": "text/x-python",
   "name": "python",
   "nbconvert_exporter": "python",
   "pygments_lexer": "ipython3",
   "version": "3.8.3"
  },
  "papermill": {
   "default_parameters": {},
   "duration": 2805.618516,
   "end_time": "2021-03-19T05:05:16.226094",
   "environment_variables": {},
   "exception": null,
   "input_path": "__notebook__.ipynb",
   "output_path": "__notebook__.ipynb",
   "parameters": {},
   "start_time": "2021-03-19T04:18:30.607578",
   "version": "2.2.2"
  }
 },
 "nbformat": 4,
 "nbformat_minor": 4
}
