{
 "cells": [
  {
   "cell_type": "code",
   "execution_count": 1,
   "metadata": {
    "_cell_guid": "b1076dfc-b9ad-4769-8c92-a6c4dae69d19",
    "_uuid": "8f2839f25d086af736a60e9eeb907d3b93b6e0e5",
    "execution": {
     "iopub.execute_input": "2021-04-13T13:19:58.783190Z",
     "iopub.status.busy": "2021-04-13T13:19:58.782547Z",
     "iopub.status.idle": "2021-04-13T13:20:04.112196Z",
     "shell.execute_reply": "2021-04-13T13:20:04.111063Z"
    },
    "papermill": {
     "duration": 5.3529,
     "end_time": "2021-04-13T13:20:04.112450",
     "exception": false,
     "start_time": "2021-04-13T13:19:58.759550",
     "status": "completed"
    },
    "tags": []
   },
   "outputs": [],
   "source": [
    "import os\n",
    "import gc\n",
    "\n",
    "import cv2\n",
    "from tensorflow import keras\n",
    "from tensorflow.keras import backend as K\n",
    "from tensorflow.keras import layers\n",
    "from tensorflow.keras.preprocessing.image import ImageDataGenerator\n",
    "from tensorflow.keras.models import Model, load_model\n",
    "from tensorflow.keras.layers import Input\n",
    "from tensorflow.keras.layers import Conv2D, Conv2DTranspose\n",
    "from tensorflow.keras.layers import MaxPooling2D\n",
    "from tensorflow.keras.layers import concatenate\n",
    "from tensorflow.keras.optimizers import Adam\n",
    "from tensorflow.keras.callbacks import Callback, ModelCheckpoint, EarlyStopping\n",
    "import matplotlib.pyplot as plt\n",
    "import numpy as np\n",
    "import pandas as pd\n",
    "from tqdm import tqdm\n",
    "from sklearn.model_selection import train_test_split"
   ]
  },
  {
   "cell_type": "code",
   "execution_count": 2,
   "metadata": {
    "execution": {
     "iopub.execute_input": "2021-04-13T13:20:04.147300Z",
     "iopub.status.busy": "2021-04-13T13:20:04.146727Z",
     "iopub.status.idle": "2021-04-13T13:20:04.181777Z",
     "shell.execute_reply": "2021-04-13T13:20:04.182904Z"
    },
    "papermill": {
     "duration": 0.055646,
     "end_time": "2021-04-13T13:20:04.183143",
     "exception": false,
     "start_time": "2021-04-13T13:20:04.127497",
     "status": "completed"
    },
    "tags": []
   },
   "outputs": [],
   "source": [
    "img_path = '../input/severstal-steel-defect-detection/test_images/004f40c73.jpg'\n",
    "img = cv2.imread(img_path, cv2.IMREAD_GRAYSCALE)\n",
    "img = img.astype(np.float32) / 255.\n",
    "img = np.expand_dims(img, axis=-1)"
   ]
  },
  {
   "cell_type": "code",
   "execution_count": 3,
   "metadata": {
    "execution": {
     "iopub.execute_input": "2021-04-13T13:20:04.240231Z",
     "iopub.status.busy": "2021-04-13T13:20:04.239311Z",
     "iopub.status.idle": "2021-04-13T13:20:04.246791Z",
     "shell.execute_reply": "2021-04-13T13:20:04.247466Z"
    },
    "papermill": {
     "duration": 0.042623,
     "end_time": "2021-04-13T13:20:04.247674",
     "exception": false,
     "start_time": "2021-04-13T13:20:04.205051",
     "status": "completed"
    },
    "tags": []
   },
   "outputs": [
    {
     "data": {
      "text/plain": [
       "(256, 1600, 1)"
      ]
     },
     "execution_count": 3,
     "metadata": {},
     "output_type": "execute_result"
    }
   ],
   "source": [
    "np.shape(img)"
   ]
  },
  {
   "cell_type": "markdown",
   "metadata": {
    "_cell_guid": "b1076dfc-b9ad-4769-8c92-a6c4dae69d19",
    "_uuid": "8f2839f25d086af736a60e9eeb907d3b93b6e0e5",
    "papermill": {
     "duration": 0.023438,
     "end_time": "2021-04-13T13:20:04.295377",
     "exception": false,
     "start_time": "2021-04-13T13:20:04.271939",
     "status": "completed"
    },
    "tags": []
   },
   "source": [
    "# load dataframe with train labels"
   ]
  },
  {
   "cell_type": "code",
   "execution_count": 4,
   "metadata": {
    "_cell_guid": "b1076dfc-b9ad-4769-8c92-a6c4dae69d19",
    "_uuid": "8f2839f25d086af736a60e9eeb907d3b93b6e0e5",
    "execution": {
     "iopub.execute_input": "2021-04-13T13:20:04.349644Z",
     "iopub.status.busy": "2021-04-13T13:20:04.348830Z",
     "iopub.status.idle": "2021-04-13T13:20:04.982822Z",
     "shell.execute_reply": "2021-04-13T13:20:04.984036Z"
    },
    "papermill": {
     "duration": 0.663612,
     "end_time": "2021-04-13T13:20:04.984237",
     "exception": false,
     "start_time": "2021-04-13T13:20:04.320625",
     "status": "completed"
    },
    "tags": []
   },
   "outputs": [
    {
     "name": "stdout",
     "output_type": "stream",
     "text": [
      "(7095, 3)\n"
     ]
    }
   ],
   "source": [
    "train_df = pd.read_csv('../input/severstal-steel-defect-detection/train.csv')\n",
    "print(train_df.shape)"
   ]
  },
  {
   "cell_type": "code",
   "execution_count": 5,
   "metadata": {
    "_cell_guid": "b1076dfc-b9ad-4769-8c92-a6c4dae69d19",
    "_uuid": "8f2839f25d086af736a60e9eeb907d3b93b6e0e5",
    "execution": {
     "iopub.execute_input": "2021-04-13T13:20:05.304281Z",
     "iopub.status.busy": "2021-04-13T13:20:05.303711Z",
     "iopub.status.idle": "2021-04-13T13:20:05.312023Z",
     "shell.execute_reply": "2021-04-13T13:20:05.312460Z"
    },
    "papermill": {
     "duration": 0.30493,
     "end_time": "2021-04-13T13:20:05.312603",
     "exception": false,
     "start_time": "2021-04-13T13:20:05.007673",
     "status": "completed"
    },
    "tags": []
   },
   "outputs": [
    {
     "data": {
      "text/html": [
       "<div>\n",
       "<style scoped>\n",
       "    .dataframe tbody tr th:only-of-type {\n",
       "        vertical-align: middle;\n",
       "    }\n",
       "\n",
       "    .dataframe tbody tr th {\n",
       "        vertical-align: top;\n",
       "    }\n",
       "\n",
       "    .dataframe thead th {\n",
       "        text-align: right;\n",
       "    }\n",
       "</style>\n",
       "<table border=\"1\" class=\"dataframe\">\n",
       "  <thead>\n",
       "    <tr style=\"text-align: right;\">\n",
       "      <th></th>\n",
       "      <th>ImageId</th>\n",
       "      <th>ClassId</th>\n",
       "      <th>EncodedPixels</th>\n",
       "    </tr>\n",
       "  </thead>\n",
       "  <tbody>\n",
       "    <tr>\n",
       "      <th>0</th>\n",
       "      <td>0002cc93b.jpg</td>\n",
       "      <td>1</td>\n",
       "      <td>29102 12 29346 24 29602 24 29858 24 30114 24 3...</td>\n",
       "    </tr>\n",
       "    <tr>\n",
       "      <th>1</th>\n",
       "      <td>0007a71bf.jpg</td>\n",
       "      <td>3</td>\n",
       "      <td>18661 28 18863 82 19091 110 19347 110 19603 11...</td>\n",
       "    </tr>\n",
       "    <tr>\n",
       "      <th>2</th>\n",
       "      <td>000a4bcdd.jpg</td>\n",
       "      <td>1</td>\n",
       "      <td>37607 3 37858 8 38108 14 38359 20 38610 25 388...</td>\n",
       "    </tr>\n",
       "    <tr>\n",
       "      <th>3</th>\n",
       "      <td>000f6bf48.jpg</td>\n",
       "      <td>4</td>\n",
       "      <td>131973 1 132228 4 132483 6 132738 8 132993 11 ...</td>\n",
       "    </tr>\n",
       "    <tr>\n",
       "      <th>4</th>\n",
       "      <td>0014fce06.jpg</td>\n",
       "      <td>3</td>\n",
       "      <td>229501 11 229741 33 229981 55 230221 77 230468...</td>\n",
       "    </tr>\n",
       "  </tbody>\n",
       "</table>\n",
       "</div>"
      ],
      "text/plain": [
       "         ImageId  ClassId                                      EncodedPixels\n",
       "0  0002cc93b.jpg        1  29102 12 29346 24 29602 24 29858 24 30114 24 3...\n",
       "1  0007a71bf.jpg        3  18661 28 18863 82 19091 110 19347 110 19603 11...\n",
       "2  000a4bcdd.jpg        1  37607 3 37858 8 38108 14 38359 20 38610 25 388...\n",
       "3  000f6bf48.jpg        4  131973 1 132228 4 132483 6 132738 8 132993 11 ...\n",
       "4  0014fce06.jpg        3  229501 11 229741 33 229981 55 230221 77 230468..."
      ]
     },
     "execution_count": 5,
     "metadata": {},
     "output_type": "execute_result"
    }
   ],
   "source": [
    "train_df.head(5)"
   ]
  },
  {
   "cell_type": "code",
   "execution_count": 6,
   "metadata": {
    "_cell_guid": "b1076dfc-b9ad-4769-8c92-a6c4dae69d19",
    "_uuid": "8f2839f25d086af736a60e9eeb907d3b93b6e0e5",
    "execution": {
     "iopub.execute_input": "2021-04-13T13:20:05.359941Z",
     "iopub.status.busy": "2021-04-13T13:20:05.359157Z",
     "iopub.status.idle": "2021-04-13T13:20:05.374785Z",
     "shell.execute_reply": "2021-04-13T13:20:05.375659Z"
    },
    "papermill": {
     "duration": 0.045911,
     "end_time": "2021-04-13T13:20:05.375867",
     "exception": false,
     "start_time": "2021-04-13T13:20:05.329956",
     "status": "completed"
    },
    "tags": []
   },
   "outputs": [
    {
     "name": "stdout",
     "output_type": "stream",
     "text": [
      "<class 'pandas.core.frame.DataFrame'>\n",
      "RangeIndex: 7095 entries, 0 to 7094\n",
      "Data columns (total 3 columns):\n",
      " #   Column         Non-Null Count  Dtype \n",
      "---  ------         --------------  ----- \n",
      " 0   ImageId        7095 non-null   object\n",
      " 1   ClassId        7095 non-null   int64 \n",
      " 2   EncodedPixels  7095 non-null   object\n",
      "dtypes: int64(1), object(2)\n",
      "memory usage: 166.4+ KB\n"
     ]
    }
   ],
   "source": [
    "train_df.info()"
   ]
  },
  {
   "cell_type": "code",
   "execution_count": 7,
   "metadata": {
    "_cell_guid": "b1076dfc-b9ad-4769-8c92-a6c4dae69d19",
    "_uuid": "8f2839f25d086af736a60e9eeb907d3b93b6e0e5",
    "execution": {
     "iopub.execute_input": "2021-04-13T13:20:05.436399Z",
     "iopub.status.busy": "2021-04-13T13:20:05.435636Z",
     "iopub.status.idle": "2021-04-13T13:20:05.440560Z",
     "shell.execute_reply": "2021-04-13T13:20:05.441133Z"
    },
    "papermill": {
     "duration": 0.040822,
     "end_time": "2021-04-13T13:20:05.441345",
     "exception": false,
     "start_time": "2021-04-13T13:20:05.400523",
     "status": "completed"
    },
    "tags": []
   },
   "outputs": [
    {
     "data": {
      "text/plain": [
       "[1, 3, 4, 2]"
      ]
     },
     "execution_count": 7,
     "metadata": {},
     "output_type": "execute_result"
    }
   ],
   "source": [
    "list(train_df['ClassId'].unique())"
   ]
  },
  {
   "cell_type": "code",
   "execution_count": 8,
   "metadata": {
    "_cell_guid": "b1076dfc-b9ad-4769-8c92-a6c4dae69d19",
    "_uuid": "8f2839f25d086af736a60e9eeb907d3b93b6e0e5",
    "execution": {
     "iopub.execute_input": "2021-04-13T13:20:05.504176Z",
     "iopub.status.busy": "2021-04-13T13:20:05.503434Z",
     "iopub.status.idle": "2021-04-13T13:20:05.529117Z",
     "shell.execute_reply": "2021-04-13T13:20:05.530160Z"
    },
    "papermill": {
     "duration": 0.062855,
     "end_time": "2021-04-13T13:20:05.530404",
     "exception": false,
     "start_time": "2021-04-13T13:20:05.467549",
     "status": "completed"
    },
    "tags": []
   },
   "outputs": [
    {
     "name": "stdout",
     "output_type": "stream",
     "text": [
      "(6666, 2)\n"
     ]
    },
    {
     "data": {
      "text/html": [
       "<div>\n",
       "<style scoped>\n",
       "    .dataframe tbody tr th:only-of-type {\n",
       "        vertical-align: middle;\n",
       "    }\n",
       "\n",
       "    .dataframe tbody tr th {\n",
       "        vertical-align: top;\n",
       "    }\n",
       "\n",
       "    .dataframe thead th {\n",
       "        text-align: right;\n",
       "    }\n",
       "</style>\n",
       "<table border=\"1\" class=\"dataframe\">\n",
       "  <thead>\n",
       "    <tr style=\"text-align: right;\">\n",
       "      <th></th>\n",
       "      <th>ImageId</th>\n",
       "      <th>Num_ClassId</th>\n",
       "    </tr>\n",
       "  </thead>\n",
       "  <tbody>\n",
       "    <tr>\n",
       "      <th>6253</th>\n",
       "      <td>ef24da2ba.jpg</td>\n",
       "      <td>3</td>\n",
       "    </tr>\n",
       "    <tr>\n",
       "      <th>5740</th>\n",
       "      <td>db4867ee8.jpg</td>\n",
       "      <td>3</td>\n",
       "    </tr>\n",
       "    <tr>\n",
       "      <th>3435</th>\n",
       "      <td>84865746c.jpg</td>\n",
       "      <td>2</td>\n",
       "    </tr>\n",
       "    <tr>\n",
       "      <th>2203</th>\n",
       "      <td>5665ada1b.jpg</td>\n",
       "      <td>2</td>\n",
       "    </tr>\n",
       "    <tr>\n",
       "      <th>6149</th>\n",
       "      <td>eb44ad79d.jpg</td>\n",
       "      <td>2</td>\n",
       "    </tr>\n",
       "  </tbody>\n",
       "</table>\n",
       "</div>"
      ],
      "text/plain": [
       "            ImageId  Num_ClassId\n",
       "6253  ef24da2ba.jpg            3\n",
       "5740  db4867ee8.jpg            3\n",
       "3435  84865746c.jpg            2\n",
       "2203  5665ada1b.jpg            2\n",
       "6149  eb44ad79d.jpg            2"
      ]
     },
     "execution_count": 8,
     "metadata": {},
     "output_type": "execute_result"
    }
   ],
   "source": [
    "mask_count_df = train_df.groupby('ImageId')[\"ClassId\"].count().reset_index().rename(columns = {\"ClassId\":\"Num_ClassId\"})\n",
    "mask_count_df.sort_values('Num_ClassId', ascending=False, inplace=True)\n",
    "print(mask_count_df.shape)\n",
    "mask_count_df.head()"
   ]
  },
  {
   "cell_type": "markdown",
   "metadata": {
    "_cell_guid": "b1076dfc-b9ad-4769-8c92-a6c4dae69d19",
    "_uuid": "8f2839f25d086af736a60e9eeb907d3b93b6e0e5",
    "papermill": {
     "duration": 0.028942,
     "end_time": "2021-04-13T13:20:05.588819",
     "exception": false,
     "start_time": "2021-04-13T13:20:05.559877",
     "status": "completed"
    },
    "tags": []
   },
   "source": [
    "# Keras U-Net"
   ]
  },
  {
   "cell_type": "markdown",
   "metadata": {
    "_cell_guid": "b1076dfc-b9ad-4769-8c92-a6c4dae69d19",
    "_uuid": "8f2839f25d086af736a60e9eeb907d3b93b6e0e5",
    "papermill": {
     "duration": 0.023883,
     "end_time": "2021-04-13T13:20:05.653214",
     "exception": false,
     "start_time": "2021-04-13T13:20:05.629331",
     "status": "completed"
    },
    "tags": []
   },
   "source": [
    "## Utility Functions"
   ]
  },
  {
   "cell_type": "code",
   "execution_count": 9,
   "metadata": {
    "_cell_guid": "b1076dfc-b9ad-4769-8c92-a6c4dae69d19",
    "_uuid": "8f2839f25d086af736a60e9eeb907d3b93b6e0e5",
    "execution": {
     "iopub.execute_input": "2021-04-13T13:20:05.699954Z",
     "iopub.status.busy": "2021-04-13T13:20:05.698209Z",
     "iopub.status.idle": "2021-04-13T13:20:05.700530Z",
     "shell.execute_reply": "2021-04-13T13:20:05.700920Z"
    },
    "papermill": {
     "duration": 0.030319,
     "end_time": "2021-04-13T13:20:05.701064",
     "exception": false,
     "start_time": "2021-04-13T13:20:05.670745",
     "status": "completed"
    },
    "tags": []
   },
   "outputs": [],
   "source": [
    "def mask2rle(img):\n",
    "    '''\n",
    "    img: numpy array, 1 - mask, 0 - background\n",
    "    Returns run length as string formated\n",
    "    '''\n",
    "    pixels= img.T.flatten()\n",
    "    pixels = np.concatenate([[0], pixels, [0]])\n",
    "    runs = np.where(pixels[1:] != pixels[:-1])[0] + 1\n",
    "    runs[1::2] -= runs[::2]\n",
    "    return ' '.join(str(x) for x in runs)\n",
    "\n",
    "def rle2mask(rle, input_shape):\n",
    "    width, height = input_shape[:2]\n",
    "    \n",
    "    mask= np.zeros( width*height ).astype(np.uint8)\n",
    "    \n",
    "    array = np.asarray([int(x) for x in rle.split()])\n",
    "    starts = array[0::2]\n",
    "    starts-=1\n",
    "    lengths = array[1::2]\n",
    "\n",
    "    current_position = 0\n",
    "    for index, start in enumerate(starts):\n",
    "        mask[int(start):int(start+lengths[index])] = 1\n",
    "        current_position += lengths[index]\n",
    "        \n",
    "    return mask.reshape(height, width).T\n",
    "\n",
    "\n",
    "def build_rles(masks):\n",
    "    width, height, depth = masks.shape\n",
    "    \n",
    "    rles = [mask2rle(masks[:, :, i])\n",
    "            for i in range(depth)]\n",
    "    \n",
    "    return rles"
   ]
  },
  {
   "cell_type": "markdown",
   "metadata": {
    "_cell_guid": "b1076dfc-b9ad-4769-8c92-a6c4dae69d19",
    "_uuid": "8f2839f25d086af736a60e9eeb907d3b93b6e0e5",
    "papermill": {
     "duration": 0.017233,
     "end_time": "2021-04-13T13:20:05.735845",
     "exception": false,
     "start_time": "2021-04-13T13:20:05.718612",
     "status": "completed"
    },
    "tags": []
   },
   "source": [
    "## Data Generator"
   ]
  },
  {
   "cell_type": "code",
   "execution_count": 10,
   "metadata": {
    "execution": {
     "iopub.execute_input": "2021-04-13T13:20:05.777440Z",
     "iopub.status.busy": "2021-04-13T13:20:05.776758Z",
     "iopub.status.idle": "2021-04-13T13:20:06.637038Z",
     "shell.execute_reply": "2021-04-13T13:20:06.635975Z"
    },
    "papermill": {
     "duration": 0.883695,
     "end_time": "2021-04-13T13:20:06.637181",
     "exception": false,
     "start_time": "2021-04-13T13:20:05.753486",
     "status": "completed"
    },
    "tags": []
   },
   "outputs": [],
   "source": [
    "from albumentations import (\n",
    "    HorizontalFlip, VerticalFlip, IAAPerspective, ShiftScaleRotate, CLAHE, RandomRotate90,\n",
    "    Transpose, ShiftScaleRotate, Blur, OpticalDistortion, GridDistortion, HueSaturationValue,\n",
    "    IAAAdditiveGaussianNoise, GaussNoise, MotionBlur, MedianBlur, IAAPiecewiseAffine,\n",
    "    IAASharpen, IAAEmboss, RandomContrast, RandomBrightness, Flip, OneOf, Compose, RandomGamma, Rotate,IAAAffine\n",
    ")\n",
    "aug_null = Compose([])\n",
    "aug = Compose([ \n",
    "    Blur(p=0.2, blur_limit=2),\n",
    "    ShiftScaleRotate(shift_limit=0.0625, scale_limit=0.2, rotate_limit=45, p=0.2),\n",
    "    HorizontalFlip(p=0.5),              \n",
    "    #OpticalDistortion(),\n",
    "    #GridDistortion(),\n",
    "    #HueSaturationValue(),\n",
    "    Rotate(limit=5, p=0.3),\n",
    "    VerticalFlip(p=0.5), \n",
    "])"
   ]
  },
  {
   "cell_type": "code",
   "execution_count": 11,
   "metadata": {
    "_cell_guid": "b1076dfc-b9ad-4769-8c92-a6c4dae69d19",
    "_uuid": "8f2839f25d086af736a60e9eeb907d3b93b6e0e5",
    "execution": {
     "iopub.execute_input": "2021-04-13T13:20:06.694441Z",
     "iopub.status.busy": "2021-04-13T13:20:06.692584Z",
     "iopub.status.idle": "2021-04-13T13:20:06.695011Z",
     "shell.execute_reply": "2021-04-13T13:20:06.695419Z"
    },
    "papermill": {
     "duration": 0.040363,
     "end_time": "2021-04-13T13:20:06.695572",
     "exception": false,
     "start_time": "2021-04-13T13:20:06.655209",
     "status": "completed"
    },
    "tags": []
   },
   "outputs": [],
   "source": [
    "class DataGenerator(keras.utils.Sequence):\n",
    "    'Generates data for Keras'\n",
    "    def __init__(self, list_IDs, df, target_df=None, mode='fit',\n",
    "                 base_path='../input/severstal-steel-defect-detection/train_images',\n",
    "                 batch_size=32, dim=(256, 1600), n_channels=1,\n",
    "                 n_classes=4, random_state=2021, shuffle=True,\n",
    "                aug=aug_null):\n",
    "        self.dim = dim\n",
    "        self.batch_size = batch_size\n",
    "        self.df = df\n",
    "        self.mode = mode\n",
    "        self.base_path = base_path\n",
    "        self.target_df = target_df\n",
    "        self.list_IDs = list_IDs\n",
    "        self.n_channels = n_channels\n",
    "        self.n_classes = n_classes\n",
    "        self.shuffle = shuffle\n",
    "        self.random_state = random_state\n",
    "        self.aug = aug\n",
    "        \n",
    "        self.on_epoch_end()\n",
    "\n",
    "    def __len__(self):\n",
    "        'Denotes the number of batches per epoch'\n",
    "        return int(np.floor(len(self.list_IDs) / self.batch_size))\n",
    "\n",
    "    def __getitem__(self, index):\n",
    "        'Generate one batch of data'\n",
    "        # Generate indexes of the batch\n",
    "        indexes = self.indexes[index*self.batch_size:(index+1)*self.batch_size]\n",
    "\n",
    "        # Find list of IDs\n",
    "        list_IDs_batch = [self.list_IDs[k] for k in indexes]\n",
    "        \n",
    "        X = self.__generate_X(list_IDs_batch)\n",
    "        if self.mode == 'fit':\n",
    "            y = self.__generate_y(list_IDs_batch)\n",
    "            #print(np.shape(y))\n",
    "            #print(len(X))\n",
    "            \n",
    "            for img in range(len(X)):\n",
    "                augmented = self.aug(image=X[img], mask=y[img] )\n",
    "                \n",
    "                X[img] = augmented['image']\n",
    "                y[img] = augmented['mask'] \n",
    "            return X, y\n",
    "        \n",
    "        elif self.mode == 'predict':\n",
    "            return X\n",
    "\n",
    "        else:\n",
    "            raise AttributeError('The mode parameter should be set to \"fit\" or \"predict\".')\n",
    "        \n",
    "    def on_epoch_end(self):\n",
    "        'Updates indexes after each epoch'\n",
    "        self.indexes = np.arange(len(self.list_IDs))\n",
    "        if self.shuffle == True:\n",
    "            np.random.seed(self.random_state)\n",
    "            np.random.shuffle(self.indexes)\n",
    "    \n",
    "    def __generate_X(self, list_IDs_batch):\n",
    "        'Generates data containing batch_size samples'\n",
    "        # Initialization\n",
    "        X = np.empty((self.batch_size, *self.dim, self.n_channels))\n",
    "        \n",
    "        # Generate data\n",
    "        for i, ID in enumerate(list_IDs_batch):\n",
    "            im_name = self.df['ImageId'].iloc[ID]\n",
    "            img_path = f\"{self.base_path}/{im_name}\"\n",
    "            img = self.__load_grayscale(img_path)\n",
    "            \n",
    "            # Store samples\n",
    "            X[i,] = img\n",
    "\n",
    "        return X\n",
    "    \n",
    "    def __generate_y(self, list_IDs_batch):\n",
    "        y = np.empty((self.batch_size, *self.dim, self.n_classes), dtype=int)\n",
    "        \n",
    "        for i, ID in enumerate(list_IDs_batch):\n",
    "            #print()\n",
    "            #print(\"i\",i)\n",
    "            #print(\"ID\",ID)\n",
    "            im_name = self.df['ImageId'].iloc[ID]\n",
    "            image_df = self.target_df[self.target_df['ImageId'] == im_name].copy().reset_index()\n",
    "            #print(\"image_df:\",image_df)\n",
    "\n",
    "            masks = np.zeros((*self.dim, self.n_classes))\n",
    "            \n",
    "            for j in range(len(image_df)):\n",
    "                #print(j)\n",
    "                rle = image_df.loc[j,'EncodedPixels']\n",
    "                cls =  image_df.loc[j,'ClassId']\n",
    "                masks[:, :, cls-1] = rle2mask(rle, self.dim)\n",
    "    \n",
    "            y[i, ] = masks\n",
    "\n",
    "        return y\n",
    "    \n",
    "    def __load_grayscale(self, img_path):\n",
    "        img = cv2.imread(img_path, cv2.IMREAD_GRAYSCALE)\n",
    "        img = img.astype(np.float32) / 255.\n",
    "        img = np.expand_dims(img, axis=-1)\n",
    "\n",
    "        return img\n",
    "    \n",
    "    def __load_rgb(self, img_path):\n",
    "        img = cv2.imread(img_path)\n",
    "        img = cv2.cvtColor(img, cv2.COLOR_BGR2RGB)\n",
    "        img = img.astype(np.float32) / 255.\n",
    "\n",
    "        return img"
   ]
  },
  {
   "cell_type": "code",
   "execution_count": 12,
   "metadata": {
    "_cell_guid": "b1076dfc-b9ad-4769-8c92-a6c4dae69d19",
    "_uuid": "8f2839f25d086af736a60e9eeb907d3b93b6e0e5",
    "execution": {
     "iopub.execute_input": "2021-04-13T13:20:06.738201Z",
     "iopub.status.busy": "2021-04-13T13:20:06.737621Z",
     "iopub.status.idle": "2021-04-13T13:20:06.740852Z",
     "shell.execute_reply": "2021-04-13T13:20:06.740434Z"
    },
    "papermill": {
     "duration": 0.027545,
     "end_time": "2021-04-13T13:20:06.740972",
     "exception": false,
     "start_time": "2021-04-13T13:20:06.713427",
     "status": "completed"
    },
    "tags": []
   },
   "outputs": [],
   "source": [
    "BATCH_SIZE = 16\n",
    "\n",
    "train_idx, val_idx = train_test_split(\n",
    "    mask_count_df.index, \n",
    "    random_state=2021, \n",
    "    test_size=0.2\n",
    ")\n",
    "\n",
    "train_generator = DataGenerator(\n",
    "    train_idx, \n",
    "    df=mask_count_df,\n",
    "    target_df=train_df,\n",
    "    batch_size=BATCH_SIZE, \n",
    "    n_classes=4,\n",
    "    aug=aug \n",
    ")\n",
    "\n",
    "val_generator = DataGenerator(\n",
    "    val_idx, \n",
    "    df=mask_count_df,\n",
    "    target_df=train_df,\n",
    "    batch_size=BATCH_SIZE, \n",
    "    n_classes=4\n",
    ")"
   ]
  },
  {
   "cell_type": "markdown",
   "metadata": {
    "_cell_guid": "b1076dfc-b9ad-4769-8c92-a6c4dae69d19",
    "_uuid": "8f2839f25d086af736a60e9eeb907d3b93b6e0e5",
    "papermill": {
     "duration": 0.017927,
     "end_time": "2021-04-13T13:20:06.776813",
     "exception": false,
     "start_time": "2021-04-13T13:20:06.758886",
     "status": "completed"
    },
    "tags": []
   },
   "source": [
    "## Model"
   ]
  },
  {
   "cell_type": "code",
   "execution_count": 13,
   "metadata": {
    "_cell_guid": "b1076dfc-b9ad-4769-8c92-a6c4dae69d19",
    "_uuid": "8f2839f25d086af736a60e9eeb907d3b93b6e0e5",
    "execution": {
     "iopub.execute_input": "2021-04-13T13:20:06.817720Z",
     "iopub.status.busy": "2021-04-13T13:20:06.817118Z",
     "iopub.status.idle": "2021-04-13T13:20:06.821071Z",
     "shell.execute_reply": "2021-04-13T13:20:06.820496Z"
    },
    "papermill": {
     "duration": 0.026362,
     "end_time": "2021-04-13T13:20:06.821185",
     "exception": false,
     "start_time": "2021-04-13T13:20:06.794823",
     "status": "completed"
    },
    "tags": []
   },
   "outputs": [],
   "source": [
    "def dice_coef(y_true, y_pred, smooth=1):\n",
    "    y_true_f = K.flatten(y_true)\n",
    "    y_pred_f = K.flatten(y_pred)\n",
    "    intersection = K.sum(y_true_f * y_pred_f)\n",
    "    return (2. * intersection + smooth) / (K.sum(y_true_f) + K.sum(y_pred_f) + smooth)"
   ]
  },
  {
   "cell_type": "code",
   "execution_count": 14,
   "metadata": {
    "_cell_guid": "b1076dfc-b9ad-4769-8c92-a6c4dae69d19",
    "_uuid": "8f2839f25d086af736a60e9eeb907d3b93b6e0e5",
    "execution": {
     "iopub.execute_input": "2021-04-13T13:20:06.877498Z",
     "iopub.status.busy": "2021-04-13T13:20:06.876723Z",
     "iopub.status.idle": "2021-04-13T13:20:06.879685Z",
     "shell.execute_reply": "2021-04-13T13:20:06.879241Z"
    },
    "papermill": {
     "duration": 0.040079,
     "end_time": "2021-04-13T13:20:06.879808",
     "exception": false,
     "start_time": "2021-04-13T13:20:06.839729",
     "status": "completed"
    },
    "tags": []
   },
   "outputs": [],
   "source": [
    "def build_model(input_shape):\n",
    "    inputs = Input(input_shape)\n",
    "\n",
    "    c1 = Conv2D(8, (3, 3), activation='relu', padding='same') (inputs)\n",
    "    c1 = Conv2D(8, (3, 3), activation='relu', padding='same') (c1)\n",
    "    p1 = MaxPooling2D((2, 2)) (c1)\n",
    "\n",
    "    c2 = Conv2D(16, (3, 3), activation='relu', padding='same') (p1)\n",
    "    c2 = Conv2D(16, (3, 3), activation='relu', padding='same') (c2)\n",
    "    p2 = MaxPooling2D((2, 2)) (c2)\n",
    "\n",
    "    c3 = Conv2D(32, (3, 3), activation='relu', padding='same') (p2)\n",
    "    c3 = Conv2D(32, (3, 3), activation='relu', padding='same') (c3)\n",
    "    p3 = MaxPooling2D((2, 2)) (c3)\n",
    "\n",
    "    c4 = Conv2D(64, (3, 3), activation='relu', padding='same') (p3)\n",
    "    c4 = Conv2D(64, (3, 3), activation='relu', padding='same') (c4)\n",
    "    p4 = MaxPooling2D(pool_size=(2, 2)) (c4)\n",
    "\n",
    "    c5 = Conv2D(64, (3, 3), activation='relu', padding='same') (p4)\n",
    "    c5 = Conv2D(64, (3, 3), activation='relu', padding='same') (c5)\n",
    "    p5 = MaxPooling2D(pool_size=(2, 2)) (c5)\n",
    "\n",
    "    c55 = Conv2D(128, (3, 3), activation='relu', padding='same') (p5)\n",
    "    c55 = Conv2D(128, (3, 3), activation='relu', padding='same') (c55)\n",
    "\n",
    "    u6 = Conv2DTranspose(64, (2, 2), strides=(2, 2), padding='same') (c55)\n",
    "    u6 = concatenate([u6, c5])\n",
    "    c6 = Conv2D(64, (3, 3), activation='relu', padding='same') (u6)\n",
    "    c6 = Conv2D(64, (3, 3), activation='relu', padding='same') (c6)\n",
    "\n",
    "    u71 = Conv2DTranspose(32, (2, 2), strides=(2, 2), padding='same') (c6)\n",
    "    u71 = concatenate([u71, c4])\n",
    "    c71 = Conv2D(32, (3, 3), activation='relu', padding='same') (u71)\n",
    "    c61 = Conv2D(32, (3, 3), activation='relu', padding='same') (c71)\n",
    "\n",
    "    u7 = Conv2DTranspose(32, (2, 2), strides=(2, 2), padding='same') (c61)\n",
    "    u7 = concatenate([u7, c3])\n",
    "    c7 = Conv2D(32, (3, 3), activation='relu', padding='same') (u7)\n",
    "    c7 = Conv2D(32, (3, 3), activation='relu', padding='same') (c7)\n",
    "\n",
    "    u8 = Conv2DTranspose(16, (2, 2), strides=(2, 2), padding='same') (c7)\n",
    "    u8 = concatenate([u8, c2])\n",
    "    c8 = Conv2D(16, (3, 3), activation='relu', padding='same') (u8)\n",
    "    c8 = Conv2D(16, (3, 3), activation='relu', padding='same') (c8)\n",
    "\n",
    "    u9 = Conv2DTranspose(8, (2, 2), strides=(2, 2), padding='same') (c8)\n",
    "    u9 = concatenate([u9, c1], axis=3)\n",
    "    c9 = Conv2D(8, (3, 3), activation='relu', padding='same') (u9)\n",
    "    c9 = Conv2D(8, (3, 3), activation='relu', padding='same') (c9)\n",
    "\n",
    "    outputs = Conv2D(4, (1, 1), activation='sigmoid') (c9)\n",
    "\n",
    "    model = Model(inputs=[inputs], outputs=[outputs])\n",
    "    model.compile(optimizer='adam', loss='binary_crossentropy', metrics=[dice_coef])\n",
    "    \n",
    "    return model"
   ]
  },
  {
   "cell_type": "code",
   "execution_count": 15,
   "metadata": {
    "_cell_guid": "b1076dfc-b9ad-4769-8c92-a6c4dae69d19",
    "_uuid": "8f2839f25d086af736a60e9eeb907d3b93b6e0e5",
    "execution": {
     "iopub.execute_input": "2021-04-13T13:20:06.920154Z",
     "iopub.status.busy": "2021-04-13T13:20:06.919612Z",
     "iopub.status.idle": "2021-04-13T13:20:10.242302Z",
     "shell.execute_reply": "2021-04-13T13:20:10.241044Z"
    },
    "papermill": {
     "duration": 3.344552,
     "end_time": "2021-04-13T13:20:10.242534",
     "exception": false,
     "start_time": "2021-04-13T13:20:06.897982",
     "status": "completed"
    },
    "tags": []
   },
   "outputs": [
    {
     "name": "stdout",
     "output_type": "stream",
     "text": [
      "Model: \"model\"\n",
      "__________________________________________________________________________________________________\n",
      "Layer (type)                    Output Shape         Param #     Connected to                     \n",
      "==================================================================================================\n",
      "input_1 (InputLayer)            [(None, 256, 1600, 1 0                                            \n",
      "__________________________________________________________________________________________________\n",
      "conv2d (Conv2D)                 (None, 256, 1600, 8) 80          input_1[0][0]                    \n",
      "__________________________________________________________________________________________________\n",
      "conv2d_1 (Conv2D)               (None, 256, 1600, 8) 584         conv2d[0][0]                     \n",
      "__________________________________________________________________________________________________\n",
      "max_pooling2d (MaxPooling2D)    (None, 128, 800, 8)  0           conv2d_1[0][0]                   \n",
      "__________________________________________________________________________________________________\n",
      "conv2d_2 (Conv2D)               (None, 128, 800, 16) 1168        max_pooling2d[0][0]              \n",
      "__________________________________________________________________________________________________\n",
      "conv2d_3 (Conv2D)               (None, 128, 800, 16) 2320        conv2d_2[0][0]                   \n",
      "__________________________________________________________________________________________________\n",
      "max_pooling2d_1 (MaxPooling2D)  (None, 64, 400, 16)  0           conv2d_3[0][0]                   \n",
      "__________________________________________________________________________________________________\n",
      "conv2d_4 (Conv2D)               (None, 64, 400, 32)  4640        max_pooling2d_1[0][0]            \n",
      "__________________________________________________________________________________________________\n",
      "conv2d_5 (Conv2D)               (None, 64, 400, 32)  9248        conv2d_4[0][0]                   \n",
      "__________________________________________________________________________________________________\n",
      "max_pooling2d_2 (MaxPooling2D)  (None, 32, 200, 32)  0           conv2d_5[0][0]                   \n",
      "__________________________________________________________________________________________________\n",
      "conv2d_6 (Conv2D)               (None, 32, 200, 64)  18496       max_pooling2d_2[0][0]            \n",
      "__________________________________________________________________________________________________\n",
      "conv2d_7 (Conv2D)               (None, 32, 200, 64)  36928       conv2d_6[0][0]                   \n",
      "__________________________________________________________________________________________________\n",
      "max_pooling2d_3 (MaxPooling2D)  (None, 16, 100, 64)  0           conv2d_7[0][0]                   \n",
      "__________________________________________________________________________________________________\n",
      "conv2d_8 (Conv2D)               (None, 16, 100, 64)  36928       max_pooling2d_3[0][0]            \n",
      "__________________________________________________________________________________________________\n",
      "conv2d_9 (Conv2D)               (None, 16, 100, 64)  36928       conv2d_8[0][0]                   \n",
      "__________________________________________________________________________________________________\n",
      "max_pooling2d_4 (MaxPooling2D)  (None, 8, 50, 64)    0           conv2d_9[0][0]                   \n",
      "__________________________________________________________________________________________________\n",
      "conv2d_10 (Conv2D)              (None, 8, 50, 128)   73856       max_pooling2d_4[0][0]            \n",
      "__________________________________________________________________________________________________\n",
      "conv2d_11 (Conv2D)              (None, 8, 50, 128)   147584      conv2d_10[0][0]                  \n",
      "__________________________________________________________________________________________________\n",
      "conv2d_transpose (Conv2DTranspo (None, 16, 100, 64)  32832       conv2d_11[0][0]                  \n",
      "__________________________________________________________________________________________________\n",
      "concatenate (Concatenate)       (None, 16, 100, 128) 0           conv2d_transpose[0][0]           \n",
      "                                                                 conv2d_9[0][0]                   \n",
      "__________________________________________________________________________________________________\n",
      "conv2d_12 (Conv2D)              (None, 16, 100, 64)  73792       concatenate[0][0]                \n",
      "__________________________________________________________________________________________________\n",
      "conv2d_13 (Conv2D)              (None, 16, 100, 64)  36928       conv2d_12[0][0]                  \n",
      "__________________________________________________________________________________________________\n",
      "conv2d_transpose_1 (Conv2DTrans (None, 32, 200, 32)  8224        conv2d_13[0][0]                  \n",
      "__________________________________________________________________________________________________\n",
      "concatenate_1 (Concatenate)     (None, 32, 200, 96)  0           conv2d_transpose_1[0][0]         \n",
      "                                                                 conv2d_7[0][0]                   \n",
      "__________________________________________________________________________________________________\n",
      "conv2d_14 (Conv2D)              (None, 32, 200, 32)  27680       concatenate_1[0][0]              \n",
      "__________________________________________________________________________________________________\n",
      "conv2d_15 (Conv2D)              (None, 32, 200, 32)  9248        conv2d_14[0][0]                  \n",
      "__________________________________________________________________________________________________\n",
      "conv2d_transpose_2 (Conv2DTrans (None, 64, 400, 32)  4128        conv2d_15[0][0]                  \n",
      "__________________________________________________________________________________________________\n",
      "concatenate_2 (Concatenate)     (None, 64, 400, 64)  0           conv2d_transpose_2[0][0]         \n",
      "                                                                 conv2d_5[0][0]                   \n",
      "__________________________________________________________________________________________________\n",
      "conv2d_16 (Conv2D)              (None, 64, 400, 32)  18464       concatenate_2[0][0]              \n",
      "__________________________________________________________________________________________________\n",
      "conv2d_17 (Conv2D)              (None, 64, 400, 32)  9248        conv2d_16[0][0]                  \n",
      "__________________________________________________________________________________________________\n",
      "conv2d_transpose_3 (Conv2DTrans (None, 128, 800, 16) 2064        conv2d_17[0][0]                  \n",
      "__________________________________________________________________________________________________\n",
      "concatenate_3 (Concatenate)     (None, 128, 800, 32) 0           conv2d_transpose_3[0][0]         \n",
      "                                                                 conv2d_3[0][0]                   \n",
      "__________________________________________________________________________________________________\n",
      "conv2d_18 (Conv2D)              (None, 128, 800, 16) 4624        concatenate_3[0][0]              \n",
      "__________________________________________________________________________________________________\n",
      "conv2d_19 (Conv2D)              (None, 128, 800, 16) 2320        conv2d_18[0][0]                  \n",
      "__________________________________________________________________________________________________\n",
      "conv2d_transpose_4 (Conv2DTrans (None, 256, 1600, 8) 520         conv2d_19[0][0]                  \n",
      "__________________________________________________________________________________________________\n",
      "concatenate_4 (Concatenate)     (None, 256, 1600, 16 0           conv2d_transpose_4[0][0]         \n",
      "                                                                 conv2d_1[0][0]                   \n",
      "__________________________________________________________________________________________________\n",
      "conv2d_20 (Conv2D)              (None, 256, 1600, 8) 1160        concatenate_4[0][0]              \n",
      "__________________________________________________________________________________________________\n",
      "conv2d_21 (Conv2D)              (None, 256, 1600, 8) 584         conv2d_20[0][0]                  \n",
      "__________________________________________________________________________________________________\n",
      "conv2d_22 (Conv2D)              (None, 256, 1600, 4) 36          conv2d_21[0][0]                  \n",
      "==================================================================================================\n",
      "Total params: 600,612\n",
      "Trainable params: 600,612\n",
      "Non-trainable params: 0\n",
      "__________________________________________________________________________________________________\n"
     ]
    }
   ],
   "source": [
    "model = build_model((256, 1600, 1))\n",
    "model.summary()"
   ]
  },
  {
   "cell_type": "code",
   "execution_count": 16,
   "metadata": {
    "_cell_guid": "b1076dfc-b9ad-4769-8c92-a6c4dae69d19",
    "_uuid": "8f2839f25d086af736a60e9eeb907d3b93b6e0e5",
    "execution": {
     "iopub.execute_input": "2021-04-13T13:20:10.288350Z",
     "iopub.status.busy": "2021-04-13T13:20:10.287785Z",
     "iopub.status.idle": "2021-04-13T20:24:28.142606Z",
     "shell.execute_reply": "2021-04-13T20:24:28.142137Z"
    },
    "papermill": {
     "duration": 25457.879338,
     "end_time": "2021-04-13T20:24:28.142739",
     "exception": false,
     "start_time": "2021-04-13T13:20:10.263401",
     "status": "completed"
    },
    "tags": []
   },
   "outputs": [
    {
     "name": "stdout",
     "output_type": "stream",
     "text": [
      "Epoch 1/100\n",
      "333/333 - 307s - loss: 0.0962 - dice_coef: 0.0416 - val_loss: 0.0612 - val_dice_coef: 0.0463\n",
      "\n",
      "Epoch 00001: val_loss improved from inf to 0.06124, saving model to model.h5\n",
      "Epoch 2/100\n",
      "333/333 - 259s - loss: 0.0555 - dice_coef: 0.1088 - val_loss: 0.0513 - val_dice_coef: 0.1273\n",
      "\n",
      "Epoch 00002: val_loss improved from 0.06124 to 0.05127, saving model to model.h5\n",
      "Epoch 3/100\n",
      "333/333 - 260s - loss: 0.0462 - dice_coef: 0.2206 - val_loss: 0.0413 - val_dice_coef: 0.2829\n",
      "\n",
      "Epoch 00003: val_loss improved from 0.05127 to 0.04130, saving model to model.h5\n",
      "Epoch 4/100\n",
      "333/333 - 258s - loss: 0.0425 - dice_coef: 0.2788 - val_loss: 0.0407 - val_dice_coef: 0.3083\n",
      "\n",
      "Epoch 00004: val_loss improved from 0.04130 to 0.04073, saving model to model.h5\n",
      "Epoch 5/100\n",
      "333/333 - 255s - loss: 0.0391 - dice_coef: 0.3259 - val_loss: 0.0373 - val_dice_coef: 0.3711\n",
      "\n",
      "Epoch 00005: val_loss improved from 0.04073 to 0.03726, saving model to model.h5\n",
      "Epoch 6/100\n",
      "333/333 - 255s - loss: 0.0372 - dice_coef: 0.3516 - val_loss: 0.0367 - val_dice_coef: 0.3875\n",
      "\n",
      "Epoch 00006: val_loss improved from 0.03726 to 0.03666, saving model to model.h5\n",
      "Epoch 7/100\n",
      "333/333 - 256s - loss: 0.0364 - dice_coef: 0.3593 - val_loss: 0.0351 - val_dice_coef: 0.3768\n",
      "\n",
      "Epoch 00007: val_loss improved from 0.03666 to 0.03510, saving model to model.h5\n",
      "Epoch 8/100\n",
      "333/333 - 259s - loss: 0.0354 - dice_coef: 0.3736 - val_loss: 0.0344 - val_dice_coef: 0.3690\n",
      "\n",
      "Epoch 00008: val_loss improved from 0.03510 to 0.03439, saving model to model.h5\n",
      "Epoch 9/100\n",
      "333/333 - 257s - loss: 0.0348 - dice_coef: 0.3834 - val_loss: 0.0332 - val_dice_coef: 0.4093\n",
      "\n",
      "Epoch 00009: val_loss improved from 0.03439 to 0.03317, saving model to model.h5\n",
      "Epoch 10/100\n",
      "333/333 - 256s - loss: 0.0340 - dice_coef: 0.3965 - val_loss: 0.0337 - val_dice_coef: 0.4148\n",
      "\n",
      "Epoch 00010: val_loss did not improve from 0.03317\n",
      "Epoch 11/100\n",
      "333/333 - 258s - loss: 0.0340 - dice_coef: 0.3946 - val_loss: 0.0323 - val_dice_coef: 0.4060\n",
      "\n",
      "Epoch 00011: val_loss improved from 0.03317 to 0.03229, saving model to model.h5\n",
      "Epoch 12/100\n",
      "333/333 - 257s - loss: 0.0334 - dice_coef: 0.3985 - val_loss: 0.0345 - val_dice_coef: 0.3943\n",
      "\n",
      "Epoch 00012: val_loss did not improve from 0.03229\n",
      "Epoch 13/100\n",
      "333/333 - 255s - loss: 0.0332 - dice_coef: 0.4020 - val_loss: 0.0330 - val_dice_coef: 0.4179\n",
      "\n",
      "Epoch 00013: val_loss did not improve from 0.03229\n",
      "Epoch 14/100\n",
      "333/333 - 254s - loss: 0.0329 - dice_coef: 0.4040 - val_loss: 0.0320 - val_dice_coef: 0.4249\n",
      "\n",
      "Epoch 00014: val_loss improved from 0.03229 to 0.03196, saving model to model.h5\n",
      "Epoch 15/100\n",
      "333/333 - 254s - loss: 0.0321 - dice_coef: 0.4192 - val_loss: 0.0309 - val_dice_coef: 0.4624\n",
      "\n",
      "Epoch 00015: val_loss improved from 0.03196 to 0.03087, saving model to model.h5\n",
      "Epoch 16/100\n",
      "333/333 - 254s - loss: 0.0311 - dice_coef: 0.4335 - val_loss: 0.0303 - val_dice_coef: 0.4063\n",
      "\n",
      "Epoch 00016: val_loss improved from 0.03087 to 0.03032, saving model to model.h5\n",
      "Epoch 17/100\n",
      "333/333 - 254s - loss: 0.0309 - dice_coef: 0.4394 - val_loss: 0.0309 - val_dice_coef: 0.4317\n",
      "\n",
      "Epoch 00017: val_loss did not improve from 0.03032\n",
      "Epoch 18/100\n",
      "333/333 - 252s - loss: 0.0303 - dice_coef: 0.4485 - val_loss: 0.0274 - val_dice_coef: 0.4856\n",
      "\n",
      "Epoch 00018: val_loss improved from 0.03032 to 0.02738, saving model to model.h5\n",
      "Epoch 19/100\n",
      "333/333 - 254s - loss: 0.0299 - dice_coef: 0.4549 - val_loss: 0.0272 - val_dice_coef: 0.4799\n",
      "\n",
      "Epoch 00019: val_loss improved from 0.02738 to 0.02721, saving model to model.h5\n",
      "Epoch 20/100\n",
      "333/333 - 254s - loss: 0.0289 - dice_coef: 0.4695 - val_loss: 0.0286 - val_dice_coef: 0.4699\n",
      "\n",
      "Epoch 00020: val_loss did not improve from 0.02721\n",
      "Epoch 21/100\n",
      "333/333 - 252s - loss: 0.0289 - dice_coef: 0.4730 - val_loss: 0.0299 - val_dice_coef: 0.4844\n",
      "\n",
      "Epoch 00021: val_loss did not improve from 0.02721\n",
      "Epoch 22/100\n",
      "333/333 - 252s - loss: 0.0290 - dice_coef: 0.4712 - val_loss: 0.0269 - val_dice_coef: 0.4788\n",
      "\n",
      "Epoch 00022: val_loss improved from 0.02721 to 0.02688, saving model to model.h5\n",
      "Epoch 23/100\n",
      "333/333 - 254s - loss: 0.0282 - dice_coef: 0.4819 - val_loss: 0.0273 - val_dice_coef: 0.4882\n",
      "\n",
      "Epoch 00023: val_loss did not improve from 0.02688\n",
      "Epoch 24/100\n",
      "333/333 - 253s - loss: 0.0280 - dice_coef: 0.4902 - val_loss: 0.0270 - val_dice_coef: 0.5006\n",
      "\n",
      "Epoch 00024: val_loss did not improve from 0.02688\n",
      "Epoch 25/100\n",
      "333/333 - 253s - loss: 0.0296 - dice_coef: 0.4636 - val_loss: 0.0288 - val_dice_coef: 0.4806\n",
      "\n",
      "Epoch 00025: val_loss did not improve from 0.02688\n",
      "Epoch 26/100\n",
      "333/333 - 254s - loss: 0.0277 - dice_coef: 0.4917 - val_loss: 0.0257 - val_dice_coef: 0.5369\n",
      "\n",
      "Epoch 00026: val_loss improved from 0.02688 to 0.02567, saving model to model.h5\n",
      "Epoch 27/100\n",
      "333/333 - 253s - loss: 0.0269 - dice_coef: 0.5052 - val_loss: 0.0252 - val_dice_coef: 0.5478\n",
      "\n",
      "Epoch 00027: val_loss improved from 0.02567 to 0.02515, saving model to model.h5\n",
      "Epoch 28/100\n",
      "333/333 - 255s - loss: 0.0268 - dice_coef: 0.5054 - val_loss: 0.0249 - val_dice_coef: 0.5340\n",
      "\n",
      "Epoch 00028: val_loss improved from 0.02515 to 0.02495, saving model to model.h5\n",
      "Epoch 29/100\n",
      "333/333 - 255s - loss: 0.0265 - dice_coef: 0.5102 - val_loss: 0.0255 - val_dice_coef: 0.5198\n",
      "\n",
      "Epoch 00029: val_loss did not improve from 0.02495\n",
      "Epoch 30/100\n",
      "333/333 - 253s - loss: 0.0266 - dice_coef: 0.5091 - val_loss: 0.0271 - val_dice_coef: 0.4832\n",
      "\n",
      "Epoch 00030: val_loss did not improve from 0.02495\n",
      "Epoch 31/100\n",
      "333/333 - 253s - loss: 0.0267 - dice_coef: 0.5078 - val_loss: 0.0261 - val_dice_coef: 0.5079\n",
      "\n",
      "Epoch 00031: val_loss did not improve from 0.02495\n",
      "Epoch 32/100\n",
      "333/333 - 253s - loss: 0.0262 - dice_coef: 0.5156 - val_loss: 0.0258 - val_dice_coef: 0.5470\n",
      "\n",
      "Epoch 00032: val_loss did not improve from 0.02495\n",
      "Epoch 33/100\n",
      "333/333 - 252s - loss: 0.0256 - dice_coef: 0.5221 - val_loss: 0.0238 - val_dice_coef: 0.5475\n",
      "\n",
      "Epoch 00033: val_loss improved from 0.02495 to 0.02378, saving model to model.h5\n",
      "Epoch 34/100\n",
      "333/333 - 253s - loss: 0.0260 - dice_coef: 0.5172 - val_loss: 0.0245 - val_dice_coef: 0.5258\n",
      "\n",
      "Epoch 00034: val_loss did not improve from 0.02378\n",
      "Epoch 35/100\n",
      "333/333 - 255s - loss: 0.0260 - dice_coef: 0.5191 - val_loss: 0.0239 - val_dice_coef: 0.5467\n",
      "\n",
      "Epoch 00035: val_loss did not improve from 0.02378\n",
      "Epoch 36/100\n",
      "333/333 - 254s - loss: 0.0252 - dice_coef: 0.5330 - val_loss: 0.0237 - val_dice_coef: 0.5460\n",
      "\n",
      "Epoch 00036: val_loss improved from 0.02378 to 0.02367, saving model to model.h5\n",
      "Epoch 37/100\n",
      "333/333 - 255s - loss: 0.0252 - dice_coef: 0.5317 - val_loss: 0.0236 - val_dice_coef: 0.5543\n",
      "\n",
      "Epoch 00037: val_loss improved from 0.02367 to 0.02362, saving model to model.h5\n",
      "Epoch 38/100\n",
      "333/333 - 254s - loss: 0.0251 - dice_coef: 0.5333 - val_loss: 0.0236 - val_dice_coef: 0.5576\n",
      "\n",
      "Epoch 00038: val_loss did not improve from 0.02362\n",
      "Epoch 39/100\n",
      "333/333 - 254s - loss: 0.0253 - dice_coef: 0.5279 - val_loss: 0.0240 - val_dice_coef: 0.5453\n",
      "\n",
      "Epoch 00039: val_loss did not improve from 0.02362\n",
      "Epoch 40/100\n",
      "333/333 - 254s - loss: 0.0249 - dice_coef: 0.5347 - val_loss: 0.0257 - val_dice_coef: 0.5234\n",
      "\n",
      "Epoch 00040: val_loss did not improve from 0.02362\n",
      "Epoch 41/100\n",
      "333/333 - 253s - loss: 0.0250 - dice_coef: 0.5320 - val_loss: 0.0233 - val_dice_coef: 0.5520\n",
      "\n",
      "Epoch 00041: val_loss improved from 0.02362 to 0.02332, saving model to model.h5\n",
      "Epoch 42/100\n",
      "333/333 - 253s - loss: 0.0242 - dice_coef: 0.5469 - val_loss: 0.0249 - val_dice_coef: 0.5541\n",
      "\n",
      "Epoch 00042: val_loss did not improve from 0.02332\n",
      "Epoch 43/100\n",
      "333/333 - 254s - loss: 0.0245 - dice_coef: 0.5412 - val_loss: 0.0273 - val_dice_coef: 0.5477\n",
      "\n",
      "Epoch 00043: val_loss did not improve from 0.02332\n",
      "Epoch 44/100\n",
      "333/333 - 253s - loss: 0.0240 - dice_coef: 0.5488 - val_loss: 0.0235 - val_dice_coef: 0.5363\n",
      "\n",
      "Epoch 00044: val_loss did not improve from 0.02332\n",
      "Epoch 45/100\n",
      "333/333 - 254s - loss: 0.0239 - dice_coef: 0.5498 - val_loss: 0.0260 - val_dice_coef: 0.5437\n",
      "\n",
      "Epoch 00045: val_loss did not improve from 0.02332\n",
      "Epoch 46/100\n",
      "333/333 - 255s - loss: 0.0244 - dice_coef: 0.5451 - val_loss: 0.0244 - val_dice_coef: 0.5465\n",
      "\n",
      "Epoch 00046: val_loss did not improve from 0.02332\n",
      "Epoch 47/100\n",
      "333/333 - 254s - loss: 0.0239 - dice_coef: 0.5512 - val_loss: 0.0245 - val_dice_coef: 0.5260\n",
      "\n",
      "Epoch 00047: val_loss did not improve from 0.02332\n",
      "Epoch 48/100\n",
      "333/333 - 253s - loss: 0.0238 - dice_coef: 0.5506 - val_loss: 0.0225 - val_dice_coef: 0.5731\n",
      "\n",
      "Epoch 00048: val_loss improved from 0.02332 to 0.02249, saving model to model.h5\n",
      "Epoch 49/100\n",
      "333/333 - 254s - loss: 0.0237 - dice_coef: 0.5534 - val_loss: 0.0231 - val_dice_coef: 0.5472\n",
      "\n",
      "Epoch 00049: val_loss did not improve from 0.02249\n",
      "Epoch 50/100\n",
      "333/333 - 253s - loss: 0.0243 - dice_coef: 0.5467 - val_loss: 0.0245 - val_dice_coef: 0.5303\n",
      "\n",
      "Epoch 00050: val_loss did not improve from 0.02249\n",
      "Epoch 51/100\n",
      "333/333 - 253s - loss: 0.0232 - dice_coef: 0.5608 - val_loss: 0.0229 - val_dice_coef: 0.5691\n",
      "\n",
      "Epoch 00051: val_loss did not improve from 0.02249\n",
      "Epoch 52/100\n",
      "333/333 - 252s - loss: 0.0237 - dice_coef: 0.5525 - val_loss: 0.0231 - val_dice_coef: 0.5530\n",
      "\n",
      "Epoch 00052: val_loss did not improve from 0.02249\n",
      "Epoch 53/100\n",
      "333/333 - 253s - loss: 0.0232 - dice_coef: 0.5640 - val_loss: 0.0235 - val_dice_coef: 0.5595\n",
      "\n",
      "Epoch 00053: val_loss did not improve from 0.02249\n",
      "Epoch 54/100\n",
      "333/333 - 253s - loss: 0.0230 - dice_coef: 0.5665 - val_loss: 0.0231 - val_dice_coef: 0.5621\n",
      "\n",
      "Epoch 00054: val_loss did not improve from 0.02249\n",
      "Epoch 55/100\n",
      "333/333 - 252s - loss: 0.0226 - dice_coef: 0.5699 - val_loss: 0.0232 - val_dice_coef: 0.5449\n",
      "\n",
      "Epoch 00055: val_loss did not improve from 0.02249\n",
      "Epoch 56/100\n",
      "333/333 - 257s - loss: 0.0227 - dice_coef: 0.5686 - val_loss: 0.0221 - val_dice_coef: 0.5998\n",
      "\n",
      "Epoch 00056: val_loss improved from 0.02249 to 0.02207, saving model to model.h5\n",
      "Epoch 57/100\n",
      "333/333 - 255s - loss: 0.0227 - dice_coef: 0.5711 - val_loss: 0.0218 - val_dice_coef: 0.5845\n",
      "\n",
      "Epoch 00057: val_loss improved from 0.02207 to 0.02176, saving model to model.h5\n",
      "Epoch 58/100\n",
      "333/333 - 255s - loss: 0.0228 - dice_coef: 0.5720 - val_loss: 0.0225 - val_dice_coef: 0.5436\n",
      "\n",
      "Epoch 00058: val_loss did not improve from 0.02176\n",
      "Epoch 59/100\n",
      "333/333 - 254s - loss: 0.0224 - dice_coef: 0.5736 - val_loss: 0.0220 - val_dice_coef: 0.5714\n",
      "\n",
      "Epoch 00059: val_loss did not improve from 0.02176\n",
      "Epoch 60/100\n",
      "333/333 - 254s - loss: 0.0230 - dice_coef: 0.5647 - val_loss: 0.0230 - val_dice_coef: 0.5345\n",
      "\n",
      "Epoch 00060: val_loss did not improve from 0.02176\n",
      "Epoch 61/100\n",
      "333/333 - 256s - loss: 0.0222 - dice_coef: 0.5790 - val_loss: 0.0227 - val_dice_coef: 0.5985\n",
      "\n",
      "Epoch 00061: val_loss did not improve from 0.02176\n",
      "Epoch 62/100\n",
      "333/333 - 258s - loss: 0.0225 - dice_coef: 0.5759 - val_loss: 0.0222 - val_dice_coef: 0.5902\n",
      "\n",
      "Epoch 00062: val_loss did not improve from 0.02176\n",
      "Epoch 63/100\n",
      "333/333 - 259s - loss: 0.0219 - dice_coef: 0.5809 - val_loss: 0.0218 - val_dice_coef: 0.5610\n",
      "\n",
      "Epoch 00063: val_loss did not improve from 0.02176\n",
      "Epoch 64/100\n",
      "333/333 - 258s - loss: 0.0224 - dice_coef: 0.5742 - val_loss: 0.0231 - val_dice_coef: 0.5931\n",
      "\n",
      "Epoch 00064: val_loss did not improve from 0.02176\n",
      "Epoch 65/100\n",
      "333/333 - 255s - loss: 0.0226 - dice_coef: 0.5751 - val_loss: 0.0215 - val_dice_coef: 0.5934\n",
      "\n",
      "Epoch 00065: val_loss improved from 0.02176 to 0.02149, saving model to model.h5\n",
      "Epoch 66/100\n",
      "333/333 - 253s - loss: 0.0219 - dice_coef: 0.5813 - val_loss: 0.0228 - val_dice_coef: 0.5953\n",
      "\n",
      "Epoch 00066: val_loss did not improve from 0.02149\n",
      "Epoch 67/100\n",
      "333/333 - 255s - loss: 0.0221 - dice_coef: 0.5797 - val_loss: 0.0229 - val_dice_coef: 0.5474\n",
      "\n",
      "Epoch 00067: val_loss did not improve from 0.02149\n",
      "Epoch 68/100\n",
      "333/333 - 255s - loss: 0.0217 - dice_coef: 0.5849 - val_loss: 0.0226 - val_dice_coef: 0.5859\n",
      "\n",
      "Epoch 00068: val_loss did not improve from 0.02149\n",
      "Epoch 69/100\n",
      "333/333 - 253s - loss: 0.0221 - dice_coef: 0.5810 - val_loss: 0.0231 - val_dice_coef: 0.5630\n",
      "\n",
      "Epoch 00069: val_loss did not improve from 0.02149\n",
      "Epoch 70/100\n",
      "333/333 - 253s - loss: 0.0213 - dice_coef: 0.5914 - val_loss: 0.0212 - val_dice_coef: 0.5952\n",
      "\n",
      "Epoch 00070: val_loss improved from 0.02149 to 0.02125, saving model to model.h5\n",
      "Epoch 71/100\n",
      "333/333 - 254s - loss: 0.0216 - dice_coef: 0.5898 - val_loss: 0.0217 - val_dice_coef: 0.5761\n",
      "\n",
      "Epoch 00071: val_loss did not improve from 0.02125\n",
      "Epoch 72/100\n",
      "333/333 - 252s - loss: 0.0216 - dice_coef: 0.5868 - val_loss: 0.0214 - val_dice_coef: 0.6014\n",
      "\n",
      "Epoch 00072: val_loss did not improve from 0.02125\n",
      "Epoch 73/100\n",
      "333/333 - 254s - loss: 0.0214 - dice_coef: 0.5912 - val_loss: 0.0230 - val_dice_coef: 0.5799\n",
      "\n",
      "Epoch 00073: val_loss did not improve from 0.02125\n",
      "Epoch 74/100\n",
      "333/333 - 256s - loss: 0.0214 - dice_coef: 0.5912 - val_loss: 0.0225 - val_dice_coef: 0.5977\n",
      "\n",
      "Epoch 00074: val_loss did not improve from 0.02125\n",
      "Epoch 75/100\n",
      "333/333 - 253s - loss: 0.0214 - dice_coef: 0.5920 - val_loss: 0.0214 - val_dice_coef: 0.6175\n",
      "\n",
      "Epoch 00075: val_loss did not improve from 0.02125\n",
      "Epoch 76/100\n",
      "333/333 - 254s - loss: 0.0215 - dice_coef: 0.5887 - val_loss: 0.0226 - val_dice_coef: 0.5711\n",
      "\n",
      "Epoch 00076: val_loss did not improve from 0.02125\n",
      "Epoch 77/100\n",
      "333/333 - 254s - loss: 0.0217 - dice_coef: 0.5891 - val_loss: 0.0213 - val_dice_coef: 0.5899\n",
      "\n",
      "Epoch 00077: val_loss did not improve from 0.02125\n",
      "Epoch 78/100\n",
      "333/333 - 253s - loss: 0.0209 - dice_coef: 0.5982 - val_loss: 0.0216 - val_dice_coef: 0.6042\n",
      "\n",
      "Epoch 00078: val_loss did not improve from 0.02125\n",
      "Epoch 79/100\n",
      "333/333 - 252s - loss: 0.0211 - dice_coef: 0.5976 - val_loss: 0.0212 - val_dice_coef: 0.6110\n",
      "\n",
      "Epoch 00079: val_loss improved from 0.02125 to 0.02124, saving model to model.h5\n",
      "Epoch 80/100\n",
      "333/333 - 254s - loss: 0.0218 - dice_coef: 0.5855 - val_loss: 0.0228 - val_dice_coef: 0.5700\n",
      "\n",
      "Epoch 00080: val_loss did not improve from 0.02124\n",
      "Epoch 81/100\n",
      "333/333 - 252s - loss: 0.0211 - dice_coef: 0.5954 - val_loss: 0.0235 - val_dice_coef: 0.5890\n",
      "\n",
      "Epoch 00081: val_loss did not improve from 0.02124\n",
      "Epoch 82/100\n",
      "333/333 - 252s - loss: 0.0207 - dice_coef: 0.6021 - val_loss: 0.0217 - val_dice_coef: 0.6090\n",
      "\n",
      "Epoch 00082: val_loss did not improve from 0.02124\n",
      "Epoch 83/100\n",
      "333/333 - 254s - loss: 0.0209 - dice_coef: 0.6013 - val_loss: 0.0218 - val_dice_coef: 0.5957\n",
      "\n",
      "Epoch 00083: val_loss did not improve from 0.02124\n",
      "Epoch 84/100\n",
      "333/333 - 252s - loss: 0.0206 - dice_coef: 0.6039 - val_loss: 0.0213 - val_dice_coef: 0.5991\n",
      "\n",
      "Epoch 00084: val_loss did not improve from 0.02124\n",
      "Epoch 85/100\n",
      "333/333 - 252s - loss: 0.0204 - dice_coef: 0.6068 - val_loss: 0.0217 - val_dice_coef: 0.6112\n",
      "\n",
      "Epoch 00085: val_loss did not improve from 0.02124\n",
      "Epoch 86/100\n",
      "333/333 - 251s - loss: 0.0206 - dice_coef: 0.6058 - val_loss: 0.0211 - val_dice_coef: 0.5958\n",
      "\n",
      "Epoch 00086: val_loss improved from 0.02124 to 0.02113, saving model to model.h5\n",
      "Epoch 87/100\n",
      "333/333 - 252s - loss: 0.0208 - dice_coef: 0.5997 - val_loss: 0.0216 - val_dice_coef: 0.6036\n",
      "\n",
      "Epoch 00087: val_loss did not improve from 0.02113\n",
      "Epoch 88/100\n",
      "333/333 - 254s - loss: 0.0203 - dice_coef: 0.6096 - val_loss: 0.0214 - val_dice_coef: 0.6161\n",
      "\n",
      "Epoch 00088: val_loss did not improve from 0.02113\n",
      "Epoch 89/100\n",
      "333/333 - 253s - loss: 0.0206 - dice_coef: 0.6053 - val_loss: 0.0221 - val_dice_coef: 0.6077\n",
      "\n",
      "Epoch 00089: val_loss did not improve from 0.02113\n",
      "Epoch 90/100\n",
      "333/333 - 252s - loss: 0.0204 - dice_coef: 0.6085 - val_loss: 0.0224 - val_dice_coef: 0.6145\n",
      "\n",
      "Epoch 00090: val_loss did not improve from 0.02113\n",
      "Epoch 91/100\n",
      "333/333 - 252s - loss: 0.0204 - dice_coef: 0.6045 - val_loss: 0.0209 - val_dice_coef: 0.5912\n",
      "\n",
      "Epoch 00091: val_loss improved from 0.02113 to 0.02090, saving model to model.h5\n",
      "Epoch 92/100\n",
      "333/333 - 254s - loss: 0.0203 - dice_coef: 0.6088 - val_loss: 0.0220 - val_dice_coef: 0.6372\n",
      "\n",
      "Epoch 00092: val_loss did not improve from 0.02090\n",
      "Epoch 93/100\n",
      "333/333 - 254s - loss: 0.0201 - dice_coef: 0.6117 - val_loss: 0.0209 - val_dice_coef: 0.6002\n",
      "\n",
      "Epoch 00093: val_loss did not improve from 0.02090\n",
      "Epoch 94/100\n",
      "333/333 - 252s - loss: 0.0201 - dice_coef: 0.6130 - val_loss: 0.0208 - val_dice_coef: 0.6205\n",
      "\n",
      "Epoch 00094: val_loss improved from 0.02090 to 0.02078, saving model to model.h5\n",
      "Epoch 95/100\n",
      "333/333 - 252s - loss: 0.0203 - dice_coef: 0.6099 - val_loss: 0.0211 - val_dice_coef: 0.6030\n",
      "\n",
      "Epoch 00095: val_loss did not improve from 0.02078\n",
      "Epoch 96/100\n",
      "333/333 - 252s - loss: 0.0202 - dice_coef: 0.6096 - val_loss: 0.0221 - val_dice_coef: 0.5959\n",
      "\n",
      "Epoch 00096: val_loss did not improve from 0.02078\n",
      "Epoch 97/100\n",
      "333/333 - 252s - loss: 0.0202 - dice_coef: 0.6073 - val_loss: 0.0215 - val_dice_coef: 0.6127\n",
      "\n",
      "Epoch 00097: val_loss did not improve from 0.02078\n",
      "Epoch 98/100\n",
      "333/333 - 253s - loss: 0.0202 - dice_coef: 0.6128 - val_loss: 0.0212 - val_dice_coef: 0.5953\n",
      "\n",
      "Epoch 00098: val_loss did not improve from 0.02078\n",
      "Epoch 99/100\n",
      "333/333 - 252s - loss: 0.0207 - dice_coef: 0.6039 - val_loss: 0.0218 - val_dice_coef: 0.5786\n",
      "\n",
      "Epoch 00099: val_loss did not improve from 0.02078\n",
      "Epoch 100/100\n",
      "333/333 - 253s - loss: 0.0200 - dice_coef: 0.6149 - val_loss: 0.0215 - val_dice_coef: 0.5814\n",
      "\n",
      "Epoch 00100: val_loss did not improve from 0.02078\n"
     ]
    }
   ],
   "source": [
    "mc = ModelCheckpoint(\n",
    "    'model.h5', \n",
    "    monitor='val_loss', \n",
    "    verbose=1, \n",
    "    save_best_only=True, \n",
    "    save_weights_only=False,\n",
    "    mode='auto'\n",
    ")\n",
    "\n",
    "es = EarlyStopping(monitor='val_loss', mode='min', verbose=2, patience=30)\n",
    "\n",
    "history = model.fit(\n",
    "    train_generator,\n",
    "    validation_data=val_generator,\n",
    "    callbacks=[mc,es],\n",
    "    verbose=2, \n",
    "    epochs=100\n",
    ")"
   ]
  },
  {
   "cell_type": "markdown",
   "metadata": {
    "_cell_guid": "b1076dfc-b9ad-4769-8c92-a6c4dae69d19",
    "_uuid": "8f2839f25d086af736a60e9eeb907d3b93b6e0e5",
    "papermill": {
     "duration": 0.068625,
     "end_time": "2021-04-13T20:24:28.283920",
     "exception": false,
     "start_time": "2021-04-13T20:24:28.215295",
     "status": "completed"
    },
    "tags": []
   },
   "source": [
    "## Evaluation"
   ]
  },
  {
   "cell_type": "code",
   "execution_count": 17,
   "metadata": {
    "execution": {
     "iopub.execute_input": "2021-04-13T20:24:28.429777Z",
     "iopub.status.busy": "2021-04-13T20:24:28.429032Z",
     "iopub.status.idle": "2021-04-13T20:24:28.431755Z",
     "shell.execute_reply": "2021-04-13T20:24:28.431174Z"
    },
    "papermill": {
     "duration": 0.07919,
     "end_time": "2021-04-13T20:24:28.431871",
     "exception": false,
     "start_time": "2021-04-13T20:24:28.352681",
     "status": "completed"
    },
    "tags": []
   },
   "outputs": [],
   "source": [
    "def history_plot(model_id, history1):\n",
    "\tplt.figure(figsize=(14,16)) \n",
    "\t# plot loss\n",
    "\tplt.subplot(2, 1, 1)\n",
    "\tplt.title('Cross Entropy Loss - ' + model_id, fontsize = 12)\n",
    "\tplt.plot(history1.history['loss'], color='blue', label='train base')\n",
    "\tplt.plot(history1.history['val_loss'], color='cyan', label='val base')\n",
    "\tplt.xlabel(\"Epochs\",fontsize = 12)\n",
    "\tplt.ylabel(\"Loss\", fontsize = 12)\n",
    "\tplt.legend(loc='upper right')\n",
    "\n",
    "\t# plot accuracy\n",
    "\tplt.subplot(2, 1, 2)\n",
    "\tplt.title('Classification Accuracy ' + model_id, fontsize = 10)\n",
    "\tplt.plot(history1.history['dice_coef'], color='blue', label='train base')\n",
    "\tplt.plot(history1.history['val_dice_coef'], color='cyan', label='val base')\n",
    "\tplt.xlabel(\"Epochs\", fontsize = 12)\n",
    "\tplt.ylabel(\"dice_coef\", fontsize = 12)\n",
    "\tplt.legend(loc='lower right')\n",
    "\n",
    "\tplt.show()"
   ]
  },
  {
   "cell_type": "code",
   "execution_count": 18,
   "metadata": {
    "execution": {
     "iopub.execute_input": "2021-04-13T20:24:28.572928Z",
     "iopub.status.busy": "2021-04-13T20:24:28.572276Z",
     "iopub.status.idle": "2021-04-13T20:24:28.575170Z",
     "shell.execute_reply": "2021-04-13T20:24:28.575622Z"
    },
    "papermill": {
     "duration": 0.0757,
     "end_time": "2021-04-13T20:24:28.575740",
     "exception": false,
     "start_time": "2021-04-13T20:24:28.500040",
     "status": "completed"
    },
    "tags": []
   },
   "outputs": [
    {
     "data": {
      "text/plain": [
       "dict_keys(['loss', 'dice_coef', 'val_loss', 'val_dice_coef'])"
      ]
     },
     "execution_count": 18,
     "metadata": {},
     "output_type": "execute_result"
    }
   ],
   "source": [
    "history.history.keys()"
   ]
  },
  {
   "cell_type": "code",
   "execution_count": 19,
   "metadata": {
    "execution": {
     "iopub.execute_input": "2021-04-13T20:24:28.733463Z",
     "iopub.status.busy": "2021-04-13T20:24:28.732674Z",
     "iopub.status.idle": "2021-04-13T20:24:29.038738Z",
     "shell.execute_reply": "2021-04-13T20:24:29.039156Z"
    },
    "papermill": {
     "duration": 0.394257,
     "end_time": "2021-04-13T20:24:29.039348",
     "exception": false,
     "start_time": "2021-04-13T20:24:28.645091",
     "status": "completed"
    },
    "tags": []
   },
   "outputs": [
    {
     "data": {
      "image/png": "[encoded data removed]",
      "text/plain": [
       "<Figure size 1008x1152 with 2 Axes>"
      ]
     },
     "metadata": {
      "needs_background": "light"
     },
     "output_type": "display_data"
    }
   ],
   "source": [
    "history_plot('UNET Model', history)"
   ]
  },
  {
   "cell_type": "code",
   "execution_count": 20,
   "metadata": {
    "_cell_guid": "b1076dfc-b9ad-4769-8c92-a6c4dae69d19",
    "_uuid": "8f2839f25d086af736a60e9eeb907d3b93b6e0e5",
    "execution": {
     "iopub.execute_input": "2021-04-13T20:24:29.208897Z",
     "iopub.status.busy": "2021-04-13T20:24:29.208032Z",
     "iopub.status.idle": "2021-04-13T20:24:29.286385Z",
     "shell.execute_reply": "2021-04-13T20:24:29.287444Z"
    },
    "papermill": {
     "duration": 0.176054,
     "end_time": "2021-04-13T20:24:29.287671",
     "exception": false,
     "start_time": "2021-04-13T20:24:29.111617",
     "status": "completed"
    },
    "tags": []
   },
   "outputs": [],
   "source": [
    "model.load_weights('model.h5')"
   ]
  },
  {
   "cell_type": "code",
   "execution_count": 21,
   "metadata": {
    "execution": {
     "iopub.execute_input": "2021-04-13T20:24:29.551004Z",
     "iopub.status.busy": "2021-04-13T20:24:29.543648Z",
     "iopub.status.idle": "2021-04-13T20:24:29.699132Z",
     "shell.execute_reply": "2021-04-13T20:24:29.698500Z"
    },
    "papermill": {
     "duration": 0.291451,
     "end_time": "2021-04-13T20:24:29.699320",
     "exception": false,
     "start_time": "2021-04-13T20:24:29.407869",
     "status": "completed"
    },
    "tags": []
   },
   "outputs": [],
   "source": [
    "model.save('severstal-segmentation_unetDataAugLoss.h5', save_format=\"h5\")"
   ]
  },
  {
   "cell_type": "code",
   "execution_count": null,
   "metadata": {
    "papermill": {
     "duration": 0.071525,
     "end_time": "2021-04-13T20:24:29.864159",
     "exception": false,
     "start_time": "2021-04-13T20:24:29.792634",
     "status": "completed"
    },
    "tags": []
   },
   "outputs": [],
   "source": []
  },
  {
   "cell_type": "code",
   "execution_count": null,
   "metadata": {
    "papermill": {
     "duration": 0.070874,
     "end_time": "2021-04-13T20:24:30.006441",
     "exception": false,
     "start_time": "2021-04-13T20:24:29.935567",
     "status": "completed"
    },
    "tags": []
   },
   "outputs": [],
   "source": []
  },
  {
   "cell_type": "code",
   "execution_count": null,
   "metadata": {
    "papermill": {
     "duration": 0.070644,
     "end_time": "2021-04-13T20:24:30.148177",
     "exception": false,
     "start_time": "2021-04-13T20:24:30.077533",
     "status": "completed"
    },
    "tags": []
   },
   "outputs": [],
   "source": []
  }
 ],
 "metadata": {
  "kernelspec": {
   "display_name": "Python 3",
   "language": "python",
   "name": "python3"
  },
  "language_info": {
   "codemirror_mode": {
    "name": "ipython",
    "version": 3
   },
   "file_extension": ".py",
   "mimetype": "text/x-python",
   "name": "python",
   "nbconvert_exporter": "python",
   "pygments_lexer": "ipython3",
   "version": "3.7.9"
  },
  "papermill": {
   "default_parameters": {},
   "duration": 25479.257186,
   "end_time": "2021-04-13T20:24:33.351661",
   "environment_variables": {},
   "exception": null,
   "input_path": "__notebook__.ipynb",
   "output_path": "__notebook__.ipynb",
   "parameters": {},
   "start_time": "2021-04-13T13:19:54.094475",
   "version": "2.2.2"
  }
 },
 "nbformat": 4,
 "nbformat_minor": 4
}
