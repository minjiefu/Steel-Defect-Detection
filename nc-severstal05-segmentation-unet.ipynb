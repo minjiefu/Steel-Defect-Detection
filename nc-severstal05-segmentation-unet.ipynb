{
 "cells": [
  {
   "cell_type": "code",
   "execution_count": 1,
   "metadata": {
    "_cell_guid": "b1076dfc-b9ad-4769-8c92-a6c4dae69d19",
    "_uuid": "8f2839f25d086af736a60e9eeb907d3b93b6e0e5",
    "execution": {
     "iopub.execute_input": "2021-04-13T02:40:48.489333Z",
     "iopub.status.busy": "2021-04-13T02:40:48.488715Z",
     "iopub.status.idle": "2021-04-13T02:40:54.160462Z",
     "shell.execute_reply": "2021-04-13T02:40:54.161096Z"
    },
    "papermill": {
     "duration": 5.692498,
     "end_time": "2021-04-13T02:40:54.161498",
     "exception": false,
     "start_time": "2021-04-13T02:40:48.469000",
     "status": "completed"
    },
    "tags": []
   },
   "outputs": [],
   "source": [
    "import os\n",
    "import gc\n",
    "import cv2\n",
    "from tensorflow import keras\n",
    "from tensorflow.keras import backend as K\n",
    "from tensorflow.keras import layers\n",
    "from tensorflow.keras.preprocessing.image import ImageDataGenerator\n",
    "from tensorflow.keras.models import Model, load_model\n",
    "from tensorflow.keras.layers import Input\n",
    "from tensorflow.keras.layers import Conv2D, Conv2DTranspose\n",
    "from tensorflow.keras.layers import MaxPooling2D\n",
    "from tensorflow.keras.layers import concatenate\n",
    "from tensorflow.keras.optimizers import Adam\n",
    "from tensorflow.keras.callbacks import Callback, ModelCheckpoint, EarlyStopping\n",
    "import matplotlib.pyplot as plt\n",
    "import numpy as np\n",
    "import pandas as pd\n",
    "from tqdm import tqdm\n",
    "from sklearn.model_selection import train_test_split"
   ]
  },
  {
   "cell_type": "markdown",
   "metadata": {
    "_cell_guid": "b1076dfc-b9ad-4769-8c92-a6c4dae69d19",
    "_uuid": "8f2839f25d086af736a60e9eeb907d3b93b6e0e5",
    "papermill": {
     "duration": 0.021272,
     "end_time": "2021-04-13T02:40:54.205638",
     "exception": false,
     "start_time": "2021-04-13T02:40:54.184366",
     "status": "completed"
    },
    "tags": []
   },
   "source": [
    "# load dataframe with train labels"
   ]
  },
  {
   "cell_type": "code",
   "execution_count": 2,
   "metadata": {
    "_cell_guid": "b1076dfc-b9ad-4769-8c92-a6c4dae69d19",
    "_uuid": "8f2839f25d086af736a60e9eeb907d3b93b6e0e5",
    "execution": {
     "iopub.execute_input": "2021-04-13T02:40:54.255496Z",
     "iopub.status.busy": "2021-04-13T02:40:54.254721Z",
     "iopub.status.idle": "2021-04-13T02:40:55.444487Z",
     "shell.execute_reply": "2021-04-13T02:40:55.443524Z"
    },
    "papermill": {
     "duration": 1.217557,
     "end_time": "2021-04-13T02:40:55.444651",
     "exception": false,
     "start_time": "2021-04-13T02:40:54.227094",
     "status": "completed"
    },
    "tags": []
   },
   "outputs": [
    {
     "name": "stdout",
     "output_type": "stream",
     "text": [
      "(7095, 3)\n"
     ]
    }
   ],
   "source": [
    "train_df = pd.read_csv('../input/severstal-steel-defect-detection/train.csv')\n",
    "print(train_df.shape)"
   ]
  },
  {
   "cell_type": "code",
   "execution_count": 3,
   "metadata": {
    "_cell_guid": "b1076dfc-b9ad-4769-8c92-a6c4dae69d19",
    "_uuid": "8f2839f25d086af736a60e9eeb907d3b93b6e0e5",
    "execution": {
     "iopub.execute_input": "2021-04-13T02:40:55.484795Z",
     "iopub.status.busy": "2021-04-13T02:40:55.484038Z",
     "iopub.status.idle": "2021-04-13T02:40:55.491823Z",
     "shell.execute_reply": "2021-04-13T02:40:55.492210Z"
    },
    "papermill": {
     "duration": 0.03409,
     "end_time": "2021-04-13T02:40:55.492331",
     "exception": false,
     "start_time": "2021-04-13T02:40:55.458241",
     "status": "completed"
    },
    "tags": []
   },
   "outputs": [
    {
     "data": {
      "text/html": [
       "<div>\n",
       "<style scoped>\n",
       "    .dataframe tbody tr th:only-of-type {\n",
       "        vertical-align: middle;\n",
       "    }\n",
       "\n",
       "    .dataframe tbody tr th {\n",
       "        vertical-align: top;\n",
       "    }\n",
       "\n",
       "    .dataframe thead th {\n",
       "        text-align: right;\n",
       "    }\n",
       "</style>\n",
       "<table border=\"1\" class=\"dataframe\">\n",
       "  <thead>\n",
       "    <tr style=\"text-align: right;\">\n",
       "      <th></th>\n",
       "      <th>ImageId</th>\n",
       "      <th>ClassId</th>\n",
       "      <th>EncodedPixels</th>\n",
       "    </tr>\n",
       "  </thead>\n",
       "  <tbody>\n",
       "    <tr>\n",
       "      <th>0</th>\n",
       "      <td>0002cc93b.jpg</td>\n",
       "      <td>1</td>\n",
       "      <td>29102 12 29346 24 29602 24 29858 24 30114 24 3...</td>\n",
       "    </tr>\n",
       "    <tr>\n",
       "      <th>1</th>\n",
       "      <td>0007a71bf.jpg</td>\n",
       "      <td>3</td>\n",
       "      <td>18661 28 18863 82 19091 110 19347 110 19603 11...</td>\n",
       "    </tr>\n",
       "    <tr>\n",
       "      <th>2</th>\n",
       "      <td>000a4bcdd.jpg</td>\n",
       "      <td>1</td>\n",
       "      <td>37607 3 37858 8 38108 14 38359 20 38610 25 388...</td>\n",
       "    </tr>\n",
       "    <tr>\n",
       "      <th>3</th>\n",
       "      <td>000f6bf48.jpg</td>\n",
       "      <td>4</td>\n",
       "      <td>131973 1 132228 4 132483 6 132738 8 132993 11 ...</td>\n",
       "    </tr>\n",
       "    <tr>\n",
       "      <th>4</th>\n",
       "      <td>0014fce06.jpg</td>\n",
       "      <td>3</td>\n",
       "      <td>229501 11 229741 33 229981 55 230221 77 230468...</td>\n",
       "    </tr>\n",
       "  </tbody>\n",
       "</table>\n",
       "</div>"
      ],
      "text/plain": [
       "         ImageId  ClassId                                      EncodedPixels\n",
       "0  0002cc93b.jpg        1  29102 12 29346 24 29602 24 29858 24 30114 24 3...\n",
       "1  0007a71bf.jpg        3  18661 28 18863 82 19091 110 19347 110 19603 11...\n",
       "2  000a4bcdd.jpg        1  37607 3 37858 8 38108 14 38359 20 38610 25 388...\n",
       "3  000f6bf48.jpg        4  131973 1 132228 4 132483 6 132738 8 132993 11 ...\n",
       "4  0014fce06.jpg        3  229501 11 229741 33 229981 55 230221 77 230468..."
      ]
     },
     "execution_count": 3,
     "metadata": {},
     "output_type": "execute_result"
    }
   ],
   "source": [
    "train_df.head(5)"
   ]
  },
  {
   "cell_type": "code",
   "execution_count": 4,
   "metadata": {
    "_cell_guid": "b1076dfc-b9ad-4769-8c92-a6c4dae69d19",
    "_uuid": "8f2839f25d086af736a60e9eeb907d3b93b6e0e5",
    "execution": {
     "iopub.execute_input": "2021-04-13T02:40:55.530286Z",
     "iopub.status.busy": "2021-04-13T02:40:55.523459Z",
     "iopub.status.idle": "2021-04-13T02:40:55.533221Z",
     "shell.execute_reply": "2021-04-13T02:40:55.533697Z"
    },
    "papermill": {
     "duration": 0.02854,
     "end_time": "2021-04-13T02:40:55.533819",
     "exception": false,
     "start_time": "2021-04-13T02:40:55.505279",
     "status": "completed"
    },
    "tags": []
   },
   "outputs": [
    {
     "name": "stdout",
     "output_type": "stream",
     "text": [
      "<class 'pandas.core.frame.DataFrame'>\n",
      "RangeIndex: 7095 entries, 0 to 7094\n",
      "Data columns (total 3 columns):\n",
      " #   Column         Non-Null Count  Dtype \n",
      "---  ------         --------------  ----- \n",
      " 0   ImageId        7095 non-null   object\n",
      " 1   ClassId        7095 non-null   int64 \n",
      " 2   EncodedPixels  7095 non-null   object\n",
      "dtypes: int64(1), object(2)\n",
      "memory usage: 166.4+ KB\n"
     ]
    }
   ],
   "source": [
    "train_df.info()"
   ]
  },
  {
   "cell_type": "code",
   "execution_count": 5,
   "metadata": {
    "_cell_guid": "b1076dfc-b9ad-4769-8c92-a6c4dae69d19",
    "_uuid": "8f2839f25d086af736a60e9eeb907d3b93b6e0e5",
    "execution": {
     "iopub.execute_input": "2021-04-13T02:40:55.566131Z",
     "iopub.status.busy": "2021-04-13T02:40:55.565548Z",
     "iopub.status.idle": "2021-04-13T02:40:55.568694Z",
     "shell.execute_reply": "2021-04-13T02:40:55.569086Z"
    },
    "papermill": {
     "duration": 0.021791,
     "end_time": "2021-04-13T02:40:55.569199",
     "exception": false,
     "start_time": "2021-04-13T02:40:55.547408",
     "status": "completed"
    },
    "tags": []
   },
   "outputs": [
    {
     "data": {
      "text/plain": [
       "[1, 3, 4, 2]"
      ]
     },
     "execution_count": 5,
     "metadata": {},
     "output_type": "execute_result"
    }
   ],
   "source": [
    "list(train_df['ClassId'].unique())"
   ]
  },
  {
   "cell_type": "code",
   "execution_count": 6,
   "metadata": {
    "_cell_guid": "b1076dfc-b9ad-4769-8c92-a6c4dae69d19",
    "_uuid": "8f2839f25d086af736a60e9eeb907d3b93b6e0e5",
    "execution": {
     "iopub.execute_input": "2021-04-13T02:40:55.601523Z",
     "iopub.status.busy": "2021-04-13T02:40:55.600765Z",
     "iopub.status.idle": "2021-04-13T02:40:55.617618Z",
     "shell.execute_reply": "2021-04-13T02:40:55.618188Z"
    },
    "papermill": {
     "duration": 0.035482,
     "end_time": "2021-04-13T02:40:55.618342",
     "exception": false,
     "start_time": "2021-04-13T02:40:55.582860",
     "status": "completed"
    },
    "tags": []
   },
   "outputs": [
    {
     "name": "stdout",
     "output_type": "stream",
     "text": [
      "(6666, 2)\n"
     ]
    },
    {
     "data": {
      "text/html": [
       "<div>\n",
       "<style scoped>\n",
       "    .dataframe tbody tr th:only-of-type {\n",
       "        vertical-align: middle;\n",
       "    }\n",
       "\n",
       "    .dataframe tbody tr th {\n",
       "        vertical-align: top;\n",
       "    }\n",
       "\n",
       "    .dataframe thead th {\n",
       "        text-align: right;\n",
       "    }\n",
       "</style>\n",
       "<table border=\"1\" class=\"dataframe\">\n",
       "  <thead>\n",
       "    <tr style=\"text-align: right;\">\n",
       "      <th></th>\n",
       "      <th>ImageId</th>\n",
       "      <th>Num_ClassId</th>\n",
       "    </tr>\n",
       "  </thead>\n",
       "  <tbody>\n",
       "    <tr>\n",
       "      <th>6253</th>\n",
       "      <td>ef24da2ba.jpg</td>\n",
       "      <td>3</td>\n",
       "    </tr>\n",
       "    <tr>\n",
       "      <th>5740</th>\n",
       "      <td>db4867ee8.jpg</td>\n",
       "      <td>3</td>\n",
       "    </tr>\n",
       "    <tr>\n",
       "      <th>3435</th>\n",
       "      <td>84865746c.jpg</td>\n",
       "      <td>2</td>\n",
       "    </tr>\n",
       "    <tr>\n",
       "      <th>2203</th>\n",
       "      <td>5665ada1b.jpg</td>\n",
       "      <td>2</td>\n",
       "    </tr>\n",
       "    <tr>\n",
       "      <th>6149</th>\n",
       "      <td>eb44ad79d.jpg</td>\n",
       "      <td>2</td>\n",
       "    </tr>\n",
       "  </tbody>\n",
       "</table>\n",
       "</div>"
      ],
      "text/plain": [
       "            ImageId  Num_ClassId\n",
       "6253  ef24da2ba.jpg            3\n",
       "5740  db4867ee8.jpg            3\n",
       "3435  84865746c.jpg            2\n",
       "2203  5665ada1b.jpg            2\n",
       "6149  eb44ad79d.jpg            2"
      ]
     },
     "execution_count": 6,
     "metadata": {},
     "output_type": "execute_result"
    }
   ],
   "source": [
    "mask_count_df = train_df.groupby('ImageId')[\"ClassId\"].count().reset_index().rename(columns = {\"ClassId\":\"Num_ClassId\"})\n",
    "mask_count_df.sort_values('Num_ClassId', ascending=False, inplace=True)\n",
    "print(mask_count_df.shape)\n",
    "mask_count_df.head()"
   ]
  },
  {
   "cell_type": "markdown",
   "metadata": {
    "_cell_guid": "b1076dfc-b9ad-4769-8c92-a6c4dae69d19",
    "_uuid": "8f2839f25d086af736a60e9eeb907d3b93b6e0e5",
    "papermill": {
     "duration": 0.014197,
     "end_time": "2021-04-13T02:40:55.647245",
     "exception": false,
     "start_time": "2021-04-13T02:40:55.633048",
     "status": "completed"
    },
    "tags": []
   },
   "source": [
    "# Keras U-Net"
   ]
  },
  {
   "cell_type": "markdown",
   "metadata": {
    "_cell_guid": "b1076dfc-b9ad-4769-8c92-a6c4dae69d19",
    "_uuid": "8f2839f25d086af736a60e9eeb907d3b93b6e0e5",
    "papermill": {
     "duration": 0.014125,
     "end_time": "2021-04-13T02:40:55.676646",
     "exception": false,
     "start_time": "2021-04-13T02:40:55.662521",
     "status": "completed"
    },
    "tags": []
   },
   "source": [
    "## Utility Functions"
   ]
  },
  {
   "cell_type": "code",
   "execution_count": 7,
   "metadata": {
    "_cell_guid": "b1076dfc-b9ad-4769-8c92-a6c4dae69d19",
    "_uuid": "8f2839f25d086af736a60e9eeb907d3b93b6e0e5",
    "execution": {
     "iopub.execute_input": "2021-04-13T02:40:55.714246Z",
     "iopub.status.busy": "2021-04-13T02:40:55.713737Z",
     "iopub.status.idle": "2021-04-13T02:40:55.717335Z",
     "shell.execute_reply": "2021-04-13T02:40:55.716950Z"
    },
    "papermill": {
     "duration": 0.026448,
     "end_time": "2021-04-13T02:40:55.717463",
     "exception": false,
     "start_time": "2021-04-13T02:40:55.691015",
     "status": "completed"
    },
    "tags": []
   },
   "outputs": [],
   "source": [
    "def mask2rle(img):\n",
    "    '''\n",
    "    img: numpy array, 1 - mask, 0 - background\n",
    "    Returns run length as string formated\n",
    "    '''\n",
    "    pixels= img.T.flatten()\n",
    "    pixels = np.concatenate([[0], pixels, [0]])\n",
    "    runs = np.where(pixels[1:] != pixels[:-1])[0] + 1\n",
    "    runs[1::2] -= runs[::2]\n",
    "    return ' '.join(str(x) for x in runs)\n",
    "\n",
    "def rle2mask(rle, input_shape):\n",
    "    width, height = input_shape[:2]\n",
    "    \n",
    "    mask= np.zeros( width*height ).astype(np.uint8)\n",
    "    \n",
    "    array = np.asarray([int(x) for x in rle.split()])\n",
    "    starts = array[0::2]\n",
    "    starts-=1\n",
    "    lengths = array[1::2]\n",
    "\n",
    "    current_position = 0\n",
    "    for index, start in enumerate(starts):\n",
    "        mask[int(start):int(start+lengths[index])] = 1\n",
    "        current_position += lengths[index]\n",
    "        \n",
    "    return mask.reshape(height, width).T\n",
    "\n",
    "\n",
    "def build_rles(masks):\n",
    "    width, height, depth = masks.shape\n",
    "    \n",
    "    rles = [mask2rle(masks[:, :, i])\n",
    "            for i in range(depth)]\n",
    "    \n",
    "    return rles"
   ]
  },
  {
   "cell_type": "markdown",
   "metadata": {
    "_cell_guid": "b1076dfc-b9ad-4769-8c92-a6c4dae69d19",
    "_uuid": "8f2839f25d086af736a60e9eeb907d3b93b6e0e5",
    "papermill": {
     "duration": 0.014297,
     "end_time": "2021-04-13T02:40:55.746306",
     "exception": false,
     "start_time": "2021-04-13T02:40:55.732009",
     "status": "completed"
    },
    "tags": []
   },
   "source": [
    "## Data Generator"
   ]
  },
  {
   "cell_type": "code",
   "execution_count": 8,
   "metadata": {
    "_cell_guid": "b1076dfc-b9ad-4769-8c92-a6c4dae69d19",
    "_uuid": "8f2839f25d086af736a60e9eeb907d3b93b6e0e5",
    "execution": {
     "iopub.execute_input": "2021-04-13T02:40:55.793270Z",
     "iopub.status.busy": "2021-04-13T02:40:55.787912Z",
     "iopub.status.idle": "2021-04-13T02:40:55.795836Z",
     "shell.execute_reply": "2021-04-13T02:40:55.795397Z"
    },
    "papermill": {
     "duration": 0.035183,
     "end_time": "2021-04-13T02:40:55.795943",
     "exception": false,
     "start_time": "2021-04-13T02:40:55.760760",
     "status": "completed"
    },
    "tags": []
   },
   "outputs": [],
   "source": [
    "class DataGenerator(keras.utils.Sequence):\n",
    "    'Generates data for Keras'\n",
    "    def __init__(self, list_IDs, df, target_df=None, mode='fit',\n",
    "                 base_path='../input/severstal-steel-defect-detection/train_images',\n",
    "                 batch_size=32, dim=(256, 1600), n_channels=1,\n",
    "                 n_classes=4, random_state=2021, shuffle=True):\n",
    "        self.dim = dim\n",
    "        self.batch_size = batch_size\n",
    "        self.df = df\n",
    "        self.mode = mode\n",
    "        self.base_path = base_path\n",
    "        self.target_df = target_df\n",
    "        self.list_IDs = list_IDs\n",
    "        self.n_channels = n_channels\n",
    "        self.n_classes = n_classes\n",
    "        self.shuffle = shuffle\n",
    "        self.random_state = random_state\n",
    "        \n",
    "        self.on_epoch_end()\n",
    "\n",
    "    def __len__(self):\n",
    "        'Denotes the number of batches per epoch'\n",
    "        return int(np.floor(len(self.list_IDs) / self.batch_size))\n",
    "\n",
    "    def __getitem__(self, index):\n",
    "        'Generate one batch of data'\n",
    "        # Generate indexes of the batch\n",
    "        indexes = self.indexes[index*self.batch_size:(index+1)*self.batch_size]\n",
    "\n",
    "        # Find list of IDs\n",
    "        list_IDs_batch = [self.list_IDs[k] for k in indexes]\n",
    "        \n",
    "        X = self.__generate_X(list_IDs_batch)\n",
    "        \n",
    "        if self.mode == 'fit':\n",
    "            y = self.__generate_y(list_IDs_batch)\n",
    "            return X, y\n",
    "        \n",
    "        elif self.mode == 'predict':\n",
    "            return X\n",
    "\n",
    "        else:\n",
    "            raise AttributeError('The mode parameter should be set to \"fit\" or \"predict\".')\n",
    "        \n",
    "    def on_epoch_end(self):\n",
    "        'Updates indexes after each epoch'\n",
    "        self.indexes = np.arange(len(self.list_IDs))\n",
    "        if self.shuffle == True:\n",
    "            np.random.seed(self.random_state)\n",
    "            np.random.shuffle(self.indexes)\n",
    "    \n",
    "    def __generate_X(self, list_IDs_batch):\n",
    "        'Generates data containing batch_size samples'\n",
    "        # Initialization\n",
    "        X = np.empty((self.batch_size, *self.dim, self.n_channels))\n",
    "        \n",
    "        # Generate data\n",
    "        for i, ID in enumerate(list_IDs_batch):\n",
    "            im_name = self.df['ImageId'].iloc[ID]\n",
    "            img_path = f\"{self.base_path}/{im_name}\"\n",
    "            img = self.__load_grayscale(img_path)\n",
    "            \n",
    "            # Store samples\n",
    "            X[i,] = img\n",
    "\n",
    "        return X\n",
    "    \n",
    "    def __generate_y(self, list_IDs_batch):\n",
    "        y = np.empty((self.batch_size, *self.dim, self.n_classes), dtype=int)\n",
    "        \n",
    "        for i, ID in enumerate(list_IDs_batch):\n",
    "            #print()\n",
    "            #print(\"i\",i)\n",
    "            #print(\"ID\",ID)\n",
    "            im_name = self.df['ImageId'].iloc[ID]\n",
    "            image_df = self.target_df[self.target_df['ImageId'] == im_name].copy().reset_index()\n",
    "            #print(\"image_df:\",image_df)\n",
    "\n",
    "            masks = np.zeros((*self.dim, self.n_classes))\n",
    "            \n",
    "            for j in range(len(image_df)):\n",
    "                #print(j)\n",
    "                rle = image_df.loc[j,'EncodedPixels']\n",
    "                cls =  image_df.loc[j,'ClassId']\n",
    "                masks[:, :, cls-1] = rle2mask(rle, self.dim)\n",
    "    \n",
    "            y[i, ] = masks\n",
    "\n",
    "        return y\n",
    "    \n",
    "    def __load_grayscale(self, img_path):\n",
    "        img = cv2.imread(img_path, cv2.IMREAD_GRAYSCALE)\n",
    "        img = img.astype(np.float32) / 255.\n",
    "        img = np.expand_dims(img, axis=-1)\n",
    "\n",
    "        return img\n",
    "    \n",
    "    def __load_rgb(self, img_path):\n",
    "        img = cv2.imread(img_path)\n",
    "        img = cv2.cvtColor(img, cv2.COLOR_BGR2RGB)\n",
    "        img = img.astype(np.float32) / 255.\n",
    "\n",
    "        return img"
   ]
  },
  {
   "cell_type": "code",
   "execution_count": 9,
   "metadata": {
    "_cell_guid": "b1076dfc-b9ad-4769-8c92-a6c4dae69d19",
    "_uuid": "8f2839f25d086af736a60e9eeb907d3b93b6e0e5",
    "execution": {
     "iopub.execute_input": "2021-04-13T02:40:55.831033Z",
     "iopub.status.busy": "2021-04-13T02:40:55.830395Z",
     "iopub.status.idle": "2021-04-13T02:40:55.833301Z",
     "shell.execute_reply": "2021-04-13T02:40:55.833712Z"
    },
    "papermill": {
     "duration": 0.023478,
     "end_time": "2021-04-13T02:40:55.833830",
     "exception": false,
     "start_time": "2021-04-13T02:40:55.810352",
     "status": "completed"
    },
    "tags": []
   },
   "outputs": [],
   "source": [
    "BATCH_SIZE = 16\n",
    "\n",
    "train_idx, val_idx = train_test_split(\n",
    "    mask_count_df.index, \n",
    "    random_state=2021, \n",
    "    test_size=0.15\n",
    ")\n",
    "\n",
    "train_generator = DataGenerator(\n",
    "    train_idx, \n",
    "    df=mask_count_df,\n",
    "    target_df=train_df,\n",
    "    batch_size=BATCH_SIZE, \n",
    "    n_classes=4\n",
    ")\n",
    "\n",
    "val_generator = DataGenerator(\n",
    "    val_idx, \n",
    "    df=mask_count_df,\n",
    "    target_df=train_df,\n",
    "    batch_size=BATCH_SIZE, \n",
    "    n_classes=4\n",
    ")"
   ]
  },
  {
   "cell_type": "markdown",
   "metadata": {
    "_cell_guid": "b1076dfc-b9ad-4769-8c92-a6c4dae69d19",
    "_uuid": "8f2839f25d086af736a60e9eeb907d3b93b6e0e5",
    "papermill": {
     "duration": 0.014453,
     "end_time": "2021-04-13T02:40:55.862850",
     "exception": false,
     "start_time": "2021-04-13T02:40:55.848397",
     "status": "completed"
    },
    "tags": []
   },
   "source": [
    "## Model"
   ]
  },
  {
   "cell_type": "code",
   "execution_count": 10,
   "metadata": {
    "_cell_guid": "b1076dfc-b9ad-4769-8c92-a6c4dae69d19",
    "_uuid": "8f2839f25d086af736a60e9eeb907d3b93b6e0e5",
    "execution": {
     "iopub.execute_input": "2021-04-13T02:40:55.896719Z",
     "iopub.status.busy": "2021-04-13T02:40:55.896182Z",
     "iopub.status.idle": "2021-04-13T02:40:55.900052Z",
     "shell.execute_reply": "2021-04-13T02:40:55.899611Z"
    },
    "papermill": {
     "duration": 0.022588,
     "end_time": "2021-04-13T02:40:55.900151",
     "exception": false,
     "start_time": "2021-04-13T02:40:55.877563",
     "status": "completed"
    },
    "tags": []
   },
   "outputs": [],
   "source": [
    "def dice_coef(y_true, y_pred, smooth=1):\n",
    "    y_true_f = K.flatten(y_true)\n",
    "    y_pred_f = K.flatten(y_pred)\n",
    "    intersection = K.sum(y_true_f * y_pred_f)\n",
    "    return (2. * intersection + smooth) / (K.sum(y_true_f) + K.sum(y_pred_f) + smooth)"
   ]
  },
  {
   "cell_type": "code",
   "execution_count": 11,
   "metadata": {
    "_cell_guid": "b1076dfc-b9ad-4769-8c92-a6c4dae69d19",
    "_uuid": "8f2839f25d086af736a60e9eeb907d3b93b6e0e5",
    "execution": {
     "iopub.execute_input": "2021-04-13T02:40:55.948352Z",
     "iopub.status.busy": "2021-04-13T02:40:55.947801Z",
     "iopub.status.idle": "2021-04-13T02:40:55.950947Z",
     "shell.execute_reply": "2021-04-13T02:40:55.950504Z"
    },
    "papermill": {
     "duration": 0.036043,
     "end_time": "2021-04-13T02:40:55.951042",
     "exception": false,
     "start_time": "2021-04-13T02:40:55.914999",
     "status": "completed"
    },
    "tags": []
   },
   "outputs": [],
   "source": [
    "def build_model(input_shape):\n",
    "    inputs = Input(input_shape)\n",
    "\n",
    "    c1 = Conv2D(8, (3, 3), activation='relu', padding='same') (inputs)\n",
    "    c1 = Conv2D(8, (3, 3), activation='relu', padding='same') (c1)\n",
    "    p1 = MaxPooling2D((2, 2)) (c1)\n",
    "\n",
    "    c2 = Conv2D(16, (3, 3), activation='relu', padding='same') (p1)\n",
    "    c2 = Conv2D(16, (3, 3), activation='relu', padding='same') (c2)\n",
    "    p2 = MaxPooling2D((2, 2)) (c2)\n",
    "\n",
    "    c3 = Conv2D(32, (3, 3), activation='relu', padding='same') (p2)\n",
    "    c3 = Conv2D(32, (3, 3), activation='relu', padding='same') (c3)\n",
    "    p3 = MaxPooling2D((2, 2)) (c3)\n",
    "\n",
    "    c4 = Conv2D(64, (3, 3), activation='relu', padding='same') (p3)\n",
    "    c4 = Conv2D(64, (3, 3), activation='relu', padding='same') (c4)\n",
    "    p4 = MaxPooling2D(pool_size=(2, 2)) (c4)\n",
    "\n",
    "    c5 = Conv2D(64, (3, 3), activation='relu', padding='same') (p4)\n",
    "    c5 = Conv2D(64, (3, 3), activation='relu', padding='same') (c5)\n",
    "    p5 = MaxPooling2D(pool_size=(2, 2)) (c5)\n",
    "\n",
    "    c55 = Conv2D(128, (3, 3), activation='relu', padding='same') (p5)\n",
    "    c55 = Conv2D(128, (3, 3), activation='relu', padding='same') (c55)\n",
    "\n",
    "    u6 = Conv2DTranspose(64, (2, 2), strides=(2, 2), padding='same') (c55)\n",
    "    u6 = concatenate([u6, c5])\n",
    "    c6 = Conv2D(64, (3, 3), activation='relu', padding='same') (u6)\n",
    "    c6 = Conv2D(64, (3, 3), activation='relu', padding='same') (c6)\n",
    "\n",
    "    u71 = Conv2DTranspose(32, (2, 2), strides=(2, 2), padding='same') (c6)\n",
    "    u71 = concatenate([u71, c4])\n",
    "    c71 = Conv2D(32, (3, 3), activation='relu', padding='same') (u71)\n",
    "    c61 = Conv2D(32, (3, 3), activation='relu', padding='same') (c71)\n",
    "\n",
    "    u7 = Conv2DTranspose(32, (2, 2), strides=(2, 2), padding='same') (c61)\n",
    "    u7 = concatenate([u7, c3])\n",
    "    c7 = Conv2D(32, (3, 3), activation='relu', padding='same') (u7)\n",
    "    c7 = Conv2D(32, (3, 3), activation='relu', padding='same') (c7)\n",
    "\n",
    "    u8 = Conv2DTranspose(16, (2, 2), strides=(2, 2), padding='same') (c7)\n",
    "    u8 = concatenate([u8, c2])\n",
    "    c8 = Conv2D(16, (3, 3), activation='relu', padding='same') (u8)\n",
    "    c8 = Conv2D(16, (3, 3), activation='relu', padding='same') (c8)\n",
    "\n",
    "    u9 = Conv2DTranspose(8, (2, 2), strides=(2, 2), padding='same') (c8)\n",
    "    u9 = concatenate([u9, c1], axis=3)\n",
    "    c9 = Conv2D(8, (3, 3), activation='relu', padding='same') (u9)\n",
    "    c9 = Conv2D(8, (3, 3), activation='relu', padding='same') (c9)\n",
    "\n",
    "    outputs = Conv2D(4, (1, 1), activation='sigmoid') (c9)\n",
    "\n",
    "    model = Model(inputs=[inputs], outputs=[outputs])\n",
    "    model.compile(optimizer='adam', loss='binary_crossentropy', metrics=[dice_coef])\n",
    "    \n",
    "    return model"
   ]
  },
  {
   "cell_type": "code",
   "execution_count": 12,
   "metadata": {
    "_cell_guid": "b1076dfc-b9ad-4769-8c92-a6c4dae69d19",
    "_uuid": "8f2839f25d086af736a60e9eeb907d3b93b6e0e5",
    "execution": {
     "iopub.execute_input": "2021-04-13T02:40:55.984152Z",
     "iopub.status.busy": "2021-04-13T02:40:55.983660Z",
     "iopub.status.idle": "2021-04-13T02:40:59.109524Z",
     "shell.execute_reply": "2021-04-13T02:40:59.108568Z"
    },
    "papermill": {
     "duration": 3.143933,
     "end_time": "2021-04-13T02:40:59.109755",
     "exception": false,
     "start_time": "2021-04-13T02:40:55.965822",
     "status": "completed"
    },
    "tags": []
   },
   "outputs": [
    {
     "name": "stdout",
     "output_type": "stream",
     "text": [
      "Model: \"model\"\n",
      "__________________________________________________________________________________________________\n",
      "Layer (type)                    Output Shape         Param #     Connected to                     \n",
      "==================================================================================================\n",
      "input_1 (InputLayer)            [(None, 256, 1600, 1 0                                            \n",
      "__________________________________________________________________________________________________\n",
      "conv2d (Conv2D)                 (None, 256, 1600, 8) 80          input_1[0][0]                    \n",
      "__________________________________________________________________________________________________\n",
      "conv2d_1 (Conv2D)               (None, 256, 1600, 8) 584         conv2d[0][0]                     \n",
      "__________________________________________________________________________________________________\n",
      "max_pooling2d (MaxPooling2D)    (None, 128, 800, 8)  0           conv2d_1[0][0]                   \n",
      "__________________________________________________________________________________________________\n",
      "conv2d_2 (Conv2D)               (None, 128, 800, 16) 1168        max_pooling2d[0][0]              \n",
      "__________________________________________________________________________________________________\n",
      "conv2d_3 (Conv2D)               (None, 128, 800, 16) 2320        conv2d_2[0][0]                   \n",
      "__________________________________________________________________________________________________\n",
      "max_pooling2d_1 (MaxPooling2D)  (None, 64, 400, 16)  0           conv2d_3[0][0]                   \n",
      "__________________________________________________________________________________________________\n",
      "conv2d_4 (Conv2D)               (None, 64, 400, 32)  4640        max_pooling2d_1[0][0]            \n",
      "__________________________________________________________________________________________________\n",
      "conv2d_5 (Conv2D)               (None, 64, 400, 32)  9248        conv2d_4[0][0]                   \n",
      "__________________________________________________________________________________________________\n",
      "max_pooling2d_2 (MaxPooling2D)  (None, 32, 200, 32)  0           conv2d_5[0][0]                   \n",
      "__________________________________________________________________________________________________\n",
      "conv2d_6 (Conv2D)               (None, 32, 200, 64)  18496       max_pooling2d_2[0][0]            \n",
      "__________________________________________________________________________________________________\n",
      "conv2d_7 (Conv2D)               (None, 32, 200, 64)  36928       conv2d_6[0][0]                   \n",
      "__________________________________________________________________________________________________\n",
      "max_pooling2d_3 (MaxPooling2D)  (None, 16, 100, 64)  0           conv2d_7[0][0]                   \n",
      "__________________________________________________________________________________________________\n",
      "conv2d_8 (Conv2D)               (None, 16, 100, 64)  36928       max_pooling2d_3[0][0]            \n",
      "__________________________________________________________________________________________________\n",
      "conv2d_9 (Conv2D)               (None, 16, 100, 64)  36928       conv2d_8[0][0]                   \n",
      "__________________________________________________________________________________________________\n",
      "max_pooling2d_4 (MaxPooling2D)  (None, 8, 50, 64)    0           conv2d_9[0][0]                   \n",
      "__________________________________________________________________________________________________\n",
      "conv2d_10 (Conv2D)              (None, 8, 50, 128)   73856       max_pooling2d_4[0][0]            \n",
      "__________________________________________________________________________________________________\n",
      "conv2d_11 (Conv2D)              (None, 8, 50, 128)   147584      conv2d_10[0][0]                  \n",
      "__________________________________________________________________________________________________\n",
      "conv2d_transpose (Conv2DTranspo (None, 16, 100, 64)  32832       conv2d_11[0][0]                  \n",
      "__________________________________________________________________________________________________\n",
      "concatenate (Concatenate)       (None, 16, 100, 128) 0           conv2d_transpose[0][0]           \n",
      "                                                                 conv2d_9[0][0]                   \n",
      "__________________________________________________________________________________________________\n",
      "conv2d_12 (Conv2D)              (None, 16, 100, 64)  73792       concatenate[0][0]                \n",
      "__________________________________________________________________________________________________\n",
      "conv2d_13 (Conv2D)              (None, 16, 100, 64)  36928       conv2d_12[0][0]                  \n",
      "__________________________________________________________________________________________________\n",
      "conv2d_transpose_1 (Conv2DTrans (None, 32, 200, 32)  8224        conv2d_13[0][0]                  \n",
      "__________________________________________________________________________________________________\n",
      "concatenate_1 (Concatenate)     (None, 32, 200, 96)  0           conv2d_transpose_1[0][0]         \n",
      "                                                                 conv2d_7[0][0]                   \n",
      "__________________________________________________________________________________________________\n",
      "conv2d_14 (Conv2D)              (None, 32, 200, 32)  27680       concatenate_1[0][0]              \n",
      "__________________________________________________________________________________________________\n",
      "conv2d_15 (Conv2D)              (None, 32, 200, 32)  9248        conv2d_14[0][0]                  \n",
      "__________________________________________________________________________________________________\n",
      "conv2d_transpose_2 (Conv2DTrans (None, 64, 400, 32)  4128        conv2d_15[0][0]                  \n",
      "__________________________________________________________________________________________________\n",
      "concatenate_2 (Concatenate)     (None, 64, 400, 64)  0           conv2d_transpose_2[0][0]         \n",
      "                                                                 conv2d_5[0][0]                   \n",
      "__________________________________________________________________________________________________\n",
      "conv2d_16 (Conv2D)              (None, 64, 400, 32)  18464       concatenate_2[0][0]              \n",
      "__________________________________________________________________________________________________\n",
      "conv2d_17 (Conv2D)              (None, 64, 400, 32)  9248        conv2d_16[0][0]                  \n",
      "__________________________________________________________________________________________________\n",
      "conv2d_transpose_3 (Conv2DTrans (None, 128, 800, 16) 2064        conv2d_17[0][0]                  \n",
      "__________________________________________________________________________________________________\n",
      "concatenate_3 (Concatenate)     (None, 128, 800, 32) 0           conv2d_transpose_3[0][0]         \n",
      "                                                                 conv2d_3[0][0]                   \n",
      "__________________________________________________________________________________________________\n",
      "conv2d_18 (Conv2D)              (None, 128, 800, 16) 4624        concatenate_3[0][0]              \n",
      "__________________________________________________________________________________________________\n",
      "conv2d_19 (Conv2D)              (None, 128, 800, 16) 2320        conv2d_18[0][0]                  \n",
      "__________________________________________________________________________________________________\n",
      "conv2d_transpose_4 (Conv2DTrans (None, 256, 1600, 8) 520         conv2d_19[0][0]                  \n",
      "__________________________________________________________________________________________________\n",
      "concatenate_4 (Concatenate)     (None, 256, 1600, 16 0           conv2d_transpose_4[0][0]         \n",
      "                                                                 conv2d_1[0][0]                   \n",
      "__________________________________________________________________________________________________\n",
      "conv2d_20 (Conv2D)              (None, 256, 1600, 8) 1160        concatenate_4[0][0]              \n",
      "__________________________________________________________________________________________________\n",
      "conv2d_21 (Conv2D)              (None, 256, 1600, 8) 584         conv2d_20[0][0]                  \n",
      "__________________________________________________________________________________________________\n",
      "conv2d_22 (Conv2D)              (None, 256, 1600, 4) 36          conv2d_21[0][0]                  \n",
      "==================================================================================================\n",
      "Total params: 600,612\n",
      "Trainable params: 600,612\n",
      "Non-trainable params: 0\n",
      "__________________________________________________________________________________________________\n"
     ]
    }
   ],
   "source": [
    "model = build_model((256, 1600, 1))\n",
    "model.summary()"
   ]
  },
  {
   "cell_type": "markdown",
   "metadata": {
    "_cell_guid": "b1076dfc-b9ad-4769-8c92-a6c4dae69d19",
    "_uuid": "8f2839f25d086af736a60e9eeb907d3b93b6e0e5",
    "papermill": {
     "duration": 0.01543,
     "end_time": "2021-04-13T02:40:59.145233",
     "exception": false,
     "start_time": "2021-04-13T02:40:59.129803",
     "status": "completed"
    },
    "tags": []
   },
   "source": [
    "## Unet Model training"
   ]
  },
  {
   "cell_type": "code",
   "execution_count": 13,
   "metadata": {
    "_cell_guid": "b1076dfc-b9ad-4769-8c92-a6c4dae69d19",
    "_uuid": "8f2839f25d086af736a60e9eeb907d3b93b6e0e5",
    "execution": {
     "iopub.execute_input": "2021-04-13T02:40:59.181997Z",
     "iopub.status.busy": "2021-04-13T02:40:59.181508Z",
     "iopub.status.idle": "2021-04-13T05:22:26.479608Z",
     "shell.execute_reply": "2021-04-13T05:22:26.478972Z"
    },
    "papermill": {
     "duration": 9687.318868,
     "end_time": "2021-04-13T05:22:26.479764",
     "exception": false,
     "start_time": "2021-04-13T02:40:59.160896",
     "status": "completed"
    },
    "tags": []
   },
   "outputs": [
    {
     "name": "stdout",
     "output_type": "stream",
     "text": [
      "Epoch 1/100\n",
      "354/354 - 256s - loss: 0.1219 - dice_coef: 0.1034 - val_loss: 0.0461 - val_dice_coef: 0.1718\n",
      "\n",
      "Epoch 00001: val_loss improved from inf to 0.04607, saving model to model.h5\n",
      "Epoch 2/100\n",
      "354/354 - 201s - loss: 0.0432 - dice_coef: 0.1928 - val_loss: 0.0412 - val_dice_coef: 0.2189\n",
      "\n",
      "Epoch 00002: val_loss improved from 0.04607 to 0.04119, saving model to model.h5\n",
      "Epoch 3/100\n",
      "354/354 - 201s - loss: 0.0406 - dice_coef: 0.2202 - val_loss: 0.0399 - val_dice_coef: 0.2279\n",
      "\n",
      "Epoch 00003: val_loss improved from 0.04119 to 0.03995, saving model to model.h5\n",
      "Epoch 4/100\n",
      "354/354 - 200s - loss: 0.0384 - dice_coef: 0.2734 - val_loss: 0.0367 - val_dice_coef: 0.3480\n",
      "\n",
      "Epoch 00004: val_loss improved from 0.03995 to 0.03674, saving model to model.h5\n",
      "Epoch 5/100\n",
      "354/354 - 200s - loss: 0.0350 - dice_coef: 0.3731 - val_loss: 0.0332 - val_dice_coef: 0.4003\n",
      "\n",
      "Epoch 00005: val_loss improved from 0.03674 to 0.03320, saving model to model.h5\n",
      "Epoch 6/100\n",
      "354/354 - 201s - loss: 0.0334 - dice_coef: 0.4073 - val_loss: 0.0343 - val_dice_coef: 0.3779\n",
      "\n",
      "Epoch 00006: val_loss did not improve from 0.03320\n",
      "Epoch 7/100\n",
      "354/354 - 199s - loss: 0.0315 - dice_coef: 0.4312 - val_loss: 0.0349 - val_dice_coef: 0.3728\n",
      "\n",
      "Epoch 00007: val_loss did not improve from 0.03320\n",
      "Epoch 8/100\n",
      "354/354 - 200s - loss: 0.0312 - dice_coef: 0.4368 - val_loss: 0.0320 - val_dice_coef: 0.4280\n",
      "\n",
      "Epoch 00008: val_loss improved from 0.03320 to 0.03202, saving model to model.h5\n",
      "Epoch 9/100\n",
      "354/354 - 200s - loss: 0.0297 - dice_coef: 0.4551 - val_loss: 0.0328 - val_dice_coef: 0.3965\n",
      "\n",
      "Epoch 00009: val_loss did not improve from 0.03202\n",
      "Epoch 10/100\n",
      "354/354 - 200s - loss: 0.0291 - dice_coef: 0.4705 - val_loss: 0.0277 - val_dice_coef: 0.4714\n",
      "\n",
      "Epoch 00010: val_loss improved from 0.03202 to 0.02771, saving model to model.h5\n",
      "Epoch 11/100\n",
      "354/354 - 199s - loss: 0.0277 - dice_coef: 0.4945 - val_loss: 0.0296 - val_dice_coef: 0.4540\n",
      "\n",
      "Epoch 00011: val_loss did not improve from 0.02771\n",
      "Epoch 12/100\n",
      "354/354 - 199s - loss: 0.0266 - dice_coef: 0.5108 - val_loss: 0.0286 - val_dice_coef: 0.4626\n",
      "\n",
      "Epoch 00012: val_loss did not improve from 0.02771\n",
      "Epoch 13/100\n",
      "354/354 - 201s - loss: 0.0268 - dice_coef: 0.5082 - val_loss: 0.0269 - val_dice_coef: 0.5118\n",
      "\n",
      "Epoch 00013: val_loss improved from 0.02771 to 0.02688, saving model to model.h5\n",
      "Epoch 14/100\n",
      "354/354 - 202s - loss: 0.0251 - dice_coef: 0.5350 - val_loss: 0.0255 - val_dice_coef: 0.5327\n",
      "\n",
      "Epoch 00014: val_loss improved from 0.02688 to 0.02549, saving model to model.h5\n",
      "Epoch 15/100\n",
      "354/354 - 201s - loss: 0.0248 - dice_coef: 0.5394 - val_loss: 0.0271 - val_dice_coef: 0.5510\n",
      "\n",
      "Epoch 00015: val_loss did not improve from 0.02549\n",
      "Epoch 16/100\n",
      "354/354 - 199s - loss: 0.0239 - dice_coef: 0.5526 - val_loss: 0.0256 - val_dice_coef: 0.5556\n",
      "\n",
      "Epoch 00016: val_loss did not improve from 0.02549\n",
      "Epoch 17/100\n",
      "354/354 - 204s - loss: 0.0234 - dice_coef: 0.5627 - val_loss: 0.0272 - val_dice_coef: 0.5779\n",
      "\n",
      "Epoch 00017: val_loss did not improve from 0.02549\n",
      "Epoch 18/100\n",
      "354/354 - 202s - loss: 0.0224 - dice_coef: 0.5765 - val_loss: 0.0243 - val_dice_coef: 0.5555\n",
      "\n",
      "Epoch 00018: val_loss improved from 0.02549 to 0.02430, saving model to model.h5\n",
      "Epoch 19/100\n",
      "354/354 - 203s - loss: 0.0224 - dice_coef: 0.5785 - val_loss: 0.0248 - val_dice_coef: 0.5535\n",
      "\n",
      "Epoch 00019: val_loss did not improve from 0.02430\n",
      "Epoch 20/100\n",
      "354/354 - 203s - loss: 0.0217 - dice_coef: 0.5863 - val_loss: 0.0275 - val_dice_coef: 0.5391\n",
      "\n",
      "Epoch 00020: val_loss did not improve from 0.02430\n",
      "Epoch 21/100\n",
      "354/354 - 202s - loss: 0.0209 - dice_coef: 0.6002 - val_loss: 0.0250 - val_dice_coef: 0.5798\n",
      "\n",
      "Epoch 00021: val_loss did not improve from 0.02430\n",
      "Epoch 22/100\n",
      "354/354 - 202s - loss: 0.0203 - dice_coef: 0.6087 - val_loss: 0.0245 - val_dice_coef: 0.6020\n",
      "\n",
      "Epoch 00022: val_loss did not improve from 0.02430\n",
      "Epoch 23/100\n",
      "354/354 - 202s - loss: 0.0194 - dice_coef: 0.6251 - val_loss: 0.0247 - val_dice_coef: 0.5952\n",
      "\n",
      "Epoch 00023: val_loss did not improve from 0.02430\n",
      "Epoch 24/100\n",
      "354/354 - 203s - loss: 0.0182 - dice_coef: 0.6435 - val_loss: 0.0246 - val_dice_coef: 0.5931\n",
      "\n",
      "Epoch 00024: val_loss did not improve from 0.02430\n",
      "Epoch 25/100\n",
      "354/354 - 202s - loss: 0.0176 - dice_coef: 0.6524 - val_loss: 0.0247 - val_dice_coef: 0.5977\n",
      "\n",
      "Epoch 00025: val_loss did not improve from 0.02430\n",
      "Epoch 26/100\n",
      "354/354 - 203s - loss: 0.0172 - dice_coef: 0.6627 - val_loss: 0.0259 - val_dice_coef: 0.6148\n",
      "\n",
      "Epoch 00026: val_loss did not improve from 0.02430\n",
      "Epoch 27/100\n",
      "354/354 - 202s - loss: 0.0164 - dice_coef: 0.6751 - val_loss: 0.0261 - val_dice_coef: 0.6146\n",
      "\n",
      "Epoch 00027: val_loss did not improve from 0.02430\n",
      "Epoch 28/100\n",
      "354/354 - 201s - loss: 0.0156 - dice_coef: 0.6881 - val_loss: 0.0267 - val_dice_coef: 0.6090\n",
      "\n",
      "Epoch 00028: val_loss did not improve from 0.02430\n",
      "Epoch 29/100\n",
      "354/354 - 202s - loss: 0.0153 - dice_coef: 0.6930 - val_loss: 0.0271 - val_dice_coef: 0.6049\n",
      "\n",
      "Epoch 00029: val_loss did not improve from 0.02430\n",
      "Epoch 30/100\n",
      "354/354 - 202s - loss: 0.0142 - dice_coef: 0.7129 - val_loss: 0.0315 - val_dice_coef: 0.5808\n",
      "\n",
      "Epoch 00030: val_loss did not improve from 0.02430\n",
      "Epoch 31/100\n",
      "354/354 - 200s - loss: 0.0145 - dice_coef: 0.7077 - val_loss: 0.0270 - val_dice_coef: 0.6135\n",
      "\n",
      "Epoch 00031: val_loss did not improve from 0.02430\n",
      "Epoch 32/100\n",
      "354/354 - 200s - loss: 0.0138 - dice_coef: 0.7230 - val_loss: 0.0292 - val_dice_coef: 0.6101\n",
      "\n",
      "Epoch 00032: val_loss did not improve from 0.02430\n",
      "Epoch 33/100\n",
      "354/354 - 200s - loss: 0.0129 - dice_coef: 0.7390 - val_loss: 0.0325 - val_dice_coef: 0.5240\n",
      "\n",
      "Epoch 00033: val_loss did not improve from 0.02430\n",
      "Epoch 34/100\n",
      "354/354 - 200s - loss: 0.0146 - dice_coef: 0.7104 - val_loss: 0.0305 - val_dice_coef: 0.6167\n",
      "\n",
      "Epoch 00034: val_loss did not improve from 0.02430\n",
      "Epoch 35/100\n",
      "354/354 - 200s - loss: 0.0122 - dice_coef: 0.7514 - val_loss: 0.0291 - val_dice_coef: 0.6107\n",
      "\n",
      "Epoch 00035: val_loss did not improve from 0.02430\n",
      "Epoch 36/100\n",
      "354/354 - 199s - loss: 0.0128 - dice_coef: 0.7403 - val_loss: 0.0283 - val_dice_coef: 0.6258\n",
      "\n",
      "Epoch 00036: val_loss did not improve from 0.02430\n",
      "Epoch 37/100\n",
      "354/354 - 199s - loss: 0.0112 - dice_coef: 0.7689 - val_loss: 0.0288 - val_dice_coef: 0.6181\n",
      "\n",
      "Epoch 00037: val_loss did not improve from 0.02430\n",
      "Epoch 38/100\n",
      "354/354 - 200s - loss: 0.0112 - dice_coef: 0.7709 - val_loss: 0.0301 - val_dice_coef: 0.6194\n",
      "\n",
      "Epoch 00038: val_loss did not improve from 0.02430\n",
      "Epoch 39/100\n",
      "354/354 - 199s - loss: 0.0110 - dice_coef: 0.7730 - val_loss: 0.0305 - val_dice_coef: 0.6241\n",
      "\n",
      "Epoch 00039: val_loss did not improve from 0.02430\n",
      "Epoch 40/100\n",
      "354/354 - 200s - loss: 0.0135 - dice_coef: 0.7318 - val_loss: 0.0316 - val_dice_coef: 0.6206\n",
      "\n",
      "Epoch 00040: val_loss did not improve from 0.02430\n",
      "Epoch 41/100\n",
      "354/354 - 200s - loss: 0.0102 - dice_coef: 0.7886 - val_loss: 0.0317 - val_dice_coef: 0.6299\n",
      "\n",
      "Epoch 00041: val_loss did not improve from 0.02430\n",
      "Epoch 42/100\n",
      "354/354 - 199s - loss: 0.0095 - dice_coef: 0.8019 - val_loss: 0.0350 - val_dice_coef: 0.6339\n",
      "\n",
      "Epoch 00042: val_loss did not improve from 0.02430\n",
      "Epoch 43/100\n",
      "354/354 - 199s - loss: 0.0100 - dice_coef: 0.7944 - val_loss: 0.0342 - val_dice_coef: 0.6216\n",
      "\n",
      "Epoch 00043: val_loss did not improve from 0.02430\n",
      "Epoch 44/100\n",
      "354/354 - 200s - loss: 0.0114 - dice_coef: 0.7696 - val_loss: 0.0303 - val_dice_coef: 0.5824\n",
      "\n",
      "Epoch 00044: val_loss did not improve from 0.02430\n",
      "Epoch 45/100\n",
      "354/354 - 200s - loss: 0.0118 - dice_coef: 0.7608 - val_loss: 0.0321 - val_dice_coef: 0.6387\n",
      "\n",
      "Epoch 00045: val_loss did not improve from 0.02430\n",
      "Epoch 46/100\n",
      "354/354 - 199s - loss: 0.0092 - dice_coef: 0.8081 - val_loss: 0.0338 - val_dice_coef: 0.6422\n",
      "\n",
      "Epoch 00046: val_loss did not improve from 0.02430\n",
      "Epoch 47/100\n",
      "354/354 - 200s - loss: 0.0085 - dice_coef: 0.8218 - val_loss: 0.0365 - val_dice_coef: 0.6266\n",
      "\n",
      "Epoch 00047: val_loss did not improve from 0.02430\n",
      "Epoch 48/100\n",
      "354/354 - 201s - loss: 0.0084 - dice_coef: 0.8241 - val_loss: 0.0403 - val_dice_coef: 0.6479\n",
      "\n",
      "Epoch 00048: val_loss did not improve from 0.02430\n",
      "Epoch 00048: early stopping\n"
     ]
    }
   ],
   "source": [
    "mc = ModelCheckpoint(\n",
    "    'model.h5', \n",
    "    monitor='val_loss', \n",
    "    verbose=1, \n",
    "    save_best_only=True, \n",
    "    save_weights_only=False,\n",
    "    mode='auto'\n",
    ")\n",
    "\n",
    "es = EarlyStopping(monitor='val_loss', mode='min', verbose=2, patience=30)\n",
    "\n",
    "history = model.fit(\n",
    "    train_generator,\n",
    "    validation_data=val_generator,\n",
    "    callbacks=[mc,es],\n",
    "    verbose=2, \n",
    "    epochs=100\n",
    ")"
   ]
  },
  {
   "cell_type": "code",
   "execution_count": 14,
   "metadata": {
    "execution": {
     "iopub.execute_input": "2021-04-13T05:22:26.569014Z",
     "iopub.status.busy": "2021-04-13T05:22:26.568380Z",
     "iopub.status.idle": "2021-04-13T05:22:26.571362Z",
     "shell.execute_reply": "2021-04-13T05:22:26.570945Z"
    },
    "papermill": {
     "duration": 0.050576,
     "end_time": "2021-04-13T05:22:26.571476",
     "exception": false,
     "start_time": "2021-04-13T05:22:26.520900",
     "status": "completed"
    },
    "tags": []
   },
   "outputs": [],
   "source": [
    "def history_plot(model_id, history1):\n",
    "\tplt.figure(figsize=(14,16)) \n",
    "\t# plot loss\n",
    "\tplt.subplot(2, 1, 1)\n",
    "\tplt.title('Cross Entropy Loss - ' + model_id, fontsize = 12)\n",
    "\tplt.plot(history1.history['loss'], color='blue', label='train base')\n",
    "\tplt.plot(history1.history['val_loss'], color='cyan', label='val base')\n",
    "\tplt.xlabel(\"Epochs\",fontsize = 12)\n",
    "\tplt.ylabel(\"Loss\", fontsize = 12)\n",
    "\tplt.legend(loc='upper right')\n",
    "\n",
    "\t# plot accuracy\n",
    "\tplt.subplot(2, 1, 2)\n",
    "\tplt.title('Classification Accuracy ' + model_id, fontsize = 10)\n",
    "\tplt.plot(history1.history['dice_coef'], color='blue', label='train base')\n",
    "\tplt.plot(history1.history['val_dice_coef'], color='cyan', label='val base')\n",
    "\tplt.xlabel(\"Epochs\", fontsize = 12)\n",
    "\tplt.ylabel(\"dice_coef\", fontsize = 12)\n",
    "\tplt.legend(loc='lower right')\n",
    "\n",
    "\tplt.show()"
   ]
  },
  {
   "cell_type": "code",
   "execution_count": 15,
   "metadata": {
    "execution": {
     "iopub.execute_input": "2021-04-13T05:22:26.655683Z",
     "iopub.status.busy": "2021-04-13T05:22:26.654818Z",
     "iopub.status.idle": "2021-04-13T05:22:26.658261Z",
     "shell.execute_reply": "2021-04-13T05:22:26.658662Z"
    },
    "papermill": {
     "duration": 0.047497,
     "end_time": "2021-04-13T05:22:26.658779",
     "exception": false,
     "start_time": "2021-04-13T05:22:26.611282",
     "status": "completed"
    },
    "tags": []
   },
   "outputs": [
    {
     "data": {
      "text/plain": [
       "dict_keys(['loss', 'dice_coef', 'val_loss', 'val_dice_coef'])"
      ]
     },
     "execution_count": 15,
     "metadata": {},
     "output_type": "execute_result"
    }
   ],
   "source": [
    "history.history.keys()"
   ]
  },
  {
   "cell_type": "code",
   "execution_count": 16,
   "metadata": {
    "execution": {
     "iopub.execute_input": "2021-04-13T05:22:26.748510Z",
     "iopub.status.busy": "2021-04-13T05:22:26.747678Z",
     "iopub.status.idle": "2021-04-13T05:22:27.062031Z",
     "shell.execute_reply": "2021-04-13T05:22:27.061586Z"
    },
    "papermill": {
     "duration": 0.363059,
     "end_time": "2021-04-13T05:22:27.062136",
     "exception": false,
     "start_time": "2021-04-13T05:22:26.699077",
     "status": "completed"
    },
    "tags": []
   },
   "outputs": [
    {
     "data": {
      "image/png": "[encoded data removed]",
      "text/plain": [
       "<Figure size 1008x1152 with 2 Axes>"
      ]
     },
     "metadata": {
      "needs_background": "light"
     },
     "output_type": "display_data"
    }
   ],
   "source": [
    "history_plot('UNET Model', history)"
   ]
  },
  {
   "cell_type": "markdown",
   "metadata": {
    "papermill": {
     "duration": 0.04188,
     "end_time": "2021-04-13T05:22:27.146777",
     "exception": false,
     "start_time": "2021-04-13T05:22:27.104897",
     "status": "completed"
    },
    "tags": []
   },
   "source": [
    "## Save model"
   ]
  },
  {
   "cell_type": "code",
   "execution_count": 17,
   "metadata": {
    "_cell_guid": "b1076dfc-b9ad-4769-8c92-a6c4dae69d19",
    "_uuid": "8f2839f25d086af736a60e9eeb907d3b93b6e0e5",
    "execution": {
     "iopub.execute_input": "2021-04-13T05:22:27.243403Z",
     "iopub.status.busy": "2021-04-13T05:22:27.238173Z",
     "iopub.status.idle": "2021-04-13T05:22:27.280081Z",
     "shell.execute_reply": "2021-04-13T05:22:27.278935Z"
    },
    "papermill": {
     "duration": 0.091358,
     "end_time": "2021-04-13T05:22:27.280194",
     "exception": false,
     "start_time": "2021-04-13T05:22:27.188836",
     "status": "completed"
    },
    "tags": []
   },
   "outputs": [],
   "source": [
    "model.load_weights('model.h5')"
   ]
  },
  {
   "cell_type": "code",
   "execution_count": 18,
   "metadata": {
    "execution": {
     "iopub.execute_input": "2021-04-13T05:22:27.379554Z",
     "iopub.status.busy": "2021-04-13T05:22:27.378655Z",
     "iopub.status.idle": "2021-04-13T05:22:27.491173Z",
     "shell.execute_reply": "2021-04-13T05:22:27.490241Z"
    },
    "papermill": {
     "duration": 0.168987,
     "end_time": "2021-04-13T05:22:27.491289",
     "exception": false,
     "start_time": "2021-04-13T05:22:27.322302",
     "status": "completed"
    },
    "tags": []
   },
   "outputs": [],
   "source": [
    "model.save('severstal-segmentation_UNET.h5', save_format=\"h5\")"
   ]
  }
 ],
 "metadata": {
  "kernelspec": {
   "display_name": "Python 3",
   "language": "python",
   "name": "python3"
  },
  "language_info": {
   "codemirror_mode": {
    "name": "ipython",
    "version": 3
   },
   "file_extension": ".py",
   "mimetype": "text/x-python",
   "name": "python",
   "nbconvert_exporter": "python",
   "pygments_lexer": "ipython3",
   "version": "3.7.9"
  },
  "papermill": {
   "default_parameters": {},
   "duration": 9707.500687,
   "end_time": "2021-04-13T05:22:30.730548",
   "environment_variables": {},
   "exception": null,
   "input_path": "__notebook__.ipynb",
   "output_path": "__notebook__.ipynb",
   "parameters": {},
   "start_time": "2021-04-13T02:40:43.229861",
   "version": "2.2.2"
  }
 },
 "nbformat": 4,
 "nbformat_minor": 4
}
