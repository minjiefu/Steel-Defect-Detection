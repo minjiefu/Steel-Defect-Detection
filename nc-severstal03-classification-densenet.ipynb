{
 "cells": [
  {
   "cell_type": "code",
   "execution_count": 1,
   "metadata": {
    "_cell_guid": "b1076dfc-b9ad-4769-8c92-a6c4dae69d19",
    "_uuid": "8f2839f25d086af736a60e9eeb907d3b93b6e0e5",
    "execution": {
     "iopub.execute_input": "2021-03-19T05:29:11.479513Z",
     "iopub.status.busy": "2021-03-19T05:29:11.478888Z",
     "iopub.status.idle": "2021-03-19T05:29:17.680661Z",
     "shell.execute_reply": "2021-03-19T05:29:17.681768Z"
    },
    "papermill": {
     "duration": 6.225143,
     "end_time": "2021-03-19T05:29:17.682176",
     "exception": false,
     "start_time": "2021-03-19T05:29:11.457033",
     "status": "completed"
    },
    "tags": []
   },
   "outputs": [],
   "source": [
    "import os\n",
    "import cv2\n",
    "import numpy as np\n",
    "import pandas as pd\n",
    "import tensorflow as tf\n",
    "from tensorflow import keras\n",
    "from tensorflow.keras import layers\n",
    "from tensorflow.keras.callbacks import Callback, ModelCheckpoint, ReduceLROnPlateau,EarlyStopping\n",
    "from tensorflow.keras.preprocessing.image import ImageDataGenerator\n",
    "from tensorflow.keras.models import Sequential, Model, load_model\n",
    "from tensorflow.keras.layers import Input, Dense, Conv2D, MaxPooling2D\n",
    "from tensorflow.keras.layers import GlobalAveragePooling2D, AveragePooling2D\n",
    "from tensorflow.keras.layers import ZeroPadding2D, Dropout, Flatten, add, Reshape\n",
    "from tensorflow.keras.layers import Activation, BatchNormalization\n",
    "from tensorflow.keras.optimizers import Adam, SGD, Nadam\n",
    "from tensorflow.keras.utils import plot_model,to_categorical\n",
    "from tensorflow.keras import backend as K\n",
    "from tensorflow.keras import initializers\n",
    "from tensorflow.keras.preprocessing.image import ImageDataGenerator\n",
    "from tensorflow.keras.applications import DenseNet121\n",
    "from tqdm import tqdm\n",
    "from sklearn.model_selection import train_test_split\n",
    "from sklearn.metrics import confusion_matrix, classification_report\n",
    "import matplotlib.pyplot as plt\n",
    "import seaborn as sns"
   ]
  },
  {
   "cell_type": "markdown",
   "metadata": {
    "papermill": {
     "duration": 0.021236,
     "end_time": "2021-03-19T05:29:17.726902",
     "exception": false,
     "start_time": "2021-03-19T05:29:17.705666",
     "status": "completed"
    },
    "tags": []
   },
   "source": [
    "## Read train and test files"
   ]
  },
  {
   "cell_type": "code",
   "execution_count": 2,
   "metadata": {
    "_cell_guid": "b1076dfc-b9ad-4769-8c92-a6c4dae69d19",
    "_uuid": "8f2839f25d086af736a60e9eeb907d3b93b6e0e5",
    "execution": {
     "iopub.execute_input": "2021-03-19T05:29:17.782904Z",
     "iopub.status.busy": "2021-03-19T05:29:17.778402Z",
     "iopub.status.idle": "2021-03-19T05:29:18.338652Z",
     "shell.execute_reply": "2021-03-19T05:29:18.339640Z"
    },
    "papermill": {
     "duration": 0.590672,
     "end_time": "2021-03-19T05:29:18.339837",
     "exception": false,
     "start_time": "2021-03-19T05:29:17.749165",
     "status": "completed"
    },
    "tags": []
   },
   "outputs": [
    {
     "name": "stdout",
     "output_type": "stream",
     "text": [
      "(7095, 3)\n"
     ]
    },
    {
     "data": {
      "text/html": [
       "<div>\n",
       "<style scoped>\n",
       "    .dataframe tbody tr th:only-of-type {\n",
       "        vertical-align: middle;\n",
       "    }\n",
       "\n",
       "    .dataframe tbody tr th {\n",
       "        vertical-align: top;\n",
       "    }\n",
       "\n",
       "    .dataframe thead th {\n",
       "        text-align: right;\n",
       "    }\n",
       "</style>\n",
       "<table border=\"1\" class=\"dataframe\">\n",
       "  <thead>\n",
       "    <tr style=\"text-align: right;\">\n",
       "      <th></th>\n",
       "      <th>ImageId</th>\n",
       "      <th>ClassId</th>\n",
       "      <th>EncodedPixels</th>\n",
       "    </tr>\n",
       "  </thead>\n",
       "  <tbody>\n",
       "    <tr>\n",
       "      <th>0</th>\n",
       "      <td>0002cc93b.jpg</td>\n",
       "      <td>1</td>\n",
       "      <td>29102 12 29346 24 29602 24 29858 24 30114 24 3...</td>\n",
       "    </tr>\n",
       "    <tr>\n",
       "      <th>1</th>\n",
       "      <td>0007a71bf.jpg</td>\n",
       "      <td>3</td>\n",
       "      <td>18661 28 18863 82 19091 110 19347 110 19603 11...</td>\n",
       "    </tr>\n",
       "    <tr>\n",
       "      <th>2</th>\n",
       "      <td>000a4bcdd.jpg</td>\n",
       "      <td>1</td>\n",
       "      <td>37607 3 37858 8 38108 14 38359 20 38610 25 388...</td>\n",
       "    </tr>\n",
       "    <tr>\n",
       "      <th>3</th>\n",
       "      <td>000f6bf48.jpg</td>\n",
       "      <td>4</td>\n",
       "      <td>131973 1 132228 4 132483 6 132738 8 132993 11 ...</td>\n",
       "    </tr>\n",
       "    <tr>\n",
       "      <th>4</th>\n",
       "      <td>0014fce06.jpg</td>\n",
       "      <td>3</td>\n",
       "      <td>229501 11 229741 33 229981 55 230221 77 230468...</td>\n",
       "    </tr>\n",
       "  </tbody>\n",
       "</table>\n",
       "</div>"
      ],
      "text/plain": [
       "         ImageId  ClassId                                      EncodedPixels\n",
       "0  0002cc93b.jpg        1  29102 12 29346 24 29602 24 29858 24 30114 24 3...\n",
       "1  0007a71bf.jpg        3  18661 28 18863 82 19091 110 19347 110 19603 11...\n",
       "2  000a4bcdd.jpg        1  37607 3 37858 8 38108 14 38359 20 38610 25 388...\n",
       "3  000f6bf48.jpg        4  131973 1 132228 4 132483 6 132738 8 132993 11 ...\n",
       "4  0014fce06.jpg        3  229501 11 229741 33 229981 55 230221 77 230468..."
      ]
     },
     "execution_count": 2,
     "metadata": {},
     "output_type": "execute_result"
    }
   ],
   "source": [
    "train_df = pd.read_csv('../input/severstal-steel-defect-detection/train.csv')\n",
    "\n",
    "print(train_df.shape)\n",
    "train_df.head()"
   ]
  },
  {
   "cell_type": "code",
   "execution_count": 3,
   "metadata": {
    "_cell_guid": "b1076dfc-b9ad-4769-8c92-a6c4dae69d19",
    "_uuid": "8f2839f25d086af736a60e9eeb907d3b93b6e0e5",
    "execution": {
     "iopub.execute_input": "2021-03-19T05:29:18.388998Z",
     "iopub.status.busy": "2021-03-19T05:29:18.388236Z",
     "iopub.status.idle": "2021-03-19T05:29:18.416578Z",
     "shell.execute_reply": "2021-03-19T05:29:18.417558Z"
    },
    "papermill": {
     "duration": 0.056333,
     "end_time": "2021-03-19T05:29:18.417744",
     "exception": false,
     "start_time": "2021-03-19T05:29:18.361411",
     "status": "completed"
    },
    "tags": []
   },
   "outputs": [
    {
     "name": "stdout",
     "output_type": "stream",
     "text": [
      "(5506, 3)\n"
     ]
    },
    {
     "data": {
      "text/html": [
       "<div>\n",
       "<style scoped>\n",
       "    .dataframe tbody tr th:only-of-type {\n",
       "        vertical-align: middle;\n",
       "    }\n",
       "\n",
       "    .dataframe tbody tr th {\n",
       "        vertical-align: top;\n",
       "    }\n",
       "\n",
       "    .dataframe thead th {\n",
       "        text-align: right;\n",
       "    }\n",
       "</style>\n",
       "<table border=\"1\" class=\"dataframe\">\n",
       "  <thead>\n",
       "    <tr style=\"text-align: right;\">\n",
       "      <th></th>\n",
       "      <th>ImageId</th>\n",
       "      <th>EncodedPixels</th>\n",
       "      <th>ClassId</th>\n",
       "    </tr>\n",
       "  </thead>\n",
       "  <tbody>\n",
       "    <tr>\n",
       "      <th>0</th>\n",
       "      <td>0000f269f.jpg</td>\n",
       "      <td>1 409600</td>\n",
       "      <td>0</td>\n",
       "    </tr>\n",
       "    <tr>\n",
       "      <th>1</th>\n",
       "      <td>000ccc2ac.jpg</td>\n",
       "      <td>1 409600</td>\n",
       "      <td>0</td>\n",
       "    </tr>\n",
       "    <tr>\n",
       "      <th>2</th>\n",
       "      <td>002451917.jpg</td>\n",
       "      <td>1 409600</td>\n",
       "      <td>0</td>\n",
       "    </tr>\n",
       "    <tr>\n",
       "      <th>3</th>\n",
       "      <td>003c5da97.jpg</td>\n",
       "      <td>1 409600</td>\n",
       "      <td>0</td>\n",
       "    </tr>\n",
       "    <tr>\n",
       "      <th>4</th>\n",
       "      <td>0042e163f.jpg</td>\n",
       "      <td>1 409600</td>\n",
       "      <td>0</td>\n",
       "    </tr>\n",
       "  </tbody>\n",
       "</table>\n",
       "</div>"
      ],
      "text/plain": [
       "         ImageId EncodedPixels  ClassId\n",
       "0  0000f269f.jpg      1 409600        0\n",
       "1  000ccc2ac.jpg      1 409600        0\n",
       "2  002451917.jpg      1 409600        0\n",
       "3  003c5da97.jpg      1 409600        0\n",
       "4  0042e163f.jpg      1 409600        0"
      ]
     },
     "execution_count": 3,
     "metadata": {},
     "output_type": "execute_result"
    }
   ],
   "source": [
    "submission_df = pd.read_csv('../input/severstal-steel-defect-detection/sample_submission.csv')\n",
    "print(submission_df.shape)\n",
    "submission_df.head()"
   ]
  },
  {
   "cell_type": "code",
   "execution_count": 4,
   "metadata": {
    "_cell_guid": "b1076dfc-b9ad-4769-8c92-a6c4dae69d19",
    "_uuid": "8f2839f25d086af736a60e9eeb907d3b93b6e0e5",
    "execution": {
     "iopub.execute_input": "2021-03-19T05:29:18.472375Z",
     "iopub.status.busy": "2021-03-19T05:29:18.471634Z",
     "iopub.status.idle": "2021-03-19T05:29:18.487791Z",
     "shell.execute_reply": "2021-03-19T05:29:18.488729Z"
    },
    "papermill": {
     "duration": 0.048676,
     "end_time": "2021-03-19T05:29:18.488913",
     "exception": false,
     "start_time": "2021-03-19T05:29:18.440237",
     "status": "completed"
    },
    "tags": []
   },
   "outputs": [
    {
     "name": "stdout",
     "output_type": "stream",
     "text": [
      "(5506, 3)\n"
     ]
    },
    {
     "data": {
      "text/html": [
       "<div>\n",
       "<style scoped>\n",
       "    .dataframe tbody tr th:only-of-type {\n",
       "        vertical-align: middle;\n",
       "    }\n",
       "\n",
       "    .dataframe tbody tr th {\n",
       "        vertical-align: top;\n",
       "    }\n",
       "\n",
       "    .dataframe thead th {\n",
       "        text-align: right;\n",
       "    }\n",
       "</style>\n",
       "<table border=\"1\" class=\"dataframe\">\n",
       "  <thead>\n",
       "    <tr style=\"text-align: right;\">\n",
       "      <th></th>\n",
       "      <th>ImageId</th>\n",
       "      <th>EncodedPixels</th>\n",
       "      <th>ClassId</th>\n",
       "    </tr>\n",
       "  </thead>\n",
       "  <tbody>\n",
       "    <tr>\n",
       "      <th>0</th>\n",
       "      <td>0000f269f.jpg</td>\n",
       "      <td>1 409600</td>\n",
       "      <td>0</td>\n",
       "    </tr>\n",
       "    <tr>\n",
       "      <th>1</th>\n",
       "      <td>000ccc2ac.jpg</td>\n",
       "      <td>1 409600</td>\n",
       "      <td>0</td>\n",
       "    </tr>\n",
       "    <tr>\n",
       "      <th>2</th>\n",
       "      <td>002451917.jpg</td>\n",
       "      <td>1 409600</td>\n",
       "      <td>0</td>\n",
       "    </tr>\n",
       "    <tr>\n",
       "      <th>3</th>\n",
       "      <td>003c5da97.jpg</td>\n",
       "      <td>1 409600</td>\n",
       "      <td>0</td>\n",
       "    </tr>\n",
       "    <tr>\n",
       "      <th>4</th>\n",
       "      <td>0042e163f.jpg</td>\n",
       "      <td>1 409600</td>\n",
       "      <td>0</td>\n",
       "    </tr>\n",
       "  </tbody>\n",
       "</table>\n",
       "</div>"
      ],
      "text/plain": [
       "         ImageId EncodedPixels  ClassId\n",
       "0  0000f269f.jpg      1 409600        0\n",
       "1  000ccc2ac.jpg      1 409600        0\n",
       "2  002451917.jpg      1 409600        0\n",
       "3  003c5da97.jpg      1 409600        0\n",
       "4  0042e163f.jpg      1 409600        0"
      ]
     },
     "execution_count": 4,
     "metadata": {},
     "output_type": "execute_result"
    }
   ],
   "source": [
    "submission_df = pd.read_csv('../input/severstal-steel-defect-detection/sample_submission.csv')\n",
    "print(submission_df.shape)\n",
    "submission_df.head()"
   ]
  },
  {
   "cell_type": "markdown",
   "metadata": {
    "papermill": {
     "duration": 0.023111,
     "end_time": "2021-03-19T05:29:18.535495",
     "exception": false,
     "start_time": "2021-03-19T05:29:18.512384",
     "status": "completed"
    },
    "tags": []
   },
   "source": [
    "## Combine defected and no-defect images"
   ]
  },
  {
   "cell_type": "code",
   "execution_count": 5,
   "metadata": {
    "_cell_guid": "b1076dfc-b9ad-4769-8c92-a6c4dae69d19",
    "_uuid": "8f2839f25d086af736a60e9eeb907d3b93b6e0e5",
    "execution": {
     "iopub.execute_input": "2021-03-19T05:29:18.590395Z",
     "iopub.status.busy": "2021-03-19T05:29:18.589660Z",
     "iopub.status.idle": "2021-03-19T05:29:20.673645Z",
     "shell.execute_reply": "2021-03-19T05:29:20.674056Z"
    },
    "papermill": {
     "duration": 2.115413,
     "end_time": "2021-03-19T05:29:20.674199",
     "exception": false,
     "start_time": "2021-03-19T05:29:18.558786",
     "status": "completed"
    },
    "tags": []
   },
   "outputs": [
    {
     "name": "stdout",
     "output_type": "stream",
     "text": [
      "(12568, 2)\n",
      "1    6666\n",
      "0    5902\n",
      "Name: defect_label, dtype: int64\n"
     ]
    },
    {
     "data": {
      "text/html": [
       "<div>\n",
       "<style scoped>\n",
       "    .dataframe tbody tr th:only-of-type {\n",
       "        vertical-align: middle;\n",
       "    }\n",
       "\n",
       "    .dataframe tbody tr th {\n",
       "        vertical-align: top;\n",
       "    }\n",
       "\n",
       "    .dataframe thead th {\n",
       "        text-align: right;\n",
       "    }\n",
       "</style>\n",
       "<table border=\"1\" class=\"dataframe\">\n",
       "  <thead>\n",
       "    <tr style=\"text-align: right;\">\n",
       "      <th></th>\n",
       "      <th>ImageId</th>\n",
       "      <th>defect_label</th>\n",
       "    </tr>\n",
       "  </thead>\n",
       "  <tbody>\n",
       "    <tr>\n",
       "      <th>0</th>\n",
       "      <td>0002cc93b.jpg</td>\n",
       "      <td>1</td>\n",
       "    </tr>\n",
       "  </tbody>\n",
       "</table>\n",
       "</div>"
      ],
      "text/plain": [
       "         ImageId  defect_label\n",
       "0  0002cc93b.jpg             1"
      ]
     },
     "execution_count": 5,
     "metadata": {},
     "output_type": "execute_result"
    }
   ],
   "source": [
    "# Data Pre-Processing\n",
    "TRAIN_PATH = '../input/severstal-steel-defect-detection/train_images/'\n",
    "TEST_PATH = '../input/severstal-steel-defect-detection/test_images/'\n",
    "\n",
    "train_flist = os.listdir(TRAIN_PATH) \n",
    "\n",
    "image_defects = train_df['ImageId'].unique().tolist()\n",
    "image_no_defects=[item for item in train_flist if item not in image_defects]\n",
    "\n",
    "#df_bin is the dataframe with label defect based on train_df \n",
    "df_bin = train_df.drop_duplicates(subset=['ImageId'], keep='last').copy()\n",
    "df_bin.loc[:, 'defect_label'] = 1\n",
    "\n",
    "df_noDefect_bin = pd.DataFrame(image_no_defects,columns=['ImageId'])\n",
    "df_noDefect_bin.loc[:, 'defect_label'] = 0\n",
    "\n",
    "frames = [df_bin[['ImageId', \"defect_label\"]], df_noDefect_bin]\n",
    "df = pd.concat(frames).reset_index(drop=True)\n",
    "print(df.shape)\n",
    "print(df['defect_label'].value_counts())\n",
    "df.head(1)"
   ]
  },
  {
   "cell_type": "markdown",
   "metadata": {
    "papermill": {
     "duration": 0.016067,
     "end_time": "2021-03-19T05:29:20.705831",
     "exception": false,
     "start_time": "2021-03-19T05:29:20.689764",
     "status": "completed"
    },
    "tags": []
   },
   "source": [
    "## Split train data, load and resave images"
   ]
  },
  {
   "cell_type": "code",
   "execution_count": 6,
   "metadata": {
    "_cell_guid": "b1076dfc-b9ad-4769-8c92-a6c4dae69d19",
    "_uuid": "8f2839f25d086af736a60e9eeb907d3b93b6e0e5",
    "execution": {
     "iopub.execute_input": "2021-03-19T05:29:20.741385Z",
     "iopub.status.busy": "2021-03-19T05:29:20.740884Z",
     "iopub.status.idle": "2021-03-19T05:29:20.763608Z",
     "shell.execute_reply": "2021-03-19T05:29:20.763188Z"
    },
    "papermill": {
     "duration": 0.042768,
     "end_time": "2021-03-19T05:29:20.763733",
     "exception": false,
     "start_time": "2021-03-19T05:29:20.720965",
     "status": "completed"
    },
    "tags": []
   },
   "outputs": [],
   "source": [
    "nb_images = df.shape[0]\n",
    "df_train, df_test = train_test_split(df, test_size=0.2, \n",
    "                                                    stratify = df['defect_label'], \n",
    "                                                    random_state=2021)\n",
    "\n",
    "df_train, df_val = train_test_split(df_train, test_size=0.25, \n",
    "                                                  stratify = df_train['defect_label'],\n",
    "                                                  random_state=2021) "
   ]
  },
  {
   "cell_type": "code",
   "execution_count": 7,
   "metadata": {
    "_cell_guid": "b1076dfc-b9ad-4769-8c92-a6c4dae69d19",
    "_uuid": "8f2839f25d086af736a60e9eeb907d3b93b6e0e5",
    "execution": {
     "iopub.execute_input": "2021-03-19T05:29:20.802670Z",
     "iopub.status.busy": "2021-03-19T05:29:20.801858Z",
     "iopub.status.idle": "2021-03-19T05:29:20.806467Z",
     "shell.execute_reply": "2021-03-19T05:29:20.805984Z"
    },
    "papermill": {
     "duration": 0.027182,
     "end_time": "2021-03-19T05:29:20.806579",
     "exception": false,
     "start_time": "2021-03-19T05:29:20.779397",
     "status": "completed"
    },
    "tags": []
   },
   "outputs": [],
   "source": [
    "# 0.25 x 0.8 = 0.2\n",
    "\n",
    "IMAGE_SIZE = 256\n",
    "\n",
    "def load_img(code, base, resize=True):\n",
    "    path = f'{base}/{code}'\n",
    "    img = cv2.imread(path)\n",
    "    img = cv2.cvtColor(img, cv2.COLOR_BGR2RGB)\n",
    "    if resize:\n",
    "        img = cv2.resize(img, (IMAGE_SIZE, IMAGE_SIZE))\n",
    "    return img\n",
    "\n",
    "def validate_path(path):\n",
    "    if not os.path.exists(path):\n",
    "        os.makedirs(path)\n",
    "\n",
    "train_path = '../tmp/train'\n",
    "validate_path(train_path)\n",
    "val_path = '../tmp/val'\n",
    "validate_path(val_path)\n",
    "test_path = '../tmp/test'\n",
    "validate_path(test_path)\n",
    "\n",
    "def process_img(df, train_path):\n",
    "    #read image, resize and save\n",
    "    for code in tqdm(df['ImageId']):\n",
    "        img = load_img(\n",
    "            code,\n",
    "            base='../input/severstal-steel-defect-detection/train_images'\n",
    "        )\n",
    "        path = code.replace('.jpg', '')\n",
    "        cv2.imwrite(f'{train_path}/{path}.png', img)\n",
    "\n",
    "    df['ImageId'] = df['ImageId'].apply(lambda x: x.replace('.jpg', '.png'))\n",
    "    return df"
   ]
  },
  {
   "cell_type": "code",
   "execution_count": 8,
   "metadata": {
    "_cell_guid": "b1076dfc-b9ad-4769-8c92-a6c4dae69d19",
    "_uuid": "8f2839f25d086af736a60e9eeb907d3b93b6e0e5",
    "execution": {
     "iopub.execute_input": "2021-03-19T05:29:20.842598Z",
     "iopub.status.busy": "2021-03-19T05:29:20.841893Z",
     "iopub.status.idle": "2021-03-19T05:34:34.713727Z",
     "shell.execute_reply": "2021-03-19T05:34:34.714210Z"
    },
    "papermill": {
     "duration": 313.89222,
     "end_time": "2021-03-19T05:34:34.714388",
     "exception": false,
     "start_time": "2021-03-19T05:29:20.822168",
     "status": "completed"
    },
    "tags": []
   },
   "outputs": [
    {
     "name": "stderr",
     "output_type": "stream",
     "text": [
      "100%|██████████| 7540/7540 [03:11<00:00, 39.28it/s]\n",
      "100%|██████████| 2514/2514 [01:01<00:00, 41.08it/s]\n",
      "100%|██████████| 2514/2514 [01:00<00:00, 41.42it/s]"
     ]
    },
    {
     "name": "stdout",
     "output_type": "stream",
     "text": [
      "(7540, 2) (2514, 2) (2514, 2)\n",
      "1    3999\n",
      "0    3541\n",
      "Name: defect_label, dtype: int64\n",
      "1    1334\n",
      "0    1180\n",
      "Name: defect_label, dtype: int64\n",
      "1    1333\n",
      "0    1181\n",
      "Name: defect_label, dtype: int64\n"
     ]
    },
    {
     "name": "stderr",
     "output_type": "stream",
     "text": [
      "\n",
      "/opt/conda/lib/python3.7/site-packages/ipykernel_launcher.py:34: SettingWithCopyWarning: \n",
      "A value is trying to be set on a copy of a slice from a DataFrame.\n",
      "Try using .loc[row_indexer,col_indexer] = value instead\n",
      "\n",
      "See the caveats in the documentation: https://pandas.pydata.org/pandas-docs/stable/user_guide/indexing.html#returning-a-view-versus-a-copy\n"
     ]
    }
   ],
   "source": [
    "df_train = process_img(df_train,train_path)\n",
    "df_val = process_img(df_val,val_path)\n",
    "df_test = process_img(df_test,test_path)\n",
    "\n",
    "print(df_train.shape,df_val.shape,df_test.shape)\n",
    "print(df_train['defect_label'].value_counts())\n",
    "print(df_val['defect_label'].value_counts())\n",
    "print(df_test['defect_label'].value_counts())"
   ]
  },
  {
   "cell_type": "markdown",
   "metadata": {
    "papermill": {
     "duration": 0.981318,
     "end_time": "2021-03-19T05:34:36.592512",
     "exception": false,
     "start_time": "2021-03-19T05:34:35.611194",
     "status": "completed"
    },
    "tags": []
   },
   "source": [
    "## Define ImageDataGenerator and data augmentation"
   ]
  },
  {
   "cell_type": "code",
   "execution_count": 9,
   "metadata": {
    "_cell_guid": "b1076dfc-b9ad-4769-8c92-a6c4dae69d19",
    "_uuid": "8f2839f25d086af736a60e9eeb907d3b93b6e0e5",
    "execution": {
     "iopub.execute_input": "2021-03-19T05:34:37.992858Z",
     "iopub.status.busy": "2021-03-19T05:34:37.991680Z",
     "iopub.status.idle": "2021-03-19T05:34:50.329235Z",
     "shell.execute_reply": "2021-03-19T05:34:50.329835Z"
    },
    "papermill": {
     "duration": 13.04498,
     "end_time": "2021-03-19T05:34:50.330077",
     "exception": false,
     "start_time": "2021-03-19T05:34:37.285097",
     "status": "completed"
    },
    "tags": []
   },
   "outputs": [
    {
     "name": "stdout",
     "output_type": "stream",
     "text": [
      "Found 7540 validated image filenames.\n",
      "Found 2514 validated image filenames.\n",
      "Found 2514 validated image filenames.\n",
      "Found 5506 validated image filenames.\n"
     ]
    }
   ],
   "source": [
    "BATCH_SIZE = 32\n",
    "\n",
    "# Using original generator\n",
    "data_generator = ImageDataGenerator(\n",
    "        zoom_range=0.1,  # set range for random zoom\n",
    "        # set mode for filling points outside the input boundaries\n",
    "        fill_mode='constant',\n",
    "        cval=0.,\n",
    "        rotation_range=10,\n",
    "        height_shift_range=0.05,\n",
    "        width_shift_range=0.05,\n",
    "        horizontal_flip=True,\n",
    "        vertical_flip=True,\n",
    "        rescale=1/255.,\n",
    "    )\n",
    "val_generator = ImageDataGenerator(\n",
    "        rescale=1/255.\n",
    "    )\n",
    "\n",
    "train_gen = data_generator.flow_from_dataframe(\n",
    "        df_train, \n",
    "        directory='../tmp/train',\n",
    "        x_col='ImageId', \n",
    "        y_col='defect_label', \n",
    "        class_mode='raw',\n",
    "        target_size=(IMAGE_SIZE, IMAGE_SIZE),\n",
    "        batch_size=BATCH_SIZE,\n",
    "        )\n",
    "\n",
    "val_gen =  val_generator.flow_from_dataframe(\n",
    "        df_val, \n",
    "        directory='../tmp/val',\n",
    "        x_col='ImageId', \n",
    "        y_col='defect_label', \n",
    "        class_mode='raw',\n",
    "        target_size=(IMAGE_SIZE, IMAGE_SIZE),\n",
    "        batch_size=BATCH_SIZE,\n",
    "        )\n",
    "test_gen =  val_generator.flow_from_dataframe(\n",
    "        df_test, \n",
    "        directory='../tmp/test',\n",
    "        x_col='ImageId', \n",
    "        y_col='defect_label', \n",
    "        class_mode='raw',\n",
    "        target_size=(IMAGE_SIZE, IMAGE_SIZE),\n",
    "        batch_size=BATCH_SIZE,\n",
    "        shuffle=False\n",
    "        )\n",
    "\n",
    "submission_gen = ImageDataGenerator(rescale=1/255.).flow_from_dataframe(\n",
    "        submission_df,\n",
    "        directory='../input/severstal-steel-defect-detection/test_images/',\n",
    "        x_col='ImageId',\n",
    "        class_mode=None,\n",
    "        target_size=(64, 64),\n",
    "        batch_size=BATCH_SIZE,\n",
    "        shuffle=False\n",
    "    )"
   ]
  },
  {
   "cell_type": "markdown",
   "metadata": {
    "papermill": {
     "duration": 0.676991,
     "end_time": "2021-03-19T05:34:51.725114",
     "exception": false,
     "start_time": "2021-03-19T05:34:51.048123",
     "status": "completed"
    },
    "tags": []
   },
   "source": [
    "## Define Model"
   ]
  },
  {
   "cell_type": "code",
   "execution_count": 10,
   "metadata": {
    "_cell_guid": "b1076dfc-b9ad-4769-8c92-a6c4dae69d19",
    "_uuid": "8f2839f25d086af736a60e9eeb907d3b93b6e0e5",
    "execution": {
     "iopub.execute_input": "2021-03-19T05:34:53.095649Z",
     "iopub.status.busy": "2021-03-19T05:34:53.095119Z",
     "iopub.status.idle": "2021-03-19T05:35:00.989743Z",
     "shell.execute_reply": "2021-03-19T05:35:00.989225Z"
    },
    "papermill": {
     "duration": 8.583678,
     "end_time": "2021-03-19T05:35:00.989908",
     "exception": false,
     "start_time": "2021-03-19T05:34:52.406230",
     "status": "completed"
    },
    "tags": []
   },
   "outputs": [
    {
     "name": "stdout",
     "output_type": "stream",
     "text": [
      "Model: \"sequential\"\n",
      "_________________________________________________________________\n",
      "Layer (type)                 Output Shape              Param #   \n",
      "=================================================================\n",
      "densenet121 (Functional)     (None, 8, 8, 1024)        7037504   \n",
      "_________________________________________________________________\n",
      "global_average_pooling2d (Gl (None, 1024)              0         \n",
      "_________________________________________________________________\n",
      "batch_normalization (BatchNo (None, 1024)              4096      \n",
      "_________________________________________________________________\n",
      "dropout (Dropout)            (None, 1024)              0         \n",
      "_________________________________________________________________\n",
      "dense (Dense)                (None, 512)               524800    \n",
      "_________________________________________________________________\n",
      "batch_normalization_1 (Batch (None, 512)               2048      \n",
      "_________________________________________________________________\n",
      "dropout_1 (Dropout)          (None, 512)               0         \n",
      "_________________________________________________________________\n",
      "dense_1 (Dense)              (None, 1)                 513       \n",
      "=================================================================\n",
      "Total params: 7,568,961\n",
      "Trainable params: 7,482,241\n",
      "Non-trainable params: 86,720\n",
      "_________________________________________________________________\n"
     ]
    }
   ],
   "source": [
    "input_shape = (IMAGE_SIZE,IMAGE_SIZE,3)\n",
    "\n",
    "def build_model():\n",
    "    \n",
    "    densenet = DenseNet121(\n",
    "        include_top=False,\n",
    "        input_shape=(256,256,3),\n",
    "        weights='../input/keras-densenet/DenseNet-BC-121-32-no-top.h5'\n",
    "    )\n",
    "    \n",
    "    model = Sequential()\n",
    "    model.add(densenet)\n",
    "    model.add(layers.GlobalAveragePooling2D())\n",
    "    model.add(layers.BatchNormalization())\n",
    "    model.add(layers.Dropout(0.5))\n",
    "    model.add(layers.Dense(512, activation='relu'))\n",
    "    model.add(layers.BatchNormalization())\n",
    "    model.add(layers.Dropout(0.5))\n",
    "    model.add(layers.Dense(1, activation='sigmoid'))\n",
    "    \n",
    "    model.compile(\n",
    "        loss='binary_crossentropy',\n",
    "        optimizer=Nadam(),\n",
    "        metrics=['accuracy']    )\n",
    "    \n",
    "    return model\n",
    "model = build_model()\n",
    "model.summary()"
   ]
  },
  {
   "cell_type": "markdown",
   "metadata": {
    "papermill": {
     "duration": 0.669196,
     "end_time": "2021-03-19T05:35:02.387405",
     "exception": false,
     "start_time": "2021-03-19T05:35:01.718209",
     "status": "completed"
    },
    "tags": []
   },
   "source": [
    "## Model training"
   ]
  },
  {
   "cell_type": "code",
   "execution_count": 11,
   "metadata": {
    "_cell_guid": "b1076dfc-b9ad-4769-8c92-a6c4dae69d19",
    "_uuid": "8f2839f25d086af736a60e9eeb907d3b93b6e0e5",
    "execution": {
     "iopub.execute_input": "2021-03-19T05:35:03.769609Z",
     "iopub.status.busy": "2021-03-19T05:35:03.767876Z",
     "iopub.status.idle": "2021-03-19T05:35:03.770200Z",
     "shell.execute_reply": "2021-03-19T05:35:03.770588Z"
    },
    "papermill": {
     "duration": 0.682451,
     "end_time": "2021-03-19T05:35:03.770717",
     "exception": false,
     "start_time": "2021-03-19T05:35:03.088266",
     "status": "completed"
    },
    "tags": []
   },
   "outputs": [],
   "source": [
    "epochs = 100\n",
    "\n",
    "import math\n",
    "# We take the ceiling because we do not drop the remainder of the batch\n",
    "compute_steps_per_epoch = lambda x: int(math.ceil(1. * x / BATCH_SIZE))\n",
    "\n",
    "steps_per_epoch = compute_steps_per_epoch(df_train.shape[0])\n",
    "validation_steps = compute_steps_per_epoch(df_val.shape[0])\n",
    "\n",
    "es = EarlyStopping(monitor='val_loss', mode='min', verbose=2, patience=36)\n",
    "reduce_lr = ReduceLROnPlateau(monitor='val_loss', patience=15, verbose=1, min_lr=1e-6)\n",
    "\n",
    "mc = ModelCheckpoint(\n",
    "    'model.h5', \n",
    "    monitor='val_accuracy', \n",
    "    verbose=1, \n",
    "    save_best_only=True, \n",
    "    save_weights_only=False,\n",
    "    mode='auto'\n",
    ")"
   ]
  },
  {
   "cell_type": "code",
   "execution_count": 12,
   "metadata": {
    "_cell_guid": "b1076dfc-b9ad-4769-8c92-a6c4dae69d19",
    "_uuid": "8f2839f25d086af736a60e9eeb907d3b93b6e0e5",
    "execution": {
     "iopub.execute_input": "2021-03-19T05:35:05.162215Z",
     "iopub.status.busy": "2021-03-19T05:35:05.161541Z",
     "iopub.status.idle": "2021-03-19T09:34:43.894414Z",
     "shell.execute_reply": "2021-03-19T09:34:43.893716Z"
    },
    "papermill": {
     "duration": 14379.411275,
     "end_time": "2021-03-19T09:34:43.894599",
     "exception": false,
     "start_time": "2021-03-19T05:35:04.483324",
     "status": "completed"
    },
    "tags": []
   },
   "outputs": [
    {
     "name": "stdout",
     "output_type": "stream",
     "text": [
      "Epoch 1/100\n",
      "236/236 [==============================] - 181s 630ms/step - loss: 0.7063 - accuracy: 0.6956 - val_loss: 0.9273 - val_accuracy: 0.6874\n",
      "\n",
      "Epoch 00001: val_accuracy improved from -inf to 0.68735, saving model to model.h5\n",
      "Epoch 2/100\n",
      "236/236 [==============================] - 146s 617ms/step - loss: 0.3773 - accuracy: 0.8229 - val_loss: 0.3437 - val_accuracy: 0.8604\n",
      "\n",
      "Epoch 00002: val_accuracy improved from 0.68735 to 0.86038, saving model to model.h5\n",
      "Epoch 3/100\n",
      "236/236 [==============================] - 145s 615ms/step - loss: 0.3294 - accuracy: 0.8564 - val_loss: 0.3078 - val_accuracy: 0.8747\n",
      "\n",
      "Epoch 00003: val_accuracy improved from 0.86038 to 0.87470, saving model to model.h5\n",
      "Epoch 4/100\n",
      "236/236 [==============================] - 146s 617ms/step - loss: 0.2649 - accuracy: 0.8911 - val_loss: 2.2885 - val_accuracy: 0.5084\n",
      "\n",
      "Epoch 00004: val_accuracy did not improve from 0.87470\n",
      "Epoch 5/100\n",
      "236/236 [==============================] - 147s 621ms/step - loss: 0.2410 - accuracy: 0.8955 - val_loss: 0.9822 - val_accuracy: 0.5959\n",
      "\n",
      "Epoch 00005: val_accuracy did not improve from 0.87470\n",
      "Epoch 6/100\n",
      "236/236 [==============================] - 146s 618ms/step - loss: 0.2375 - accuracy: 0.9015 - val_loss: 0.2389 - val_accuracy: 0.9037\n",
      "\n",
      "Epoch 00006: val_accuracy improved from 0.87470 to 0.90374, saving model to model.h5\n",
      "Epoch 7/100\n",
      "236/236 [==============================] - 146s 617ms/step - loss: 0.2369 - accuracy: 0.8994 - val_loss: 0.5154 - val_accuracy: 0.8099\n",
      "\n",
      "Epoch 00007: val_accuracy did not improve from 0.90374\n",
      "Epoch 8/100\n",
      "236/236 [==============================] - 146s 617ms/step - loss: 0.2238 - accuracy: 0.9129 - val_loss: 0.2545 - val_accuracy: 0.8962\n",
      "\n",
      "Epoch 00008: val_accuracy did not improve from 0.90374\n",
      "Epoch 9/100\n",
      "236/236 [==============================] - 147s 619ms/step - loss: 0.2268 - accuracy: 0.9124 - val_loss: 0.2427 - val_accuracy: 0.9037\n",
      "\n",
      "Epoch 00009: val_accuracy did not improve from 0.90374\n",
      "Epoch 10/100\n",
      "236/236 [==============================] - 147s 620ms/step - loss: 0.2249 - accuracy: 0.9121 - val_loss: 1.4382 - val_accuracy: 0.7554\n",
      "\n",
      "Epoch 00010: val_accuracy did not improve from 0.90374\n",
      "Epoch 11/100\n",
      "236/236 [==============================] - 147s 621ms/step - loss: 0.2242 - accuracy: 0.9135 - val_loss: 2.0215 - val_accuracy: 0.5426\n",
      "\n",
      "Epoch 00011: val_accuracy did not improve from 0.90374\n",
      "Epoch 12/100\n",
      "236/236 [==============================] - 146s 620ms/step - loss: 0.2082 - accuracy: 0.9140 - val_loss: 2.2203 - val_accuracy: 0.5008\n",
      "\n",
      "Epoch 00012: val_accuracy did not improve from 0.90374\n",
      "Epoch 13/100\n",
      "236/236 [==============================] - 147s 624ms/step - loss: 0.1953 - accuracy: 0.9201 - val_loss: 0.4637 - val_accuracy: 0.8198\n",
      "\n",
      "Epoch 00013: val_accuracy did not improve from 0.90374\n",
      "Epoch 14/100\n",
      "236/236 [==============================] - 146s 620ms/step - loss: 0.1879 - accuracy: 0.9220 - val_loss: 0.2241 - val_accuracy: 0.9097\n",
      "\n",
      "Epoch 00014: val_accuracy improved from 0.90374 to 0.90971, saving model to model.h5\n",
      "Epoch 15/100\n",
      "236/236 [==============================] - 148s 628ms/step - loss: 0.2004 - accuracy: 0.9175 - val_loss: 2.0206 - val_accuracy: 0.5843\n",
      "\n",
      "Epoch 00015: val_accuracy did not improve from 0.90971\n",
      "Epoch 16/100\n",
      "236/236 [==============================] - 147s 622ms/step - loss: 0.1802 - accuracy: 0.9267 - val_loss: 0.2701 - val_accuracy: 0.8982\n",
      "\n",
      "Epoch 00016: val_accuracy did not improve from 0.90971\n",
      "Epoch 17/100\n",
      "236/236 [==============================] - 147s 621ms/step - loss: 0.1873 - accuracy: 0.9249 - val_loss: 0.5918 - val_accuracy: 0.8111\n",
      "\n",
      "Epoch 00017: val_accuracy did not improve from 0.90971\n",
      "Epoch 18/100\n",
      "236/236 [==============================] - 149s 630ms/step - loss: 0.1864 - accuracy: 0.9260 - val_loss: 0.3991 - val_accuracy: 0.8150\n",
      "\n",
      "Epoch 00018: val_accuracy did not improve from 0.90971\n",
      "Epoch 19/100\n",
      "236/236 [==============================] - 147s 624ms/step - loss: 0.1798 - accuracy: 0.9266 - val_loss: 0.2815 - val_accuracy: 0.8850\n",
      "\n",
      "Epoch 00019: val_accuracy did not improve from 0.90971\n",
      "Epoch 20/100\n",
      "236/236 [==============================] - 147s 621ms/step - loss: 0.1861 - accuracy: 0.9301 - val_loss: 0.3849 - val_accuracy: 0.8457\n",
      "\n",
      "Epoch 00020: val_accuracy did not improve from 0.90971\n",
      "Epoch 21/100\n",
      "236/236 [==============================] - 149s 629ms/step - loss: 0.1810 - accuracy: 0.9302 - val_loss: 3.4619 - val_accuracy: 0.5362\n",
      "\n",
      "Epoch 00021: val_accuracy did not improve from 0.90971\n",
      "Epoch 22/100\n",
      "236/236 [==============================] - 149s 630ms/step - loss: 0.1701 - accuracy: 0.9351 - val_loss: 1.2171 - val_accuracy: 0.7096\n",
      "\n",
      "Epoch 00022: val_accuracy did not improve from 0.90971\n",
      "Epoch 23/100\n",
      "236/236 [==============================] - 147s 623ms/step - loss: 0.1781 - accuracy: 0.9304 - val_loss: 0.2740 - val_accuracy: 0.8886\n",
      "\n",
      "Epoch 00023: val_accuracy did not improve from 0.90971\n",
      "Epoch 24/100\n",
      "236/236 [==============================] - 149s 630ms/step - loss: 0.1678 - accuracy: 0.9340 - val_loss: 0.7427 - val_accuracy: 0.7936\n",
      "\n",
      "Epoch 00024: val_accuracy did not improve from 0.90971\n",
      "Epoch 25/100\n",
      "236/236 [==============================] - 148s 625ms/step - loss: 0.1620 - accuracy: 0.9363 - val_loss: 0.2582 - val_accuracy: 0.9041\n",
      "\n",
      "Epoch 00025: val_accuracy did not improve from 0.90971\n",
      "Epoch 26/100\n",
      "236/236 [==============================] - 149s 629ms/step - loss: 0.1732 - accuracy: 0.9308 - val_loss: 0.2120 - val_accuracy: 0.9125\n",
      "\n",
      "Epoch 00026: val_accuracy improved from 0.90971 to 0.91249, saving model to model.h5\n",
      "Epoch 27/100\n",
      "236/236 [==============================] - 148s 626ms/step - loss: 0.1709 - accuracy: 0.9327 - val_loss: 0.3373 - val_accuracy: 0.8771\n",
      "\n",
      "Epoch 00027: val_accuracy did not improve from 0.91249\n",
      "Epoch 28/100\n",
      "236/236 [==============================] - 148s 625ms/step - loss: 0.1515 - accuracy: 0.9395 - val_loss: 0.4272 - val_accuracy: 0.8039\n",
      "\n",
      "Epoch 00028: val_accuracy did not improve from 0.91249\n",
      "Epoch 29/100\n",
      "236/236 [==============================] - 148s 626ms/step - loss: 0.1436 - accuracy: 0.9464 - val_loss: 3.9107 - val_accuracy: 0.5322\n",
      "\n",
      "Epoch 00029: val_accuracy did not improve from 0.91249\n",
      "Epoch 30/100\n",
      "236/236 [==============================] - 148s 626ms/step - loss: 0.1550 - accuracy: 0.9387 - val_loss: 3.4257 - val_accuracy: 0.6054\n",
      "\n",
      "Epoch 00030: val_accuracy did not improve from 0.91249\n",
      "Epoch 31/100\n",
      "236/236 [==============================] - 148s 624ms/step - loss: 0.1608 - accuracy: 0.9379 - val_loss: 0.2192 - val_accuracy: 0.9185\n",
      "\n",
      "Epoch 00031: val_accuracy improved from 0.91249 to 0.91846, saving model to model.h5\n",
      "Epoch 32/100\n",
      "236/236 [==============================] - 148s 627ms/step - loss: 0.1368 - accuracy: 0.9493 - val_loss: 0.3820 - val_accuracy: 0.8496\n",
      "\n",
      "Epoch 00032: val_accuracy did not improve from 0.91846\n",
      "Epoch 33/100\n",
      "236/236 [==============================] - 149s 631ms/step - loss: 0.1484 - accuracy: 0.9414 - val_loss: 0.4927 - val_accuracy: 0.8083\n",
      "\n",
      "Epoch 00033: val_accuracy did not improve from 0.91846\n",
      "Epoch 34/100\n",
      "236/236 [==============================] - 150s 634ms/step - loss: 0.1490 - accuracy: 0.9459 - val_loss: 0.2527 - val_accuracy: 0.9105\n",
      "\n",
      "Epoch 00034: val_accuracy did not improve from 0.91846\n",
      "Epoch 35/100\n",
      "236/236 [==============================] - 149s 630ms/step - loss: 0.1447 - accuracy: 0.9497 - val_loss: 0.7239 - val_accuracy: 0.7896\n",
      "\n",
      "Epoch 00035: val_accuracy did not improve from 0.91846\n",
      "Epoch 36/100\n",
      "236/236 [==============================] - 150s 634ms/step - loss: 0.1464 - accuracy: 0.9426 - val_loss: 0.4454 - val_accuracy: 0.8107\n",
      "\n",
      "Epoch 00036: val_accuracy did not improve from 0.91846\n",
      "Epoch 37/100\n",
      "236/236 [==============================] - 150s 635ms/step - loss: 0.1407 - accuracy: 0.9473 - val_loss: 0.5215 - val_accuracy: 0.8051\n",
      "\n",
      "Epoch 00037: val_accuracy did not improve from 0.91846\n",
      "Epoch 38/100\n",
      "236/236 [==============================] - 150s 632ms/step - loss: 0.1257 - accuracy: 0.9512 - val_loss: 0.9186 - val_accuracy: 0.7359\n",
      "\n",
      "Epoch 00038: val_accuracy did not improve from 0.91846\n",
      "Epoch 39/100\n",
      "236/236 [==============================] - 150s 636ms/step - loss: 0.1314 - accuracy: 0.9477 - val_loss: 0.2610 - val_accuracy: 0.9065\n",
      "\n",
      "Epoch 00039: val_accuracy did not improve from 0.91846\n",
      "Epoch 40/100\n",
      "236/236 [==============================] - 151s 636ms/step - loss: 0.1266 - accuracy: 0.9475 - val_loss: 0.2888 - val_accuracy: 0.9014\n",
      "\n",
      "Epoch 00040: val_accuracy did not improve from 0.91846\n",
      "Epoch 41/100\n",
      "236/236 [==============================] - 150s 633ms/step - loss: 0.1333 - accuracy: 0.9446 - val_loss: 0.6286 - val_accuracy: 0.8369\n",
      "\n",
      "Epoch 00041: val_accuracy did not improve from 0.91846\n",
      "\n",
      "Epoch 00041: ReduceLROnPlateau reducing learning rate to 0.00010000000474974513.\n",
      "Epoch 42/100\n",
      "236/236 [==============================] - 152s 640ms/step - loss: 0.1029 - accuracy: 0.9637 - val_loss: 0.4293 - val_accuracy: 0.8644\n",
      "\n",
      "Epoch 00042: val_accuracy did not improve from 0.91846\n",
      "Epoch 43/100\n",
      "236/236 [==============================] - 151s 639ms/step - loss: 0.0824 - accuracy: 0.9675 - val_loss: 1.6453 - val_accuracy: 0.6675\n",
      "\n",
      "Epoch 00043: val_accuracy did not improve from 0.91846\n",
      "Epoch 44/100\n",
      "236/236 [==============================] - 151s 638ms/step - loss: 0.0888 - accuracy: 0.9710 - val_loss: 0.9662 - val_accuracy: 0.7621\n",
      "\n",
      "Epoch 00044: val_accuracy did not improve from 0.91846\n",
      "Epoch 45/100\n",
      "236/236 [==============================] - 151s 639ms/step - loss: 0.0778 - accuracy: 0.9726 - val_loss: 0.3404 - val_accuracy: 0.9021\n",
      "\n",
      "Epoch 00045: val_accuracy did not improve from 0.91846\n",
      "Epoch 46/100\n",
      "236/236 [==============================] - 152s 643ms/step - loss: 0.0708 - accuracy: 0.9738 - val_loss: 1.0539 - val_accuracy: 0.7705\n",
      "\n",
      "Epoch 00046: val_accuracy did not improve from 0.91846\n",
      "Epoch 47/100\n",
      "236/236 [==============================] - 151s 639ms/step - loss: 0.0731 - accuracy: 0.9717 - val_loss: 0.2322 - val_accuracy: 0.9328\n",
      "\n",
      "Epoch 00047: val_accuracy improved from 0.91846 to 0.93278, saving model to model.h5\n",
      "Epoch 48/100\n",
      "236/236 [==============================] - 151s 639ms/step - loss: 0.0791 - accuracy: 0.9707 - val_loss: 0.2621 - val_accuracy: 0.9280\n",
      "\n",
      "Epoch 00048: val_accuracy did not improve from 0.93278\n",
      "Epoch 49/100\n",
      "236/236 [==============================] - 150s 633ms/step - loss: 0.0584 - accuracy: 0.9794 - val_loss: 0.8662 - val_accuracy: 0.8186\n",
      "\n",
      "Epoch 00049: val_accuracy did not improve from 0.93278\n",
      "Epoch 50/100\n",
      "236/236 [==============================] - 147s 622ms/step - loss: 0.0548 - accuracy: 0.9786 - val_loss: 0.2041 - val_accuracy: 0.9491\n",
      "\n",
      "Epoch 00050: val_accuracy improved from 0.93278 to 0.94909, saving model to model.h5\n",
      "Epoch 51/100\n",
      "236/236 [==============================] - 146s 619ms/step - loss: 0.0633 - accuracy: 0.9779 - val_loss: 0.2614 - val_accuracy: 0.9264\n",
      "\n",
      "Epoch 00051: val_accuracy did not improve from 0.94909\n",
      "Epoch 52/100\n",
      "236/236 [==============================] - 150s 636ms/step - loss: 0.0605 - accuracy: 0.9779 - val_loss: 0.2762 - val_accuracy: 0.9296\n",
      "\n",
      "Epoch 00052: val_accuracy did not improve from 0.94909\n",
      "Epoch 53/100\n",
      "236/236 [==============================] - 147s 622ms/step - loss: 0.0581 - accuracy: 0.9769 - val_loss: 0.4764 - val_accuracy: 0.8763\n",
      "\n",
      "Epoch 00053: val_accuracy did not improve from 0.94909\n",
      "Epoch 54/100\n",
      "236/236 [==============================] - 148s 628ms/step - loss: 0.0595 - accuracy: 0.9762 - val_loss: 0.3750 - val_accuracy: 0.9045\n",
      "\n",
      "Epoch 00054: val_accuracy did not improve from 0.94909\n",
      "Epoch 55/100\n",
      "236/236 [==============================] - 148s 625ms/step - loss: 0.0586 - accuracy: 0.9771 - val_loss: 0.8054 - val_accuracy: 0.8262\n",
      "\n",
      "Epoch 00055: val_accuracy did not improve from 0.94909\n",
      "Epoch 56/100\n",
      "236/236 [==============================] - 148s 628ms/step - loss: 0.0576 - accuracy: 0.9784 - val_loss: 0.2780 - val_accuracy: 0.9288\n",
      "\n",
      "Epoch 00056: val_accuracy did not improve from 0.94909\n",
      "Epoch 57/100\n",
      "236/236 [==============================] - 147s 624ms/step - loss: 0.0562 - accuracy: 0.9799 - val_loss: 0.2559 - val_accuracy: 0.9304\n",
      "\n",
      "Epoch 00057: val_accuracy did not improve from 0.94909\n",
      "Epoch 58/100\n",
      "236/236 [==============================] - 150s 633ms/step - loss: 0.0541 - accuracy: 0.9816 - val_loss: 0.2861 - val_accuracy: 0.9232\n",
      "\n",
      "Epoch 00058: val_accuracy did not improve from 0.94909\n",
      "Epoch 59/100\n",
      "236/236 [==============================] - 147s 624ms/step - loss: 0.0528 - accuracy: 0.9784 - val_loss: 0.4022 - val_accuracy: 0.9014\n",
      "\n",
      "Epoch 00059: val_accuracy did not improve from 0.94909\n",
      "Epoch 60/100\n",
      "236/236 [==============================] - 148s 628ms/step - loss: 0.0451 - accuracy: 0.9831 - val_loss: 0.1949 - val_accuracy: 0.9491\n",
      "\n",
      "Epoch 00060: val_accuracy did not improve from 0.94909\n",
      "Epoch 61/100\n",
      "236/236 [==============================] - 148s 628ms/step - loss: 0.0477 - accuracy: 0.9807 - val_loss: 0.3494 - val_accuracy: 0.9169\n",
      "\n",
      "Epoch 00061: val_accuracy did not improve from 0.94909\n",
      "Epoch 62/100\n",
      "236/236 [==============================] - 148s 629ms/step - loss: 0.0404 - accuracy: 0.9841 - val_loss: 0.9139 - val_accuracy: 0.8274\n",
      "\n",
      "Epoch 00062: val_accuracy did not improve from 0.94909\n",
      "Epoch 63/100\n",
      "236/236 [==============================] - 148s 625ms/step - loss: 0.0436 - accuracy: 0.9834 - val_loss: 0.4410 - val_accuracy: 0.8918\n",
      "\n",
      "Epoch 00063: val_accuracy did not improve from 0.94909\n",
      "Epoch 64/100\n",
      "236/236 [==============================] - 149s 627ms/step - loss: 0.0422 - accuracy: 0.9849 - val_loss: 0.5470 - val_accuracy: 0.8743\n",
      "\n",
      "Epoch 00064: val_accuracy did not improve from 0.94909\n",
      "Epoch 65/100\n",
      "236/236 [==============================] - 151s 636ms/step - loss: 0.0404 - accuracy: 0.9824 - val_loss: 0.2051 - val_accuracy: 0.9491\n",
      "\n",
      "Epoch 00065: val_accuracy did not improve from 0.94909\n",
      "Epoch 66/100\n",
      "236/236 [==============================] - 149s 630ms/step - loss: 0.0417 - accuracy: 0.9844 - val_loss: 1.2745 - val_accuracy: 0.7681\n",
      "\n",
      "Epoch 00066: val_accuracy did not improve from 0.94909\n",
      "Epoch 67/100\n",
      "236/236 [==============================] - 149s 631ms/step - loss: 0.0368 - accuracy: 0.9867 - val_loss: 0.4669 - val_accuracy: 0.8906\n",
      "\n",
      "Epoch 00067: val_accuracy did not improve from 0.94909\n",
      "Epoch 68/100\n",
      "236/236 [==============================] - 149s 630ms/step - loss: 0.0368 - accuracy: 0.9863 - val_loss: 0.5305 - val_accuracy: 0.8783\n",
      "\n",
      "Epoch 00068: val_accuracy did not improve from 0.94909\n",
      "Epoch 69/100\n",
      "236/236 [==============================] - 149s 631ms/step - loss: 0.0358 - accuracy: 0.9865 - val_loss: 0.9639 - val_accuracy: 0.8270\n",
      "\n",
      "Epoch 00069: val_accuracy did not improve from 0.94909\n",
      "Epoch 70/100\n",
      "236/236 [==============================] - 148s 629ms/step - loss: 0.0319 - accuracy: 0.9891 - val_loss: 0.2490 - val_accuracy: 0.9387\n",
      "\n",
      "Epoch 00070: val_accuracy did not improve from 0.94909\n",
      "Epoch 71/100\n",
      "236/236 [==============================] - 150s 634ms/step - loss: 0.0307 - accuracy: 0.9877 - val_loss: 0.5124 - val_accuracy: 0.8839\n",
      "\n",
      "Epoch 00071: val_accuracy did not improve from 0.94909\n",
      "Epoch 72/100\n",
      "236/236 [==============================] - 148s 626ms/step - loss: 0.0369 - accuracy: 0.9872 - val_loss: 0.3357 - val_accuracy: 0.9065\n",
      "\n",
      "Epoch 00072: val_accuracy did not improve from 0.94909\n",
      "Epoch 73/100\n",
      "236/236 [==============================] - 150s 634ms/step - loss: 0.0403 - accuracy: 0.9855 - val_loss: 0.2337 - val_accuracy: 0.9387\n",
      "\n",
      "Epoch 00073: val_accuracy did not improve from 0.94909\n",
      "Epoch 74/100\n",
      "236/236 [==============================] - 155s 655ms/step - loss: 0.0337 - accuracy: 0.9864 - val_loss: 0.2342 - val_accuracy: 0.9459\n",
      "\n",
      "Epoch 00074: val_accuracy did not improve from 0.94909\n",
      "Epoch 75/100\n",
      "236/236 [==============================] - 152s 642ms/step - loss: 0.0421 - accuracy: 0.9863 - val_loss: 1.7245 - val_accuracy: 0.7478\n",
      "\n",
      "Epoch 00075: val_accuracy did not improve from 0.94909\n",
      "\n",
      "Epoch 00075: ReduceLROnPlateau reducing learning rate to 1.0000000474974514e-05.\n",
      "Epoch 76/100\n",
      "236/236 [==============================] - 150s 634ms/step - loss: 0.0307 - accuracy: 0.9899 - val_loss: 0.4099 - val_accuracy: 0.9081\n",
      "\n",
      "Epoch 00076: val_accuracy did not improve from 0.94909\n",
      "Epoch 77/100\n",
      "236/236 [==============================] - 150s 635ms/step - loss: 0.0244 - accuracy: 0.9906 - val_loss: 0.3416 - val_accuracy: 0.9208\n",
      "\n",
      "Epoch 00077: val_accuracy did not improve from 0.94909\n",
      "Epoch 78/100\n",
      "236/236 [==============================] - 151s 639ms/step - loss: 0.0266 - accuracy: 0.9919 - val_loss: 0.5159 - val_accuracy: 0.8914\n",
      "\n",
      "Epoch 00078: val_accuracy did not improve from 0.94909\n",
      "Epoch 79/100\n",
      "236/236 [==============================] - 152s 642ms/step - loss: 0.0248 - accuracy: 0.9911 - val_loss: 0.4261 - val_accuracy: 0.9061\n",
      "\n",
      "Epoch 00079: val_accuracy did not improve from 0.94909\n",
      "Epoch 80/100\n",
      "236/236 [==============================] - 151s 638ms/step - loss: 0.0260 - accuracy: 0.9905 - val_loss: 0.3804 - val_accuracy: 0.9161\n",
      "\n",
      "Epoch 00080: val_accuracy did not improve from 0.94909\n",
      "Epoch 81/100\n",
      "236/236 [==============================] - 152s 640ms/step - loss: 0.0285 - accuracy: 0.9905 - val_loss: 0.4970 - val_accuracy: 0.8934\n",
      "\n",
      "Epoch 00081: val_accuracy did not improve from 0.94909\n",
      "Epoch 82/100\n",
      "236/236 [==============================] - 151s 636ms/step - loss: 0.0256 - accuracy: 0.9928 - val_loss: 0.4238 - val_accuracy: 0.9093\n",
      "\n",
      "Epoch 00082: val_accuracy did not improve from 0.94909\n",
      "Epoch 83/100\n",
      "236/236 [==============================] - 151s 638ms/step - loss: 0.0196 - accuracy: 0.9941 - val_loss: 0.4122 - val_accuracy: 0.9101\n",
      "\n",
      "Epoch 00083: val_accuracy did not improve from 0.94909\n",
      "Epoch 84/100\n",
      "236/236 [==============================] - 152s 641ms/step - loss: 0.0234 - accuracy: 0.9923 - val_loss: 0.4533 - val_accuracy: 0.9025\n",
      "\n",
      "Epoch 00084: val_accuracy did not improve from 0.94909\n",
      "Epoch 85/100\n",
      "236/236 [==============================] - 152s 643ms/step - loss: 0.0224 - accuracy: 0.9915 - val_loss: 0.3627 - val_accuracy: 0.9185\n",
      "\n",
      "Epoch 00085: val_accuracy did not improve from 0.94909\n",
      "Epoch 86/100\n",
      "236/236 [==============================] - 151s 639ms/step - loss: 0.0298 - accuracy: 0.9895 - val_loss: 0.5034 - val_accuracy: 0.8942\n",
      "\n",
      "Epoch 00086: val_accuracy did not improve from 0.94909\n",
      "Epoch 87/100\n",
      "236/236 [==============================] - 152s 641ms/step - loss: 0.0301 - accuracy: 0.9892 - val_loss: 0.4090 - val_accuracy: 0.9105\n",
      "\n",
      "Epoch 00087: val_accuracy did not improve from 0.94909\n",
      "Epoch 88/100\n",
      "236/236 [==============================] - 152s 643ms/step - loss: 0.0267 - accuracy: 0.9917 - val_loss: 0.4173 - val_accuracy: 0.9097\n",
      "\n",
      "Epoch 00088: val_accuracy did not improve from 0.94909\n",
      "Epoch 89/100\n",
      "236/236 [==============================] - 152s 643ms/step - loss: 0.0252 - accuracy: 0.9913 - val_loss: 0.5063 - val_accuracy: 0.8914\n",
      "\n",
      "Epoch 00089: val_accuracy did not improve from 0.94909\n",
      "Epoch 90/100\n",
      "236/236 [==============================] - 152s 642ms/step - loss: 0.0295 - accuracy: 0.9908 - val_loss: 0.4686 - val_accuracy: 0.9025\n",
      "\n",
      "Epoch 00090: val_accuracy did not improve from 0.94909\n",
      "\n",
      "Epoch 00090: ReduceLROnPlateau reducing learning rate to 1.0000000656873453e-06.\n",
      "Epoch 91/100\n",
      "236/236 [==============================] - 152s 644ms/step - loss: 0.0305 - accuracy: 0.9907 - val_loss: 0.4596 - val_accuracy: 0.9045\n",
      "\n",
      "Epoch 00091: val_accuracy did not improve from 0.94909\n",
      "Epoch 92/100\n",
      "236/236 [==============================] - 151s 636ms/step - loss: 0.0233 - accuracy: 0.9907 - val_loss: 0.4493 - val_accuracy: 0.9049\n",
      "\n",
      "Epoch 00092: val_accuracy did not improve from 0.94909\n",
      "Epoch 93/100\n",
      "236/236 [==============================] - 152s 640ms/step - loss: 0.0187 - accuracy: 0.9933 - val_loss: 0.4557 - val_accuracy: 0.9049\n",
      "\n",
      "Epoch 00093: val_accuracy did not improve from 0.94909\n",
      "Epoch 94/100\n",
      "236/236 [==============================] - 152s 640ms/step - loss: 0.0222 - accuracy: 0.9917 - val_loss: 0.4579 - val_accuracy: 0.9045\n",
      "\n",
      "Epoch 00094: val_accuracy did not improve from 0.94909\n",
      "Epoch 95/100\n",
      "236/236 [==============================] - 153s 645ms/step - loss: 0.0319 - accuracy: 0.9886 - val_loss: 0.4446 - val_accuracy: 0.9057\n",
      "\n",
      "Epoch 00095: val_accuracy did not improve from 0.94909\n",
      "Epoch 96/100\n",
      "236/236 [==============================] - 153s 646ms/step - loss: 0.0252 - accuracy: 0.9904 - val_loss: 0.4560 - val_accuracy: 0.9053\n",
      "\n",
      "Epoch 00096: val_accuracy did not improve from 0.94909\n",
      "Epoch 00096: early stopping\n"
     ]
    }
   ],
   "source": [
    "history = model.fit(\n",
    "    train_gen,\n",
    "    steps_per_epoch= steps_per_epoch,\n",
    "    validation_data=val_gen,\n",
    "    validation_steps= validation_steps,\n",
    "    epochs=epochs,\n",
    "    callbacks=[mc,es,reduce_lr]\n",
    ")"
   ]
  },
  {
   "cell_type": "code",
   "execution_count": 13,
   "metadata": {
    "_cell_guid": "b1076dfc-b9ad-4769-8c92-a6c4dae69d19",
    "_uuid": "8f2839f25d086af736a60e9eeb907d3b93b6e0e5",
    "execution": {
     "iopub.execute_input": "2021-03-19T09:34:57.790434Z",
     "iopub.status.busy": "2021-03-19T09:34:57.789590Z",
     "iopub.status.idle": "2021-03-19T09:34:58.116229Z",
     "shell.execute_reply": "2021-03-19T09:34:58.116640Z"
    },
    "papermill": {
     "duration": 7.161715,
     "end_time": "2021-03-19T09:34:58.116789",
     "exception": false,
     "start_time": "2021-03-19T09:34:50.955074",
     "status": "completed"
    },
    "tags": []
   },
   "outputs": [
    {
     "data": {
      "image/png": "[encoded data removed]",
      "text/plain": [
       "<Figure size 1008x1152 with 2 Axes>"
      ]
     },
     "metadata": {
      "needs_background": "light"
     },
     "output_type": "display_data"
    }
   ],
   "source": [
    "def history_plot(model_id, history1):\n",
    "\tplt.figure(figsize=(14,16)) \n",
    "\t# plot loss\n",
    "\tplt.subplot(2, 1, 1)\n",
    "\tplt.title('Cross Entropy Loss - ' + model_id, fontsize = 12)\n",
    "\tplt.plot(history1.history['loss'], color='blue', label='train base')\n",
    "\tplt.plot(history1.history['val_loss'], color='cyan', label='val base')\n",
    "\tplt.xlabel(\"Epochs\",fontsize = 12)\n",
    "\tplt.ylabel(\"Loss\", fontsize = 12)\n",
    "\tplt.legend(loc='upper right')\n",
    "\n",
    "\t# plot accuracy\n",
    "\tplt.subplot(2, 1, 2)\n",
    "\tplt.title('Classification Accuracy ' + model_id, fontsize = 10)\n",
    "\tplt.plot(history1.history['accuracy'], color='blue', label='train base')\n",
    "\tplt.plot(history1.history['val_accuracy'], color='cyan', label='val base')\n",
    "\tplt.xlabel(\"Epochs\", fontsize = 12)\n",
    "\tplt.ylabel(\"Accuracy\", fontsize = 12)\n",
    "\tplt.legend(loc='lower right')\n",
    "\n",
    "\tplt.show()\n",
    "history_plot('CNN Model', history)"
   ]
  },
  {
   "cell_type": "code",
   "execution_count": 14,
   "metadata": {
    "_cell_guid": "b1076dfc-b9ad-4769-8c92-a6c4dae69d19",
    "_uuid": "8f2839f25d086af736a60e9eeb907d3b93b6e0e5",
    "execution": {
     "iopub.execute_input": "2021-03-19T09:35:12.074949Z",
     "iopub.status.busy": "2021-03-19T09:35:12.069975Z",
     "iopub.status.idle": "2021-03-19T09:35:24.593821Z",
     "shell.execute_reply": "2021-03-19T09:35:24.592999Z"
    },
    "papermill": {
     "duration": 19.88706,
     "end_time": "2021-03-19T09:35:24.593991",
     "exception": false,
     "start_time": "2021-03-19T09:35:04.706931",
     "status": "completed"
    },
    "tags": []
   },
   "outputs": [
    {
     "name": "stdout",
     "output_type": "stream",
     "text": [
      "predicting...\n",
      "79/79 [==============================] - 12s 133ms/step\n"
     ]
    }
   ],
   "source": [
    "# Save results as CSV files\n",
    "model.load_weights('model.h5')\n",
    "#saved_model = load_model(checkpoint_best_model)\n",
    "\n",
    "category_names = [\"No Defect\", \"Defect\"]\n",
    "\n",
    "y_test = df_test['defect_label']\n",
    "\n",
    "STEP_SIZE_TEST = compute_steps_per_epoch(y_test.shape[0])\n",
    "print('predicting...')\n",
    "\n",
    "predictions = model.predict(\n",
    "    test_gen,\n",
    "    steps = STEP_SIZE_TEST,\n",
    "    verbose=1)\n",
    "\n",
    "y_pred = (predictions > 0.5).astype(\"int32\")"
   ]
  },
  {
   "cell_type": "code",
   "execution_count": 15,
   "metadata": {
    "_cell_guid": "b1076dfc-b9ad-4769-8c92-a6c4dae69d19",
    "_uuid": "8f2839f25d086af736a60e9eeb907d3b93b6e0e5",
    "execution": {
     "iopub.execute_input": "2021-03-19T09:35:38.095027Z",
     "iopub.status.busy": "2021-03-19T09:35:38.094177Z",
     "iopub.status.idle": "2021-03-19T09:35:38.105614Z",
     "shell.execute_reply": "2021-03-19T09:35:38.106311Z"
    },
    "papermill": {
     "duration": 6.667446,
     "end_time": "2021-03-19T09:35:38.106495",
     "exception": false,
     "start_time": "2021-03-19T09:35:31.439049",
     "status": "completed"
    },
    "tags": []
   },
   "outputs": [
    {
     "name": "stdout",
     "output_type": "stream",
     "text": [
      "              precision    recall  f1-score   support\n",
      "\n",
      "   No Defect       0.94      0.95      0.95      1181\n",
      "      Defect       0.96      0.95      0.95      1333\n",
      "\n",
      "    accuracy                           0.95      2514\n",
      "   macro avg       0.95      0.95      0.95      2514\n",
      "weighted avg       0.95      0.95      0.95      2514\n",
      "\n"
     ]
    }
   ],
   "source": [
    "# classification report\n",
    "report_string = classification_report(y_test, y_pred, target_names=category_names)\n",
    "print(report_string)"
   ]
  },
  {
   "cell_type": "code",
   "execution_count": 16,
   "metadata": {
    "_cell_guid": "b1076dfc-b9ad-4769-8c92-a6c4dae69d19",
    "_uuid": "8f2839f25d086af736a60e9eeb907d3b93b6e0e5",
    "execution": {
     "iopub.execute_input": "2021-03-19T09:35:52.287273Z",
     "iopub.status.busy": "2021-03-19T09:35:52.286441Z",
     "iopub.status.idle": "2021-03-19T09:35:52.461202Z",
     "shell.execute_reply": "2021-03-19T09:35:52.461614Z"
    },
    "papermill": {
     "duration": 7.008489,
     "end_time": "2021-03-19T09:35:52.461758",
     "exception": false,
     "start_time": "2021-03-19T09:35:45.453269",
     "status": "completed"
    },
    "tags": []
   },
   "outputs": [
    {
     "data": {
      "image/png": "[encoded data removed]",
      "text/plain": [
       "<Figure size 432x360 with 2 Axes>"
      ]
     },
     "metadata": {
      "needs_background": "light"
     },
     "output_type": "display_data"
    }
   ],
   "source": [
    "def plot_cm(y_true, y_pred, figsize=(6,5)):\n",
    "    cm = confusion_matrix(y_true, y_pred, labels=np.unique(y_true))\n",
    "    cm_sum = np.sum(cm, axis=1, keepdims=True)\n",
    "    cm_perc = cm / cm_sum.astype(float) * 100\n",
    "    annot = np.empty_like(cm).astype(str)\n",
    "    nrows, ncols = cm.shape\n",
    "    for i in range(nrows):\n",
    "        for j in range(ncols):\n",
    "            c = cm[i, j]\n",
    "            p = cm_perc[i, j]\n",
    "            if i == j:\n",
    "                s = cm_sum[i]\n",
    "                annot[i, j] = '%.1f%%\\n%d/%d' % (p, c, s)\n",
    "            elif c == 0:\n",
    "                annot[i, j] = ''\n",
    "            elif i<j:\n",
    "                annot[i, j] = '%.1f%%\\n%d\\nFP' % (p, c)\n",
    "            else:\n",
    "                annot[i, j] = '%.1f%%\\n%d\\nFN' % (p, c)\n",
    "    #cm = pd.DataFrame(cm, index=np.unique(y_true), columns=np.unique(y_true))\n",
    "    cm = pd.DataFrame(cm, index=category_names, columns=category_names)\n",
    "    cm.index.name = 'Actual'\n",
    "    cm.columns.name = 'Predicted'\n",
    "    fig, ax = plt.subplots(figsize=figsize)\n",
    "    sns.set(font_scale=1.4)\n",
    "    sns.heatmap(cm, cmap= \"YlGnBu\", annot=annot, fmt='', ax=ax, annot_kws={\"fontsize\":12})\n",
    "plot_cm(y_test, y_pred, figsize=(6,5))"
   ]
  },
  {
   "cell_type": "code",
   "execution_count": 17,
   "metadata": {
    "_cell_guid": "b1076dfc-b9ad-4769-8c92-a6c4dae69d19",
    "_uuid": "8f2839f25d086af736a60e9eeb907d3b93b6e0e5",
    "execution": {
     "iopub.execute_input": "2021-03-19T09:36:05.815313Z",
     "iopub.status.busy": "2021-03-19T09:36:05.814439Z",
     "iopub.status.idle": "2021-03-19T09:36:06.008659Z",
     "shell.execute_reply": "2021-03-19T09:36:06.009077Z"
    },
    "papermill": {
     "duration": 7.052635,
     "end_time": "2021-03-19T09:36:06.009237",
     "exception": false,
     "start_time": "2021-03-19T09:35:58.956602",
     "status": "completed"
    },
    "tags": []
   },
   "outputs": [
    {
     "name": "stdout",
     "output_type": "stream",
     "text": [
      "ROC AUC=0.990\n"
     ]
    },
    {
     "data": {
      "image/png": "[encoded data removed]",
      "text/plain": [
       "<Figure size 432x288 with 1 Axes>"
      ]
     },
     "metadata": {},
     "output_type": "display_data"
    }
   ],
   "source": [
    "from sklearn.metrics import roc_curve, auc, roc_auc_score\n",
    "\n",
    "# calculate scores\n",
    "auc = roc_auc_score(y_test, predictions)\n",
    "# summarize scores\n",
    "print('ROC AUC=%.3f' % (auc))\n",
    "# calculate roc curves\n",
    "\n",
    "ns_fpr, ns_tpr, _ = roc_curve(y_test, predictions)\n",
    "\n",
    "# plot the roc curve for the model\n",
    "plt.plot(ns_fpr, ns_tpr, linestyle='--', label=\"AUC = \"+ str(auc))\n",
    "plt.plot([0, 1], [0, 1], color='navy', lw=2, linestyle='--')\n",
    "# axis labels\n",
    "plt.xlabel('False Positive Rate')\n",
    "plt.ylabel('True Positive Rate')\n",
    "# show the legend\n",
    "plt.legend()\n",
    "# show the plot\n",
    "plt.show()"
   ]
  },
  {
   "cell_type": "markdown",
   "metadata": {
    "papermill": {
     "duration": 7.330812,
     "end_time": "2021-03-19T09:36:19.927652",
     "exception": false,
     "start_time": "2021-03-19T09:36:12.596840",
     "status": "completed"
    },
    "tags": []
   },
   "source": [
    "## Save Model"
   ]
  },
  {
   "cell_type": "code",
   "execution_count": 18,
   "metadata": {
    "_cell_guid": "b1076dfc-b9ad-4769-8c92-a6c4dae69d19",
    "_uuid": "8f2839f25d086af736a60e9eeb907d3b93b6e0e5",
    "execution": {
     "iopub.execute_input": "2021-03-19T09:36:33.230986Z",
     "iopub.status.busy": "2021-03-19T09:36:33.215686Z",
     "iopub.status.idle": "2021-03-19T09:36:34.169413Z",
     "shell.execute_reply": "2021-03-19T09:36:34.173879Z"
    },
    "papermill": {
     "duration": 7.438631,
     "end_time": "2021-03-19T09:36:34.174134",
     "exception": false,
     "start_time": "2021-03-19T09:36:26.735503",
     "status": "completed"
    },
    "tags": []
   },
   "outputs": [],
   "source": [
    "model.save('severstal-classification-DenseNet.h5', save_format=\"h5\")\n"
   ]
  }
 ],
 "metadata": {
  "kernelspec": {
   "display_name": "Python 3",
   "language": "python",
   "name": "python3"
  },
  "language_info": {
   "codemirror_mode": {
    "name": "ipython",
    "version": 3
   },
   "file_extension": ".py",
   "mimetype": "text/x-python",
   "name": "python",
   "nbconvert_exporter": "python",
   "pygments_lexer": "ipython3",
   "version": "3.8.3"
  },
  "papermill": {
   "default_parameters": {},
   "duration": 14858.957012,
   "end_time": "2021-03-19T09:36:45.475728",
   "environment_variables": {},
   "exception": null,
   "input_path": "__notebook__.ipynb",
   "output_path": "__notebook__.ipynb",
   "parameters": {},
   "start_time": "2021-03-19T05:29:06.518716",
   "version": "2.2.2"
  }
 },
 "nbformat": 4,
 "nbformat_minor": 4
}
