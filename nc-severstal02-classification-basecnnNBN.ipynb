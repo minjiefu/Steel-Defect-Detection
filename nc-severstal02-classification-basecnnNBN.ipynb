{
 "cells": [
  {
   "cell_type": "code",
   "execution_count": 1,
   "metadata": {
    "_cell_guid": "b1076dfc-b9ad-4769-8c92-a6c4dae69d19",
    "_uuid": "8f2839f25d086af736a60e9eeb907d3b93b6e0e5",
    "execution": {
     "iopub.execute_input": "2021-03-19T04:18:35.467634Z",
     "iopub.status.busy": "2021-03-19T04:18:35.467005Z",
     "iopub.status.idle": "2021-03-19T04:18:41.411691Z",
     "shell.execute_reply": "2021-03-19T04:18:41.412980Z"
    },
    "papermill": {
     "duration": 5.973049,
     "end_time": "2021-03-19T04:18:41.413368",
     "exception": false,
     "start_time": "2021-03-19T04:18:35.440319",
     "status": "completed"
    },
    "tags": []
   },
   "outputs": [],
   "source": [
    "import os\n",
    "import cv2\n",
    "import numpy as np\n",
    "import pandas as pd\n",
    "import tensorflow as tf\n",
    "from tensorflow import keras\n",
    "from tensorflow.keras import layers\n",
    "from tensorflow.keras.callbacks import Callback, ModelCheckpoint, ReduceLROnPlateau,EarlyStopping\n",
    "from tensorflow.keras.preprocessing.image import ImageDataGenerator\n",
    "from tensorflow.keras.models import Sequential, Model, load_model\n",
    "from tensorflow.keras.layers import Input, Dense, Conv2D, MaxPooling2D\n",
    "from tensorflow.keras.layers import GlobalAveragePooling2D, AveragePooling2D\n",
    "from tensorflow.keras.layers import ZeroPadding2D, Dropout, Flatten, add, Reshape\n",
    "from tensorflow.keras.layers import Activation, BatchNormalization\n",
    "from tensorflow.keras.optimizers import Adam, SGD, Nadam\n",
    "from tensorflow.keras.utils import plot_model,to_categorical\n",
    "from tensorflow.keras import backend as K\n",
    "from tensorflow.keras import initializers\n",
    "from tensorflow.keras.preprocessing.image import ImageDataGenerator\n",
    "\n",
    "from tqdm import tqdm\n",
    "from sklearn.model_selection import train_test_split\n",
    "from sklearn.metrics import confusion_matrix, classification_report\n",
    "import matplotlib.pyplot as plt\n",
    "import seaborn as sns"
   ]
  },
  {
   "cell_type": "markdown",
   "metadata": {
    "papermill": {
     "duration": 0.046757,
     "end_time": "2021-03-19T04:18:41.495630",
     "exception": false,
     "start_time": "2021-03-19T04:18:41.448873",
     "status": "completed"
    },
    "tags": []
   },
   "source": [
    "## Read train and test files"
   ]
  },
  {
   "cell_type": "code",
   "execution_count": 2,
   "metadata": {
    "_cell_guid": "b1076dfc-b9ad-4769-8c92-a6c4dae69d19",
    "_uuid": "8f2839f25d086af736a60e9eeb907d3b93b6e0e5",
    "execution": {
     "iopub.execute_input": "2021-03-19T04:18:41.576071Z",
     "iopub.status.busy": "2021-03-19T04:18:41.575328Z",
     "iopub.status.idle": "2021-03-19T04:18:42.086578Z",
     "shell.execute_reply": "2021-03-19T04:18:42.087029Z"
    },
    "papermill": {
     "duration": 0.551266,
     "end_time": "2021-03-19T04:18:42.087184",
     "exception": false,
     "start_time": "2021-03-19T04:18:41.535918",
     "status": "completed"
    },
    "tags": []
   },
   "outputs": [
    {
     "name": "stdout",
     "output_type": "stream",
     "text": [
      "(7095, 3)\n"
     ]
    },
    {
     "data": {
      "text/html": [
       "<div>\n",
       "<style scoped>\n",
       "    .dataframe tbody tr th:only-of-type {\n",
       "        vertical-align: middle;\n",
       "    }\n",
       "\n",
       "    .dataframe tbody tr th {\n",
       "        vertical-align: top;\n",
       "    }\n",
       "\n",
       "    .dataframe thead th {\n",
       "        text-align: right;\n",
       "    }\n",
       "</style>\n",
       "<table border=\"1\" class=\"dataframe\">\n",
       "  <thead>\n",
       "    <tr style=\"text-align: right;\">\n",
       "      <th></th>\n",
       "      <th>ImageId</th>\n",
       "      <th>ClassId</th>\n",
       "      <th>EncodedPixels</th>\n",
       "    </tr>\n",
       "  </thead>\n",
       "  <tbody>\n",
       "    <tr>\n",
       "      <th>0</th>\n",
       "      <td>0002cc93b.jpg</td>\n",
       "      <td>1</td>\n",
       "      <td>29102 12 29346 24 29602 24 29858 24 30114 24 3...</td>\n",
       "    </tr>\n",
       "    <tr>\n",
       "      <th>1</th>\n",
       "      <td>0007a71bf.jpg</td>\n",
       "      <td>3</td>\n",
       "      <td>18661 28 18863 82 19091 110 19347 110 19603 11...</td>\n",
       "    </tr>\n",
       "    <tr>\n",
       "      <th>2</th>\n",
       "      <td>000a4bcdd.jpg</td>\n",
       "      <td>1</td>\n",
       "      <td>37607 3 37858 8 38108 14 38359 20 38610 25 388...</td>\n",
       "    </tr>\n",
       "    <tr>\n",
       "      <th>3</th>\n",
       "      <td>000f6bf48.jpg</td>\n",
       "      <td>4</td>\n",
       "      <td>131973 1 132228 4 132483 6 132738 8 132993 11 ...</td>\n",
       "    </tr>\n",
       "    <tr>\n",
       "      <th>4</th>\n",
       "      <td>0014fce06.jpg</td>\n",
       "      <td>3</td>\n",
       "      <td>229501 11 229741 33 229981 55 230221 77 230468...</td>\n",
       "    </tr>\n",
       "  </tbody>\n",
       "</table>\n",
       "</div>"
      ],
      "text/plain": [
       "         ImageId  ClassId                                      EncodedPixels\n",
       "0  0002cc93b.jpg        1  29102 12 29346 24 29602 24 29858 24 30114 24 3...\n",
       "1  0007a71bf.jpg        3  18661 28 18863 82 19091 110 19347 110 19603 11...\n",
       "2  000a4bcdd.jpg        1  37607 3 37858 8 38108 14 38359 20 38610 25 388...\n",
       "3  000f6bf48.jpg        4  131973 1 132228 4 132483 6 132738 8 132993 11 ...\n",
       "4  0014fce06.jpg        3  229501 11 229741 33 229981 55 230221 77 230468..."
      ]
     },
     "execution_count": 2,
     "metadata": {},
     "output_type": "execute_result"
    }
   ],
   "source": [
    "train_df = pd.read_csv('../input/severstal-steel-defect-detection/train.csv')\n",
    "\n",
    "print(train_df.shape)\n",
    "train_df.head()"
   ]
  },
  {
   "cell_type": "code",
   "execution_count": 3,
   "metadata": {
    "_cell_guid": "b1076dfc-b9ad-4769-8c92-a6c4dae69d19",
    "_uuid": "8f2839f25d086af736a60e9eeb907d3b93b6e0e5",
    "execution": {
     "iopub.execute_input": "2021-03-19T04:18:42.132179Z",
     "iopub.status.busy": "2021-03-19T04:18:42.131657Z",
     "iopub.status.idle": "2021-03-19T04:18:42.155111Z",
     "shell.execute_reply": "2021-03-19T04:18:42.154487Z"
    },
    "papermill": {
     "duration": 0.047811,
     "end_time": "2021-03-19T04:18:42.155226",
     "exception": false,
     "start_time": "2021-03-19T04:18:42.107415",
     "status": "completed"
    },
    "tags": []
   },
   "outputs": [
    {
     "name": "stdout",
     "output_type": "stream",
     "text": [
      "(5506, 3)\n"
     ]
    },
    {
     "data": {
      "text/html": [
       "<div>\n",
       "<style scoped>\n",
       "    .dataframe tbody tr th:only-of-type {\n",
       "        vertical-align: middle;\n",
       "    }\n",
       "\n",
       "    .dataframe tbody tr th {\n",
       "        vertical-align: top;\n",
       "    }\n",
       "\n",
       "    .dataframe thead th {\n",
       "        text-align: right;\n",
       "    }\n",
       "</style>\n",
       "<table border=\"1\" class=\"dataframe\">\n",
       "  <thead>\n",
       "    <tr style=\"text-align: right;\">\n",
       "      <th></th>\n",
       "      <th>ImageId</th>\n",
       "      <th>EncodedPixels</th>\n",
       "      <th>ClassId</th>\n",
       "    </tr>\n",
       "  </thead>\n",
       "  <tbody>\n",
       "    <tr>\n",
       "      <th>0</th>\n",
       "      <td>0000f269f.jpg</td>\n",
       "      <td>1 409600</td>\n",
       "      <td>0</td>\n",
       "    </tr>\n",
       "    <tr>\n",
       "      <th>1</th>\n",
       "      <td>000ccc2ac.jpg</td>\n",
       "      <td>1 409600</td>\n",
       "      <td>0</td>\n",
       "    </tr>\n",
       "    <tr>\n",
       "      <th>2</th>\n",
       "      <td>002451917.jpg</td>\n",
       "      <td>1 409600</td>\n",
       "      <td>0</td>\n",
       "    </tr>\n",
       "    <tr>\n",
       "      <th>3</th>\n",
       "      <td>003c5da97.jpg</td>\n",
       "      <td>1 409600</td>\n",
       "      <td>0</td>\n",
       "    </tr>\n",
       "    <tr>\n",
       "      <th>4</th>\n",
       "      <td>0042e163f.jpg</td>\n",
       "      <td>1 409600</td>\n",
       "      <td>0</td>\n",
       "    </tr>\n",
       "  </tbody>\n",
       "</table>\n",
       "</div>"
      ],
      "text/plain": [
       "         ImageId EncodedPixels  ClassId\n",
       "0  0000f269f.jpg      1 409600        0\n",
       "1  000ccc2ac.jpg      1 409600        0\n",
       "2  002451917.jpg      1 409600        0\n",
       "3  003c5da97.jpg      1 409600        0\n",
       "4  0042e163f.jpg      1 409600        0"
      ]
     },
     "execution_count": 3,
     "metadata": {},
     "output_type": "execute_result"
    }
   ],
   "source": [
    "submission_df = pd.read_csv('../input/severstal-steel-defect-detection/sample_submission.csv')\n",
    "print(submission_df.shape)\n",
    "submission_df.head()"
   ]
  },
  {
   "cell_type": "code",
   "execution_count": 4,
   "metadata": {
    "_cell_guid": "b1076dfc-b9ad-4769-8c92-a6c4dae69d19",
    "_uuid": "8f2839f25d086af736a60e9eeb907d3b93b6e0e5",
    "execution": {
     "iopub.execute_input": "2021-03-19T04:18:42.203580Z",
     "iopub.status.busy": "2021-03-19T04:18:42.202757Z",
     "iopub.status.idle": "2021-03-19T04:18:42.208025Z",
     "shell.execute_reply": "2021-03-19T04:18:42.207630Z"
    },
    "papermill": {
     "duration": 0.032308,
     "end_time": "2021-03-19T04:18:42.208132",
     "exception": false,
     "start_time": "2021-03-19T04:18:42.175824",
     "status": "completed"
    },
    "tags": []
   },
   "outputs": [
    {
     "data": {
      "text/plain": [
       "5506"
      ]
     },
     "execution_count": 4,
     "metadata": {},
     "output_type": "execute_result"
    }
   ],
   "source": [
    "unique_submission_images = submission_df['ImageId'].unique()\n",
    "len(unique_submission_images)"
   ]
  },
  {
   "cell_type": "code",
   "execution_count": 5,
   "metadata": {
    "_cell_guid": "b1076dfc-b9ad-4769-8c92-a6c4dae69d19",
    "_uuid": "8f2839f25d086af736a60e9eeb907d3b93b6e0e5",
    "execution": {
     "iopub.execute_input": "2021-03-19T04:18:42.256916Z",
     "iopub.status.busy": "2021-03-19T04:18:42.256073Z",
     "iopub.status.idle": "2021-03-19T04:18:42.262565Z",
     "shell.execute_reply": "2021-03-19T04:18:42.263024Z"
    },
    "papermill": {
     "duration": 0.034624,
     "end_time": "2021-03-19T04:18:42.263169",
     "exception": false,
     "start_time": "2021-03-19T04:18:42.228545",
     "status": "completed"
    },
    "tags": []
   },
   "outputs": [
    {
     "name": "stdout",
     "output_type": "stream",
     "text": [
      "(5506, 1)\n"
     ]
    },
    {
     "data": {
      "text/html": [
       "<div>\n",
       "<style scoped>\n",
       "    .dataframe tbody tr th:only-of-type {\n",
       "        vertical-align: middle;\n",
       "    }\n",
       "\n",
       "    .dataframe tbody tr th {\n",
       "        vertical-align: top;\n",
       "    }\n",
       "\n",
       "    .dataframe thead th {\n",
       "        text-align: right;\n",
       "    }\n",
       "</style>\n",
       "<table border=\"1\" class=\"dataframe\">\n",
       "  <thead>\n",
       "    <tr style=\"text-align: right;\">\n",
       "      <th></th>\n",
       "      <th>ImageId</th>\n",
       "    </tr>\n",
       "  </thead>\n",
       "  <tbody>\n",
       "    <tr>\n",
       "      <th>0</th>\n",
       "      <td>0000f269f.jpg</td>\n",
       "    </tr>\n",
       "    <tr>\n",
       "      <th>1</th>\n",
       "      <td>000ccc2ac.jpg</td>\n",
       "    </tr>\n",
       "    <tr>\n",
       "      <th>2</th>\n",
       "      <td>002451917.jpg</td>\n",
       "    </tr>\n",
       "    <tr>\n",
       "      <th>3</th>\n",
       "      <td>003c5da97.jpg</td>\n",
       "    </tr>\n",
       "    <tr>\n",
       "      <th>4</th>\n",
       "      <td>0042e163f.jpg</td>\n",
       "    </tr>\n",
       "  </tbody>\n",
       "</table>\n",
       "</div>"
      ],
      "text/plain": [
       "         ImageId\n",
       "0  0000f269f.jpg\n",
       "1  000ccc2ac.jpg\n",
       "2  002451917.jpg\n",
       "3  003c5da97.jpg\n",
       "4  0042e163f.jpg"
      ]
     },
     "execution_count": 5,
     "metadata": {},
     "output_type": "execute_result"
    }
   ],
   "source": [
    "submission_df = pd.DataFrame(unique_submission_images, columns=['ImageId'])\n",
    "print(submission_df.shape)\n",
    "submission_df.head()"
   ]
  },
  {
   "cell_type": "markdown",
   "metadata": {
    "_cell_guid": "b1076dfc-b9ad-4769-8c92-a6c4dae69d19",
    "_uuid": "8f2839f25d086af736a60e9eeb907d3b93b6e0e5",
    "papermill": {
     "duration": 0.021173,
     "end_time": "2021-03-19T04:18:42.306427",
     "exception": false,
     "start_time": "2021-03-19T04:18:42.285254",
     "status": "completed"
    },
    "tags": []
   },
   "source": [
    "## Combine defected and no-defect images"
   ]
  },
  {
   "cell_type": "code",
   "execution_count": 6,
   "metadata": {
    "_cell_guid": "b1076dfc-b9ad-4769-8c92-a6c4dae69d19",
    "_uuid": "8f2839f25d086af736a60e9eeb907d3b93b6e0e5",
    "execution": {
     "iopub.execute_input": "2021-03-19T04:18:42.356164Z",
     "iopub.status.busy": "2021-03-19T04:18:42.355479Z",
     "iopub.status.idle": "2021-03-19T04:18:44.140827Z",
     "shell.execute_reply": "2021-03-19T04:18:44.140271Z"
    },
    "papermill": {
     "duration": 1.813065,
     "end_time": "2021-03-19T04:18:44.140960",
     "exception": false,
     "start_time": "2021-03-19T04:18:42.327895",
     "status": "completed"
    },
    "tags": []
   },
   "outputs": [
    {
     "name": "stdout",
     "output_type": "stream",
     "text": [
      "(12568, 2)\n",
      "1    6666\n",
      "0    5902\n",
      "Name: defect_label, dtype: int64\n"
     ]
    },
    {
     "data": {
      "text/html": [
       "<div>\n",
       "<style scoped>\n",
       "    .dataframe tbody tr th:only-of-type {\n",
       "        vertical-align: middle;\n",
       "    }\n",
       "\n",
       "    .dataframe tbody tr th {\n",
       "        vertical-align: top;\n",
       "    }\n",
       "\n",
       "    .dataframe thead th {\n",
       "        text-align: right;\n",
       "    }\n",
       "</style>\n",
       "<table border=\"1\" class=\"dataframe\">\n",
       "  <thead>\n",
       "    <tr style=\"text-align: right;\">\n",
       "      <th></th>\n",
       "      <th>ImageId</th>\n",
       "      <th>defect_label</th>\n",
       "    </tr>\n",
       "  </thead>\n",
       "  <tbody>\n",
       "    <tr>\n",
       "      <th>0</th>\n",
       "      <td>0002cc93b.jpg</td>\n",
       "      <td>1</td>\n",
       "    </tr>\n",
       "  </tbody>\n",
       "</table>\n",
       "</div>"
      ],
      "text/plain": [
       "         ImageId  defect_label\n",
       "0  0002cc93b.jpg             1"
      ]
     },
     "execution_count": 6,
     "metadata": {},
     "output_type": "execute_result"
    }
   ],
   "source": [
    "TRAIN_PATH = '../input/severstal-steel-defect-detection/train_images/'\n",
    "TEST_PATH = '../input/severstal-steel-defect-detection/test_images/'\n",
    "\n",
    "train_flist = os.listdir(TRAIN_PATH) \n",
    "\n",
    "image_defects = train_df['ImageId'].unique().tolist()\n",
    "image_no_defects=[item for item in train_flist if item not in image_defects]\n",
    "\n",
    "#df_bin is the dataframe with label defect based on train_df \n",
    "df_bin = train_df.drop_duplicates(subset=['ImageId'], keep='last').copy()\n",
    "df_bin.loc[:, 'defect_label'] = 1\n",
    "\n",
    "df_noDefect_bin = pd.DataFrame(image_no_defects,columns=['ImageId'])\n",
    "df_noDefect_bin.loc[:, 'defect_label'] = 0\n",
    "\n",
    "frames = [df_bin[['ImageId', \"defect_label\"]], df_noDefect_bin]\n",
    "df = pd.concat(frames).reset_index(drop=True)\n",
    "print(df.shape)\n",
    "print(df['defect_label'].value_counts())\n",
    "df.head(1)"
   ]
  },
  {
   "cell_type": "markdown",
   "metadata": {
    "papermill": {
     "duration": 0.022106,
     "end_time": "2021-03-19T04:18:44.185973",
     "exception": false,
     "start_time": "2021-03-19T04:18:44.163867",
     "status": "completed"
    },
    "tags": []
   },
   "source": [
    "## Split train data, load and resave images"
   ]
  },
  {
   "cell_type": "code",
   "execution_count": 7,
   "metadata": {
    "execution": {
     "iopub.execute_input": "2021-03-19T04:18:44.235354Z",
     "iopub.status.busy": "2021-03-19T04:18:44.234857Z",
     "iopub.status.idle": "2021-03-19T04:18:44.258280Z",
     "shell.execute_reply": "2021-03-19T04:18:44.257783Z"
    },
    "papermill": {
     "duration": 0.050467,
     "end_time": "2021-03-19T04:18:44.258404",
     "exception": false,
     "start_time": "2021-03-19T04:18:44.207937",
     "status": "completed"
    },
    "tags": []
   },
   "outputs": [],
   "source": [
    "nb_images = df.shape[0]\n",
    "df_train, df_test = train_test_split(df, test_size=0.2, \n",
    "                                                    stratify = df['defect_label'], \n",
    "                                                    random_state=2021)\n",
    "\n",
    "df_train, df_val = train_test_split(df_train, test_size=0.25, \n",
    "                                                  stratify = df_train['defect_label'],\n",
    "                                                  random_state=2021) \n",
    "\n",
    "# 0.25 x 0.8 = 0.2"
   ]
  },
  {
   "cell_type": "code",
   "execution_count": 8,
   "metadata": {
    "_cell_guid": "b1076dfc-b9ad-4769-8c92-a6c4dae69d19",
    "_uuid": "8f2839f25d086af736a60e9eeb907d3b93b6e0e5",
    "execution": {
     "iopub.execute_input": "2021-03-19T04:18:44.313372Z",
     "iopub.status.busy": "2021-03-19T04:18:44.312406Z",
     "iopub.status.idle": "2021-03-19T04:22:01.711213Z",
     "shell.execute_reply": "2021-03-19T04:22:01.710584Z"
    },
    "papermill": {
     "duration": 197.429111,
     "end_time": "2021-03-19T04:22:01.711387",
     "exception": false,
     "start_time": "2021-03-19T04:18:44.282276",
     "status": "completed"
    },
    "tags": []
   },
   "outputs": [
    {
     "name": "stderr",
     "output_type": "stream",
     "text": [
      "100%|██████████████████████████████████████████████████████████████████████████████| 7540/7540 [01:38<00:00, 76.58it/s]\n",
      "100%|█████████████████████████████████████████████████████████████████████████████| 2514/2514 [00:19<00:00, 127.23it/s]\n",
      "100%|█████████████████████████████████████████████████████████████████████████████| 2514/2514 [00:19<00:00, 129.22it/s]\n",
      "<ipython-input-8-590f7c0efa9a>:32: SettingWithCopyWarning: \n",
      "A value is trying to be set on a copy of a slice from a DataFrame.\n",
      "Try using .loc[row_indexer,col_indexer] = value instead\n",
      "\n",
      "See the caveats in the documentation: https://pandas.pydata.org/pandas-docs/stable/user_guide/indexing.html#returning-a-view-versus-a-copy\n",
      "  df['ImageId'] = df['ImageId'].apply(lambda x: x.replace('.jpg', '.png'))\n"
     ]
    }
   ],
   "source": [
    "IMAGE_SIZE = 64 #256\n",
    "\n",
    "def load_img(code, base, resize=True):\n",
    "    path = f'{base}/{code}'\n",
    "    img = cv2.imread(path)\n",
    "    img = cv2.cvtColor(img, cv2.COLOR_BGR2RGB)\n",
    "    if resize:\n",
    "        img = cv2.resize(img, (IMAGE_SIZE, IMAGE_SIZE))\n",
    "    return img\n",
    "\n",
    "def validate_path(path):\n",
    "    if not os.path.exists(path):\n",
    "        os.makedirs(path)\n",
    "\n",
    "train_path = '../tmp/train'\n",
    "validate_path(train_path)\n",
    "val_path = '../tmp/val'\n",
    "validate_path(val_path)\n",
    "test_path = '../tmp/test'\n",
    "validate_path(test_path)\n",
    "\n",
    "def process_img(df, train_path):\n",
    "    #read image, resize and save\n",
    "    for code in tqdm(df['ImageId']):\n",
    "        img = load_img(\n",
    "            code,\n",
    "            base='../input/severstal-steel-defect-detection/train_images'\n",
    "        )\n",
    "        path = code.replace('.jpg', '')\n",
    "        cv2.imwrite(f'{train_path}/{path}.png', img)\n",
    "\n",
    "    df['ImageId'] = df['ImageId'].apply(lambda x: x.replace('.jpg', '.png'))\n",
    "    return df\n",
    "df_train = process_img(df_train,train_path)\n",
    "df_val = process_img(df_val,val_path)\n",
    "df_test = process_img(df_test,test_path)"
   ]
  },
  {
   "cell_type": "code",
   "execution_count": 9,
   "metadata": {
    "execution": {
     "iopub.execute_input": "2021-03-19T04:22:02.622759Z",
     "iopub.status.busy": "2021-03-19T04:22:02.622183Z",
     "iopub.status.idle": "2021-03-19T04:22:02.631276Z",
     "shell.execute_reply": "2021-03-19T04:22:02.630769Z"
    },
    "papermill": {
     "duration": 0.464699,
     "end_time": "2021-03-19T04:22:02.631394",
     "exception": false,
     "start_time": "2021-03-19T04:22:02.166695",
     "status": "completed"
    },
    "tags": []
   },
   "outputs": [
    {
     "name": "stdout",
     "output_type": "stream",
     "text": [
      "(7540, 2) (2514, 2) (2514, 2)\n",
      "1    3999\n",
      "0    3541\n",
      "Name: defect_label, dtype: int64\n",
      "1    1334\n",
      "0    1180\n",
      "Name: defect_label, dtype: int64\n",
      "1    1333\n",
      "0    1181\n",
      "Name: defect_label, dtype: int64\n"
     ]
    }
   ],
   "source": [
    "print(df_train.shape,df_val.shape,df_test.shape)\n",
    "print(df_train['defect_label'].value_counts())\n",
    "print(df_val['defect_label'].value_counts())\n",
    "print(df_test['defect_label'].value_counts())"
   ]
  },
  {
   "cell_type": "markdown",
   "metadata": {
    "papermill": {
     "duration": 0.455417,
     "end_time": "2021-03-19T04:22:03.535002",
     "exception": false,
     "start_time": "2021-03-19T04:22:03.079585",
     "status": "completed"
    },
    "tags": []
   },
   "source": [
    "## Define ImageDataGenerator and data augmentation"
   ]
  },
  {
   "cell_type": "code",
   "execution_count": 10,
   "metadata": {
    "_cell_guid": "b1076dfc-b9ad-4769-8c92-a6c4dae69d19",
    "_uuid": "8f2839f25d086af736a60e9eeb907d3b93b6e0e5",
    "execution": {
     "iopub.execute_input": "2021-03-19T04:22:04.467657Z",
     "iopub.status.busy": "2021-03-19T04:22:04.466842Z",
     "iopub.status.idle": "2021-03-19T04:22:04.557953Z",
     "shell.execute_reply": "2021-03-19T04:22:04.558777Z"
    },
    "papermill": {
     "duration": 0.565116,
     "end_time": "2021-03-19T04:22:04.558998",
     "exception": false,
     "start_time": "2021-03-19T04:22:03.993882",
     "status": "completed"
    },
    "tags": []
   },
   "outputs": [
    {
     "name": "stdout",
     "output_type": "stream",
     "text": [
      "Found 7540 validated image filenames.\n",
      "Found 2514 validated image filenames.\n",
      "Found 2514 validated image filenames.\n"
     ]
    }
   ],
   "source": [
    "BATCH_SIZE = 32\n",
    "\n",
    "# Using original generator\n",
    "data_generator = ImageDataGenerator(\n",
    "        zoom_range=0.1,  # set range for random zoom\n",
    "        # set mode for filling points outside the input boundaries\n",
    "        fill_mode='constant',\n",
    "        cval=0.,\n",
    "        rotation_range=10,\n",
    "        height_shift_range=0.05,\n",
    "        width_shift_range=0.05,\n",
    "        horizontal_flip=True,\n",
    "        vertical_flip=True,\n",
    "        rescale=1/255.,\n",
    "    )\n",
    "val_generator = ImageDataGenerator(\n",
    "        rescale=1/255.\n",
    "    )\n",
    "\n",
    "train_gen = data_generator.flow_from_dataframe(\n",
    "        df_train, \n",
    "        directory='../tmp/train',\n",
    "        x_col='ImageId', \n",
    "        y_col='defect_label', \n",
    "        class_mode='raw',\n",
    "        target_size=(64, 64),\n",
    "        batch_size=BATCH_SIZE,\n",
    "        )\n",
    "\n",
    "val_gen =  val_generator.flow_from_dataframe(\n",
    "        df_val, \n",
    "        directory='../tmp/val',\n",
    "        x_col='ImageId', \n",
    "        y_col='defect_label', \n",
    "        class_mode='raw',\n",
    "        target_size=(64, 64),\n",
    "        batch_size=BATCH_SIZE,\n",
    "        )\n",
    "test_gen =  val_generator.flow_from_dataframe(\n",
    "        df_test, \n",
    "        directory='../tmp/test',\n",
    "        x_col='ImageId', \n",
    "        y_col='defect_label', \n",
    "        class_mode='raw',\n",
    "        target_size=(64, 64),\n",
    "        batch_size=BATCH_SIZE,\n",
    "        shuffle=False\n",
    "        )"
   ]
  },
  {
   "cell_type": "code",
   "execution_count": 11,
   "metadata": {
    "_cell_guid": "b1076dfc-b9ad-4769-8c92-a6c4dae69d19",
    "_uuid": "8f2839f25d086af736a60e9eeb907d3b93b6e0e5",
    "execution": {
     "iopub.execute_input": "2021-03-19T04:22:05.518383Z",
     "iopub.status.busy": "2021-03-19T04:22:05.517801Z",
     "iopub.status.idle": "2021-03-19T04:22:09.238387Z",
     "shell.execute_reply": "2021-03-19T04:22:09.237746Z"
    },
    "papermill": {
     "duration": 4.223489,
     "end_time": "2021-03-19T04:22:09.238589",
     "exception": false,
     "start_time": "2021-03-19T04:22:05.015100",
     "status": "completed"
    },
    "tags": []
   },
   "outputs": [
    {
     "name": "stdout",
     "output_type": "stream",
     "text": [
      "Found 5506 validated image filenames.\n"
     ]
    }
   ],
   "source": [
    "submission_gen = ImageDataGenerator(rescale=1/255.).flow_from_dataframe(\n",
    "        submission_df,\n",
    "        directory='../input/severstal-steel-defect-detection/test_images/',\n",
    "        x_col='ImageId',\n",
    "        class_mode=None,\n",
    "        target_size=(64, 64),\n",
    "        batch_size=BATCH_SIZE,\n",
    "        shuffle=False\n",
    "    )"
   ]
  },
  {
   "cell_type": "markdown",
   "metadata": {
    "papermill": {
     "duration": 0.553079,
     "end_time": "2021-03-19T04:22:10.246856",
     "exception": false,
     "start_time": "2021-03-19T04:22:09.693777",
     "status": "completed"
    },
    "tags": []
   },
   "source": [
    "## Define Model"
   ]
  },
  {
   "cell_type": "code",
   "execution_count": 12,
   "metadata": {
    "_cell_guid": "b1076dfc-b9ad-4769-8c92-a6c4dae69d19",
    "_uuid": "8f2839f25d086af736a60e9eeb907d3b93b6e0e5",
    "execution": {
     "iopub.execute_input": "2021-03-19T04:22:11.585181Z",
     "iopub.status.busy": "2021-03-19T04:22:11.584629Z",
     "iopub.status.idle": "2021-03-19T04:22:14.821512Z",
     "shell.execute_reply": "2021-03-19T04:22:14.820763Z"
    },
    "papermill": {
     "duration": 3.850366,
     "end_time": "2021-03-19T04:22:14.821713",
     "exception": false,
     "start_time": "2021-03-19T04:22:10.971347",
     "status": "completed"
    },
    "tags": []
   },
   "outputs": [
    {
     "name": "stdout",
     "output_type": "stream",
     "text": [
      "Model: \"sequential\"\n",
      "_________________________________________________________________\n",
      "Layer (type)                 Output Shape              Param #   \n",
      "=================================================================\n",
      "conv2d (Conv2D)              (None, 64, 64, 64)        1792      \n",
      "_________________________________________________________________\n",
      "conv2d_1 (Conv2D)            (None, 64, 64, 64)        36928     \n",
      "_________________________________________________________________\n",
      "max_pooling2d (MaxPooling2D) (None, 32, 32, 64)        0         \n",
      "_________________________________________________________________\n",
      "conv2d_2 (Conv2D)            (None, 32, 32, 64)        36928     \n",
      "_________________________________________________________________\n",
      "conv2d_3 (Conv2D)            (None, 32, 32, 64)        36928     \n",
      "_________________________________________________________________\n",
      "max_pooling2d_1 (MaxPooling2 (None, 16, 16, 64)        0         \n",
      "_________________________________________________________________\n",
      "conv2d_4 (Conv2D)            (None, 16, 16, 128)       73856     \n",
      "_________________________________________________________________\n",
      "conv2d_5 (Conv2D)            (None, 16, 16, 128)       147584    \n",
      "_________________________________________________________________\n",
      "max_pooling2d_2 (MaxPooling2 (None, 8, 8, 128)         0         \n",
      "_________________________________________________________________\n",
      "conv2d_6 (Conv2D)            (None, 8, 8, 128)         147584    \n",
      "_________________________________________________________________\n",
      "conv2d_7 (Conv2D)            (None, 8, 8, 128)         147584    \n",
      "_________________________________________________________________\n",
      "max_pooling2d_3 (MaxPooling2 (None, 4, 4, 128)         0         \n",
      "_________________________________________________________________\n",
      "flatten (Flatten)            (None, 2048)              0         \n",
      "_________________________________________________________________\n",
      "dense (Dense)                (None, 128)               262272    \n",
      "_________________________________________________________________\n",
      "dropout (Dropout)            (None, 128)               0         \n",
      "_________________________________________________________________\n",
      "dense_1 (Dense)              (None, 64)                8256      \n",
      "_________________________________________________________________\n",
      "dropout_1 (Dropout)          (None, 64)                0         \n",
      "_________________________________________________________________\n",
      "dense_2 (Dense)              (None, 1)                 65        \n",
      "=================================================================\n",
      "Total params: 899,777\n",
      "Trainable params: 899,777\n",
      "Non-trainable params: 0\n",
      "_________________________________________________________________\n"
     ]
    }
   ],
   "source": [
    "input_shape = (IMAGE_SIZE,IMAGE_SIZE,3)\n",
    "prob_drop_hidden = 0.5\n",
    "\n",
    "def build_model():\n",
    "    model = Sequential()\n",
    "\n",
    "    # conv layer\n",
    "    model.add(Conv2D(filters=64, kernel_size=(3, 3), strides=(1,1), padding='same', activation='relu', \n",
    "                   input_shape=input_shape))    \n",
    "    model.add(Conv2D(filters=64, kernel_size=(3, 3), strides=(1,1), padding='same', activation='relu', ))    \n",
    "    model.add(MaxPooling2D(pool_size=(2, 2), strides=(2, 2), padding='same'))\n",
    "    \n",
    "    model.add(Conv2D(filters=64, kernel_size=(3, 3), strides=(1,1), padding='same', activation='relu' ))\n",
    "    model.add(Conv2D(filters=64, kernel_size=(3, 3), strides=(1,1), padding='same', activation='relu' ))\n",
    "    model.add(MaxPooling2D(pool_size=(2, 2), strides=(2, 2), padding='same'))\n",
    "\n",
    "    model.add(Conv2D(filters=128, kernel_size=(3, 3), strides=(1,1), padding='same', activation='relu' ))\n",
    "    model.add(Conv2D(filters=128, kernel_size=(3, 3), strides=(1,1), padding='same', activation='relu' ))\n",
    "    model.add(MaxPooling2D(pool_size=(2, 2), strides=(2,2), padding='same'))\n",
    "    \n",
    "    model.add(Conv2D(filters=128, kernel_size=(3, 3), strides=(1,1), padding='same', activation='relu' ))\n",
    "    model.add(Conv2D(filters=128, kernel_size=(3, 3), strides=(1,1), padding='same', activation='relu' ))\n",
    "    model.add(MaxPooling2D(pool_size=(2, 2), strides=(2,2), padding='same'))\n",
    "\n",
    "    model.add(Flatten())\n",
    "\n",
    "    # fc1 layer\n",
    "    model.add(Dense(128, activation='relu'))\n",
    "    model.add(Dropout(rate=prob_drop_hidden))\n",
    "\n",
    "    # fc2 layer\n",
    "    model.add(Dense(64, activation='relu'))\n",
    "    model.add(Dropout(rate=prob_drop_hidden))\n",
    "\n",
    "    # The output of the model \n",
    "    model.add(layers.Dense(1, activation='sigmoid'))\n",
    "    \n",
    "    model.compile(\n",
    "        loss='binary_crossentropy',\n",
    "        optimizer= Adam(learning_rate = 0.001),\n",
    "        metrics=['accuracy']\n",
    "    )\n",
    "    \n",
    "    return model\n",
    "model = build_model()\n",
    "model.summary()"
   ]
  },
  {
   "cell_type": "markdown",
   "metadata": {
    "papermill": {
     "duration": 0.458079,
     "end_time": "2021-03-19T04:22:15.734379",
     "exception": false,
     "start_time": "2021-03-19T04:22:15.276300",
     "status": "completed"
    },
    "tags": []
   },
   "source": [
    "## Model training"
   ]
  },
  {
   "cell_type": "code",
   "execution_count": 13,
   "metadata": {
    "_cell_guid": "b1076dfc-b9ad-4769-8c92-a6c4dae69d19",
    "_uuid": "8f2839f25d086af736a60e9eeb907d3b93b6e0e5",
    "execution": {
     "iopub.execute_input": "2021-03-19T04:22:16.649847Z",
     "iopub.status.busy": "2021-03-19T04:22:16.648163Z",
     "iopub.status.idle": "2021-03-19T04:22:16.650411Z",
     "shell.execute_reply": "2021-03-19T04:22:16.650852Z"
    },
    "papermill": {
     "duration": 0.467761,
     "end_time": "2021-03-19T04:22:16.650990",
     "exception": false,
     "start_time": "2021-03-19T04:22:16.183229",
     "status": "completed"
    },
    "tags": []
   },
   "outputs": [],
   "source": [
    "epochs = 200\n",
    "\n",
    "import math\n",
    "# We take the ceiling because we do not drop the remainder of the batch\n",
    "compute_steps_per_epoch = lambda x: int(math.ceil(1. * x / BATCH_SIZE))\n",
    "\n",
    "steps_per_epoch = compute_steps_per_epoch(df_train.shape[0])\n",
    "validation_steps = compute_steps_per_epoch(df_val.shape[0])\n",
    "\n",
    "es = EarlyStopping(monitor='val_loss', mode='min', verbose=2, patience=50)\n",
    "\n",
    "mc = ModelCheckpoint(\n",
    "    'model.h5', \n",
    "    monitor='val_accuracy', \n",
    "    verbose=1, \n",
    "    save_best_only=True, \n",
    "    save_weights_only=False,\n",
    "    mode='auto'\n",
    ")"
   ]
  },
  {
   "cell_type": "code",
   "execution_count": 14,
   "metadata": {
    "_cell_guid": "b1076dfc-b9ad-4769-8c92-a6c4dae69d19",
    "_uuid": "8f2839f25d086af736a60e9eeb907d3b93b6e0e5",
    "execution": {
     "iopub.execute_input": "2021-03-19T04:22:17.572384Z",
     "iopub.status.busy": "2021-03-19T04:22:17.571861Z",
     "iopub.status.idle": "2021-03-19T04:59:01.100544Z",
     "shell.execute_reply": "2021-03-19T04:59:01.101759Z"
    },
    "papermill": {
     "duration": 2203.98465,
     "end_time": "2021-03-19T04:59:01.102136",
     "exception": false,
     "start_time": "2021-03-19T04:22:17.117486",
     "status": "completed"
    },
    "scrolled": false,
    "tags": []
   },
   "outputs": [
    {
     "name": "stdout",
     "output_type": "stream",
     "text": [
      "Epoch 1/200\n",
      "236/236 [==============================] - ETA: 0s - loss: 0.6924 - accuracy: 0.5268\n",
      "Epoch 00001: val_accuracy improved from -inf to 0.53063, saving model to model.h5\n",
      "236/236 [==============================] - 185s 784ms/step - loss: 0.6924 - accuracy: 0.5268 - val_loss: 0.6915 - val_accuracy: 0.5306\n",
      "Epoch 2/200\n",
      "236/236 [==============================] - ETA: 0s - loss: 0.6916 - accuracy: 0.5308\n",
      "Epoch 00002: val_accuracy did not improve from 0.53063\n",
      "236/236 [==============================] - 153s 646ms/step - loss: 0.6916 - accuracy: 0.5308 - val_loss: 0.6914 - val_accuracy: 0.5306\n",
      "Epoch 3/200\n",
      "236/236 [==============================] - ETA: 0s - loss: 0.6920 - accuracy: 0.5304\n",
      "Epoch 00003: val_accuracy did not improve from 0.53063\n",
      "236/236 [==============================] - 152s 644ms/step - loss: 0.6920 - accuracy: 0.5304 - val_loss: 0.6913 - val_accuracy: 0.5306\n",
      "Epoch 4/200\n",
      "236/236 [==============================] - ETA: 0s - loss: 0.6914 - accuracy: 0.5308\n",
      "Epoch 00004: val_accuracy did not improve from 0.53063\n",
      "236/236 [==============================] - 152s 644ms/step - loss: 0.6914 - accuracy: 0.5308 - val_loss: 0.6914 - val_accuracy: 0.5306\n",
      "Epoch 5/200\n",
      "236/236 [==============================] - ETA: 0s - loss: 0.6914 - accuracy: 0.5304\n",
      "Epoch 00005: val_accuracy did not improve from 0.53063\n",
      "236/236 [==============================] - 152s 645ms/step - loss: 0.6914 - accuracy: 0.5304 - val_loss: 0.6913 - val_accuracy: 0.5306\n",
      "Epoch 6/200\n",
      "236/236 [==============================] - ETA: 0s - loss: 0.6917 - accuracy: 0.5304\n",
      "Epoch 00006: val_accuracy did not improve from 0.53063\n",
      "236/236 [==============================] - 151s 641ms/step - loss: 0.6917 - accuracy: 0.5304 - val_loss: 0.6913 - val_accuracy: 0.5306\n",
      "Epoch 7/200\n",
      "236/236 [==============================] - ETA: 0s - loss: 0.6917 - accuracy: 0.5304\n",
      "Epoch 00007: val_accuracy did not improve from 0.53063\n",
      "236/236 [==============================] - 152s 644ms/step - loss: 0.6917 - accuracy: 0.5304 - val_loss: 0.6913 - val_accuracy: 0.5306\n",
      "Epoch 8/200\n",
      "236/236 [==============================] - ETA: 0s - loss: 0.6913 - accuracy: 0.5304\n",
      "Epoch 00008: val_accuracy did not improve from 0.53063\n",
      "236/236 [==============================] - 151s 642ms/step - loss: 0.6913 - accuracy: 0.5304 - val_loss: 0.6913 - val_accuracy: 0.5306\n",
      "Epoch 9/200\n",
      "236/236 [==============================] - ETA: 0s - loss: 0.6917 - accuracy: 0.5304\n",
      "Epoch 00009: val_accuracy did not improve from 0.53063\n",
      "236/236 [==============================] - 153s 649ms/step - loss: 0.6917 - accuracy: 0.5304 - val_loss: 0.6913 - val_accuracy: 0.5306\n",
      "Epoch 10/200\n",
      "236/236 [==============================] - ETA: 0s - loss: 0.6913 - accuracy: 0.5304\n",
      "Epoch 00010: val_accuracy did not improve from 0.53063\n",
      "236/236 [==============================] - 150s 636ms/step - loss: 0.6913 - accuracy: 0.5304 - val_loss: 0.6913 - val_accuracy: 0.5306\n",
      "Epoch 11/200\n",
      "236/236 [==============================] - ETA: 0s - loss: 0.6916 - accuracy: 0.5304\n",
      "Epoch 00011: val_accuracy did not improve from 0.53063\n",
      "236/236 [==============================] - 151s 639ms/step - loss: 0.6916 - accuracy: 0.5304 - val_loss: 0.6913 - val_accuracy: 0.5306\n",
      "Epoch 12/200\n",
      "236/236 [==============================] - ETA: 0s - loss: 0.6914 - accuracy: 0.5304\n",
      "Epoch 00012: val_accuracy did not improve from 0.53063\n",
      "236/236 [==============================] - 151s 642ms/step - loss: 0.6914 - accuracy: 0.5304 - val_loss: 0.6913 - val_accuracy: 0.5306\n",
      "Epoch 13/200\n",
      "236/236 [==============================] - ETA: 0s - loss: 0.6915 - accuracy: 0.5304\n",
      "Epoch 00013: val_accuracy did not improve from 0.53063\n",
      "236/236 [==============================] - 152s 644ms/step - loss: 0.6915 - accuracy: 0.5304 - val_loss: 0.6913 - val_accuracy: 0.5306\n",
      "Epoch 14/200\n",
      "236/236 [==============================] - ETA: 0s - loss: 0.6915 - accuracy: 0.5304\n",
      "Epoch 00014: val_accuracy did not improve from 0.53063\n",
      "236/236 [==============================] - 154s 651ms/step - loss: 0.6915 - accuracy: 0.5304 - val_loss: 0.6913 - val_accuracy: 0.5306\n",
      "Epoch 15/200\n",
      "236/236 [==============================] - ETA: 0s - loss: 0.6915 - accuracy: 0.5304\n",
      "Epoch 00015: val_accuracy did not improve from 0.53063\n",
      "236/236 [==============================] - 153s 648ms/step - loss: 0.6915 - accuracy: 0.5304 - val_loss: 0.6913 - val_accuracy: 0.5306\n",
      "Epoch 16/200\n",
      "236/236 [==============================] - ETA: 0s - loss: 0.6915 - accuracy: 0.5304\n",
      "Epoch 00016: val_accuracy did not improve from 0.53063\n",
      "236/236 [==============================] - 153s 649ms/step - loss: 0.6915 - accuracy: 0.5304 - val_loss: 0.6913 - val_accuracy: 0.5306\n",
      "Epoch 17/200\n",
      "236/236 [==============================] - ETA: 0s - loss: 0.6913 - accuracy: 0.5304\n",
      "Epoch 00017: val_accuracy did not improve from 0.53063\n",
      "236/236 [==============================] - 153s 649ms/step - loss: 0.6913 - accuracy: 0.5304 - val_loss: 0.6913 - val_accuracy: 0.5306\n",
      "Epoch 18/200\n",
      "236/236 [==============================] - ETA: 0s - loss: 0.6914 - accuracy: 0.5304\n",
      "Epoch 00018: val_accuracy did not improve from 0.53063\n",
      "236/236 [==============================] - 155s 656ms/step - loss: 0.6914 - accuracy: 0.5304 - val_loss: 0.6913 - val_accuracy: 0.5306\n",
      "Epoch 19/200\n",
      "236/236 [==============================] - ETA: 0s - loss: 0.6913 - accuracy: 0.5304\n",
      "Epoch 00019: val_accuracy did not improve from 0.53063\n",
      "236/236 [==============================] - 154s 653ms/step - loss: 0.6913 - accuracy: 0.5304 - val_loss: 0.6913 - val_accuracy: 0.5306\n",
      "Epoch 20/200\n",
      "236/236 [==============================] - ETA: 0s - loss: 0.6914 - accuracy: 0.5304\n",
      "Epoch 00020: val_accuracy did not improve from 0.53063\n",
      "236/236 [==============================] - 153s 647ms/step - loss: 0.6914 - accuracy: 0.5304 - val_loss: 0.6913 - val_accuracy: 0.5306\n",
      "Epoch 21/200\n",
      "236/236 [==============================] - ETA: 0s - loss: 0.6914 - accuracy: 0.5304\n",
      "Epoch 00021: val_accuracy did not improve from 0.53063\n",
      "236/236 [==============================] - 157s 665ms/step - loss: 0.6914 - accuracy: 0.5304 - val_loss: 0.6913 - val_accuracy: 0.5306\n",
      "Epoch 22/200\n",
      "236/236 [==============================] - ETA: 0s - loss: 0.6915 - accuracy: 0.5304\n",
      "Epoch 00022: val_accuracy did not improve from 0.53063\n",
      "236/236 [==============================] - 149s 632ms/step - loss: 0.6915 - accuracy: 0.5304 - val_loss: 0.6913 - val_accuracy: 0.5306\n",
      "Epoch 23/200\n",
      "236/236 [==============================] - ETA: 0s - loss: 0.6915 - accuracy: 0.5304\n",
      "Epoch 00023: val_accuracy did not improve from 0.53063\n",
      "236/236 [==============================] - 165s 698ms/step - loss: 0.6915 - accuracy: 0.5304 - val_loss: 0.6913 - val_accuracy: 0.5306\n",
      "Epoch 24/200\n",
      "236/236 [==============================] - ETA: 0s - loss: 0.6913 - accuracy: 0.5304\n",
      "Epoch 00024: val_accuracy did not improve from 0.53063\n",
      "236/236 [==============================] - 161s 684ms/step - loss: 0.6913 - accuracy: 0.5304 - val_loss: 0.6913 - val_accuracy: 0.5306\n",
      "Epoch 25/200\n",
      "236/236 [==============================] - ETA: 0s - loss: 0.6914 - accuracy: 0.5304\n",
      "Epoch 00025: val_accuracy did not improve from 0.53063\n",
      "236/236 [==============================] - 161s 683ms/step - loss: 0.6914 - accuracy: 0.5304 - val_loss: 0.6913 - val_accuracy: 0.5306\n",
      "Epoch 26/200\n",
      "236/236 [==============================] - ETA: 0s - loss: 0.6913 - accuracy: 0.5304\n",
      "Epoch 00026: val_accuracy did not improve from 0.53063\n",
      "236/236 [==============================] - 160s 678ms/step - loss: 0.6913 - accuracy: 0.5304 - val_loss: 0.6913 - val_accuracy: 0.5306\n",
      "Epoch 27/200\n",
      "236/236 [==============================] - ETA: 0s - loss: 0.6914 - accuracy: 0.5304\n",
      "Epoch 00027: val_accuracy did not improve from 0.53063\n",
      "236/236 [==============================] - 164s 695ms/step - loss: 0.6914 - accuracy: 0.5304 - val_loss: 0.6913 - val_accuracy: 0.5306\n",
      "Epoch 28/200\n",
      "236/236 [==============================] - ETA: 0s - loss: 0.6914 - accuracy: 0.5304\n",
      "Epoch 00028: val_accuracy did not improve from 0.53063\n",
      "236/236 [==============================] - 157s 665ms/step - loss: 0.6914 - accuracy: 0.5304 - val_loss: 0.6913 - val_accuracy: 0.5306\n",
      "Epoch 29/200\n",
      "236/236 [==============================] - ETA: 0s - loss: 0.6915 - accuracy: 0.5304\n",
      "Epoch 00029: val_accuracy did not improve from 0.53063\n",
      "236/236 [==============================] - 160s 677ms/step - loss: 0.6915 - accuracy: 0.5304 - val_loss: 0.6913 - val_accuracy: 0.5306\n"
     ]
    },
    {
     "name": "stdout",
     "output_type": "stream",
     "text": [
      "Epoch 30/200\n",
      "236/236 [==============================] - ETA: 0s - loss: 0.6913 - accuracy: 0.5304\n",
      "Epoch 00030: val_accuracy did not improve from 0.53063\n",
      "236/236 [==============================] - 161s 680ms/step - loss: 0.6913 - accuracy: 0.5304 - val_loss: 0.6913 - val_accuracy: 0.5306\n",
      "Epoch 31/200\n",
      "236/236 [==============================] - ETA: 0s - loss: 0.6914 - accuracy: 0.5304\n",
      "Epoch 00031: val_accuracy did not improve from 0.53063\n",
      "236/236 [==============================] - 152s 644ms/step - loss: 0.6914 - accuracy: 0.5304 - val_loss: 0.6913 - val_accuracy: 0.5306\n",
      "Epoch 32/200\n",
      "236/236 [==============================] - ETA: 0s - loss: 0.6913 - accuracy: 0.5304\n",
      "Epoch 00032: val_accuracy did not improve from 0.53063\n",
      "236/236 [==============================] - 149s 633ms/step - loss: 0.6913 - accuracy: 0.5304 - val_loss: 0.6913 - val_accuracy: 0.5306\n",
      "Epoch 33/200\n",
      "236/236 [==============================] - ETA: 0s - loss: 0.6915 - accuracy: 0.5304\n",
      "Epoch 00033: val_accuracy did not improve from 0.53063\n",
      "236/236 [==============================] - 154s 652ms/step - loss: 0.6915 - accuracy: 0.5304 - val_loss: 0.6913 - val_accuracy: 0.5306\n",
      "Epoch 34/200\n",
      "236/236 [==============================] - ETA: 0s - loss: 0.6913 - accuracy: 0.5304\n",
      "Epoch 00034: val_accuracy did not improve from 0.53063\n",
      "236/236 [==============================] - 157s 667ms/step - loss: 0.6913 - accuracy: 0.5304 - val_loss: 0.6913 - val_accuracy: 0.5306\n",
      "Epoch 35/200\n",
      "236/236 [==============================] - ETA: 0s - loss: 0.6914 - accuracy: 0.5304\n",
      "Epoch 00035: val_accuracy did not improve from 0.53063\n",
      "236/236 [==============================] - 159s 673ms/step - loss: 0.6914 - accuracy: 0.5304 - val_loss: 0.6913 - val_accuracy: 0.5306\n",
      "Epoch 36/200\n",
      "236/236 [==============================] - ETA: 0s - loss: 0.6915 - accuracy: 0.5304\n",
      "Epoch 00036: val_accuracy did not improve from 0.53063\n",
      "236/236 [==============================] - 162s 686ms/step - loss: 0.6915 - accuracy: 0.5304 - val_loss: 0.6913 - val_accuracy: 0.5306\n",
      "Epoch 37/200\n",
      "236/236 [==============================] - ETA: 0s - loss: 0.6914 - accuracy: 0.5304\n",
      "Epoch 00037: val_accuracy did not improve from 0.53063\n",
      "236/236 [==============================] - 159s 672ms/step - loss: 0.6914 - accuracy: 0.5304 - val_loss: 0.6913 - val_accuracy: 0.5306\n",
      "Epoch 38/200\n",
      "236/236 [==============================] - ETA: 0s - loss: 0.6914 - accuracy: 0.5304\n",
      "Epoch 00038: val_accuracy did not improve from 0.53063\n",
      "236/236 [==============================] - 158s 669ms/step - loss: 0.6914 - accuracy: 0.5304 - val_loss: 0.6913 - val_accuracy: 0.5306\n",
      "Epoch 39/200\n",
      "236/236 [==============================] - ETA: 0s - loss: 0.6914 - accuracy: 0.5304\n",
      "Epoch 00039: val_accuracy did not improve from 0.53063\n",
      "236/236 [==============================] - 158s 667ms/step - loss: 0.6914 - accuracy: 0.5304 - val_loss: 0.6913 - val_accuracy: 0.5306\n",
      "Epoch 40/200\n",
      "236/236 [==============================] - ETA: 0s - loss: 0.6914 - accuracy: 0.5304\n",
      "Epoch 00040: val_accuracy did not improve from 0.53063\n",
      "236/236 [==============================] - 160s 678ms/step - loss: 0.6914 - accuracy: 0.5304 - val_loss: 0.6913 - val_accuracy: 0.5306\n",
      "Epoch 41/200\n",
      "236/236 [==============================] - ETA: 0s - loss: 0.6913 - accuracy: 0.5304\n",
      "Epoch 00041: val_accuracy did not improve from 0.53063\n",
      "236/236 [==============================] - 156s 659ms/step - loss: 0.6913 - accuracy: 0.5304 - val_loss: 0.6913 - val_accuracy: 0.5306\n",
      "Epoch 42/200\n",
      "236/236 [==============================] - ETA: 0s - loss: 0.6913 - accuracy: 0.5304\n",
      "Epoch 00042: val_accuracy did not improve from 0.53063\n",
      "236/236 [==============================] - 156s 661ms/step - loss: 0.6913 - accuracy: 0.5304 - val_loss: 0.6913 - val_accuracy: 0.5306\n",
      "Epoch 43/200\n",
      "236/236 [==============================] - ETA: 0s - loss: 0.6914 - accuracy: 0.5304\n",
      "Epoch 00043: val_accuracy did not improve from 0.53063\n",
      "236/236 [==============================] - 158s 670ms/step - loss: 0.6914 - accuracy: 0.5304 - val_loss: 0.6913 - val_accuracy: 0.5306\n",
      "Epoch 44/200\n",
      "236/236 [==============================] - ETA: 0s - loss: 0.6914 - accuracy: 0.5304\n",
      "Epoch 00044: val_accuracy did not improve from 0.53063\n",
      "236/236 [==============================] - 158s 669ms/step - loss: 0.6914 - accuracy: 0.5304 - val_loss: 0.6913 - val_accuracy: 0.5306\n",
      "Epoch 45/200\n",
      "236/236 [==============================] - ETA: 0s - loss: 0.6913 - accuracy: 0.5304\n",
      "Epoch 00045: val_accuracy did not improve from 0.53063\n",
      "236/236 [==============================] - 157s 667ms/step - loss: 0.6913 - accuracy: 0.5304 - val_loss: 0.6913 - val_accuracy: 0.5306\n",
      "Epoch 46/200\n",
      "236/236 [==============================] - ETA: 0s - loss: 0.6914 - accuracy: 0.5304\n",
      "Epoch 00046: val_accuracy did not improve from 0.53063\n",
      "236/236 [==============================] - 161s 682ms/step - loss: 0.6914 - accuracy: 0.5304 - val_loss: 0.6913 - val_accuracy: 0.5306\n",
      "Epoch 47/200\n",
      "236/236 [==============================] - ETA: 0s - loss: 0.6913 - accuracy: 0.5304\n",
      "Epoch 00047: val_accuracy did not improve from 0.53063\n",
      "236/236 [==============================] - 160s 680ms/step - loss: 0.6913 - accuracy: 0.5304 - val_loss: 0.6913 - val_accuracy: 0.5306\n",
      "Epoch 48/200\n",
      "236/236 [==============================] - ETA: 0s - loss: 0.6914 - accuracy: 0.5304\n",
      "Epoch 00048: val_accuracy did not improve from 0.53063\n",
      "236/236 [==============================] - 162s 685ms/step - loss: 0.6914 - accuracy: 0.5304 - val_loss: 0.6913 - val_accuracy: 0.5306\n",
      "Epoch 49/200\n",
      "236/236 [==============================] - ETA: 0s - loss: 0.6913 - accuracy: 0.5304\n",
      "Epoch 00049: val_accuracy did not improve from 0.53063\n",
      "236/236 [==============================] - 166s 704ms/step - loss: 0.6913 - accuracy: 0.5304 - val_loss: 0.6913 - val_accuracy: 0.5306\n",
      "Epoch 50/200\n",
      "236/236 [==============================] - ETA: 0s - loss: 0.6913 - accuracy: 0.5304\n",
      "Epoch 00050: val_accuracy did not improve from 0.53063\n",
      "236/236 [==============================] - 166s 702ms/step - loss: 0.6913 - accuracy: 0.5304 - val_loss: 0.6913 - val_accuracy: 0.5306\n",
      "Epoch 51/200\n",
      "236/236 [==============================] - ETA: 0s - loss: 0.6913 - accuracy: 0.5304\n",
      "Epoch 00051: val_accuracy did not improve from 0.53063\n",
      "236/236 [==============================] - 161s 681ms/step - loss: 0.6913 - accuracy: 0.5304 - val_loss: 0.6913 - val_accuracy: 0.5306\n",
      "Epoch 52/200\n",
      "236/236 [==============================] - ETA: 0s - loss: 0.6914 - accuracy: 0.5304\n",
      "Epoch 00052: val_accuracy did not improve from 0.53063\n",
      "236/236 [==============================] - 158s 668ms/step - loss: 0.6914 - accuracy: 0.5304 - val_loss: 0.6913 - val_accuracy: 0.5306\n",
      "Epoch 53/200\n",
      "236/236 [==============================] - ETA: 0s - loss: 0.6913 - accuracy: 0.5304\n",
      "Epoch 00053: val_accuracy did not improve from 0.53063\n",
      "236/236 [==============================] - 160s 677ms/step - loss: 0.6913 - accuracy: 0.5304 - val_loss: 0.6913 - val_accuracy: 0.5306\n",
      "Epoch 54/200\n",
      "236/236 [==============================] - ETA: 0s - loss: 0.6914 - accuracy: 0.5304\n",
      "Epoch 00054: val_accuracy did not improve from 0.53063\n",
      "236/236 [==============================] - 158s 670ms/step - loss: 0.6914 - accuracy: 0.5304 - val_loss: 0.6913 - val_accuracy: 0.5306\n",
      "Epoch 55/200\n",
      "236/236 [==============================] - ETA: 0s - loss: 0.6913 - accuracy: 0.5304\n",
      "Epoch 00055: val_accuracy did not improve from 0.53063\n",
      "236/236 [==============================] - 170s 719ms/step - loss: 0.6913 - accuracy: 0.5304 - val_loss: 0.6913 - val_accuracy: 0.5306\n",
      "Epoch 56/200\n",
      "236/236 [==============================] - ETA: 0s - loss: 0.6914 - accuracy: 0.5304\n",
      "Epoch 00056: val_accuracy did not improve from 0.53063\n",
      "236/236 [==============================] - 175s 741ms/step - loss: 0.6914 - accuracy: 0.5304 - val_loss: 0.6913 - val_accuracy: 0.5306\n",
      "Epoch 57/200\n",
      "236/236 [==============================] - ETA: 0s - loss: 0.6914 - accuracy: 0.5304\n",
      "Epoch 00057: val_accuracy did not improve from 0.53063\n",
      "236/236 [==============================] - 172s 728ms/step - loss: 0.6914 - accuracy: 0.5304 - val_loss: 0.6913 - val_accuracy: 0.5306\n",
      "Epoch 58/200\n",
      "236/236 [==============================] - ETA: 0s - loss: 0.6913 - accuracy: 0.5304\n",
      "Epoch 00058: val_accuracy did not improve from 0.53063\n",
      "236/236 [==============================] - 174s 736ms/step - loss: 0.6913 - accuracy: 0.5304 - val_loss: 0.6913 - val_accuracy: 0.5306\n"
     ]
    },
    {
     "name": "stdout",
     "output_type": "stream",
     "text": [
      "Epoch 59/200\n",
      "236/236 [==============================] - ETA: 0s - loss: 0.6913 - accuracy: 0.5304\n",
      "Epoch 00059: val_accuracy did not improve from 0.53063\n",
      "236/236 [==============================] - 178s 752ms/step - loss: 0.6913 - accuracy: 0.5304 - val_loss: 0.6913 - val_accuracy: 0.5306\n",
      "Epoch 60/200\n",
      "236/236 [==============================] - ETA: 0s - loss: 0.6914 - accuracy: 0.5304\n",
      "Epoch 00060: val_accuracy did not improve from 0.53063\n",
      "236/236 [==============================] - 170s 719ms/step - loss: 0.6914 - accuracy: 0.5304 - val_loss: 0.6913 - val_accuracy: 0.5306\n",
      "Epoch 61/200\n",
      "236/236 [==============================] - ETA: 0s - loss: 0.6913 - accuracy: 0.5304\n",
      "Epoch 00061: val_accuracy did not improve from 0.53063\n",
      "236/236 [==============================] - 162s 688ms/step - loss: 0.6913 - accuracy: 0.5304 - val_loss: 0.6913 - val_accuracy: 0.5306\n",
      "Epoch 62/200\n",
      "236/236 [==============================] - ETA: 0s - loss: 0.6914 - accuracy: 0.5304\n",
      "Epoch 00062: val_accuracy did not improve from 0.53063\n",
      "236/236 [==============================] - 159s 675ms/step - loss: 0.6914 - accuracy: 0.5304 - val_loss: 0.6913 - val_accuracy: 0.5306\n",
      "Epoch 63/200\n",
      "236/236 [==============================] - ETA: 0s - loss: 0.6913 - accuracy: 0.5304\n",
      "Epoch 00063: val_accuracy did not improve from 0.53063\n",
      "236/236 [==============================] - 153s 648ms/step - loss: 0.6913 - accuracy: 0.5304 - val_loss: 0.6913 - val_accuracy: 0.5306\n",
      "Epoch 64/200\n",
      "236/236 [==============================] - ETA: 0s - loss: 0.6914 - accuracy: 0.5304\n",
      "Epoch 00064: val_accuracy did not improve from 0.53063\n",
      "236/236 [==============================] - 158s 668ms/step - loss: 0.6914 - accuracy: 0.5304 - val_loss: 0.6913 - val_accuracy: 0.5306\n",
      "Epoch 65/200\n",
      "236/236 [==============================] - ETA: 0s - loss: 0.6913 - accuracy: 0.5304\n",
      "Epoch 00065: val_accuracy did not improve from 0.53063\n",
      "236/236 [==============================] - 178s 753ms/step - loss: 0.6913 - accuracy: 0.5304 - val_loss: 0.6913 - val_accuracy: 0.5306\n",
      "Epoch 66/200\n",
      "236/236 [==============================] - ETA: 0s - loss: 0.6913 - accuracy: 0.5304\n",
      "Epoch 00066: val_accuracy did not improve from 0.53063\n",
      "236/236 [==============================] - 164s 696ms/step - loss: 0.6913 - accuracy: 0.5304 - val_loss: 0.6913 - val_accuracy: 0.5306\n",
      "Epoch 67/200\n",
      "236/236 [==============================] - ETA: 0s - loss: 0.6913 - accuracy: 0.5304\n",
      "Epoch 00067: val_accuracy did not improve from 0.53063\n",
      "236/236 [==============================] - 163s 691ms/step - loss: 0.6913 - accuracy: 0.5304 - val_loss: 0.6913 - val_accuracy: 0.5306\n",
      "Epoch 68/200\n",
      "236/236 [==============================] - ETA: 0s - loss: 0.6913 - accuracy: 0.5304\n",
      "Epoch 00068: val_accuracy did not improve from 0.53063\n",
      "236/236 [==============================] - 161s 683ms/step - loss: 0.6913 - accuracy: 0.5304 - val_loss: 0.6913 - val_accuracy: 0.5306\n",
      "Epoch 69/200\n",
      "236/236 [==============================] - ETA: 0s - loss: 0.6913 - accuracy: 0.5304\n",
      "Epoch 00069: val_accuracy did not improve from 0.53063\n",
      "236/236 [==============================] - 157s 666ms/step - loss: 0.6913 - accuracy: 0.5304 - val_loss: 0.6913 - val_accuracy: 0.5306\n",
      "Epoch 70/200\n",
      "236/236 [==============================] - ETA: 0s - loss: 0.6913 - accuracy: 0.5304\n",
      "Epoch 00070: val_accuracy did not improve from 0.53063\n",
      "236/236 [==============================] - 156s 660ms/step - loss: 0.6913 - accuracy: 0.5304 - val_loss: 0.6913 - val_accuracy: 0.5306\n",
      "Epoch 71/200\n",
      "236/236 [==============================] - ETA: 0s - loss: 0.6913 - accuracy: 0.5304\n",
      "Epoch 00071: val_accuracy did not improve from 0.53063\n",
      "236/236 [==============================] - 163s 690ms/step - loss: 0.6913 - accuracy: 0.5304 - val_loss: 0.6913 - val_accuracy: 0.5306\n",
      "Epoch 72/200\n",
      "236/236 [==============================] - ETA: 0s - loss: 0.6914 - accuracy: 0.5304\n",
      "Epoch 00072: val_accuracy did not improve from 0.53063\n",
      "236/236 [==============================] - 164s 695ms/step - loss: 0.6914 - accuracy: 0.5304 - val_loss: 0.6913 - val_accuracy: 0.5306\n",
      "Epoch 73/200\n",
      "236/236 [==============================] - ETA: 0s - loss: 0.6913 - accuracy: 0.5304\n",
      "Epoch 00073: val_accuracy did not improve from 0.53063\n",
      "236/236 [==============================] - 168s 714ms/step - loss: 0.6913 - accuracy: 0.5304 - val_loss: 0.6913 - val_accuracy: 0.5306\n",
      "Epoch 74/200\n",
      "236/236 [==============================] - ETA: 0s - loss: 0.6914 - accuracy: 0.5304\n",
      "Epoch 00074: val_accuracy did not improve from 0.53063\n",
      "236/236 [==============================] - 164s 696ms/step - loss: 0.6914 - accuracy: 0.5304 - val_loss: 0.6913 - val_accuracy: 0.5306\n",
      "Epoch 75/200\n",
      "236/236 [==============================] - ETA: 0s - loss: 0.6914 - accuracy: 0.5304\n",
      "Epoch 00075: val_accuracy did not improve from 0.53063\n",
      "236/236 [==============================] - 156s 663ms/step - loss: 0.6914 - accuracy: 0.5304 - val_loss: 0.6913 - val_accuracy: 0.5306\n",
      "Epoch 76/200\n",
      "236/236 [==============================] - ETA: 0s - loss: 0.6914 - accuracy: 0.5304\n",
      "Epoch 00076: val_accuracy did not improve from 0.53063\n",
      "236/236 [==============================] - 158s 670ms/step - loss: 0.6914 - accuracy: 0.5304 - val_loss: 0.6913 - val_accuracy: 0.5306\n",
      "Epoch 77/200\n",
      " 53/236 [=====>........................] - ETA: 2:42 - loss: 0.6907 - accuracy: 0.5348"
     ]
    },
    {
     "ename": "KeyboardInterrupt",
     "evalue": "",
     "output_type": "error",
     "traceback": [
      "\u001b[1;31m---------------------------------------------------------------------------\u001b[0m",
      "\u001b[1;31mKeyboardInterrupt\u001b[0m                         Traceback (most recent call last)",
      "\u001b[1;32m<ipython-input-14-973a12be2940>\u001b[0m in \u001b[0;36m<module>\u001b[1;34m\u001b[0m\n\u001b[1;32m----> 1\u001b[1;33m history = model.fit(\n\u001b[0m\u001b[0;32m      2\u001b[0m     \u001b[0mtrain_gen\u001b[0m\u001b[1;33m,\u001b[0m\u001b[1;33m\u001b[0m\u001b[1;33m\u001b[0m\u001b[0m\n\u001b[0;32m      3\u001b[0m     \u001b[0msteps_per_epoch\u001b[0m\u001b[1;33m=\u001b[0m \u001b[0msteps_per_epoch\u001b[0m\u001b[1;33m,\u001b[0m\u001b[1;33m\u001b[0m\u001b[1;33m\u001b[0m\u001b[0m\n\u001b[0;32m      4\u001b[0m     \u001b[0mvalidation_data\u001b[0m\u001b[1;33m=\u001b[0m\u001b[0mval_gen\u001b[0m\u001b[1;33m,\u001b[0m\u001b[1;33m\u001b[0m\u001b[1;33m\u001b[0m\u001b[0m\n\u001b[0;32m      5\u001b[0m     \u001b[0mvalidation_steps\u001b[0m\u001b[1;33m=\u001b[0m \u001b[0mvalidation_steps\u001b[0m\u001b[1;33m,\u001b[0m\u001b[1;33m\u001b[0m\u001b[1;33m\u001b[0m\u001b[0m\n",
      "\u001b[1;32m~\\anaconda3\\lib\\site-packages\\tensorflow\\python\\keras\\engine\\training.py\u001b[0m in \u001b[0;36m_method_wrapper\u001b[1;34m(self, *args, **kwargs)\u001b[0m\n\u001b[0;32m    106\u001b[0m   \u001b[1;32mdef\u001b[0m \u001b[0m_method_wrapper\u001b[0m\u001b[1;33m(\u001b[0m\u001b[0mself\u001b[0m\u001b[1;33m,\u001b[0m \u001b[1;33m*\u001b[0m\u001b[0margs\u001b[0m\u001b[1;33m,\u001b[0m \u001b[1;33m**\u001b[0m\u001b[0mkwargs\u001b[0m\u001b[1;33m)\u001b[0m\u001b[1;33m:\u001b[0m\u001b[1;33m\u001b[0m\u001b[1;33m\u001b[0m\u001b[0m\n\u001b[0;32m    107\u001b[0m     \u001b[1;32mif\u001b[0m \u001b[1;32mnot\u001b[0m \u001b[0mself\u001b[0m\u001b[1;33m.\u001b[0m\u001b[0m_in_multi_worker_mode\u001b[0m\u001b[1;33m(\u001b[0m\u001b[1;33m)\u001b[0m\u001b[1;33m:\u001b[0m  \u001b[1;31m# pylint: disable=protected-access\u001b[0m\u001b[1;33m\u001b[0m\u001b[1;33m\u001b[0m\u001b[0m\n\u001b[1;32m--> 108\u001b[1;33m       \u001b[1;32mreturn\u001b[0m \u001b[0mmethod\u001b[0m\u001b[1;33m(\u001b[0m\u001b[0mself\u001b[0m\u001b[1;33m,\u001b[0m \u001b[1;33m*\u001b[0m\u001b[0margs\u001b[0m\u001b[1;33m,\u001b[0m \u001b[1;33m**\u001b[0m\u001b[0mkwargs\u001b[0m\u001b[1;33m)\u001b[0m\u001b[1;33m\u001b[0m\u001b[1;33m\u001b[0m\u001b[0m\n\u001b[0m\u001b[0;32m    109\u001b[0m \u001b[1;33m\u001b[0m\u001b[0m\n\u001b[0;32m    110\u001b[0m     \u001b[1;31m# Running inside `run_distribute_coordinator` already.\u001b[0m\u001b[1;33m\u001b[0m\u001b[1;33m\u001b[0m\u001b[1;33m\u001b[0m\u001b[0m\n",
      "\u001b[1;32m~\\anaconda3\\lib\\site-packages\\tensorflow\\python\\keras\\engine\\training.py\u001b[0m in \u001b[0;36mfit\u001b[1;34m(self, x, y, batch_size, epochs, verbose, callbacks, validation_split, validation_data, shuffle, class_weight, sample_weight, initial_epoch, steps_per_epoch, validation_steps, validation_batch_size, validation_freq, max_queue_size, workers, use_multiprocessing)\u001b[0m\n\u001b[0;32m   1096\u001b[0m                 batch_size=batch_size):\n\u001b[0;32m   1097\u001b[0m               \u001b[0mcallbacks\u001b[0m\u001b[1;33m.\u001b[0m\u001b[0mon_train_batch_begin\u001b[0m\u001b[1;33m(\u001b[0m\u001b[0mstep\u001b[0m\u001b[1;33m)\u001b[0m\u001b[1;33m\u001b[0m\u001b[1;33m\u001b[0m\u001b[0m\n\u001b[1;32m-> 1098\u001b[1;33m               \u001b[0mtmp_logs\u001b[0m \u001b[1;33m=\u001b[0m \u001b[0mtrain_function\u001b[0m\u001b[1;33m(\u001b[0m\u001b[0miterator\u001b[0m\u001b[1;33m)\u001b[0m\u001b[1;33m\u001b[0m\u001b[1;33m\u001b[0m\u001b[0m\n\u001b[0m\u001b[0;32m   1099\u001b[0m               \u001b[1;32mif\u001b[0m \u001b[0mdata_handler\u001b[0m\u001b[1;33m.\u001b[0m\u001b[0mshould_sync\u001b[0m\u001b[1;33m:\u001b[0m\u001b[1;33m\u001b[0m\u001b[1;33m\u001b[0m\u001b[0m\n\u001b[0;32m   1100\u001b[0m                 \u001b[0mcontext\u001b[0m\u001b[1;33m.\u001b[0m\u001b[0masync_wait\u001b[0m\u001b[1;33m(\u001b[0m\u001b[1;33m)\u001b[0m\u001b[1;33m\u001b[0m\u001b[1;33m\u001b[0m\u001b[0m\n",
      "\u001b[1;32m~\\anaconda3\\lib\\site-packages\\tensorflow\\python\\eager\\def_function.py\u001b[0m in \u001b[0;36m__call__\u001b[1;34m(self, *args, **kwds)\u001b[0m\n\u001b[0;32m    778\u001b[0m       \u001b[1;32melse\u001b[0m\u001b[1;33m:\u001b[0m\u001b[1;33m\u001b[0m\u001b[1;33m\u001b[0m\u001b[0m\n\u001b[0;32m    779\u001b[0m         \u001b[0mcompiler\u001b[0m \u001b[1;33m=\u001b[0m \u001b[1;34m\"nonXla\"\u001b[0m\u001b[1;33m\u001b[0m\u001b[1;33m\u001b[0m\u001b[0m\n\u001b[1;32m--> 780\u001b[1;33m         \u001b[0mresult\u001b[0m \u001b[1;33m=\u001b[0m \u001b[0mself\u001b[0m\u001b[1;33m.\u001b[0m\u001b[0m_call\u001b[0m\u001b[1;33m(\u001b[0m\u001b[1;33m*\u001b[0m\u001b[0margs\u001b[0m\u001b[1;33m,\u001b[0m \u001b[1;33m**\u001b[0m\u001b[0mkwds\u001b[0m\u001b[1;33m)\u001b[0m\u001b[1;33m\u001b[0m\u001b[1;33m\u001b[0m\u001b[0m\n\u001b[0m\u001b[0;32m    781\u001b[0m \u001b[1;33m\u001b[0m\u001b[0m\n\u001b[0;32m    782\u001b[0m       \u001b[0mnew_tracing_count\u001b[0m \u001b[1;33m=\u001b[0m \u001b[0mself\u001b[0m\u001b[1;33m.\u001b[0m\u001b[0m_get_tracing_count\u001b[0m\u001b[1;33m(\u001b[0m\u001b[1;33m)\u001b[0m\u001b[1;33m\u001b[0m\u001b[1;33m\u001b[0m\u001b[0m\n",
      "\u001b[1;32m~\\anaconda3\\lib\\site-packages\\tensorflow\\python\\eager\\def_function.py\u001b[0m in \u001b[0;36m_call\u001b[1;34m(self, *args, **kwds)\u001b[0m\n\u001b[0;32m    805\u001b[0m       \u001b[1;31m# In this case we have created variables on the first call, so we run the\u001b[0m\u001b[1;33m\u001b[0m\u001b[1;33m\u001b[0m\u001b[1;33m\u001b[0m\u001b[0m\n\u001b[0;32m    806\u001b[0m       \u001b[1;31m# defunned version which is guaranteed to never create variables.\u001b[0m\u001b[1;33m\u001b[0m\u001b[1;33m\u001b[0m\u001b[1;33m\u001b[0m\u001b[0m\n\u001b[1;32m--> 807\u001b[1;33m       \u001b[1;32mreturn\u001b[0m \u001b[0mself\u001b[0m\u001b[1;33m.\u001b[0m\u001b[0m_stateless_fn\u001b[0m\u001b[1;33m(\u001b[0m\u001b[1;33m*\u001b[0m\u001b[0margs\u001b[0m\u001b[1;33m,\u001b[0m \u001b[1;33m**\u001b[0m\u001b[0mkwds\u001b[0m\u001b[1;33m)\u001b[0m  \u001b[1;31m# pylint: disable=not-callable\u001b[0m\u001b[1;33m\u001b[0m\u001b[1;33m\u001b[0m\u001b[0m\n\u001b[0m\u001b[0;32m    808\u001b[0m     \u001b[1;32melif\u001b[0m \u001b[0mself\u001b[0m\u001b[1;33m.\u001b[0m\u001b[0m_stateful_fn\u001b[0m \u001b[1;32mis\u001b[0m \u001b[1;32mnot\u001b[0m \u001b[1;32mNone\u001b[0m\u001b[1;33m:\u001b[0m\u001b[1;33m\u001b[0m\u001b[1;33m\u001b[0m\u001b[0m\n\u001b[0;32m    809\u001b[0m       \u001b[1;31m# Release the lock early so that multiple threads can perform the call\u001b[0m\u001b[1;33m\u001b[0m\u001b[1;33m\u001b[0m\u001b[1;33m\u001b[0m\u001b[0m\n",
      "\u001b[1;32m~\\anaconda3\\lib\\site-packages\\tensorflow\\python\\eager\\function.py\u001b[0m in \u001b[0;36m__call__\u001b[1;34m(self, *args, **kwargs)\u001b[0m\n\u001b[0;32m   2827\u001b[0m     \u001b[1;32mwith\u001b[0m \u001b[0mself\u001b[0m\u001b[1;33m.\u001b[0m\u001b[0m_lock\u001b[0m\u001b[1;33m:\u001b[0m\u001b[1;33m\u001b[0m\u001b[1;33m\u001b[0m\u001b[0m\n\u001b[0;32m   2828\u001b[0m       \u001b[0mgraph_function\u001b[0m\u001b[1;33m,\u001b[0m \u001b[0margs\u001b[0m\u001b[1;33m,\u001b[0m \u001b[0mkwargs\u001b[0m \u001b[1;33m=\u001b[0m \u001b[0mself\u001b[0m\u001b[1;33m.\u001b[0m\u001b[0m_maybe_define_function\u001b[0m\u001b[1;33m(\u001b[0m\u001b[0margs\u001b[0m\u001b[1;33m,\u001b[0m \u001b[0mkwargs\u001b[0m\u001b[1;33m)\u001b[0m\u001b[1;33m\u001b[0m\u001b[1;33m\u001b[0m\u001b[0m\n\u001b[1;32m-> 2829\u001b[1;33m     \u001b[1;32mreturn\u001b[0m \u001b[0mgraph_function\u001b[0m\u001b[1;33m.\u001b[0m\u001b[0m_filtered_call\u001b[0m\u001b[1;33m(\u001b[0m\u001b[0margs\u001b[0m\u001b[1;33m,\u001b[0m \u001b[0mkwargs\u001b[0m\u001b[1;33m)\u001b[0m  \u001b[1;31m# pylint: disable=protected-access\u001b[0m\u001b[1;33m\u001b[0m\u001b[1;33m\u001b[0m\u001b[0m\n\u001b[0m\u001b[0;32m   2830\u001b[0m \u001b[1;33m\u001b[0m\u001b[0m\n\u001b[0;32m   2831\u001b[0m   \u001b[1;33m@\u001b[0m\u001b[0mproperty\u001b[0m\u001b[1;33m\u001b[0m\u001b[1;33m\u001b[0m\u001b[0m\n",
      "\u001b[1;32m~\\anaconda3\\lib\\site-packages\\tensorflow\\python\\eager\\function.py\u001b[0m in \u001b[0;36m_filtered_call\u001b[1;34m(self, args, kwargs, cancellation_manager)\u001b[0m\n\u001b[0;32m   1841\u001b[0m       \u001b[0;31m`\u001b[0m\u001b[0margs\u001b[0m\u001b[0;31m`\u001b[0m \u001b[1;32mand\u001b[0m\u001b[0;31m \u001b[0m\u001b[0;31m`\u001b[0m\u001b[0mkwargs\u001b[0m\u001b[0;31m`\u001b[0m\u001b[1;33m.\u001b[0m\u001b[1;33m\u001b[0m\u001b[1;33m\u001b[0m\u001b[0m\n\u001b[0;32m   1842\u001b[0m     \"\"\"\n\u001b[1;32m-> 1843\u001b[1;33m     return self._call_flat(\n\u001b[0m\u001b[0;32m   1844\u001b[0m         [t for t in nest.flatten((args, kwargs), expand_composites=True)\n\u001b[0;32m   1845\u001b[0m          if isinstance(t, (ops.Tensor,\n",
      "\u001b[1;32m~\\anaconda3\\lib\\site-packages\\tensorflow\\python\\eager\\function.py\u001b[0m in \u001b[0;36m_call_flat\u001b[1;34m(self, args, captured_inputs, cancellation_manager)\u001b[0m\n\u001b[0;32m   1921\u001b[0m         and executing_eagerly):\n\u001b[0;32m   1922\u001b[0m       \u001b[1;31m# No tape is watching; skip to running the function.\u001b[0m\u001b[1;33m\u001b[0m\u001b[1;33m\u001b[0m\u001b[1;33m\u001b[0m\u001b[0m\n\u001b[1;32m-> 1923\u001b[1;33m       return self._build_call_outputs(self._inference_function.call(\n\u001b[0m\u001b[0;32m   1924\u001b[0m           ctx, args, cancellation_manager=cancellation_manager))\n\u001b[0;32m   1925\u001b[0m     forward_backward = self._select_forward_and_backward_functions(\n",
      "\u001b[1;32m~\\anaconda3\\lib\\site-packages\\tensorflow\\python\\eager\\function.py\u001b[0m in \u001b[0;36mcall\u001b[1;34m(self, ctx, args, cancellation_manager)\u001b[0m\n\u001b[0;32m    543\u001b[0m       \u001b[1;32mwith\u001b[0m \u001b[0m_InterpolateFunctionError\u001b[0m\u001b[1;33m(\u001b[0m\u001b[0mself\u001b[0m\u001b[1;33m)\u001b[0m\u001b[1;33m:\u001b[0m\u001b[1;33m\u001b[0m\u001b[1;33m\u001b[0m\u001b[0m\n\u001b[0;32m    544\u001b[0m         \u001b[1;32mif\u001b[0m \u001b[0mcancellation_manager\u001b[0m \u001b[1;32mis\u001b[0m \u001b[1;32mNone\u001b[0m\u001b[1;33m:\u001b[0m\u001b[1;33m\u001b[0m\u001b[1;33m\u001b[0m\u001b[0m\n\u001b[1;32m--> 545\u001b[1;33m           outputs = execute.execute(\n\u001b[0m\u001b[0;32m    546\u001b[0m               \u001b[0mstr\u001b[0m\u001b[1;33m(\u001b[0m\u001b[0mself\u001b[0m\u001b[1;33m.\u001b[0m\u001b[0msignature\u001b[0m\u001b[1;33m.\u001b[0m\u001b[0mname\u001b[0m\u001b[1;33m)\u001b[0m\u001b[1;33m,\u001b[0m\u001b[1;33m\u001b[0m\u001b[1;33m\u001b[0m\u001b[0m\n\u001b[0;32m    547\u001b[0m               \u001b[0mnum_outputs\u001b[0m\u001b[1;33m=\u001b[0m\u001b[0mself\u001b[0m\u001b[1;33m.\u001b[0m\u001b[0m_num_outputs\u001b[0m\u001b[1;33m,\u001b[0m\u001b[1;33m\u001b[0m\u001b[1;33m\u001b[0m\u001b[0m\n",
      "\u001b[1;32m~\\anaconda3\\lib\\site-packages\\tensorflow\\python\\eager\\execute.py\u001b[0m in \u001b[0;36mquick_execute\u001b[1;34m(op_name, num_outputs, inputs, attrs, ctx, name)\u001b[0m\n\u001b[0;32m     57\u001b[0m   \u001b[1;32mtry\u001b[0m\u001b[1;33m:\u001b[0m\u001b[1;33m\u001b[0m\u001b[1;33m\u001b[0m\u001b[0m\n\u001b[0;32m     58\u001b[0m     \u001b[0mctx\u001b[0m\u001b[1;33m.\u001b[0m\u001b[0mensure_initialized\u001b[0m\u001b[1;33m(\u001b[0m\u001b[1;33m)\u001b[0m\u001b[1;33m\u001b[0m\u001b[1;33m\u001b[0m\u001b[0m\n\u001b[1;32m---> 59\u001b[1;33m     tensors = pywrap_tfe.TFE_Py_Execute(ctx._handle, device_name, op_name,\n\u001b[0m\u001b[0;32m     60\u001b[0m                                         inputs, attrs, num_outputs)\n\u001b[0;32m     61\u001b[0m   \u001b[1;32mexcept\u001b[0m \u001b[0mcore\u001b[0m\u001b[1;33m.\u001b[0m\u001b[0m_NotOkStatusException\u001b[0m \u001b[1;32mas\u001b[0m \u001b[0me\u001b[0m\u001b[1;33m:\u001b[0m\u001b[1;33m\u001b[0m\u001b[1;33m\u001b[0m\u001b[0m\n",
      "\u001b[1;31mKeyboardInterrupt\u001b[0m: "
     ]
    }
   ],
   "source": [
    "history = model.fit(\n",
    "    train_gen,\n",
    "    steps_per_epoch= steps_per_epoch,\n",
    "    validation_data=val_gen,\n",
    "    validation_steps= validation_steps,\n",
    "    epochs=epochs,\n",
    "    callbacks=[es,mc]\n",
    ")"
   ]
  },
  {
   "cell_type": "code",
   "execution_count": null,
   "metadata": {
    "_cell_guid": "b1076dfc-b9ad-4769-8c92-a6c4dae69d19",
    "_uuid": "8f2839f25d086af736a60e9eeb907d3b93b6e0e5",
    "execution": {
     "iopub.execute_input": "2021-03-19T04:59:17.646775Z",
     "iopub.status.busy": "2021-03-19T04:59:17.644992Z",
     "iopub.status.idle": "2021-03-19T04:59:17.647344Z",
     "shell.execute_reply": "2021-03-19T04:59:17.647751Z"
    },
    "papermill": {
     "duration": 8.032845,
     "end_time": "2021-03-19T04:59:17.647890",
     "exception": false,
     "start_time": "2021-03-19T04:59:09.615045",
     "status": "completed"
    },
    "tags": []
   },
   "outputs": [],
   "source": [
    "def history_plot(model_id, history1):\n",
    "\tplt.figure(figsize=(14,16)) \n",
    "\t# plot loss\n",
    "\tplt.subplot(2, 1, 1)\n",
    "\tplt.title('Cross Entropy Loss - ' + model_id, fontsize = 12)\n",
    "\tplt.plot(history1.history['loss'], color='blue', label='train base')\n",
    "\tplt.plot(history1.history['val_loss'], color='cyan', label='val base')\n",
    "\tplt.plot( np.argmin(history1.history[\"val_loss\"]), np.min(history1.history[\"val_loss\"]), marker=\"x\", color=\"r\", label=\"best model\")\n",
    "\tplt.xlabel(\"Epochs\",fontsize = 12)\n",
    "\tplt.ylabel(\"Loss\", fontsize = 12)\n",
    "\tplt.legend(loc='upper right')\n",
    "\n",
    "\t# plot accuracy\n",
    "\tplt.subplot(2, 1, 2)\n",
    "\tplt.title('Classification Accuracy ' + model_id, fontsize = 10)\n",
    "\tplt.plot(history1.history['accuracy'], color='blue', label='train base')\n",
    "\tplt.plot(history1.history['val_accuracy'], color='cyan', label='val base')\n",
    "\tplt.plot( np.argmax(history1.history[\"val_accuracy\"]), np.max(history1.history[\"val_accuracy\"]), marker=\"x\", color=\"r\", label=\"best model\")\n",
    "\tplt.xlabel(\"Epochs\", fontsize = 12)\n",
    "\tplt.ylabel(\"Accuracy\", fontsize = 12)\n",
    "\tplt.legend(loc='lower right')\n",
    "\n",
    "\tplt.show()"
   ]
  },
  {
   "cell_type": "code",
   "execution_count": null,
   "metadata": {
    "_cell_guid": "b1076dfc-b9ad-4769-8c92-a6c4dae69d19",
    "_uuid": "8f2839f25d086af736a60e9eeb907d3b93b6e0e5",
    "execution": {
     "iopub.execute_input": "2021-03-19T04:59:33.564721Z",
     "iopub.status.busy": "2021-03-19T04:59:33.563850Z",
     "iopub.status.idle": "2021-03-19T04:59:33.566666Z",
     "shell.execute_reply": "2021-03-19T04:59:33.567070Z"
    },
    "papermill": {
     "duration": 7.834441,
     "end_time": "2021-03-19T04:59:33.567205",
     "exception": false,
     "start_time": "2021-03-19T04:59:25.732764",
     "status": "completed"
    },
    "tags": []
   },
   "outputs": [],
   "source": [
    "history.history.keys()"
   ]
  },
  {
   "cell_type": "code",
   "execution_count": null,
   "metadata": {
    "_cell_guid": "b1076dfc-b9ad-4769-8c92-a6c4dae69d19",
    "_uuid": "8f2839f25d086af736a60e9eeb907d3b93b6e0e5",
    "execution": {
     "iopub.execute_input": "2021-03-19T04:59:50.166579Z",
     "iopub.status.busy": "2021-03-19T04:59:50.165698Z",
     "iopub.status.idle": "2021-03-19T04:59:50.496298Z",
     "shell.execute_reply": "2021-03-19T04:59:50.496718Z"
    },
    "papermill": {
     "duration": 8.386147,
     "end_time": "2021-03-19T04:59:50.496876",
     "exception": false,
     "start_time": "2021-03-19T04:59:42.110729",
     "status": "completed"
    },
    "tags": []
   },
   "outputs": [],
   "source": [
    "history_plot('CNN Model', history)"
   ]
  },
  {
   "cell_type": "code",
   "execution_count": null,
   "metadata": {
    "_cell_guid": "b1076dfc-b9ad-4769-8c92-a6c4dae69d19",
    "_uuid": "8f2839f25d086af736a60e9eeb907d3b93b6e0e5",
    "execution": {
     "iopub.execute_input": "2021-03-19T05:00:06.534546Z",
     "iopub.status.busy": "2021-03-19T05:00:06.533624Z",
     "iopub.status.idle": "2021-03-19T05:00:06.550011Z",
     "shell.execute_reply": "2021-03-19T05:00:06.549126Z"
    },
    "papermill": {
     "duration": 7.951277,
     "end_time": "2021-03-19T05:00:06.550134",
     "exception": false,
     "start_time": "2021-03-19T04:59:58.598857",
     "status": "completed"
    },
    "tags": []
   },
   "outputs": [],
   "source": [
    "model.load_weights('model.h5')"
   ]
  },
  {
   "cell_type": "code",
   "execution_count": null,
   "metadata": {
    "execution": {
     "iopub.execute_input": "2021-03-19T05:00:23.331770Z",
     "iopub.status.busy": "2021-03-19T05:00:23.330042Z",
     "iopub.status.idle": "2021-03-19T05:00:23.332340Z",
     "shell.execute_reply": "2021-03-19T05:00:23.332733Z"
    },
    "papermill": {
     "duration": 8.22497,
     "end_time": "2021-03-19T05:00:23.332874",
     "exception": false,
     "start_time": "2021-03-19T05:00:15.107904",
     "status": "completed"
    },
    "tags": []
   },
   "outputs": [],
   "source": [
    "category_names = [\"No Defect\", \"Defect\"]"
   ]
  },
  {
   "cell_type": "code",
   "execution_count": null,
   "metadata": {
    "_cell_guid": "b1076dfc-b9ad-4769-8c92-a6c4dae69d19",
    "_uuid": "8f2839f25d086af736a60e9eeb907d3b93b6e0e5",
    "execution": {
     "iopub.execute_input": "2021-03-19T05:00:39.269147Z",
     "iopub.status.busy": "2021-03-19T05:00:39.268267Z",
     "iopub.status.idle": "2021-03-19T05:00:41.038787Z",
     "shell.execute_reply": "2021-03-19T05:00:41.039185Z"
    },
    "papermill": {
     "duration": 9.583871,
     "end_time": "2021-03-19T05:00:41.039341",
     "exception": false,
     "start_time": "2021-03-19T05:00:31.455470",
     "status": "completed"
    },
    "tags": []
   },
   "outputs": [],
   "source": [
    "y_test = df_test['defect_label']\n",
    "\n",
    "STEP_SIZE_TEST = compute_steps_per_epoch(y_test.shape[0])\n",
    "print('predicting...')\n",
    "\n",
    "predictions = model.predict(\n",
    "    test_gen,\n",
    "    steps = STEP_SIZE_TEST,\n",
    "    verbose=1)"
   ]
  },
  {
   "cell_type": "code",
   "execution_count": null,
   "metadata": {
    "execution": {
     "iopub.execute_input": "2021-03-19T05:00:57.416316Z",
     "iopub.status.busy": "2021-03-19T05:00:57.414541Z",
     "iopub.status.idle": "2021-03-19T05:00:57.416891Z",
     "shell.execute_reply": "2021-03-19T05:00:57.417282Z"
    },
    "papermill": {
     "duration": 8.052417,
     "end_time": "2021-03-19T05:00:57.417415",
     "exception": false,
     "start_time": "2021-03-19T05:00:49.364998",
     "status": "completed"
    },
    "tags": []
   },
   "outputs": [],
   "source": [
    "y_pred = (predictions > 0.5).astype(\"int32\")"
   ]
  },
  {
   "cell_type": "code",
   "execution_count": null,
   "metadata": {
    "_cell_guid": "b1076dfc-b9ad-4769-8c92-a6c4dae69d19",
    "_uuid": "8f2839f25d086af736a60e9eeb907d3b93b6e0e5",
    "execution": {
     "iopub.execute_input": "2021-03-19T05:01:13.694374Z",
     "iopub.status.busy": "2021-03-19T05:01:13.693513Z",
     "iopub.status.idle": "2021-03-19T05:01:13.704169Z",
     "shell.execute_reply": "2021-03-19T05:01:13.704674Z"
    },
    "papermill": {
     "duration": 8.114658,
     "end_time": "2021-03-19T05:01:13.704848",
     "exception": false,
     "start_time": "2021-03-19T05:01:05.590190",
     "status": "completed"
    },
    "tags": []
   },
   "outputs": [],
   "source": [
    "# classification report\n",
    "report_string = classification_report(y_test, y_pred, target_names=category_names)\n",
    "print(report_string)"
   ]
  },
  {
   "cell_type": "code",
   "execution_count": null,
   "metadata": {
    "execution": {
     "iopub.execute_input": "2021-03-19T05:01:30.235595Z",
     "iopub.status.busy": "2021-03-19T05:01:30.234793Z",
     "iopub.status.idle": "2021-03-19T05:01:30.404304Z",
     "shell.execute_reply": "2021-03-19T05:01:30.404725Z"
    },
    "papermill": {
     "duration": 8.276056,
     "end_time": "2021-03-19T05:01:30.404890",
     "exception": false,
     "start_time": "2021-03-19T05:01:22.128834",
     "status": "completed"
    },
    "tags": []
   },
   "outputs": [],
   "source": [
    "def plot_cm(y_true, y_pred, figsize=(6,5)):\n",
    "    cm = confusion_matrix(y_true, y_pred, labels=np.unique(y_true))\n",
    "    cm_sum = np.sum(cm, axis=1, keepdims=True)\n",
    "    cm_perc = cm / cm_sum.astype(float) * 100\n",
    "    annot = np.empty_like(cm).astype(str)\n",
    "    nrows, ncols = cm.shape\n",
    "    for i in range(nrows):\n",
    "        for j in range(ncols):\n",
    "            c = cm[i, j]\n",
    "            p = cm_perc[i, j]\n",
    "            if i == j:\n",
    "                s = cm_sum[i]\n",
    "                annot[i, j] = '%.1f%%\\n%d/%d' % (p, c, s)\n",
    "            elif c == 0:\n",
    "                annot[i, j] = ''\n",
    "            elif i<j:\n",
    "                annot[i, j] = '%.1f%%\\n%d\\nFP' % (p, c)\n",
    "            else:\n",
    "                annot[i, j] = '%.1f%%\\n%d\\nFN' % (p, c)\n",
    "    #cm = pd.DataFrame(cm, index=np.unique(y_true), columns=np.unique(y_true))\n",
    "    cm = pd.DataFrame(cm, index=category_names, columns=category_names)\n",
    "    cm.index.name = 'Actual'\n",
    "    cm.columns.name = 'Predicted'\n",
    "    fig, ax = plt.subplots(figsize=figsize)\n",
    "    sns.set(font_scale=1.4)\n",
    "    sns.heatmap(cm, cmap= \"YlGnBu\", annot=annot, fmt='', ax=ax, annot_kws={\"fontsize\":12})\n",
    "\n",
    "plot_cm(y_test, y_pred, figsize=(6,5))"
   ]
  },
  {
   "cell_type": "code",
   "execution_count": null,
   "metadata": {
    "execution": {
     "iopub.execute_input": "2021-03-19T05:01:46.778982Z",
     "iopub.status.busy": "2021-03-19T05:01:46.778054Z",
     "iopub.status.idle": "2021-03-19T05:01:46.967399Z",
     "shell.execute_reply": "2021-03-19T05:01:46.966900Z"
    },
    "papermill": {
     "duration": 8.419396,
     "end_time": "2021-03-19T05:01:46.967530",
     "exception": false,
     "start_time": "2021-03-19T05:01:38.548134",
     "status": "completed"
    },
    "tags": []
   },
   "outputs": [],
   "source": [
    "from sklearn.metrics import roc_curve, auc, roc_auc_score\n",
    "\n",
    "# calculate scores\n",
    "auc = roc_auc_score(y_test, predictions)\n",
    "# summarize scores\n",
    "print('ROC AUC=%.3f' % (auc))\n",
    "# calculate roc curves\n",
    "\n",
    "ns_fpr, ns_tpr, _ = roc_curve(y_test, predictions)\n",
    "\n",
    "# plot the roc curve for the model\n",
    "plt.plot(ns_fpr, ns_tpr, linestyle='--', label=\"AUC = \"+ str(auc))\n",
    "plt.plot([0, 1], [0, 1], color='navy', lw=2, linestyle='--')\n",
    "# axis labels\n",
    "plt.xlabel('False Positive Rate')\n",
    "plt.ylabel('True Positive Rate')\n",
    "# show the legend\n",
    "plt.legend()\n",
    "# show the plot\n",
    "plt.show()\n"
   ]
  },
  {
   "cell_type": "markdown",
   "metadata": {
    "papermill": {
     "duration": 8.210492,
     "end_time": "2021-03-19T05:02:03.512316",
     "exception": false,
     "start_time": "2021-03-19T05:01:55.301824",
     "status": "completed"
    },
    "tags": []
   },
   "source": [
    "## Save Model"
   ]
  },
  {
   "cell_type": "code",
   "execution_count": null,
   "metadata": {
    "_cell_guid": "79c7e3d0-c299-4dcb-8224-4455121ee9b0",
    "_uuid": "d629ff2d2480ee46fbb7e2d37f6b5fab8052498a",
    "execution": {
     "iopub.execute_input": "2021-03-19T05:02:19.764526Z",
     "iopub.status.busy": "2021-03-19T05:02:19.763709Z",
     "iopub.status.idle": "2021-03-19T05:02:19.842448Z",
     "shell.execute_reply": "2021-03-19T05:02:19.841588Z"
    },
    "papermill": {
     "duration": 8.199177,
     "end_time": "2021-03-19T05:02:19.842601",
     "exception": false,
     "start_time": "2021-03-19T05:02:11.643424",
     "status": "completed"
    },
    "tags": []
   },
   "outputs": [],
   "source": [
    "from datetime import *\n",
    "filename1 = \"severstal-classification-CNNbase\" + \"-\" + datetime.now().strftime(\"%Y-%m-%d-%H-%M-%S\")+\".h5\"\n",
    "print (\"File name is \"+filename1)\n",
    "model.save(filename1, save_format=\"h5\")"
   ]
  },
  {
   "cell_type": "markdown",
   "metadata": {
    "papermill": {
     "duration": 8.060276,
     "end_time": "2021-03-19T05:02:36.161405",
     "exception": false,
     "start_time": "2021-03-19T05:02:28.101129",
     "status": "completed"
    },
    "tags": []
   },
   "source": [
    "## Predict submission file"
   ]
  },
  {
   "cell_type": "code",
   "execution_count": null,
   "metadata": {
    "_cell_guid": "b1076dfc-b9ad-4769-8c92-a6c4dae69d19",
    "_uuid": "8f2839f25d086af736a60e9eeb907d3b93b6e0e5",
    "execution": {
     "iopub.execute_input": "2021-03-19T05:02:52.486994Z",
     "iopub.status.busy": "2021-03-19T05:02:52.485189Z",
     "iopub.status.idle": "2021-03-19T05:03:42.336985Z",
     "shell.execute_reply": "2021-03-19T05:03:42.336495Z"
    },
    "papermill": {
     "duration": 57.887448,
     "end_time": "2021-03-19T05:03:42.337112",
     "exception": false,
     "start_time": "2021-03-19T05:02:44.449664",
     "status": "completed"
    },
    "tags": []
   },
   "outputs": [],
   "source": [
    "STEP_SIZE_TEST = compute_steps_per_epoch(submission_df.shape[0])\n",
    "print('predicting...')\n",
    "\n",
    "submit_test = model.predict(\n",
    "    submission_gen,\n",
    "    steps=STEP_SIZE_TEST,\n",
    "    verbose=1\n",
    ")"
   ]
  },
  {
   "cell_type": "code",
   "execution_count": null,
   "metadata": {
    "_cell_guid": "b1076dfc-b9ad-4769-8c92-a6c4dae69d19",
    "_uuid": "8f2839f25d086af736a60e9eeb907d3b93b6e0e5",
    "execution": {
     "iopub.execute_input": "2021-03-19T05:03:59.273534Z",
     "iopub.status.busy": "2021-03-19T05:03:59.272516Z",
     "iopub.status.idle": "2021-03-19T05:03:59.274966Z",
     "shell.execute_reply": "2021-03-19T05:03:59.275529Z"
    },
    "papermill": {
     "duration": 8.730118,
     "end_time": "2021-03-19T05:03:59.275688",
     "exception": false,
     "start_time": "2021-03-19T05:03:50.545570",
     "status": "completed"
    },
    "tags": []
   },
   "outputs": [],
   "source": [
    "submission_df['defect_label'] = (submit_test > 0.5).astype(\"int32\")"
   ]
  },
  {
   "cell_type": "code",
   "execution_count": null,
   "metadata": {
    "execution": {
     "iopub.execute_input": "2021-03-19T05:04:15.373465Z",
     "iopub.status.busy": "2021-03-19T05:04:15.372726Z",
     "iopub.status.idle": "2021-03-19T05:04:15.376332Z",
     "shell.execute_reply": "2021-03-19T05:04:15.375925Z"
    },
    "papermill": {
     "duration": 8.128859,
     "end_time": "2021-03-19T05:04:15.376449",
     "exception": false,
     "start_time": "2021-03-19T05:04:07.247590",
     "status": "completed"
    },
    "tags": []
   },
   "outputs": [],
   "source": [
    "submission_df.head()"
   ]
  },
  {
   "cell_type": "code",
   "execution_count": null,
   "metadata": {
    "execution": {
     "iopub.execute_input": "2021-03-19T05:04:32.241351Z",
     "iopub.status.busy": "2021-03-19T05:04:32.240646Z",
     "iopub.status.idle": "2021-03-19T05:04:32.243924Z",
     "shell.execute_reply": "2021-03-19T05:04:32.244405Z"
    },
    "papermill": {
     "duration": 8.613271,
     "end_time": "2021-03-19T05:04:32.244593",
     "exception": false,
     "start_time": "2021-03-19T05:04:23.631322",
     "status": "completed"
    },
    "tags": []
   },
   "outputs": [],
   "source": [
    "submission_df['defect_label'].value_counts()"
   ]
  },
  {
   "cell_type": "code",
   "execution_count": null,
   "metadata": {
    "_cell_guid": "b1076dfc-b9ad-4769-8c92-a6c4dae69d19",
    "_uuid": "8f2839f25d086af736a60e9eeb907d3b93b6e0e5",
    "execution": {
     "iopub.execute_input": "2021-03-19T05:04:48.203533Z",
     "iopub.status.busy": "2021-03-19T05:04:48.202715Z",
     "iopub.status.idle": "2021-03-19T05:04:48.338426Z",
     "shell.execute_reply": "2021-03-19T05:04:48.337937Z"
    },
    "papermill": {
     "duration": 8.216662,
     "end_time": "2021-03-19T05:04:48.338547",
     "exception": false,
     "start_time": "2021-03-19T05:04:40.121885",
     "status": "completed"
    },
    "tags": []
   },
   "outputs": [],
   "source": [
    "#pd.DataFrame(history.history).to_csv('CNN_BaseModel_history.csv', index=False)\n",
    "df.to_csv('train_binClass.csv', index=False)\n",
    "submission_df.to_csv('submission_df_classification_result.csv', index=False)"
   ]
  },
  {
   "cell_type": "code",
   "execution_count": null,
   "metadata": {
    "papermill": {
     "duration": 8.683003,
     "end_time": "2021-03-19T05:05:05.162133",
     "exception": false,
     "start_time": "2021-03-19T05:04:56.479130",
     "status": "completed"
    },
    "tags": []
   },
   "outputs": [],
   "source": []
  }
 ],
 "metadata": {
  "kernelspec": {
   "display_name": "Python 3",
   "language": "python",
   "name": "python3"
  },
  "language_info": {
   "codemirror_mode": {
    "name": "ipython",
    "version": 3
   },
   "file_extension": ".py",
   "mimetype": "text/x-python",
   "name": "python",
   "nbconvert_exporter": "python",
   "pygments_lexer": "ipython3",
   "version": "3.8.3"
  },
  "papermill": {
   "default_parameters": {},
   "duration": 2805.618516,
   "end_time": "2021-03-19T05:05:16.226094",
   "environment_variables": {},
   "exception": null,
   "input_path": "__notebook__.ipynb",
   "output_path": "__notebook__.ipynb",
   "parameters": {},
   "start_time": "2021-03-19T04:18:30.607578",
   "version": "2.2.2"
  }
 },
 "nbformat": 4,
 "nbformat_minor": 4
}
