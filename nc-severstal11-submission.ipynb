{
 "cells": [
  {
   "cell_type": "code",
   "execution_count": 1,
   "metadata": {
    "_cell_guid": "b1076dfc-b9ad-4769-8c92-a6c4dae69d19",
    "_uuid": "8f2839f25d086af736a60e9eeb907d3b93b6e0e5",
    "execution": {
     "iopub.execute_input": "2021-03-21T14:29:40.612077Z",
     "iopub.status.busy": "2021-03-21T14:29:40.611223Z",
     "iopub.status.idle": "2021-03-21T14:29:40.625250Z",
     "shell.execute_reply": "2021-03-21T14:29:40.625852Z"
    },
    "papermill": {
     "duration": 0.027194,
     "end_time": "2021-03-21T14:29:40.626210",
     "exception": false,
     "start_time": "2021-03-21T14:29:40.599016",
     "status": "completed"
    },
    "tags": []
   },
   "outputs": [
    {
     "data": {
      "text/plain": [
       "['submission-ncseverstal07segmentationunetbn.csv',\n",
       " 'submission-ncseverstal05segmentationunet.csv',\n",
       " 'submission-ncseverstal06segmentationunetxception.csv',\n",
       " 'submission-ncseverstalsegmentationunetdataaugdice.csv',\n",
       " 'submission-ncseverstalsegmentationunetdataaugloss.csv']"
      ]
     },
     "execution_count": 1,
     "metadata": {},
     "output_type": "execute_result"
    }
   ],
   "source": [
    "import pandas as pd  \n",
    "import os\n",
    "\n",
    "path = '../input/ncseverstal10predictions/'\n",
    "files = os.listdir(path)\n",
    "files"
   ]
  },
  {
   "cell_type": "code",
   "execution_count": 2,
   "metadata": {
    "execution": {
     "iopub.execute_input": "2021-03-21T14:29:40.642296Z",
     "iopub.status.busy": "2021-03-21T14:29:40.641658Z",
     "iopub.status.idle": "2021-03-21T14:29:40.646696Z",
     "shell.execute_reply": "2021-03-21T14:29:40.646063Z"
    },
    "papermill": {
     "duration": 0.014037,
     "end_time": "2021-03-21T14:29:40.646834",
     "exception": false,
     "start_time": "2021-03-21T14:29:40.632797",
     "status": "completed"
    },
    "tags": []
   },
   "outputs": [],
   "source": [
    "files.sort()"
   ]
  },
  {
   "cell_type": "code",
   "execution_count": 3,
   "metadata": {
    "execution": {
     "iopub.execute_input": "2021-03-21T14:29:40.664940Z",
     "iopub.status.busy": "2021-03-21T14:29:40.664165Z",
     "iopub.status.idle": "2021-03-21T14:29:40.669357Z",
     "shell.execute_reply": "2021-03-21T14:29:40.669868Z"
    },
    "papermill": {
     "duration": 0.017399,
     "end_time": "2021-03-21T14:29:40.670037",
     "exception": false,
     "start_time": "2021-03-21T14:29:40.652638",
     "status": "completed"
    },
    "tags": []
   },
   "outputs": [
    {
     "data": {
      "text/plain": [
       "['submission-ncseverstal05segmentationunet.csv',\n",
       " 'submission-ncseverstal06segmentationunetxception.csv',\n",
       " 'submission-ncseverstal07segmentationunetbn.csv',\n",
       " 'submission-ncseverstalsegmentationunetdataaugdice.csv',\n",
       " 'submission-ncseverstalsegmentationunetdataaugloss.csv']"
      ]
     },
     "execution_count": 3,
     "metadata": {},
     "output_type": "execute_result"
    }
   ],
   "source": [
    "files"
   ]
  },
  {
   "cell_type": "code",
   "execution_count": 4,
   "metadata": {
    "execution": {
     "iopub.execute_input": "2021-03-21T14:29:40.688802Z",
     "iopub.status.busy": "2021-03-21T14:29:40.688122Z",
     "iopub.status.idle": "2021-03-21T14:29:40.692067Z",
     "shell.execute_reply": "2021-03-21T14:29:40.691405Z"
    },
    "papermill": {
     "duration": 0.015909,
     "end_time": "2021-03-21T14:29:40.692212",
     "exception": false,
     "start_time": "2021-03-21T14:29:40.676303",
     "status": "completed"
    },
    "tags": []
   },
   "outputs": [],
   "source": [
    "# different version selected diferent file to submit\n",
    "\n",
    "version = 4"
   ]
  },
  {
   "cell_type": "code",
   "execution_count": 5,
   "metadata": {
    "_cell_guid": "b1076dfc-b9ad-4769-8c92-a6c4dae69d19",
    "_uuid": "8f2839f25d086af736a60e9eeb907d3b93b6e0e5",
    "execution": {
     "iopub.execute_input": "2021-03-21T14:29:40.711244Z",
     "iopub.status.busy": "2021-03-21T14:29:40.710496Z",
     "iopub.status.idle": "2021-03-21T14:29:41.311279Z",
     "shell.execute_reply": "2021-03-21T14:29:41.310665Z"
    },
    "papermill": {
     "duration": 0.612514,
     "end_time": "2021-03-21T14:29:41.311419",
     "exception": false,
     "start_time": "2021-03-21T14:29:40.698905",
     "status": "completed"
    },
    "tags": []
   },
   "outputs": [],
   "source": [
    "s = pd.read_csv(path + files[version])\n",
    "s.to_csv(\"submission.csv\",index=False)"
   ]
  },
  {
   "cell_type": "code",
   "execution_count": 6,
   "metadata": {
    "execution": {
     "iopub.execute_input": "2021-03-21T14:29:41.331943Z",
     "iopub.status.busy": "2021-03-21T14:29:41.331064Z",
     "iopub.status.idle": "2021-03-21T14:29:41.337953Z",
     "shell.execute_reply": "2021-03-21T14:29:41.337225Z"
    },
    "papermill": {
     "duration": 0.018357,
     "end_time": "2021-03-21T14:29:41.338130",
     "exception": false,
     "start_time": "2021-03-21T14:29:41.319773",
     "status": "completed"
    },
    "tags": []
   },
   "outputs": [
    {
     "data": {
      "text/plain": [
       "['__notebook__.ipynb', 'submission.csv']"
      ]
     },
     "execution_count": 6,
     "metadata": {},
     "output_type": "execute_result"
    }
   ],
   "source": [
    "os.listdir()"
   ]
  },
  {
   "cell_type": "code",
   "execution_count": null,
   "metadata": {
    "papermill": {
     "duration": 0.007236,
     "end_time": "2021-03-21T14:29:41.353078",
     "exception": false,
     "start_time": "2021-03-21T14:29:41.345842",
     "status": "completed"
    },
    "tags": []
   },
   "outputs": [],
   "source": []
  }
 ],
 "metadata": {
  "kernelspec": {
   "display_name": "Python 3",
   "language": "python",
   "name": "python3"
  },
  "language_info": {
   "codemirror_mode": {
    "name": "ipython",
    "version": 3
   },
   "file_extension": ".py",
   "mimetype": "text/x-python",
   "name": "python",
   "nbconvert_exporter": "python",
   "pygments_lexer": "ipython3",
   "version": "3.7.9"
  },
  "papermill": {
   "default_parameters": {},
   "duration": 7.347931,
   "end_time": "2021-03-21T14:29:41.875252",
   "environment_variables": {},
   "exception": null,
   "input_path": "__notebook__.ipynb",
   "output_path": "__notebook__.ipynb",
   "parameters": {},
   "start_time": "2021-03-21T14:29:34.527321",
   "version": "2.2.2"
  }
 },
 "nbformat": 4,
 "nbformat_minor": 4
}
