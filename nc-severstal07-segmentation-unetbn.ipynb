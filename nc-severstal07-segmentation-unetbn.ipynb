{
 "cells": [
  {
   "cell_type": "code",
   "execution_count": 1,
   "metadata": {
    "_cell_guid": "b1076dfc-b9ad-4769-8c92-a6c4dae69d19",
    "_uuid": "8f2839f25d086af736a60e9eeb907d3b93b6e0e5",
    "execution": {
     "iopub.execute_input": "2021-04-13T06:24:52.529149Z",
     "iopub.status.busy": "2021-04-13T06:24:52.528475Z",
     "iopub.status.idle": "2021-04-13T06:24:57.988953Z",
     "shell.execute_reply": "2021-04-13T06:24:57.987842Z"
    },
    "papermill": {
     "duration": 5.483501,
     "end_time": "2021-04-13T06:24:57.989143",
     "exception": false,
     "start_time": "2021-04-13T06:24:52.505642",
     "status": "completed"
    },
    "tags": []
   },
   "outputs": [],
   "source": [
    "import os\n",
    "import json\n",
    "import gc\n",
    "\n",
    "import cv2\n",
    "from tensorflow import keras\n",
    "from tensorflow.keras import backend as K\n",
    "from tensorflow.keras import layers\n",
    "from tensorflow.keras.preprocessing.image import ImageDataGenerator\n",
    "from tensorflow.keras.models import Model, load_model\n",
    "from tensorflow.keras.layers import Input,BatchNormalization\n",
    "from tensorflow.keras.layers import Conv2D, Conv2DTranspose\n",
    "from tensorflow.keras.layers import MaxPooling2D, Activation, Dropout\n",
    "from tensorflow.keras.layers import concatenate\n",
    "from tensorflow.keras.optimizers import Adam\n",
    "from tensorflow.keras.callbacks import Callback, ModelCheckpoint, EarlyStopping\n",
    "import matplotlib.pyplot as plt\n",
    "import numpy as np\n",
    "import pandas as pd\n",
    "from tqdm import tqdm\n",
    "from sklearn.model_selection import train_test_split"
   ]
  },
  {
   "cell_type": "markdown",
   "metadata": {
    "_cell_guid": "b1076dfc-b9ad-4769-8c92-a6c4dae69d19",
    "_uuid": "8f2839f25d086af736a60e9eeb907d3b93b6e0e5",
    "papermill": {
     "duration": 0.014925,
     "end_time": "2021-04-13T06:24:58.019077",
     "exception": false,
     "start_time": "2021-04-13T06:24:58.004152",
     "status": "completed"
    },
    "tags": []
   },
   "source": [
    "# load dataframe with train labels"
   ]
  },
  {
   "cell_type": "code",
   "execution_count": 2,
   "metadata": {
    "_cell_guid": "b1076dfc-b9ad-4769-8c92-a6c4dae69d19",
    "_uuid": "8f2839f25d086af736a60e9eeb907d3b93b6e0e5",
    "execution": {
     "iopub.execute_input": "2021-04-13T06:24:58.055165Z",
     "iopub.status.busy": "2021-04-13T06:24:58.054627Z",
     "iopub.status.idle": "2021-04-13T06:24:58.690242Z",
     "shell.execute_reply": "2021-04-13T06:24:58.691502Z"
    },
    "papermill": {
     "duration": 0.657853,
     "end_time": "2021-04-13T06:24:58.691779",
     "exception": false,
     "start_time": "2021-04-13T06:24:58.033926",
     "status": "completed"
    },
    "tags": []
   },
   "outputs": [
    {
     "name": "stdout",
     "output_type": "stream",
     "text": [
      "(7095, 3)\n"
     ]
    }
   ],
   "source": [
    "train_df = pd.read_csv('../input/severstal-steel-defect-detection/train.csv')\n",
    "print(train_df.shape)"
   ]
  },
  {
   "cell_type": "code",
   "execution_count": 3,
   "metadata": {
    "_cell_guid": "b1076dfc-b9ad-4769-8c92-a6c4dae69d19",
    "_uuid": "8f2839f25d086af736a60e9eeb907d3b93b6e0e5",
    "execution": {
     "iopub.execute_input": "2021-04-13T06:24:58.751777Z",
     "iopub.status.busy": "2021-04-13T06:24:58.751103Z",
     "iopub.status.idle": "2021-04-13T06:24:58.777560Z",
     "shell.execute_reply": "2021-04-13T06:24:58.778455Z"
    },
    "papermill": {
     "duration": 0.058984,
     "end_time": "2021-04-13T06:24:58.778644",
     "exception": false,
     "start_time": "2021-04-13T06:24:58.719660",
     "status": "completed"
    },
    "tags": []
   },
   "outputs": [
    {
     "data": {
      "text/html": [
       "<div>\n",
       "<style scoped>\n",
       "    .dataframe tbody tr th:only-of-type {\n",
       "        vertical-align: middle;\n",
       "    }\n",
       "\n",
       "    .dataframe tbody tr th {\n",
       "        vertical-align: top;\n",
       "    }\n",
       "\n",
       "    .dataframe thead th {\n",
       "        text-align: right;\n",
       "    }\n",
       "</style>\n",
       "<table border=\"1\" class=\"dataframe\">\n",
       "  <thead>\n",
       "    <tr style=\"text-align: right;\">\n",
       "      <th></th>\n",
       "      <th>ImageId</th>\n",
       "      <th>ClassId</th>\n",
       "      <th>EncodedPixels</th>\n",
       "    </tr>\n",
       "  </thead>\n",
       "  <tbody>\n",
       "    <tr>\n",
       "      <th>0</th>\n",
       "      <td>0002cc93b.jpg</td>\n",
       "      <td>1</td>\n",
       "      <td>29102 12 29346 24 29602 24 29858 24 30114 24 3...</td>\n",
       "    </tr>\n",
       "    <tr>\n",
       "      <th>1</th>\n",
       "      <td>0007a71bf.jpg</td>\n",
       "      <td>3</td>\n",
       "      <td>18661 28 18863 82 19091 110 19347 110 19603 11...</td>\n",
       "    </tr>\n",
       "    <tr>\n",
       "      <th>2</th>\n",
       "      <td>000a4bcdd.jpg</td>\n",
       "      <td>1</td>\n",
       "      <td>37607 3 37858 8 38108 14 38359 20 38610 25 388...</td>\n",
       "    </tr>\n",
       "    <tr>\n",
       "      <th>3</th>\n",
       "      <td>000f6bf48.jpg</td>\n",
       "      <td>4</td>\n",
       "      <td>131973 1 132228 4 132483 6 132738 8 132993 11 ...</td>\n",
       "    </tr>\n",
       "    <tr>\n",
       "      <th>4</th>\n",
       "      <td>0014fce06.jpg</td>\n",
       "      <td>3</td>\n",
       "      <td>229501 11 229741 33 229981 55 230221 77 230468...</td>\n",
       "    </tr>\n",
       "  </tbody>\n",
       "</table>\n",
       "</div>"
      ],
      "text/plain": [
       "         ImageId  ClassId                                      EncodedPixels\n",
       "0  0002cc93b.jpg        1  29102 12 29346 24 29602 24 29858 24 30114 24 3...\n",
       "1  0007a71bf.jpg        3  18661 28 18863 82 19091 110 19347 110 19603 11...\n",
       "2  000a4bcdd.jpg        1  37607 3 37858 8 38108 14 38359 20 38610 25 388...\n",
       "3  000f6bf48.jpg        4  131973 1 132228 4 132483 6 132738 8 132993 11 ...\n",
       "4  0014fce06.jpg        3  229501 11 229741 33 229981 55 230221 77 230468..."
      ]
     },
     "execution_count": 3,
     "metadata": {},
     "output_type": "execute_result"
    }
   ],
   "source": [
    "train_df.head(5)"
   ]
  },
  {
   "cell_type": "code",
   "execution_count": 4,
   "metadata": {
    "_cell_guid": "b1076dfc-b9ad-4769-8c92-a6c4dae69d19",
    "_uuid": "8f2839f25d086af736a60e9eeb907d3b93b6e0e5",
    "execution": {
     "iopub.execute_input": "2021-04-13T06:24:58.833611Z",
     "iopub.status.busy": "2021-04-13T06:24:58.832968Z",
     "iopub.status.idle": "2021-04-13T06:24:58.846139Z",
     "shell.execute_reply": "2021-04-13T06:24:58.847164Z"
    },
    "papermill": {
     "duration": 0.045763,
     "end_time": "2021-04-13T06:24:58.847358",
     "exception": false,
     "start_time": "2021-04-13T06:24:58.801595",
     "status": "completed"
    },
    "tags": []
   },
   "outputs": [
    {
     "name": "stdout",
     "output_type": "stream",
     "text": [
      "<class 'pandas.core.frame.DataFrame'>\n",
      "RangeIndex: 7095 entries, 0 to 7094\n",
      "Data columns (total 3 columns):\n",
      " #   Column         Non-Null Count  Dtype \n",
      "---  ------         --------------  ----- \n",
      " 0   ImageId        7095 non-null   object\n",
      " 1   ClassId        7095 non-null   int64 \n",
      " 2   EncodedPixels  7095 non-null   object\n",
      "dtypes: int64(1), object(2)\n",
      "memory usage: 166.4+ KB\n"
     ]
    }
   ],
   "source": [
    "train_df.info()"
   ]
  },
  {
   "cell_type": "code",
   "execution_count": 5,
   "metadata": {
    "_cell_guid": "b1076dfc-b9ad-4769-8c92-a6c4dae69d19",
    "_uuid": "8f2839f25d086af736a60e9eeb907d3b93b6e0e5",
    "execution": {
     "iopub.execute_input": "2021-04-13T06:24:59.019406Z",
     "iopub.status.busy": "2021-04-13T06:24:59.018737Z",
     "iopub.status.idle": "2021-04-13T06:24:59.022047Z",
     "shell.execute_reply": "2021-04-13T06:24:59.022480Z"
    },
    "papermill": {
     "duration": 0.033059,
     "end_time": "2021-04-13T06:24:59.022615",
     "exception": false,
     "start_time": "2021-04-13T06:24:58.989556",
     "status": "completed"
    },
    "tags": []
   },
   "outputs": [
    {
     "data": {
      "text/plain": [
       "[1, 3, 4, 2]"
      ]
     },
     "execution_count": 5,
     "metadata": {},
     "output_type": "execute_result"
    }
   ],
   "source": [
    "list(train_df['ClassId'].unique())"
   ]
  },
  {
   "cell_type": "code",
   "execution_count": 6,
   "metadata": {
    "_cell_guid": "b1076dfc-b9ad-4769-8c92-a6c4dae69d19",
    "_uuid": "8f2839f25d086af736a60e9eeb907d3b93b6e0e5",
    "execution": {
     "iopub.execute_input": "2021-04-13T06:24:59.060165Z",
     "iopub.status.busy": "2021-04-13T06:24:59.059386Z",
     "iopub.status.idle": "2021-04-13T06:24:59.082615Z",
     "shell.execute_reply": "2021-04-13T06:24:59.083576Z"
    },
    "papermill": {
     "duration": 0.044642,
     "end_time": "2021-04-13T06:24:59.083733",
     "exception": false,
     "start_time": "2021-04-13T06:24:59.039091",
     "status": "completed"
    },
    "tags": []
   },
   "outputs": [
    {
     "name": "stdout",
     "output_type": "stream",
     "text": [
      "(6666, 2)\n"
     ]
    },
    {
     "data": {
      "text/html": [
       "<div>\n",
       "<style scoped>\n",
       "    .dataframe tbody tr th:only-of-type {\n",
       "        vertical-align: middle;\n",
       "    }\n",
       "\n",
       "    .dataframe tbody tr th {\n",
       "        vertical-align: top;\n",
       "    }\n",
       "\n",
       "    .dataframe thead th {\n",
       "        text-align: right;\n",
       "    }\n",
       "</style>\n",
       "<table border=\"1\" class=\"dataframe\">\n",
       "  <thead>\n",
       "    <tr style=\"text-align: right;\">\n",
       "      <th></th>\n",
       "      <th>ImageId</th>\n",
       "      <th>Num_ClassId</th>\n",
       "    </tr>\n",
       "  </thead>\n",
       "  <tbody>\n",
       "    <tr>\n",
       "      <th>6253</th>\n",
       "      <td>ef24da2ba.jpg</td>\n",
       "      <td>3</td>\n",
       "    </tr>\n",
       "    <tr>\n",
       "      <th>5740</th>\n",
       "      <td>db4867ee8.jpg</td>\n",
       "      <td>3</td>\n",
       "    </tr>\n",
       "    <tr>\n",
       "      <th>3435</th>\n",
       "      <td>84865746c.jpg</td>\n",
       "      <td>2</td>\n",
       "    </tr>\n",
       "    <tr>\n",
       "      <th>2203</th>\n",
       "      <td>5665ada1b.jpg</td>\n",
       "      <td>2</td>\n",
       "    </tr>\n",
       "    <tr>\n",
       "      <th>6149</th>\n",
       "      <td>eb44ad79d.jpg</td>\n",
       "      <td>2</td>\n",
       "    </tr>\n",
       "  </tbody>\n",
       "</table>\n",
       "</div>"
      ],
      "text/plain": [
       "            ImageId  Num_ClassId\n",
       "6253  ef24da2ba.jpg            3\n",
       "5740  db4867ee8.jpg            3\n",
       "3435  84865746c.jpg            2\n",
       "2203  5665ada1b.jpg            2\n",
       "6149  eb44ad79d.jpg            2"
      ]
     },
     "execution_count": 6,
     "metadata": {},
     "output_type": "execute_result"
    }
   ],
   "source": [
    "mask_count_df = train_df.groupby('ImageId')[\"ClassId\"].count().reset_index().rename(columns = {\"ClassId\":\"Num_ClassId\"})\n",
    "mask_count_df.sort_values('Num_ClassId', ascending=False, inplace=True)\n",
    "print(mask_count_df.shape)\n",
    "mask_count_df.head()"
   ]
  },
  {
   "cell_type": "markdown",
   "metadata": {
    "_cell_guid": "b1076dfc-b9ad-4769-8c92-a6c4dae69d19",
    "_uuid": "8f2839f25d086af736a60e9eeb907d3b93b6e0e5",
    "papermill": {
     "duration": 0.02235,
     "end_time": "2021-04-13T06:24:59.129313",
     "exception": false,
     "start_time": "2021-04-13T06:24:59.106963",
     "status": "completed"
    },
    "tags": []
   },
   "source": [
    "# Keras U-Net"
   ]
  },
  {
   "cell_type": "markdown",
   "metadata": {
    "_cell_guid": "b1076dfc-b9ad-4769-8c92-a6c4dae69d19",
    "_uuid": "8f2839f25d086af736a60e9eeb907d3b93b6e0e5",
    "papermill": {
     "duration": 0.023643,
     "end_time": "2021-04-13T06:24:59.176879",
     "exception": false,
     "start_time": "2021-04-13T06:24:59.153236",
     "status": "completed"
    },
    "tags": []
   },
   "source": [
    "## Utility Functions"
   ]
  },
  {
   "cell_type": "code",
   "execution_count": 7,
   "metadata": {
    "_cell_guid": "b1076dfc-b9ad-4769-8c92-a6c4dae69d19",
    "_uuid": "8f2839f25d086af736a60e9eeb907d3b93b6e0e5",
    "execution": {
     "iopub.execute_input": "2021-04-13T06:24:59.237289Z",
     "iopub.status.busy": "2021-04-13T06:24:59.236603Z",
     "iopub.status.idle": "2021-04-13T06:24:59.240511Z",
     "shell.execute_reply": "2021-04-13T06:24:59.241388Z"
    },
    "papermill": {
     "duration": 0.040351,
     "end_time": "2021-04-13T06:24:59.241540",
     "exception": false,
     "start_time": "2021-04-13T06:24:59.201189",
     "status": "completed"
    },
    "tags": []
   },
   "outputs": [],
   "source": [
    "def mask2rle(img):\n",
    "    '''\n",
    "    img: numpy array, 1 - mask, 0 - background\n",
    "    Returns run length as string formated\n",
    "    '''\n",
    "    pixels= img.T.flatten()\n",
    "    pixels = np.concatenate([[0], pixels, [0]])\n",
    "    runs = np.where(pixels[1:] != pixels[:-1])[0] + 1\n",
    "    runs[1::2] -= runs[::2]\n",
    "    return ' '.join(str(x) for x in runs)\n",
    "\n",
    "def rle2mask(rle, input_shape):\n",
    "    width, height = input_shape[:2]\n",
    "    \n",
    "    mask= np.zeros( width*height ).astype(np.uint8)\n",
    "    \n",
    "    array = np.asarray([int(x) for x in rle.split()])\n",
    "    starts = array[0::2]\n",
    "    starts-=1\n",
    "    lengths = array[1::2]\n",
    "\n",
    "    current_position = 0\n",
    "    for index, start in enumerate(starts):\n",
    "        mask[int(start):int(start+lengths[index])] = 1\n",
    "        current_position += lengths[index]\n",
    "        \n",
    "    return mask.reshape(height, width).T\n",
    "\n",
    "\n",
    "def build_rles(masks):\n",
    "    width, height, depth = masks.shape\n",
    "    \n",
    "    rles = [mask2rle(masks[:, :, i])\n",
    "            for i in range(depth)]\n",
    "    \n",
    "    return rles"
   ]
  },
  {
   "cell_type": "markdown",
   "metadata": {
    "_cell_guid": "b1076dfc-b9ad-4769-8c92-a6c4dae69d19",
    "_uuid": "8f2839f25d086af736a60e9eeb907d3b93b6e0e5",
    "papermill": {
     "duration": 0.023798,
     "end_time": "2021-04-13T06:24:59.289958",
     "exception": false,
     "start_time": "2021-04-13T06:24:59.266160",
     "status": "completed"
    },
    "tags": []
   },
   "source": [
    "## Data Generator"
   ]
  },
  {
   "cell_type": "code",
   "execution_count": 8,
   "metadata": {
    "_cell_guid": "b1076dfc-b9ad-4769-8c92-a6c4dae69d19",
    "_uuid": "8f2839f25d086af736a60e9eeb907d3b93b6e0e5",
    "execution": {
     "iopub.execute_input": "2021-04-13T06:24:59.354143Z",
     "iopub.status.busy": "2021-04-13T06:24:59.353404Z",
     "iopub.status.idle": "2021-04-13T06:24:59.371395Z",
     "shell.execute_reply": "2021-04-13T06:24:59.370951Z"
    },
    "papermill": {
     "duration": 0.05738,
     "end_time": "2021-04-13T06:24:59.371507",
     "exception": false,
     "start_time": "2021-04-13T06:24:59.314127",
     "status": "completed"
    },
    "tags": []
   },
   "outputs": [],
   "source": [
    "class DataGenerator(keras.utils.Sequence):\n",
    "    'Generates data for Keras'\n",
    "    def __init__(self, list_IDs, df, target_df=None, mode='fit',\n",
    "                 base_path='../input/severstal-steel-defect-detection/train_images',\n",
    "                 batch_size=32, dim=(256, 1600), n_channels=1,\n",
    "                 n_classes=4, random_state=2021, shuffle=True):\n",
    "        self.dim = dim\n",
    "        self.batch_size = batch_size\n",
    "        self.df = df\n",
    "        self.mode = mode\n",
    "        self.base_path = base_path\n",
    "        self.target_df = target_df\n",
    "        self.list_IDs = list_IDs\n",
    "        self.n_channels = n_channels\n",
    "        self.n_classes = n_classes\n",
    "        self.shuffle = shuffle\n",
    "        self.random_state = random_state\n",
    "        \n",
    "        self.on_epoch_end()\n",
    "\n",
    "    def __len__(self):\n",
    "        'Denotes the number of batches per epoch'\n",
    "        return int(np.floor(len(self.list_IDs) / self.batch_size))\n",
    "\n",
    "    def __getitem__(self, index):\n",
    "        'Generate one batch of data'\n",
    "        # Generate indexes of the batch\n",
    "        indexes = self.indexes[index*self.batch_size:(index+1)*self.batch_size]\n",
    "\n",
    "        # Find list of IDs\n",
    "        list_IDs_batch = [self.list_IDs[k] for k in indexes]\n",
    "        \n",
    "        X = self.__generate_X(list_IDs_batch)\n",
    "        \n",
    "        if self.mode == 'fit':\n",
    "            y = self.__generate_y(list_IDs_batch)\n",
    "            return X, y\n",
    "        \n",
    "        elif self.mode == 'predict':\n",
    "            return X\n",
    "\n",
    "        else:\n",
    "            raise AttributeError('The mode parameter should be set to \"fit\" or \"predict\".')\n",
    "        \n",
    "    def on_epoch_end(self):\n",
    "        'Updates indexes after each epoch'\n",
    "        self.indexes = np.arange(len(self.list_IDs))\n",
    "        if self.shuffle == True:\n",
    "            np.random.seed(self.random_state)\n",
    "            np.random.shuffle(self.indexes)\n",
    "    \n",
    "    def __generate_X(self, list_IDs_batch):\n",
    "        'Generates data containing batch_size samples'\n",
    "        # Initialization\n",
    "        X = np.empty((self.batch_size, *self.dim, self.n_channels))\n",
    "        \n",
    "        # Generate data\n",
    "        for i, ID in enumerate(list_IDs_batch):\n",
    "            im_name = self.df['ImageId'].iloc[ID]\n",
    "            img_path = f\"{self.base_path}/{im_name}\"\n",
    "            img = self.__load_grayscale(img_path)\n",
    "            \n",
    "            # Store samples\n",
    "            X[i,] = img\n",
    "\n",
    "        return X\n",
    "    \n",
    "    def __generate_y(self, list_IDs_batch):\n",
    "        y = np.empty((self.batch_size, *self.dim, self.n_classes), dtype=int)\n",
    "        \n",
    "        for i, ID in enumerate(list_IDs_batch):\n",
    "            #print()\n",
    "            #print(\"i\",i)\n",
    "            #print(\"ID\",ID)\n",
    "            im_name = self.df['ImageId'].iloc[ID]\n",
    "            image_df = self.target_df[self.target_df['ImageId'] == im_name].copy().reset_index()\n",
    "            #print(\"image_df:\",image_df)\n",
    "\n",
    "            masks = np.zeros((*self.dim, self.n_classes))\n",
    "            \n",
    "            for j in range(len(image_df)):\n",
    "                #print(j)\n",
    "                rle = image_df.loc[j,'EncodedPixels']\n",
    "                cls =  image_df.loc[j,'ClassId']\n",
    "                masks[:, :, cls-1] = rle2mask(rle, self.dim)\n",
    "    \n",
    "            y[i, ] = masks\n",
    "\n",
    "        return y\n",
    "    \n",
    "    def __load_grayscale(self, img_path):\n",
    "        img = cv2.imread(img_path, cv2.IMREAD_GRAYSCALE)\n",
    "        img = img.astype(np.float32) / 255.\n",
    "        img = np.expand_dims(img, axis=-1)\n",
    "\n",
    "        return img\n",
    "    \n",
    "    def __load_rgb(self, img_path):\n",
    "        img = cv2.imread(img_path)\n",
    "        img = cv2.cvtColor(img, cv2.COLOR_BGR2RGB)\n",
    "        img = img.astype(np.float32) / 255.\n",
    "\n",
    "        return img"
   ]
  },
  {
   "cell_type": "code",
   "execution_count": 9,
   "metadata": {
    "_cell_guid": "b1076dfc-b9ad-4769-8c92-a6c4dae69d19",
    "_uuid": "8f2839f25d086af736a60e9eeb907d3b93b6e0e5",
    "execution": {
     "iopub.execute_input": "2021-04-13T06:24:59.410385Z",
     "iopub.status.busy": "2021-04-13T06:24:59.409235Z",
     "iopub.status.idle": "2021-04-13T06:24:59.412829Z",
     "shell.execute_reply": "2021-04-13T06:24:59.412437Z"
    },
    "papermill": {
     "duration": 0.025108,
     "end_time": "2021-04-13T06:24:59.412930",
     "exception": false,
     "start_time": "2021-04-13T06:24:59.387822",
     "status": "completed"
    },
    "tags": []
   },
   "outputs": [],
   "source": [
    "BATCH_SIZE = 16\n",
    "\n",
    "train_idx, val_idx = train_test_split(\n",
    "    mask_count_df.index, \n",
    "    random_state=2021, \n",
    "    test_size=0.15\n",
    ")\n",
    "\n",
    "train_generator = DataGenerator(\n",
    "    train_idx, \n",
    "    df=mask_count_df,\n",
    "    target_df=train_df,\n",
    "    batch_size=BATCH_SIZE, \n",
    "    n_classes=4\n",
    ")\n",
    "\n",
    "val_generator = DataGenerator(\n",
    "    val_idx, \n",
    "    df=mask_count_df,\n",
    "    target_df=train_df,\n",
    "    batch_size=BATCH_SIZE, \n",
    "    n_classes=4\n",
    ")"
   ]
  },
  {
   "cell_type": "markdown",
   "metadata": {
    "_cell_guid": "b1076dfc-b9ad-4769-8c92-a6c4dae69d19",
    "_uuid": "8f2839f25d086af736a60e9eeb907d3b93b6e0e5",
    "papermill": {
     "duration": 0.01641,
     "end_time": "2021-04-13T06:24:59.445365",
     "exception": false,
     "start_time": "2021-04-13T06:24:59.428955",
     "status": "completed"
    },
    "tags": []
   },
   "source": [
    "## Model"
   ]
  },
  {
   "cell_type": "code",
   "execution_count": 10,
   "metadata": {
    "_cell_guid": "b1076dfc-b9ad-4769-8c92-a6c4dae69d19",
    "_uuid": "8f2839f25d086af736a60e9eeb907d3b93b6e0e5",
    "execution": {
     "iopub.execute_input": "2021-04-13T06:24:59.482017Z",
     "iopub.status.busy": "2021-04-13T06:24:59.481524Z",
     "iopub.status.idle": "2021-04-13T06:24:59.485304Z",
     "shell.execute_reply": "2021-04-13T06:24:59.484857Z"
    },
    "papermill": {
     "duration": 0.023866,
     "end_time": "2021-04-13T06:24:59.485410",
     "exception": false,
     "start_time": "2021-04-13T06:24:59.461544",
     "status": "completed"
    },
    "tags": []
   },
   "outputs": [],
   "source": [
    "def dice_coef(y_true, y_pred, smooth=1):\n",
    "    y_true_f = K.flatten(y_true)\n",
    "    y_pred_f = K.flatten(y_pred)\n",
    "    intersection = K.sum(y_true_f * y_pred_f)\n",
    "    return (2. * intersection + smooth) / (K.sum(y_true_f) + K.sum(y_pred_f) + smooth)"
   ]
  },
  {
   "cell_type": "code",
   "execution_count": 11,
   "metadata": {
    "execution": {
     "iopub.execute_input": "2021-04-13T06:24:59.523105Z",
     "iopub.status.busy": "2021-04-13T06:24:59.522610Z",
     "iopub.status.idle": "2021-04-13T06:24:59.526443Z",
     "shell.execute_reply": "2021-04-13T06:24:59.525965Z"
    },
    "papermill": {
     "duration": 0.025015,
     "end_time": "2021-04-13T06:24:59.526545",
     "exception": false,
     "start_time": "2021-04-13T06:24:59.501530",
     "status": "completed"
    },
    "tags": []
   },
   "outputs": [],
   "source": [
    "def conv2d_block(input_tensor, n_filters, kernel_size=3, batchnorm=True):\n",
    "    # first layer\n",
    "    x = Conv2D(filters=n_filters, kernel_size=(kernel_size, kernel_size), kernel_initializer=\"he_normal\",\n",
    "               padding=\"same\")(input_tensor)\n",
    "    if batchnorm:\n",
    "        x = BatchNormalization()(x)\n",
    "    x = Activation(\"relu\")(x)\n",
    "    # second layer\n",
    "    x = Conv2D(filters=n_filters, kernel_size=(kernel_size, kernel_size), kernel_initializer=\"he_normal\",\n",
    "               padding=\"same\")(x)\n",
    "    if batchnorm:\n",
    "        x = BatchNormalization()(x)\n",
    "    x = Activation(\"relu\")(x)\n",
    "    return x"
   ]
  },
  {
   "cell_type": "code",
   "execution_count": 12,
   "metadata": {
    "execution": {
     "iopub.execute_input": "2021-04-13T06:24:59.572549Z",
     "iopub.status.busy": "2021-04-13T06:24:59.571897Z",
     "iopub.status.idle": "2021-04-13T06:24:59.574336Z",
     "shell.execute_reply": "2021-04-13T06:24:59.574694Z"
    },
    "papermill": {
     "duration": 0.032103,
     "end_time": "2021-04-13T06:24:59.574824",
     "exception": false,
     "start_time": "2021-04-13T06:24:59.542721",
     "status": "completed"
    },
    "tags": []
   },
   "outputs": [],
   "source": [
    "def get_unet(input_img, n_filters=16, dropout=0.5, batchnorm=True):\n",
    "    # contracting path\n",
    "    c1 = conv2d_block(input_img, n_filters=n_filters*1, kernel_size=3, batchnorm=batchnorm)\n",
    "    p1 = MaxPooling2D((2, 2)) (c1)\n",
    "    p1 = Dropout(dropout*0.5)(p1)\n",
    "\n",
    "    c2 = conv2d_block(p1, n_filters=n_filters*2, kernel_size=3, batchnorm=batchnorm)\n",
    "    p2 = MaxPooling2D((2, 2)) (c2)\n",
    "    p2 = Dropout(dropout)(p2)\n",
    "\n",
    "    c3 = conv2d_block(p2, n_filters=n_filters*4, kernel_size=3, batchnorm=batchnorm)\n",
    "    p3 = MaxPooling2D((2, 2)) (c3)\n",
    "    p3 = Dropout(dropout)(p3)\n",
    "\n",
    "    c4 = conv2d_block(p3, n_filters=n_filters*8, kernel_size=3, batchnorm=batchnorm)\n",
    "    p4 = MaxPooling2D(pool_size=(2, 2)) (c4)\n",
    "    p4 = Dropout(dropout)(p4)\n",
    "    \n",
    "    c5 = conv2d_block(p4, n_filters=n_filters*16, kernel_size=3, batchnorm=batchnorm)\n",
    "    \n",
    "    # expansive path\n",
    "    u6 = Conv2DTranspose(n_filters*8, (3, 3), strides=(2, 2), padding='same') (c5)\n",
    "    u6 = concatenate([u6, c4])\n",
    "    u6 = Dropout(dropout)(u6)\n",
    "    c6 = conv2d_block(u6, n_filters=n_filters*8, kernel_size=3, batchnorm=batchnorm)\n",
    "\n",
    "    u7 = Conv2DTranspose(n_filters*4, (3, 3), strides=(2, 2), padding='same') (c6)\n",
    "    u7 = concatenate([u7, c3])\n",
    "    u7 = Dropout(dropout)(u7)\n",
    "    c7 = conv2d_block(u7, n_filters=n_filters*4, kernel_size=3, batchnorm=batchnorm)\n",
    "\n",
    "    u8 = Conv2DTranspose(n_filters*2, (3, 3), strides=(2, 2), padding='same') (c7)\n",
    "    u8 = concatenate([u8, c2])\n",
    "    u8 = Dropout(dropout)(u8)\n",
    "    c8 = conv2d_block(u8, n_filters=n_filters*2, kernel_size=3, batchnorm=batchnorm)\n",
    "\n",
    "    u9 = Conv2DTranspose(n_filters*1, (3, 3), strides=(2, 2), padding='same') (c8)\n",
    "    u9 = concatenate([u9, c1], axis=3)\n",
    "    u9 = Dropout(dropout)(u9)\n",
    "    c9 = conv2d_block(u9, n_filters=n_filters*1, kernel_size=3, batchnorm=batchnorm)\n",
    "    \n",
    "    outputs = Conv2D(4, (1, 1), activation='sigmoid') (c9)\n",
    "    model = Model(inputs=[input_img], outputs=[outputs])\n",
    "    return model"
   ]
  },
  {
   "cell_type": "code",
   "execution_count": 13,
   "metadata": {
    "_cell_guid": "b1076dfc-b9ad-4769-8c92-a6c4dae69d19",
    "_uuid": "8f2839f25d086af736a60e9eeb907d3b93b6e0e5",
    "execution": {
     "iopub.execute_input": "2021-04-13T06:24:59.611693Z",
     "iopub.status.busy": "2021-04-13T06:24:59.611158Z",
     "iopub.status.idle": "2021-04-13T06:25:02.764372Z",
     "shell.execute_reply": "2021-04-13T06:25:02.763673Z"
    },
    "papermill": {
     "duration": 3.173375,
     "end_time": "2021-04-13T06:25:02.764553",
     "exception": false,
     "start_time": "2021-04-13T06:24:59.591178",
     "status": "completed"
    },
    "tags": []
   },
   "outputs": [
    {
     "name": "stdout",
     "output_type": "stream",
     "text": [
      "Model: \"model\"\n",
      "__________________________________________________________________________________________________\n",
      "Layer (type)                    Output Shape         Param #     Connected to                     \n",
      "==================================================================================================\n",
      "img (InputLayer)                [(None, 256, 1600, 1 0                                            \n",
      "__________________________________________________________________________________________________\n",
      "conv2d (Conv2D)                 (None, 256, 1600, 16 160         img[0][0]                        \n",
      "__________________________________________________________________________________________________\n",
      "batch_normalization (BatchNorma (None, 256, 1600, 16 64          conv2d[0][0]                     \n",
      "__________________________________________________________________________________________________\n",
      "activation (Activation)         (None, 256, 1600, 16 0           batch_normalization[0][0]        \n",
      "__________________________________________________________________________________________________\n",
      "conv2d_1 (Conv2D)               (None, 256, 1600, 16 2320        activation[0][0]                 \n",
      "__________________________________________________________________________________________________\n",
      "batch_normalization_1 (BatchNor (None, 256, 1600, 16 64          conv2d_1[0][0]                   \n",
      "__________________________________________________________________________________________________\n",
      "activation_1 (Activation)       (None, 256, 1600, 16 0           batch_normalization_1[0][0]      \n",
      "__________________________________________________________________________________________________\n",
      "max_pooling2d (MaxPooling2D)    (None, 128, 800, 16) 0           activation_1[0][0]               \n",
      "__________________________________________________________________________________________________\n",
      "dropout (Dropout)               (None, 128, 800, 16) 0           max_pooling2d[0][0]              \n",
      "__________________________________________________________________________________________________\n",
      "conv2d_2 (Conv2D)               (None, 128, 800, 32) 4640        dropout[0][0]                    \n",
      "__________________________________________________________________________________________________\n",
      "batch_normalization_2 (BatchNor (None, 128, 800, 32) 128         conv2d_2[0][0]                   \n",
      "__________________________________________________________________________________________________\n",
      "activation_2 (Activation)       (None, 128, 800, 32) 0           batch_normalization_2[0][0]      \n",
      "__________________________________________________________________________________________________\n",
      "conv2d_3 (Conv2D)               (None, 128, 800, 32) 9248        activation_2[0][0]               \n",
      "__________________________________________________________________________________________________\n",
      "batch_normalization_3 (BatchNor (None, 128, 800, 32) 128         conv2d_3[0][0]                   \n",
      "__________________________________________________________________________________________________\n",
      "activation_3 (Activation)       (None, 128, 800, 32) 0           batch_normalization_3[0][0]      \n",
      "__________________________________________________________________________________________________\n",
      "max_pooling2d_1 (MaxPooling2D)  (None, 64, 400, 32)  0           activation_3[0][0]               \n",
      "__________________________________________________________________________________________________\n",
      "dropout_1 (Dropout)             (None, 64, 400, 32)  0           max_pooling2d_1[0][0]            \n",
      "__________________________________________________________________________________________________\n",
      "conv2d_4 (Conv2D)               (None, 64, 400, 64)  18496       dropout_1[0][0]                  \n",
      "__________________________________________________________________________________________________\n",
      "batch_normalization_4 (BatchNor (None, 64, 400, 64)  256         conv2d_4[0][0]                   \n",
      "__________________________________________________________________________________________________\n",
      "activation_4 (Activation)       (None, 64, 400, 64)  0           batch_normalization_4[0][0]      \n",
      "__________________________________________________________________________________________________\n",
      "conv2d_5 (Conv2D)               (None, 64, 400, 64)  36928       activation_4[0][0]               \n",
      "__________________________________________________________________________________________________\n",
      "batch_normalization_5 (BatchNor (None, 64, 400, 64)  256         conv2d_5[0][0]                   \n",
      "__________________________________________________________________________________________________\n",
      "activation_5 (Activation)       (None, 64, 400, 64)  0           batch_normalization_5[0][0]      \n",
      "__________________________________________________________________________________________________\n",
      "max_pooling2d_2 (MaxPooling2D)  (None, 32, 200, 64)  0           activation_5[0][0]               \n",
      "__________________________________________________________________________________________________\n",
      "dropout_2 (Dropout)             (None, 32, 200, 64)  0           max_pooling2d_2[0][0]            \n",
      "__________________________________________________________________________________________________\n",
      "conv2d_6 (Conv2D)               (None, 32, 200, 128) 73856       dropout_2[0][0]                  \n",
      "__________________________________________________________________________________________________\n",
      "batch_normalization_6 (BatchNor (None, 32, 200, 128) 512         conv2d_6[0][0]                   \n",
      "__________________________________________________________________________________________________\n",
      "activation_6 (Activation)       (None, 32, 200, 128) 0           batch_normalization_6[0][0]      \n",
      "__________________________________________________________________________________________________\n",
      "conv2d_7 (Conv2D)               (None, 32, 200, 128) 147584      activation_6[0][0]               \n",
      "__________________________________________________________________________________________________\n",
      "batch_normalization_7 (BatchNor (None, 32, 200, 128) 512         conv2d_7[0][0]                   \n",
      "__________________________________________________________________________________________________\n",
      "activation_7 (Activation)       (None, 32, 200, 128) 0           batch_normalization_7[0][0]      \n",
      "__________________________________________________________________________________________________\n",
      "max_pooling2d_3 (MaxPooling2D)  (None, 16, 100, 128) 0           activation_7[0][0]               \n",
      "__________________________________________________________________________________________________\n",
      "dropout_3 (Dropout)             (None, 16, 100, 128) 0           max_pooling2d_3[0][0]            \n",
      "__________________________________________________________________________________________________\n",
      "conv2d_8 (Conv2D)               (None, 16, 100, 256) 295168      dropout_3[0][0]                  \n",
      "__________________________________________________________________________________________________\n",
      "batch_normalization_8 (BatchNor (None, 16, 100, 256) 1024        conv2d_8[0][0]                   \n",
      "__________________________________________________________________________________________________\n",
      "activation_8 (Activation)       (None, 16, 100, 256) 0           batch_normalization_8[0][0]      \n",
      "__________________________________________________________________________________________________\n",
      "conv2d_9 (Conv2D)               (None, 16, 100, 256) 590080      activation_8[0][0]               \n",
      "__________________________________________________________________________________________________\n",
      "batch_normalization_9 (BatchNor (None, 16, 100, 256) 1024        conv2d_9[0][0]                   \n",
      "__________________________________________________________________________________________________\n",
      "activation_9 (Activation)       (None, 16, 100, 256) 0           batch_normalization_9[0][0]      \n",
      "__________________________________________________________________________________________________\n",
      "conv2d_transpose (Conv2DTranspo (None, 32, 200, 128) 295040      activation_9[0][0]               \n",
      "__________________________________________________________________________________________________\n",
      "concatenate (Concatenate)       (None, 32, 200, 256) 0           conv2d_transpose[0][0]           \n",
      "                                                                 activation_7[0][0]               \n",
      "__________________________________________________________________________________________________\n",
      "dropout_4 (Dropout)             (None, 32, 200, 256) 0           concatenate[0][0]                \n",
      "__________________________________________________________________________________________________\n",
      "conv2d_10 (Conv2D)              (None, 32, 200, 128) 295040      dropout_4[0][0]                  \n",
      "__________________________________________________________________________________________________\n",
      "batch_normalization_10 (BatchNo (None, 32, 200, 128) 512         conv2d_10[0][0]                  \n",
      "__________________________________________________________________________________________________\n",
      "activation_10 (Activation)      (None, 32, 200, 128) 0           batch_normalization_10[0][0]     \n",
      "__________________________________________________________________________________________________\n",
      "conv2d_11 (Conv2D)              (None, 32, 200, 128) 147584      activation_10[0][0]              \n",
      "__________________________________________________________________________________________________\n",
      "batch_normalization_11 (BatchNo (None, 32, 200, 128) 512         conv2d_11[0][0]                  \n",
      "__________________________________________________________________________________________________\n",
      "activation_11 (Activation)      (None, 32, 200, 128) 0           batch_normalization_11[0][0]     \n",
      "__________________________________________________________________________________________________\n",
      "conv2d_transpose_1 (Conv2DTrans (None, 64, 400, 64)  73792       activation_11[0][0]              \n",
      "__________________________________________________________________________________________________\n",
      "concatenate_1 (Concatenate)     (None, 64, 400, 128) 0           conv2d_transpose_1[0][0]         \n",
      "                                                                 activation_5[0][0]               \n",
      "__________________________________________________________________________________________________\n",
      "dropout_5 (Dropout)             (None, 64, 400, 128) 0           concatenate_1[0][0]              \n",
      "__________________________________________________________________________________________________\n",
      "conv2d_12 (Conv2D)              (None, 64, 400, 64)  73792       dropout_5[0][0]                  \n",
      "__________________________________________________________________________________________________\n",
      "batch_normalization_12 (BatchNo (None, 64, 400, 64)  256         conv2d_12[0][0]                  \n",
      "__________________________________________________________________________________________________\n",
      "activation_12 (Activation)      (None, 64, 400, 64)  0           batch_normalization_12[0][0]     \n",
      "__________________________________________________________________________________________________\n",
      "conv2d_13 (Conv2D)              (None, 64, 400, 64)  36928       activation_12[0][0]              \n",
      "__________________________________________________________________________________________________\n",
      "batch_normalization_13 (BatchNo (None, 64, 400, 64)  256         conv2d_13[0][0]                  \n",
      "__________________________________________________________________________________________________\n",
      "activation_13 (Activation)      (None, 64, 400, 64)  0           batch_normalization_13[0][0]     \n",
      "__________________________________________________________________________________________________\n",
      "conv2d_transpose_2 (Conv2DTrans (None, 128, 800, 32) 18464       activation_13[0][0]              \n",
      "__________________________________________________________________________________________________\n",
      "concatenate_2 (Concatenate)     (None, 128, 800, 64) 0           conv2d_transpose_2[0][0]         \n",
      "                                                                 activation_3[0][0]               \n",
      "__________________________________________________________________________________________________\n",
      "dropout_6 (Dropout)             (None, 128, 800, 64) 0           concatenate_2[0][0]              \n",
      "__________________________________________________________________________________________________\n",
      "conv2d_14 (Conv2D)              (None, 128, 800, 32) 18464       dropout_6[0][0]                  \n",
      "__________________________________________________________________________________________________\n",
      "batch_normalization_14 (BatchNo (None, 128, 800, 32) 128         conv2d_14[0][0]                  \n",
      "__________________________________________________________________________________________________\n",
      "activation_14 (Activation)      (None, 128, 800, 32) 0           batch_normalization_14[0][0]     \n",
      "__________________________________________________________________________________________________\n",
      "conv2d_15 (Conv2D)              (None, 128, 800, 32) 9248        activation_14[0][0]              \n",
      "__________________________________________________________________________________________________\n",
      "batch_normalization_15 (BatchNo (None, 128, 800, 32) 128         conv2d_15[0][0]                  \n",
      "__________________________________________________________________________________________________\n",
      "activation_15 (Activation)      (None, 128, 800, 32) 0           batch_normalization_15[0][0]     \n",
      "__________________________________________________________________________________________________\n",
      "conv2d_transpose_3 (Conv2DTrans (None, 256, 1600, 16 4624        activation_15[0][0]              \n",
      "__________________________________________________________________________________________________\n",
      "concatenate_3 (Concatenate)     (None, 256, 1600, 32 0           conv2d_transpose_3[0][0]         \n",
      "                                                                 activation_1[0][0]               \n",
      "__________________________________________________________________________________________________\n",
      "dropout_7 (Dropout)             (None, 256, 1600, 32 0           concatenate_3[0][0]              \n",
      "__________________________________________________________________________________________________\n",
      "conv2d_16 (Conv2D)              (None, 256, 1600, 16 4624        dropout_7[0][0]                  \n",
      "__________________________________________________________________________________________________\n",
      "batch_normalization_16 (BatchNo (None, 256, 1600, 16 64          conv2d_16[0][0]                  \n",
      "__________________________________________________________________________________________________\n",
      "activation_16 (Activation)      (None, 256, 1600, 16 0           batch_normalization_16[0][0]     \n",
      "__________________________________________________________________________________________________\n",
      "conv2d_17 (Conv2D)              (None, 256, 1600, 16 2320        activation_16[0][0]              \n",
      "__________________________________________________________________________________________________\n",
      "batch_normalization_17 (BatchNo (None, 256, 1600, 16 64          conv2d_17[0][0]                  \n",
      "__________________________________________________________________________________________________\n",
      "activation_17 (Activation)      (None, 256, 1600, 16 0           batch_normalization_17[0][0]     \n",
      "__________________________________________________________________________________________________\n",
      "conv2d_18 (Conv2D)              (None, 256, 1600, 4) 68          activation_17[0][0]              \n",
      "==================================================================================================\n",
      "Total params: 2,164,356\n",
      "Trainable params: 2,161,412\n",
      "Non-trainable params: 2,944\n",
      "__________________________________________________________________________________________________\n"
     ]
    }
   ],
   "source": [
    "input_img = Input((256, 1600, 1), name='img')\n",
    "model = get_unet(input_img, n_filters=16, dropout=0.05, batchnorm=True)\n",
    "\n",
    "#model = get_unet(input_img, n_filters=16, dropout=0.5, batchnorm=True)\n",
    "\n",
    "#build_model((256, 1600, 1))\n",
    "model.summary()"
   ]
  },
  {
   "cell_type": "code",
   "execution_count": 14,
   "metadata": {
    "_cell_guid": "b1076dfc-b9ad-4769-8c92-a6c4dae69d19",
    "_uuid": "8f2839f25d086af736a60e9eeb907d3b93b6e0e5",
    "execution": {
     "iopub.execute_input": "2021-04-13T06:25:02.817585Z",
     "iopub.status.busy": "2021-04-13T06:25:02.816414Z",
     "iopub.status.idle": "2021-04-13T11:14:02.442741Z",
     "shell.execute_reply": "2021-04-13T11:14:02.442185Z"
    },
    "papermill": {
     "duration": 17339.65514,
     "end_time": "2021-04-13T11:14:02.442887",
     "exception": false,
     "start_time": "2021-04-13T06:25:02.787747",
     "status": "completed"
    },
    "tags": []
   },
   "outputs": [
    {
     "name": "stdout",
     "output_type": "stream",
     "text": [
      "Epoch 1/80\n",
      "354/354 - 309s - loss: 0.2019 - dice_coef: 0.0562 - val_loss: 0.0863 - val_dice_coef: 0.0678\n",
      "\n",
      "Epoch 00001: val_loss improved from inf to 0.08632, saving model to model.h5\n",
      "Epoch 2/80\n",
      "354/354 - 284s - loss: 0.0547 - dice_coef: 0.2126 - val_loss: 0.0482 - val_dice_coef: 0.2028\n",
      "\n",
      "Epoch 00002: val_loss improved from 0.08632 to 0.04820, saving model to model.h5\n",
      "Epoch 3/80\n",
      "354/354 - 284s - loss: 0.0399 - dice_coef: 0.3183 - val_loss: 0.0358 - val_dice_coef: 0.3903\n",
      "\n",
      "Epoch 00003: val_loss improved from 0.04820 to 0.03581, saving model to model.h5\n",
      "Epoch 4/80\n",
      "354/354 - 284s - loss: 0.0346 - dice_coef: 0.3821 - val_loss: 0.0381 - val_dice_coef: 0.3939\n",
      "\n",
      "Epoch 00004: val_loss did not improve from 0.03581\n",
      "Epoch 5/80\n",
      "354/354 - 283s - loss: 0.0319 - dice_coef: 0.4227 - val_loss: 0.0309 - val_dice_coef: 0.4432\n",
      "\n",
      "Epoch 00005: val_loss improved from 0.03581 to 0.03087, saving model to model.h5\n",
      "Epoch 6/80\n",
      "354/354 - 284s - loss: 0.0305 - dice_coef: 0.4487 - val_loss: 0.0289 - val_dice_coef: 0.4835\n",
      "\n",
      "Epoch 00006: val_loss improved from 0.03087 to 0.02887, saving model to model.h5\n",
      "Epoch 7/80\n",
      "354/354 - 283s - loss: 0.0285 - dice_coef: 0.4791 - val_loss: 0.0271 - val_dice_coef: 0.5038\n",
      "\n",
      "Epoch 00007: val_loss improved from 0.02887 to 0.02710, saving model to model.h5\n",
      "Epoch 8/80\n",
      "354/354 - 284s - loss: 0.0275 - dice_coef: 0.4953 - val_loss: 0.0263 - val_dice_coef: 0.4880\n",
      "\n",
      "Epoch 00008: val_loss improved from 0.02710 to 0.02633, saving model to model.h5\n",
      "Epoch 9/80\n",
      "354/354 - 283s - loss: 0.0267 - dice_coef: 0.5071 - val_loss: 0.0266 - val_dice_coef: 0.5135\n",
      "\n",
      "Epoch 00009: val_loss did not improve from 0.02633\n",
      "Epoch 10/80\n",
      "354/354 - 283s - loss: 0.0256 - dice_coef: 0.5246 - val_loss: 0.0266 - val_dice_coef: 0.5139\n",
      "\n",
      "Epoch 00010: val_loss did not improve from 0.02633\n",
      "Epoch 11/80\n",
      "354/354 - 284s - loss: 0.0250 - dice_coef: 0.5344 - val_loss: 0.0260 - val_dice_coef: 0.5390\n",
      "\n",
      "Epoch 00011: val_loss improved from 0.02633 to 0.02602, saving model to model.h5\n",
      "Epoch 12/80\n",
      "354/354 - 283s - loss: 0.0243 - dice_coef: 0.5445 - val_loss: 0.0270 - val_dice_coef: 0.5291\n",
      "\n",
      "Epoch 00012: val_loss did not improve from 0.02602\n",
      "Epoch 13/80\n",
      "354/354 - 284s - loss: 0.0237 - dice_coef: 0.5550 - val_loss: 0.0327 - val_dice_coef: 0.4614\n",
      "\n",
      "Epoch 00013: val_loss did not improve from 0.02602\n",
      "Epoch 14/80\n",
      "354/354 - 283s - loss: 0.0230 - dice_coef: 0.5641 - val_loss: 0.0285 - val_dice_coef: 0.5174\n",
      "\n",
      "Epoch 00014: val_loss did not improve from 0.02602\n",
      "Epoch 15/80\n",
      "354/354 - 284s - loss: 0.0228 - dice_coef: 0.5678 - val_loss: 0.0236 - val_dice_coef: 0.5668\n",
      "\n",
      "Epoch 00015: val_loss improved from 0.02602 to 0.02363, saving model to model.h5\n",
      "Epoch 16/80\n",
      "354/354 - 282s - loss: 0.0220 - dice_coef: 0.5804 - val_loss: 0.0228 - val_dice_coef: 0.5797\n",
      "\n",
      "Epoch 00016: val_loss improved from 0.02363 to 0.02282, saving model to model.h5\n",
      "Epoch 17/80\n",
      "354/354 - 284s - loss: 0.0219 - dice_coef: 0.5829 - val_loss: 0.0229 - val_dice_coef: 0.5862\n",
      "\n",
      "Epoch 00017: val_loss did not improve from 0.02282\n",
      "Epoch 18/80\n",
      "354/354 - 284s - loss: 0.0209 - dice_coef: 0.5997 - val_loss: 0.0256 - val_dice_coef: 0.5545\n",
      "\n",
      "Epoch 00018: val_loss did not improve from 0.02282\n",
      "Epoch 19/80\n",
      "354/354 - 284s - loss: 0.0206 - dice_coef: 0.6014 - val_loss: 0.0249 - val_dice_coef: 0.5627\n",
      "\n",
      "Epoch 00019: val_loss did not improve from 0.02282\n",
      "Epoch 20/80\n",
      "354/354 - 283s - loss: 0.0203 - dice_coef: 0.6077 - val_loss: 0.0224 - val_dice_coef: 0.5938\n",
      "\n",
      "Epoch 00020: val_loss improved from 0.02282 to 0.02241, saving model to model.h5\n",
      "Epoch 21/80\n",
      "354/354 - 284s - loss: 0.0196 - dice_coef: 0.6190 - val_loss: 0.0217 - val_dice_coef: 0.6002\n",
      "\n",
      "Epoch 00021: val_loss improved from 0.02241 to 0.02175, saving model to model.h5\n",
      "Epoch 22/80\n",
      "354/354 - 283s - loss: 0.0195 - dice_coef: 0.6212 - val_loss: 0.0244 - val_dice_coef: 0.5693\n",
      "\n",
      "Epoch 00022: val_loss did not improve from 0.02175\n",
      "Epoch 23/80\n",
      "354/354 - 284s - loss: 0.0192 - dice_coef: 0.6238 - val_loss: 0.0222 - val_dice_coef: 0.6132\n",
      "\n",
      "Epoch 00023: val_loss did not improve from 0.02175\n",
      "Epoch 24/80\n",
      "354/354 - 284s - loss: 0.0186 - dice_coef: 0.6337 - val_loss: 0.0228 - val_dice_coef: 0.6308\n",
      "\n",
      "Epoch 00024: val_loss did not improve from 0.02175\n",
      "Epoch 25/80\n",
      "354/354 - 284s - loss: 0.0185 - dice_coef: 0.6347 - val_loss: 0.0227 - val_dice_coef: 0.6213\n",
      "\n",
      "Epoch 00025: val_loss did not improve from 0.02175\n",
      "Epoch 26/80\n",
      "354/354 - 283s - loss: 0.0183 - dice_coef: 0.6389 - val_loss: 0.0220 - val_dice_coef: 0.6131\n",
      "\n",
      "Epoch 00026: val_loss did not improve from 0.02175\n",
      "Epoch 27/80\n",
      "354/354 - 284s - loss: 0.0179 - dice_coef: 0.6450 - val_loss: 0.0245 - val_dice_coef: 0.6220\n",
      "\n",
      "Epoch 00027: val_loss did not improve from 0.02175\n",
      "Epoch 28/80\n",
      "354/354 - 284s - loss: 0.0175 - dice_coef: 0.6519 - val_loss: 0.0227 - val_dice_coef: 0.6125\n",
      "\n",
      "Epoch 00028: val_loss did not improve from 0.02175\n",
      "Epoch 29/80\n",
      "354/354 - 283s - loss: 0.0171 - dice_coef: 0.6592 - val_loss: 0.0224 - val_dice_coef: 0.6503\n",
      "\n",
      "Epoch 00029: val_loss did not improve from 0.02175\n",
      "Epoch 30/80\n",
      "354/354 - 284s - loss: 0.0167 - dice_coef: 0.6649 - val_loss: 0.0237 - val_dice_coef: 0.6472\n",
      "\n",
      "Epoch 00030: val_loss did not improve from 0.02175\n",
      "Epoch 31/80\n",
      "354/354 - 285s - loss: 0.0163 - dice_coef: 0.6729 - val_loss: 0.0232 - val_dice_coef: 0.6270\n",
      "\n",
      "Epoch 00031: val_loss did not improve from 0.02175\n",
      "Epoch 32/80\n",
      "354/354 - 283s - loss: 0.0166 - dice_coef: 0.6670 - val_loss: 0.0221 - val_dice_coef: 0.6283\n",
      "\n",
      "Epoch 00032: val_loss did not improve from 0.02175\n",
      "Epoch 33/80\n",
      "354/354 - 284s - loss: 0.0156 - dice_coef: 0.6832 - val_loss: 0.0246 - val_dice_coef: 0.6210\n",
      "\n",
      "Epoch 00033: val_loss did not improve from 0.02175\n",
      "Epoch 34/80\n",
      "354/354 - 283s - loss: 0.0154 - dice_coef: 0.6879 - val_loss: 0.0241 - val_dice_coef: 0.6507\n",
      "\n",
      "Epoch 00034: val_loss did not improve from 0.02175\n",
      "Epoch 35/80\n",
      "354/354 - 284s - loss: 0.0152 - dice_coef: 0.6904 - val_loss: 0.0244 - val_dice_coef: 0.6278\n",
      "\n",
      "Epoch 00035: val_loss did not improve from 0.02175\n",
      "Epoch 36/80\n",
      "354/354 - 284s - loss: 0.0148 - dice_coef: 0.6981 - val_loss: 0.0232 - val_dice_coef: 0.6615\n",
      "\n",
      "Epoch 00036: val_loss did not improve from 0.02175\n",
      "Epoch 37/80\n",
      "354/354 - 284s - loss: 0.0144 - dice_coef: 0.7049 - val_loss: 0.0252 - val_dice_coef: 0.6250\n",
      "\n",
      "Epoch 00037: val_loss did not improve from 0.02175\n",
      "Epoch 38/80\n",
      "354/354 - 284s - loss: 0.0139 - dice_coef: 0.7143 - val_loss: 0.0286 - val_dice_coef: 0.6312\n",
      "\n",
      "Epoch 00038: val_loss did not improve from 0.02175\n",
      "Epoch 39/80\n",
      "354/354 - 284s - loss: 0.0137 - dice_coef: 0.7178 - val_loss: 0.0240 - val_dice_coef: 0.6439\n",
      "\n",
      "Epoch 00039: val_loss did not improve from 0.02175\n",
      "Epoch 40/80\n",
      "354/354 - 284s - loss: 0.0136 - dice_coef: 0.7213 - val_loss: 0.0229 - val_dice_coef: 0.6578\n",
      "\n",
      "Epoch 00040: val_loss did not improve from 0.02175\n",
      "Epoch 41/80\n",
      "354/354 - 284s - loss: 0.0133 - dice_coef: 0.7262 - val_loss: 0.0230 - val_dice_coef: 0.6512\n",
      "\n",
      "Epoch 00041: val_loss did not improve from 0.02175\n",
      "Epoch 42/80\n",
      "354/354 - 284s - loss: 0.0125 - dice_coef: 0.7417 - val_loss: 0.0260 - val_dice_coef: 0.6385\n",
      "\n",
      "Epoch 00042: val_loss did not improve from 0.02175\n",
      "Epoch 43/80\n",
      "354/354 - 284s - loss: 0.0125 - dice_coef: 0.7422 - val_loss: 0.0251 - val_dice_coef: 0.6494\n",
      "\n",
      "Epoch 00043: val_loss did not improve from 0.02175\n",
      "Epoch 44/80\n",
      "354/354 - 284s - loss: 0.0120 - dice_coef: 0.7516 - val_loss: 0.0247 - val_dice_coef: 0.6322\n",
      "\n",
      "Epoch 00044: val_loss did not improve from 0.02175\n",
      "Epoch 45/80\n",
      "354/354 - 284s - loss: 0.0117 - dice_coef: 0.7570 - val_loss: 0.0251 - val_dice_coef: 0.6672\n",
      "\n",
      "Epoch 00045: val_loss did not improve from 0.02175\n",
      "Epoch 46/80\n",
      "354/354 - 284s - loss: 0.0119 - dice_coef: 0.7543 - val_loss: 0.0271 - val_dice_coef: 0.6642\n",
      "\n",
      "Epoch 00046: val_loss did not improve from 0.02175\n",
      "Epoch 47/80\n",
      "354/354 - 283s - loss: 0.0113 - dice_coef: 0.7646 - val_loss: 0.0263 - val_dice_coef: 0.6520\n",
      "\n",
      "Epoch 00047: val_loss did not improve from 0.02175\n",
      "Epoch 48/80\n",
      "354/354 - 284s - loss: 0.0108 - dice_coef: 0.7729 - val_loss: 0.0270 - val_dice_coef: 0.6749\n",
      "\n",
      "Epoch 00048: val_loss did not improve from 0.02175\n",
      "Epoch 49/80\n",
      "354/354 - 283s - loss: 0.0105 - dice_coef: 0.7803 - val_loss: 0.0257 - val_dice_coef: 0.6597\n",
      "\n",
      "Epoch 00049: val_loss did not improve from 0.02175\n",
      "Epoch 50/80\n",
      "354/354 - 283s - loss: 0.0105 - dice_coef: 0.7820 - val_loss: 0.0270 - val_dice_coef: 0.6403\n",
      "\n",
      "Epoch 00050: val_loss did not improve from 0.02175\n",
      "Epoch 51/80\n",
      "354/354 - 283s - loss: 0.0101 - dice_coef: 0.7874 - val_loss: 0.0271 - val_dice_coef: 0.6278\n",
      "\n",
      "Epoch 00051: val_loss did not improve from 0.02175\n",
      "Epoch 52/80\n",
      "354/354 - 285s - loss: 0.0097 - dice_coef: 0.7951 - val_loss: 0.0267 - val_dice_coef: 0.6701\n",
      "\n",
      "Epoch 00052: val_loss did not improve from 0.02175\n",
      "Epoch 53/80\n",
      "354/354 - 283s - loss: 0.0096 - dice_coef: 0.7981 - val_loss: 0.0297 - val_dice_coef: 0.6398\n",
      "\n",
      "Epoch 00053: val_loss did not improve from 0.02175\n",
      "Epoch 54/80\n",
      "354/354 - 283s - loss: 0.0094 - dice_coef: 0.8026 - val_loss: 0.0285 - val_dice_coef: 0.6620\n",
      "\n",
      "Epoch 00054: val_loss did not improve from 0.02175\n",
      "Epoch 55/80\n",
      "354/354 - 285s - loss: 0.0091 - dice_coef: 0.8081 - val_loss: 0.0303 - val_dice_coef: 0.6577\n",
      "\n",
      "Epoch 00055: val_loss did not improve from 0.02175\n",
      "Epoch 56/80\n",
      "354/354 - 285s - loss: 0.0106 - dice_coef: 0.7815 - val_loss: 0.0270 - val_dice_coef: 0.6649\n",
      "\n",
      "Epoch 00056: val_loss did not improve from 0.02175\n",
      "Epoch 57/80\n",
      "354/354 - 284s - loss: 0.0085 - dice_coef: 0.8194 - val_loss: 0.0274 - val_dice_coef: 0.6820\n",
      "\n",
      "Epoch 00057: val_loss did not improve from 0.02175\n",
      "Epoch 58/80\n",
      "354/354 - 283s - loss: 0.0087 - dice_coef: 0.8173 - val_loss: 0.0320 - val_dice_coef: 0.6772\n",
      "\n",
      "Epoch 00058: val_loss did not improve from 0.02175\n",
      "Epoch 59/80\n",
      "354/354 - 283s - loss: 0.0086 - dice_coef: 0.8186 - val_loss: 0.0272 - val_dice_coef: 0.6775\n",
      "\n",
      "Epoch 00059: val_loss did not improve from 0.02175\n",
      "Epoch 60/80\n",
      "354/354 - 283s - loss: 0.0083 - dice_coef: 0.8239 - val_loss: 0.0296 - val_dice_coef: 0.6782\n",
      "\n",
      "Epoch 00060: val_loss did not improve from 0.02175\n",
      "Epoch 61/80\n",
      "354/354 - 284s - loss: 0.0079 - dice_coef: 0.8313 - val_loss: 0.0347 - val_dice_coef: 0.6520\n",
      "\n",
      "Epoch 00061: val_loss did not improve from 0.02175\n",
      "Epoch 00061: early stopping\n"
     ]
    }
   ],
   "source": [
    "mc = ModelCheckpoint(\n",
    "    'model.h5', \n",
    "    #monitor='val_dice_coef', \n",
    "    monitor='val_loss', \n",
    "    verbose=1, \n",
    "    save_best_only=True, \n",
    "    save_weights_only=False,\n",
    "    mode='auto'\n",
    "    #mode='max'\n",
    ")\n",
    "\n",
    "\n",
    "es = EarlyStopping(monitor='val_loss', mode='min', verbose=2, patience=40)\n",
    "\n",
    "model.compile(optimizer=Adam(), loss=\"binary_crossentropy\", metrics=[dice_coef])\n",
    "\n",
    "history = model.fit(\n",
    "    train_generator,\n",
    "    validation_data=val_generator,\n",
    "    callbacks=[mc,es],\n",
    "    verbose=2, \n",
    "    epochs=80\n",
    ")"
   ]
  },
  {
   "cell_type": "code",
   "execution_count": 15,
   "metadata": {
    "execution": {
     "iopub.execute_input": "2021-04-13T11:14:02.570906Z",
     "iopub.status.busy": "2021-04-13T11:14:02.570040Z",
     "iopub.status.idle": "2021-04-13T11:14:02.573021Z",
     "shell.execute_reply": "2021-04-13T11:14:02.572579Z"
    },
    "papermill": {
     "duration": 0.070438,
     "end_time": "2021-04-13T11:14:02.573135",
     "exception": false,
     "start_time": "2021-04-13T11:14:02.502697",
     "status": "completed"
    },
    "tags": []
   },
   "outputs": [],
   "source": [
    "def history_plot(model_id, history1):\n",
    "\tplt.figure(figsize=(14,16)) \n",
    "\t# plot loss\n",
    "\tplt.subplot(2, 1, 1)\n",
    "\tplt.title('Cross Entropy Loss - ' + model_id, fontsize = 12)\n",
    "\tplt.plot(history1.history['loss'], color='blue', label='train base')\n",
    "\tplt.plot(history1.history['val_loss'], color='cyan', label='val base')\n",
    "\tplt.xlabel(\"Epochs\",fontsize = 12)\n",
    "\tplt.ylabel(\"Loss\", fontsize = 12)\n",
    "\tplt.legend(loc='upper right')\n",
    "\n",
    "\t# plot accuracy\n",
    "\tplt.subplot(2, 1, 2)\n",
    "\tplt.title('Classification Accuracy ' + model_id, fontsize = 10)\n",
    "\tplt.plot(history1.history['dice_coef'], color='blue', label='train base')\n",
    "\tplt.plot(history1.history['val_dice_coef'], color='cyan', label='val base')\n",
    "\tplt.xlabel(\"Epochs\", fontsize = 12)\n",
    "\tplt.ylabel(\"dice_coef\", fontsize = 12)\n",
    "\tplt.legend(loc='lower right')\n",
    "\n",
    "\tplt.show()"
   ]
  },
  {
   "cell_type": "code",
   "execution_count": 16,
   "metadata": {
    "execution": {
     "iopub.execute_input": "2021-04-13T11:14:02.693030Z",
     "iopub.status.busy": "2021-04-13T11:14:02.692264Z",
     "iopub.status.idle": "2021-04-13T11:14:02.695967Z",
     "shell.execute_reply": "2021-04-13T11:14:02.695545Z"
    },
    "papermill": {
     "duration": 0.065097,
     "end_time": "2021-04-13T11:14:02.696076",
     "exception": false,
     "start_time": "2021-04-13T11:14:02.630979",
     "status": "completed"
    },
    "tags": []
   },
   "outputs": [
    {
     "data": {
      "text/plain": [
       "dict_keys(['loss', 'dice_coef', 'val_loss', 'val_dice_coef'])"
      ]
     },
     "execution_count": 16,
     "metadata": {},
     "output_type": "execute_result"
    }
   ],
   "source": [
    "history.history.keys()"
   ]
  },
  {
   "cell_type": "code",
   "execution_count": 17,
   "metadata": {
    "execution": {
     "iopub.execute_input": "2021-04-13T11:14:02.815095Z",
     "iopub.status.busy": "2021-04-13T11:14:02.814224Z",
     "iopub.status.idle": "2021-04-13T11:14:03.197084Z",
     "shell.execute_reply": "2021-04-13T11:14:03.196626Z"
    },
    "papermill": {
     "duration": 0.445623,
     "end_time": "2021-04-13T11:14:03.197223",
     "exception": false,
     "start_time": "2021-04-13T11:14:02.751600",
     "status": "completed"
    },
    "tags": []
   },
   "outputs": [
    {
     "data": {
      "image/png": "[encoded data removed]",
      "text/plain": [
       "<Figure size 1008x1152 with 2 Axes>"
      ]
     },
     "metadata": {
      "needs_background": "light"
     },
     "output_type": "display_data"
    }
   ],
   "source": [
    "history_plot('UNET Model', history)"
   ]
  },
  {
   "cell_type": "code",
   "execution_count": 18,
   "metadata": {
    "_cell_guid": "b1076dfc-b9ad-4769-8c92-a6c4dae69d19",
    "_uuid": "8f2839f25d086af736a60e9eeb907d3b93b6e0e5",
    "execution": {
     "iopub.execute_input": "2021-04-13T11:14:03.359621Z",
     "iopub.status.busy": "2021-04-13T11:14:03.333165Z",
     "iopub.status.idle": "2021-04-13T11:14:03.406621Z",
     "shell.execute_reply": "2021-04-13T11:14:03.405691Z"
    },
    "papermill": {
     "duration": 0.152755,
     "end_time": "2021-04-13T11:14:03.406742",
     "exception": false,
     "start_time": "2021-04-13T11:14:03.253987",
     "status": "completed"
    },
    "tags": []
   },
   "outputs": [],
   "source": [
    "model.load_weights('model.h5')"
   ]
  },
  {
   "cell_type": "code",
   "execution_count": 19,
   "metadata": {
    "execution": {
     "iopub.execute_input": "2021-04-13T11:14:03.544565Z",
     "iopub.status.busy": "2021-04-13T11:14:03.539433Z",
     "iopub.status.idle": "2021-04-13T11:14:03.751114Z",
     "shell.execute_reply": "2021-04-13T11:14:03.750621Z"
    },
    "papermill": {
     "duration": 0.288347,
     "end_time": "2021-04-13T11:14:03.751272",
     "exception": false,
     "start_time": "2021-04-13T11:14:03.462925",
     "status": "completed"
    },
    "tags": []
   },
   "outputs": [],
   "source": [
    "model.save('severstal-segmentation_unetBN.h5', save_format=\"h5\")"
   ]
  },
  {
   "cell_type": "markdown",
   "metadata": {
    "papermill": {
     "duration": 0.054112,
     "end_time": "2021-04-13T11:14:03.860776",
     "exception": false,
     "start_time": "2021-04-13T11:14:03.806664",
     "status": "completed"
    },
    "tags": []
   },
   "source": [
    "## References：\n",
    "+ Data generator: \n",
    "        * https://stanford.edu/~shervine/blog/keras-how-to-generate-data-on-the-fly \n",
    "        * https://www.kaggle.com/ripcurl/severstal-unet-with-efficientnetb4-keras\n",
    "+ RLE encoding and decoding: https://www.kaggle.com/paulorzp/rle-functions-run-lenght-encode-decode\n",
    "+ Mask encoding: https://www.kaggle.com/c/siim-acr-pneumothorax-segmentation/data\n"
   ]
  },
  {
   "cell_type": "code",
   "execution_count": null,
   "metadata": {
    "papermill": {
     "duration": 0.053819,
     "end_time": "2021-04-13T11:14:03.970437",
     "exception": false,
     "start_time": "2021-04-13T11:14:03.916618",
     "status": "completed"
    },
    "tags": []
   },
   "outputs": [],
   "source": []
  }
 ],
 "metadata": {
  "kernelspec": {
   "display_name": "Python 3",
   "language": "python",
   "name": "python3"
  },
  "language_info": {
   "codemirror_mode": {
    "name": "ipython",
    "version": 3
   },
   "file_extension": ".py",
   "mimetype": "text/x-python",
   "name": "python",
   "nbconvert_exporter": "python",
   "pygments_lexer": "ipython3",
   "version": "3.7.9"
  },
  "papermill": {
   "default_parameters": {},
   "duration": 17359.636276,
   "end_time": "2021-04-13T11:14:07.175307",
   "environment_variables": {},
   "exception": null,
   "input_path": "__notebook__.ipynb",
   "output_path": "__notebook__.ipynb",
   "parameters": {},
   "start_time": "2021-04-13T06:24:47.539031",
   "version": "2.2.2"
  }
 },
 "nbformat": 4,
 "nbformat_minor": 4
}
