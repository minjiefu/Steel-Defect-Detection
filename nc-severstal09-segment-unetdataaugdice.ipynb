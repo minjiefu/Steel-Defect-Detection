{
 "cells": [
  {
   "cell_type": "code",
   "execution_count": 1,
   "metadata": {
    "_cell_guid": "b1076dfc-b9ad-4769-8c92-a6c4dae69d19",
    "_uuid": "8f2839f25d086af736a60e9eeb907d3b93b6e0e5",
    "execution": {
     "iopub.execute_input": "2021-04-13T13:51:50.962240Z",
     "iopub.status.busy": "2021-04-13T13:51:50.961695Z",
     "iopub.status.idle": "2021-04-13T13:51:58.115068Z",
     "shell.execute_reply": "2021-04-13T13:51:58.114014Z"
    },
    "papermill": {
     "duration": 7.177543,
     "end_time": "2021-04-13T13:51:58.115266",
     "exception": false,
     "start_time": "2021-04-13T13:51:50.937723",
     "status": "completed"
    },
    "tags": []
   },
   "outputs": [],
   "source": [
    "import os\n",
    "import gc\n",
    "\n",
    "import cv2\n",
    "from tensorflow import keras\n",
    "from tensorflow.keras import backend as K\n",
    "from tensorflow.keras import layers\n",
    "from tensorflow.keras.preprocessing.image import ImageDataGenerator\n",
    "from tensorflow.keras.models import Model, load_model\n",
    "from tensorflow.keras.layers import Input\n",
    "from tensorflow.keras.layers import Conv2D, Conv2DTranspose\n",
    "from tensorflow.keras.layers import MaxPooling2D\n",
    "from tensorflow.keras.layers import concatenate\n",
    "from tensorflow.keras.optimizers import Adam\n",
    "from tensorflow.keras.callbacks import Callback, ModelCheckpoint, EarlyStopping\n",
    "import matplotlib.pyplot as plt\n",
    "import numpy as np\n",
    "import pandas as pd\n",
    "from tqdm import tqdm\n",
    "from sklearn.model_selection import train_test_split"
   ]
  },
  {
   "cell_type": "code",
   "execution_count": 2,
   "metadata": {
    "execution": {
     "iopub.execute_input": "2021-04-13T13:51:58.152145Z",
     "iopub.status.busy": "2021-04-13T13:51:58.151590Z",
     "iopub.status.idle": "2021-04-13T13:51:58.202949Z",
     "shell.execute_reply": "2021-04-13T13:51:58.202522Z"
    },
    "papermill": {
     "duration": 0.071807,
     "end_time": "2021-04-13T13:51:58.203055",
     "exception": false,
     "start_time": "2021-04-13T13:51:58.131248",
     "status": "completed"
    },
    "tags": []
   },
   "outputs": [],
   "source": [
    "img_path = '../input/severstal-steel-defect-detection/test_images/004f40c73.jpg'\n",
    "img = cv2.imread(img_path, cv2.IMREAD_GRAYSCALE)\n",
    "img = img.astype(np.float32) / 255.\n",
    "img = np.expand_dims(img, axis=-1)"
   ]
  },
  {
   "cell_type": "code",
   "execution_count": 3,
   "metadata": {
    "execution": {
     "iopub.execute_input": "2021-04-13T13:51:58.240142Z",
     "iopub.status.busy": "2021-04-13T13:51:58.239372Z",
     "iopub.status.idle": "2021-04-13T13:51:58.242718Z",
     "shell.execute_reply": "2021-04-13T13:51:58.243186Z"
    },
    "papermill": {
     "duration": 0.024564,
     "end_time": "2021-04-13T13:51:58.243309",
     "exception": false,
     "start_time": "2021-04-13T13:51:58.218745",
     "status": "completed"
    },
    "tags": []
   },
   "outputs": [
    {
     "data": {
      "text/plain": [
       "(256, 1600, 1)"
      ]
     },
     "execution_count": 3,
     "metadata": {},
     "output_type": "execute_result"
    }
   ],
   "source": [
    "np.shape(img)"
   ]
  },
  {
   "cell_type": "markdown",
   "metadata": {
    "_cell_guid": "b1076dfc-b9ad-4769-8c92-a6c4dae69d19",
    "_uuid": "8f2839f25d086af736a60e9eeb907d3b93b6e0e5",
    "papermill": {
     "duration": 0.015557,
     "end_time": "2021-04-13T13:51:58.275631",
     "exception": false,
     "start_time": "2021-04-13T13:51:58.260074",
     "status": "completed"
    },
    "tags": []
   },
   "source": [
    "# load dataframe with train labels"
   ]
  },
  {
   "cell_type": "code",
   "execution_count": 4,
   "metadata": {
    "_cell_guid": "b1076dfc-b9ad-4769-8c92-a6c4dae69d19",
    "_uuid": "8f2839f25d086af736a60e9eeb907d3b93b6e0e5",
    "execution": {
     "iopub.execute_input": "2021-04-13T13:51:58.313393Z",
     "iopub.status.busy": "2021-04-13T13:51:58.312866Z",
     "iopub.status.idle": "2021-04-13T13:51:58.779476Z",
     "shell.execute_reply": "2021-04-13T13:51:58.780029Z"
    },
    "papermill": {
     "duration": 0.488039,
     "end_time": "2021-04-13T13:51:58.780224",
     "exception": false,
     "start_time": "2021-04-13T13:51:58.292185",
     "status": "completed"
    },
    "tags": []
   },
   "outputs": [
    {
     "name": "stdout",
     "output_type": "stream",
     "text": [
      "(7095, 3)\n"
     ]
    }
   ],
   "source": [
    "train_df = pd.read_csv('../input/severstal-steel-defect-detection/train.csv')\n",
    "print(train_df.shape)"
   ]
  },
  {
   "cell_type": "code",
   "execution_count": 5,
   "metadata": {
    "_cell_guid": "b1076dfc-b9ad-4769-8c92-a6c4dae69d19",
    "_uuid": "8f2839f25d086af736a60e9eeb907d3b93b6e0e5",
    "execution": {
     "iopub.execute_input": "2021-04-13T13:51:58.829522Z",
     "iopub.status.busy": "2021-04-13T13:51:58.826880Z",
     "iopub.status.idle": "2021-04-13T13:51:58.836299Z",
     "shell.execute_reply": "2021-04-13T13:51:58.836798Z"
    },
    "papermill": {
     "duration": 0.039733,
     "end_time": "2021-04-13T13:51:58.836931",
     "exception": false,
     "start_time": "2021-04-13T13:51:58.797198",
     "status": "completed"
    },
    "tags": []
   },
   "outputs": [
    {
     "data": {
      "text/html": [
       "<div>\n",
       "<style scoped>\n",
       "    .dataframe tbody tr th:only-of-type {\n",
       "        vertical-align: middle;\n",
       "    }\n",
       "\n",
       "    .dataframe tbody tr th {\n",
       "        vertical-align: top;\n",
       "    }\n",
       "\n",
       "    .dataframe thead th {\n",
       "        text-align: right;\n",
       "    }\n",
       "</style>\n",
       "<table border=\"1\" class=\"dataframe\">\n",
       "  <thead>\n",
       "    <tr style=\"text-align: right;\">\n",
       "      <th></th>\n",
       "      <th>ImageId</th>\n",
       "      <th>ClassId</th>\n",
       "      <th>EncodedPixels</th>\n",
       "    </tr>\n",
       "  </thead>\n",
       "  <tbody>\n",
       "    <tr>\n",
       "      <th>0</th>\n",
       "      <td>0002cc93b.jpg</td>\n",
       "      <td>1</td>\n",
       "      <td>29102 12 29346 24 29602 24 29858 24 30114 24 3...</td>\n",
       "    </tr>\n",
       "    <tr>\n",
       "      <th>1</th>\n",
       "      <td>0007a71bf.jpg</td>\n",
       "      <td>3</td>\n",
       "      <td>18661 28 18863 82 19091 110 19347 110 19603 11...</td>\n",
       "    </tr>\n",
       "    <tr>\n",
       "      <th>2</th>\n",
       "      <td>000a4bcdd.jpg</td>\n",
       "      <td>1</td>\n",
       "      <td>37607 3 37858 8 38108 14 38359 20 38610 25 388...</td>\n",
       "    </tr>\n",
       "    <tr>\n",
       "      <th>3</th>\n",
       "      <td>000f6bf48.jpg</td>\n",
       "      <td>4</td>\n",
       "      <td>131973 1 132228 4 132483 6 132738 8 132993 11 ...</td>\n",
       "    </tr>\n",
       "    <tr>\n",
       "      <th>4</th>\n",
       "      <td>0014fce06.jpg</td>\n",
       "      <td>3</td>\n",
       "      <td>229501 11 229741 33 229981 55 230221 77 230468...</td>\n",
       "    </tr>\n",
       "  </tbody>\n",
       "</table>\n",
       "</div>"
      ],
      "text/plain": [
       "         ImageId  ClassId                                      EncodedPixels\n",
       "0  0002cc93b.jpg        1  29102 12 29346 24 29602 24 29858 24 30114 24 3...\n",
       "1  0007a71bf.jpg        3  18661 28 18863 82 19091 110 19347 110 19603 11...\n",
       "2  000a4bcdd.jpg        1  37607 3 37858 8 38108 14 38359 20 38610 25 388...\n",
       "3  000f6bf48.jpg        4  131973 1 132228 4 132483 6 132738 8 132993 11 ...\n",
       "4  0014fce06.jpg        3  229501 11 229741 33 229981 55 230221 77 230468..."
      ]
     },
     "execution_count": 5,
     "metadata": {},
     "output_type": "execute_result"
    }
   ],
   "source": [
    "train_df.head(5)"
   ]
  },
  {
   "cell_type": "code",
   "execution_count": 6,
   "metadata": {
    "_cell_guid": "b1076dfc-b9ad-4769-8c92-a6c4dae69d19",
    "_uuid": "8f2839f25d086af736a60e9eeb907d3b93b6e0e5",
    "execution": {
     "iopub.execute_input": "2021-04-13T13:51:58.882801Z",
     "iopub.status.busy": "2021-04-13T13:51:58.882177Z",
     "iopub.status.idle": "2021-04-13T13:51:58.885507Z",
     "shell.execute_reply": "2021-04-13T13:51:58.885934Z"
    },
    "papermill": {
     "duration": 0.03286,
     "end_time": "2021-04-13T13:51:58.886088",
     "exception": false,
     "start_time": "2021-04-13T13:51:58.853228",
     "status": "completed"
    },
    "tags": []
   },
   "outputs": [
    {
     "name": "stdout",
     "output_type": "stream",
     "text": [
      "<class 'pandas.core.frame.DataFrame'>\n",
      "RangeIndex: 7095 entries, 0 to 7094\n",
      "Data columns (total 3 columns):\n",
      " #   Column         Non-Null Count  Dtype \n",
      "---  ------         --------------  ----- \n",
      " 0   ImageId        7095 non-null   object\n",
      " 1   ClassId        7095 non-null   int64 \n",
      " 2   EncodedPixels  7095 non-null   object\n",
      "dtypes: int64(1), object(2)\n",
      "memory usage: 166.4+ KB\n"
     ]
    }
   ],
   "source": [
    "train_df.info()"
   ]
  },
  {
   "cell_type": "code",
   "execution_count": 7,
   "metadata": {
    "_cell_guid": "b1076dfc-b9ad-4769-8c92-a6c4dae69d19",
    "_uuid": "8f2839f25d086af736a60e9eeb907d3b93b6e0e5",
    "execution": {
     "iopub.execute_input": "2021-04-13T13:51:58.925282Z",
     "iopub.status.busy": "2021-04-13T13:51:58.924543Z",
     "iopub.status.idle": "2021-04-13T13:51:58.928310Z",
     "shell.execute_reply": "2021-04-13T13:51:58.927755Z"
    },
    "papermill": {
     "duration": 0.025137,
     "end_time": "2021-04-13T13:51:58.928434",
     "exception": false,
     "start_time": "2021-04-13T13:51:58.903297",
     "status": "completed"
    },
    "tags": []
   },
   "outputs": [
    {
     "data": {
      "text/plain": [
       "[1, 3, 4, 2]"
      ]
     },
     "execution_count": 7,
     "metadata": {},
     "output_type": "execute_result"
    }
   ],
   "source": [
    "list(train_df['ClassId'].unique())"
   ]
  },
  {
   "cell_type": "code",
   "execution_count": 8,
   "metadata": {
    "_cell_guid": "b1076dfc-b9ad-4769-8c92-a6c4dae69d19",
    "_uuid": "8f2839f25d086af736a60e9eeb907d3b93b6e0e5",
    "execution": {
     "iopub.execute_input": "2021-04-13T13:51:58.967534Z",
     "iopub.status.busy": "2021-04-13T13:51:58.966753Z",
     "iopub.status.idle": "2021-04-13T13:51:58.983918Z",
     "shell.execute_reply": "2021-04-13T13:51:58.983528Z"
    },
    "papermill": {
     "duration": 0.0388,
     "end_time": "2021-04-13T13:51:58.984022",
     "exception": false,
     "start_time": "2021-04-13T13:51:58.945222",
     "status": "completed"
    },
    "tags": []
   },
   "outputs": [
    {
     "name": "stdout",
     "output_type": "stream",
     "text": [
      "(6666, 2)\n"
     ]
    },
    {
     "data": {
      "text/html": [
       "<div>\n",
       "<style scoped>\n",
       "    .dataframe tbody tr th:only-of-type {\n",
       "        vertical-align: middle;\n",
       "    }\n",
       "\n",
       "    .dataframe tbody tr th {\n",
       "        vertical-align: top;\n",
       "    }\n",
       "\n",
       "    .dataframe thead th {\n",
       "        text-align: right;\n",
       "    }\n",
       "</style>\n",
       "<table border=\"1\" class=\"dataframe\">\n",
       "  <thead>\n",
       "    <tr style=\"text-align: right;\">\n",
       "      <th></th>\n",
       "      <th>ImageId</th>\n",
       "      <th>Num_ClassId</th>\n",
       "    </tr>\n",
       "  </thead>\n",
       "  <tbody>\n",
       "    <tr>\n",
       "      <th>6253</th>\n",
       "      <td>ef24da2ba.jpg</td>\n",
       "      <td>3</td>\n",
       "    </tr>\n",
       "    <tr>\n",
       "      <th>5740</th>\n",
       "      <td>db4867ee8.jpg</td>\n",
       "      <td>3</td>\n",
       "    </tr>\n",
       "    <tr>\n",
       "      <th>3435</th>\n",
       "      <td>84865746c.jpg</td>\n",
       "      <td>2</td>\n",
       "    </tr>\n",
       "    <tr>\n",
       "      <th>2203</th>\n",
       "      <td>5665ada1b.jpg</td>\n",
       "      <td>2</td>\n",
       "    </tr>\n",
       "    <tr>\n",
       "      <th>6149</th>\n",
       "      <td>eb44ad79d.jpg</td>\n",
       "      <td>2</td>\n",
       "    </tr>\n",
       "  </tbody>\n",
       "</table>\n",
       "</div>"
      ],
      "text/plain": [
       "            ImageId  Num_ClassId\n",
       "6253  ef24da2ba.jpg            3\n",
       "5740  db4867ee8.jpg            3\n",
       "3435  84865746c.jpg            2\n",
       "2203  5665ada1b.jpg            2\n",
       "6149  eb44ad79d.jpg            2"
      ]
     },
     "execution_count": 8,
     "metadata": {},
     "output_type": "execute_result"
    }
   ],
   "source": [
    "mask_count_df = train_df.groupby('ImageId')[\"ClassId\"].count().reset_index().rename(columns = {\"ClassId\":\"Num_ClassId\"})\n",
    "mask_count_df.sort_values('Num_ClassId', ascending=False, inplace=True)\n",
    "print(mask_count_df.shape)\n",
    "mask_count_df.head()"
   ]
  },
  {
   "cell_type": "markdown",
   "metadata": {
    "_cell_guid": "b1076dfc-b9ad-4769-8c92-a6c4dae69d19",
    "_uuid": "8f2839f25d086af736a60e9eeb907d3b93b6e0e5",
    "papermill": {
     "duration": 0.017538,
     "end_time": "2021-04-13T13:51:59.019065",
     "exception": false,
     "start_time": "2021-04-13T13:51:59.001527",
     "status": "completed"
    },
    "tags": []
   },
   "source": [
    "# Keras U-Net"
   ]
  },
  {
   "cell_type": "markdown",
   "metadata": {
    "_cell_guid": "b1076dfc-b9ad-4769-8c92-a6c4dae69d19",
    "_uuid": "8f2839f25d086af736a60e9eeb907d3b93b6e0e5",
    "papermill": {
     "duration": 0.017198,
     "end_time": "2021-04-13T13:51:59.055923",
     "exception": false,
     "start_time": "2021-04-13T13:51:59.038725",
     "status": "completed"
    },
    "tags": []
   },
   "source": [
    "## Utility Functions"
   ]
  },
  {
   "cell_type": "code",
   "execution_count": 9,
   "metadata": {
    "_cell_guid": "b1076dfc-b9ad-4769-8c92-a6c4dae69d19",
    "_uuid": "8f2839f25d086af736a60e9eeb907d3b93b6e0e5",
    "execution": {
     "iopub.execute_input": "2021-04-13T13:51:59.101171Z",
     "iopub.status.busy": "2021-04-13T13:51:59.100500Z",
     "iopub.status.idle": "2021-04-13T13:51:59.103378Z",
     "shell.execute_reply": "2021-04-13T13:51:59.102925Z"
    },
    "papermill": {
     "duration": 0.029765,
     "end_time": "2021-04-13T13:51:59.103496",
     "exception": false,
     "start_time": "2021-04-13T13:51:59.073731",
     "status": "completed"
    },
    "tags": []
   },
   "outputs": [],
   "source": [
    "def mask2rle(img):\n",
    "    '''\n",
    "    img: numpy array, 1 - mask, 0 - background\n",
    "    Returns run length as string formated\n",
    "    '''\n",
    "    pixels= img.T.flatten()\n",
    "    pixels = np.concatenate([[0], pixels, [0]])\n",
    "    runs = np.where(pixels[1:] != pixels[:-1])[0] + 1\n",
    "    runs[1::2] -= runs[::2]\n",
    "    return ' '.join(str(x) for x in runs)\n",
    "\n",
    "def rle2mask(rle, input_shape):\n",
    "    width, height = input_shape[:2]\n",
    "    \n",
    "    mask= np.zeros( width*height ).astype(np.uint8)\n",
    "    \n",
    "    array = np.asarray([int(x) for x in rle.split()])\n",
    "    starts = array[0::2]\n",
    "    starts-=1\n",
    "    lengths = array[1::2]\n",
    "\n",
    "    current_position = 0\n",
    "    for index, start in enumerate(starts):\n",
    "        mask[int(start):int(start+lengths[index])] = 1\n",
    "        current_position += lengths[index]\n",
    "        \n",
    "    return mask.reshape(height, width).T\n",
    "\n",
    "\n",
    "def build_rles(masks):\n",
    "    width, height, depth = masks.shape\n",
    "    \n",
    "    rles = [mask2rle(masks[:, :, i])\n",
    "            for i in range(depth)]\n",
    "    \n",
    "    return rles"
   ]
  },
  {
   "cell_type": "markdown",
   "metadata": {
    "_cell_guid": "b1076dfc-b9ad-4769-8c92-a6c4dae69d19",
    "_uuid": "8f2839f25d086af736a60e9eeb907d3b93b6e0e5",
    "papermill": {
     "duration": 0.017428,
     "end_time": "2021-04-13T13:51:59.138654",
     "exception": false,
     "start_time": "2021-04-13T13:51:59.121226",
     "status": "completed"
    },
    "tags": []
   },
   "source": [
    "## Data Generator"
   ]
  },
  {
   "cell_type": "code",
   "execution_count": 10,
   "metadata": {
    "execution": {
     "iopub.execute_input": "2021-04-13T13:51:59.179901Z",
     "iopub.status.busy": "2021-04-13T13:51:59.179378Z",
     "iopub.status.idle": "2021-04-13T13:52:00.221117Z",
     "shell.execute_reply": "2021-04-13T13:52:00.220644Z"
    },
    "papermill": {
     "duration": 1.065203,
     "end_time": "2021-04-13T13:52:00.221249",
     "exception": false,
     "start_time": "2021-04-13T13:51:59.156046",
     "status": "completed"
    },
    "tags": []
   },
   "outputs": [],
   "source": [
    "from albumentations import (\n",
    "    HorizontalFlip, VerticalFlip, IAAPerspective, ShiftScaleRotate, CLAHE, RandomRotate90,\n",
    "    Transpose, ShiftScaleRotate, Blur, OpticalDistortion, GridDistortion, HueSaturationValue,\n",
    "    IAAAdditiveGaussianNoise, GaussNoise, MotionBlur, MedianBlur, IAAPiecewiseAffine,\n",
    "    IAASharpen, IAAEmboss, RandomContrast, RandomBrightness, Flip, OneOf, Compose, RandomGamma, Rotate,IAAAffine\n",
    ")\n",
    "aug_null = Compose([])\n",
    "aug = Compose([ \n",
    "    Blur(p=0.2, blur_limit=2),\n",
    "    ShiftScaleRotate(shift_limit=0.0625, scale_limit=0.2, rotate_limit=45, p=0.2),\n",
    "    HorizontalFlip(p=0.5),              \n",
    "    Rotate(limit=5, p=0.3),\n",
    "    VerticalFlip(p=0.5), \n",
    "])"
   ]
  },
  {
   "cell_type": "code",
   "execution_count": 11,
   "metadata": {
    "_cell_guid": "b1076dfc-b9ad-4769-8c92-a6c4dae69d19",
    "_uuid": "8f2839f25d086af736a60e9eeb907d3b93b6e0e5",
    "execution": {
     "iopub.execute_input": "2021-04-13T13:52:00.277318Z",
     "iopub.status.busy": "2021-04-13T13:52:00.276148Z",
     "iopub.status.idle": "2021-04-13T13:52:00.279241Z",
     "shell.execute_reply": "2021-04-13T13:52:00.278839Z"
    },
    "papermill": {
     "duration": 0.039987,
     "end_time": "2021-04-13T13:52:00.279351",
     "exception": false,
     "start_time": "2021-04-13T13:52:00.239364",
     "status": "completed"
    },
    "tags": []
   },
   "outputs": [],
   "source": [
    "class DataGenerator(keras.utils.Sequence):\n",
    "    'Generates data for Keras'\n",
    "    def __init__(self, list_IDs, df, target_df=None, mode='fit',\n",
    "                 base_path='../input/severstal-steel-defect-detection/train_images',\n",
    "                 batch_size=32, dim=(256, 1600), n_channels=1,\n",
    "                 n_classes=4, random_state=2021, shuffle=True,\n",
    "                aug=aug_null):\n",
    "        self.dim = dim\n",
    "        self.batch_size = batch_size\n",
    "        self.df = df\n",
    "        self.mode = mode\n",
    "        self.base_path = base_path\n",
    "        self.target_df = target_df\n",
    "        self.list_IDs = list_IDs\n",
    "        self.n_channels = n_channels\n",
    "        self.n_classes = n_classes\n",
    "        self.shuffle = shuffle\n",
    "        self.random_state = random_state\n",
    "        self.aug = aug\n",
    "        \n",
    "        self.on_epoch_end()\n",
    "\n",
    "    def __len__(self):\n",
    "        'Denotes the number of batches per epoch'\n",
    "        return int(np.floor(len(self.list_IDs) / self.batch_size))\n",
    "\n",
    "    def __getitem__(self, index):\n",
    "        'Generate one batch of data'\n",
    "        # Generate indexes of the batch\n",
    "        indexes = self.indexes[index*self.batch_size:(index+1)*self.batch_size]\n",
    "\n",
    "        # Find list of IDs\n",
    "        list_IDs_batch = [self.list_IDs[k] for k in indexes]\n",
    "        \n",
    "        X = self.__generate_X(list_IDs_batch)\n",
    "        if self.mode == 'fit':\n",
    "            y = self.__generate_y(list_IDs_batch)\n",
    "            #print(np.shape(y))\n",
    "            #print(len(X))\n",
    "            \n",
    "            for img in range(len(X)):\n",
    "                augmented = self.aug(image=X[img], mask=y[img] )\n",
    "                \n",
    "                X[img] = augmented['image']\n",
    "                y[img] = augmented['mask'] \n",
    "            return X, y\n",
    "        \n",
    "        elif self.mode == 'predict':\n",
    "            return X\n",
    "\n",
    "        else:\n",
    "            raise AttributeError('The mode parameter should be set to \"fit\" or \"predict\".')\n",
    "        \n",
    "    def on_epoch_end(self):\n",
    "        'Updates indexes after each epoch'\n",
    "        self.indexes = np.arange(len(self.list_IDs))\n",
    "        if self.shuffle == True:\n",
    "            np.random.seed(self.random_state)\n",
    "            np.random.shuffle(self.indexes)\n",
    "    \n",
    "    def __generate_X(self, list_IDs_batch):\n",
    "        'Generates data containing batch_size samples'\n",
    "        # Initialization\n",
    "        X = np.empty((self.batch_size, *self.dim, self.n_channels))\n",
    "        \n",
    "        # Generate data\n",
    "        for i, ID in enumerate(list_IDs_batch):\n",
    "            im_name = self.df['ImageId'].iloc[ID]\n",
    "            img_path = f\"{self.base_path}/{im_name}\"\n",
    "            img = self.__load_grayscale(img_path)\n",
    "            \n",
    "            # Store samples\n",
    "            X[i,] = img\n",
    "\n",
    "        return X\n",
    "    \n",
    "    def __generate_y(self, list_IDs_batch):\n",
    "        y = np.empty((self.batch_size, *self.dim, self.n_classes), dtype=int)\n",
    "        \n",
    "        for i, ID in enumerate(list_IDs_batch):\n",
    "            #print()\n",
    "            #print(\"i\",i)\n",
    "            #print(\"ID\",ID)\n",
    "            im_name = self.df['ImageId'].iloc[ID]\n",
    "            image_df = self.target_df[self.target_df['ImageId'] == im_name].copy().reset_index()\n",
    "            #print(\"image_df:\",image_df)\n",
    "\n",
    "            masks = np.zeros((*self.dim, self.n_classes))\n",
    "            \n",
    "            for j in range(len(image_df)):\n",
    "                #print(j)\n",
    "                rle = image_df.loc[j,'EncodedPixels']\n",
    "                cls =  image_df.loc[j,'ClassId']\n",
    "                masks[:, :, cls-1] = rle2mask(rle, self.dim)\n",
    "    \n",
    "            y[i, ] = masks\n",
    "\n",
    "        return y\n",
    "    \n",
    "    def __load_grayscale(self, img_path):\n",
    "        img = cv2.imread(img_path, cv2.IMREAD_GRAYSCALE)\n",
    "        img = img.astype(np.float32) / 255.\n",
    "        img = np.expand_dims(img, axis=-1)\n",
    "\n",
    "        return img\n",
    "    \n",
    "    def __load_rgb(self, img_path):\n",
    "        img = cv2.imread(img_path)\n",
    "        img = cv2.cvtColor(img, cv2.COLOR_BGR2RGB)\n",
    "        img = img.astype(np.float32) / 255.\n",
    "\n",
    "        return img"
   ]
  },
  {
   "cell_type": "code",
   "execution_count": 12,
   "metadata": {
    "_cell_guid": "b1076dfc-b9ad-4769-8c92-a6c4dae69d19",
    "_uuid": "8f2839f25d086af736a60e9eeb907d3b93b6e0e5",
    "execution": {
     "iopub.execute_input": "2021-04-13T13:52:00.321654Z",
     "iopub.status.busy": "2021-04-13T13:52:00.320379Z",
     "iopub.status.idle": "2021-04-13T13:52:00.324109Z",
     "shell.execute_reply": "2021-04-13T13:52:00.323692Z"
    },
    "papermill": {
     "duration": 0.027044,
     "end_time": "2021-04-13T13:52:00.324208",
     "exception": false,
     "start_time": "2021-04-13T13:52:00.297164",
     "status": "completed"
    },
    "tags": []
   },
   "outputs": [],
   "source": [
    "BATCH_SIZE = 16\n",
    "\n",
    "train_idx, val_idx = train_test_split(\n",
    "    mask_count_df.index, \n",
    "    random_state=2021, \n",
    "    test_size=0.2\n",
    ")\n",
    "\n",
    "train_generator = DataGenerator(\n",
    "    train_idx, \n",
    "    df=mask_count_df,\n",
    "    target_df=train_df,\n",
    "    batch_size=BATCH_SIZE, \n",
    "    n_classes=4,\n",
    "    aug=aug \n",
    ")\n",
    "\n",
    "val_generator = DataGenerator(\n",
    "    val_idx, \n",
    "    df=mask_count_df,\n",
    "    target_df=train_df,\n",
    "    batch_size=BATCH_SIZE, \n",
    "    n_classes=4\n",
    ")"
   ]
  },
  {
   "cell_type": "markdown",
   "metadata": {
    "_cell_guid": "b1076dfc-b9ad-4769-8c92-a6c4dae69d19",
    "_uuid": "8f2839f25d086af736a60e9eeb907d3b93b6e0e5",
    "papermill": {
     "duration": 0.017852,
     "end_time": "2021-04-13T13:52:00.359629",
     "exception": false,
     "start_time": "2021-04-13T13:52:00.341777",
     "status": "completed"
    },
    "tags": []
   },
   "source": [
    "## Model"
   ]
  },
  {
   "cell_type": "code",
   "execution_count": 13,
   "metadata": {
    "_cell_guid": "b1076dfc-b9ad-4769-8c92-a6c4dae69d19",
    "_uuid": "8f2839f25d086af736a60e9eeb907d3b93b6e0e5",
    "execution": {
     "iopub.execute_input": "2021-04-13T13:52:00.399975Z",
     "iopub.status.busy": "2021-04-13T13:52:00.399268Z",
     "iopub.status.idle": "2021-04-13T13:52:00.401930Z",
     "shell.execute_reply": "2021-04-13T13:52:00.401348Z"
    },
    "papermill": {
     "duration": 0.024876,
     "end_time": "2021-04-13T13:52:00.402040",
     "exception": false,
     "start_time": "2021-04-13T13:52:00.377164",
     "status": "completed"
    },
    "tags": []
   },
   "outputs": [],
   "source": [
    "def dice_coef(y_true, y_pred, smooth=1):\n",
    "    y_true_f = K.flatten(y_true)\n",
    "    y_pred_f = K.flatten(y_pred)\n",
    "    intersection = K.sum(y_true_f * y_pred_f)\n",
    "    return (2. * intersection + smooth) / (K.sum(y_true_f) + K.sum(y_pred_f) + smooth)"
   ]
  },
  {
   "cell_type": "code",
   "execution_count": 14,
   "metadata": {
    "_cell_guid": "b1076dfc-b9ad-4769-8c92-a6c4dae69d19",
    "_uuid": "8f2839f25d086af736a60e9eeb907d3b93b6e0e5",
    "execution": {
     "iopub.execute_input": "2021-04-13T13:52:00.450888Z",
     "iopub.status.busy": "2021-04-13T13:52:00.445680Z",
     "iopub.status.idle": "2021-04-13T13:52:00.460177Z",
     "shell.execute_reply": "2021-04-13T13:52:00.459778Z"
    },
    "papermill": {
     "duration": 0.04008,
     "end_time": "2021-04-13T13:52:00.460279",
     "exception": false,
     "start_time": "2021-04-13T13:52:00.420199",
     "status": "completed"
    },
    "tags": []
   },
   "outputs": [],
   "source": [
    "def build_model(input_shape):\n",
    "    inputs = Input(input_shape)\n",
    "\n",
    "    c1 = Conv2D(8, (3, 3), activation='relu', padding='same') (inputs)\n",
    "    c1 = Conv2D(8, (3, 3), activation='relu', padding='same') (c1)\n",
    "    p1 = MaxPooling2D((2, 2)) (c1)\n",
    "\n",
    "    c2 = Conv2D(16, (3, 3), activation='relu', padding='same') (p1)\n",
    "    c2 = Conv2D(16, (3, 3), activation='relu', padding='same') (c2)\n",
    "    p2 = MaxPooling2D((2, 2)) (c2)\n",
    "\n",
    "    c3 = Conv2D(32, (3, 3), activation='relu', padding='same') (p2)\n",
    "    c3 = Conv2D(32, (3, 3), activation='relu', padding='same') (c3)\n",
    "    p3 = MaxPooling2D((2, 2)) (c3)\n",
    "\n",
    "    c4 = Conv2D(64, (3, 3), activation='relu', padding='same') (p3)\n",
    "    c4 = Conv2D(64, (3, 3), activation='relu', padding='same') (c4)\n",
    "    p4 = MaxPooling2D(pool_size=(2, 2)) (c4)\n",
    "\n",
    "    c5 = Conv2D(64, (3, 3), activation='relu', padding='same') (p4)\n",
    "    c5 = Conv2D(64, (3, 3), activation='relu', padding='same') (c5)\n",
    "    p5 = MaxPooling2D(pool_size=(2, 2)) (c5)\n",
    "\n",
    "    c55 = Conv2D(128, (3, 3), activation='relu', padding='same') (p5)\n",
    "    c55 = Conv2D(128, (3, 3), activation='relu', padding='same') (c55)\n",
    "\n",
    "    u6 = Conv2DTranspose(64, (2, 2), strides=(2, 2), padding='same') (c55)\n",
    "    u6 = concatenate([u6, c5])\n",
    "    c6 = Conv2D(64, (3, 3), activation='relu', padding='same') (u6)\n",
    "    c6 = Conv2D(64, (3, 3), activation='relu', padding='same') (c6)\n",
    "\n",
    "    u71 = Conv2DTranspose(32, (2, 2), strides=(2, 2), padding='same') (c6)\n",
    "    u71 = concatenate([u71, c4])\n",
    "    c71 = Conv2D(32, (3, 3), activation='relu', padding='same') (u71)\n",
    "    c61 = Conv2D(32, (3, 3), activation='relu', padding='same') (c71)\n",
    "\n",
    "    u7 = Conv2DTranspose(32, (2, 2), strides=(2, 2), padding='same') (c61)\n",
    "    u7 = concatenate([u7, c3])\n",
    "    c7 = Conv2D(32, (3, 3), activation='relu', padding='same') (u7)\n",
    "    c7 = Conv2D(32, (3, 3), activation='relu', padding='same') (c7)\n",
    "\n",
    "    u8 = Conv2DTranspose(16, (2, 2), strides=(2, 2), padding='same') (c7)\n",
    "    u8 = concatenate([u8, c2])\n",
    "    c8 = Conv2D(16, (3, 3), activation='relu', padding='same') (u8)\n",
    "    c8 = Conv2D(16, (3, 3), activation='relu', padding='same') (c8)\n",
    "\n",
    "    u9 = Conv2DTranspose(8, (2, 2), strides=(2, 2), padding='same') (c8)\n",
    "    u9 = concatenate([u9, c1], axis=3)\n",
    "    c9 = Conv2D(8, (3, 3), activation='relu', padding='same') (u9)\n",
    "    c9 = Conv2D(8, (3, 3), activation='relu', padding='same') (c9)\n",
    "\n",
    "    outputs = Conv2D(4, (1, 1), activation='sigmoid') (c9)\n",
    "\n",
    "    model = Model(inputs=[inputs], outputs=[outputs])\n",
    "    model.compile(optimizer='adam', loss='binary_crossentropy', metrics=[dice_coef])\n",
    "    \n",
    "    return model"
   ]
  },
  {
   "cell_type": "code",
   "execution_count": 15,
   "metadata": {
    "_cell_guid": "b1076dfc-b9ad-4769-8c92-a6c4dae69d19",
    "_uuid": "8f2839f25d086af736a60e9eeb907d3b93b6e0e5",
    "execution": {
     "iopub.execute_input": "2021-04-13T13:52:00.498933Z",
     "iopub.status.busy": "2021-04-13T13:52:00.498310Z",
     "iopub.status.idle": "2021-04-13T13:52:04.282429Z",
     "shell.execute_reply": "2021-04-13T13:52:04.281628Z"
    },
    "papermill": {
     "duration": 3.805,
     "end_time": "2021-04-13T13:52:04.282632",
     "exception": false,
     "start_time": "2021-04-13T13:52:00.477632",
     "status": "completed"
    },
    "tags": []
   },
   "outputs": [
    {
     "name": "stdout",
     "output_type": "stream",
     "text": [
      "Model: \"model\"\n",
      "__________________________________________________________________________________________________\n",
      "Layer (type)                    Output Shape         Param #     Connected to                     \n",
      "==================================================================================================\n",
      "input_1 (InputLayer)            [(None, 256, 1600, 1 0                                            \n",
      "__________________________________________________________________________________________________\n",
      "conv2d (Conv2D)                 (None, 256, 1600, 8) 80          input_1[0][0]                    \n",
      "__________________________________________________________________________________________________\n",
      "conv2d_1 (Conv2D)               (None, 256, 1600, 8) 584         conv2d[0][0]                     \n",
      "__________________________________________________________________________________________________\n",
      "max_pooling2d (MaxPooling2D)    (None, 128, 800, 8)  0           conv2d_1[0][0]                   \n",
      "__________________________________________________________________________________________________\n",
      "conv2d_2 (Conv2D)               (None, 128, 800, 16) 1168        max_pooling2d[0][0]              \n",
      "__________________________________________________________________________________________________\n",
      "conv2d_3 (Conv2D)               (None, 128, 800, 16) 2320        conv2d_2[0][0]                   \n",
      "__________________________________________________________________________________________________\n",
      "max_pooling2d_1 (MaxPooling2D)  (None, 64, 400, 16)  0           conv2d_3[0][0]                   \n",
      "__________________________________________________________________________________________________\n",
      "conv2d_4 (Conv2D)               (None, 64, 400, 32)  4640        max_pooling2d_1[0][0]            \n",
      "__________________________________________________________________________________________________\n",
      "conv2d_5 (Conv2D)               (None, 64, 400, 32)  9248        conv2d_4[0][0]                   \n",
      "__________________________________________________________________________________________________\n",
      "max_pooling2d_2 (MaxPooling2D)  (None, 32, 200, 32)  0           conv2d_5[0][0]                   \n",
      "__________________________________________________________________________________________________\n",
      "conv2d_6 (Conv2D)               (None, 32, 200, 64)  18496       max_pooling2d_2[0][0]            \n",
      "__________________________________________________________________________________________________\n",
      "conv2d_7 (Conv2D)               (None, 32, 200, 64)  36928       conv2d_6[0][0]                   \n",
      "__________________________________________________________________________________________________\n",
      "max_pooling2d_3 (MaxPooling2D)  (None, 16, 100, 64)  0           conv2d_7[0][0]                   \n",
      "__________________________________________________________________________________________________\n",
      "conv2d_8 (Conv2D)               (None, 16, 100, 64)  36928       max_pooling2d_3[0][0]            \n",
      "__________________________________________________________________________________________________\n",
      "conv2d_9 (Conv2D)               (None, 16, 100, 64)  36928       conv2d_8[0][0]                   \n",
      "__________________________________________________________________________________________________\n",
      "max_pooling2d_4 (MaxPooling2D)  (None, 8, 50, 64)    0           conv2d_9[0][0]                   \n",
      "__________________________________________________________________________________________________\n",
      "conv2d_10 (Conv2D)              (None, 8, 50, 128)   73856       max_pooling2d_4[0][0]            \n",
      "__________________________________________________________________________________________________\n",
      "conv2d_11 (Conv2D)              (None, 8, 50, 128)   147584      conv2d_10[0][0]                  \n",
      "__________________________________________________________________________________________________\n",
      "conv2d_transpose (Conv2DTranspo (None, 16, 100, 64)  32832       conv2d_11[0][0]                  \n",
      "__________________________________________________________________________________________________\n",
      "concatenate (Concatenate)       (None, 16, 100, 128) 0           conv2d_transpose[0][0]           \n",
      "                                                                 conv2d_9[0][0]                   \n",
      "__________________________________________________________________________________________________\n",
      "conv2d_12 (Conv2D)              (None, 16, 100, 64)  73792       concatenate[0][0]                \n",
      "__________________________________________________________________________________________________\n",
      "conv2d_13 (Conv2D)              (None, 16, 100, 64)  36928       conv2d_12[0][0]                  \n",
      "__________________________________________________________________________________________________\n",
      "conv2d_transpose_1 (Conv2DTrans (None, 32, 200, 32)  8224        conv2d_13[0][0]                  \n",
      "__________________________________________________________________________________________________\n",
      "concatenate_1 (Concatenate)     (None, 32, 200, 96)  0           conv2d_transpose_1[0][0]         \n",
      "                                                                 conv2d_7[0][0]                   \n",
      "__________________________________________________________________________________________________\n",
      "conv2d_14 (Conv2D)              (None, 32, 200, 32)  27680       concatenate_1[0][0]              \n",
      "__________________________________________________________________________________________________\n",
      "conv2d_15 (Conv2D)              (None, 32, 200, 32)  9248        conv2d_14[0][0]                  \n",
      "__________________________________________________________________________________________________\n",
      "conv2d_transpose_2 (Conv2DTrans (None, 64, 400, 32)  4128        conv2d_15[0][0]                  \n",
      "__________________________________________________________________________________________________\n",
      "concatenate_2 (Concatenate)     (None, 64, 400, 64)  0           conv2d_transpose_2[0][0]         \n",
      "                                                                 conv2d_5[0][0]                   \n",
      "__________________________________________________________________________________________________\n",
      "conv2d_16 (Conv2D)              (None, 64, 400, 32)  18464       concatenate_2[0][0]              \n",
      "__________________________________________________________________________________________________\n",
      "conv2d_17 (Conv2D)              (None, 64, 400, 32)  9248        conv2d_16[0][0]                  \n",
      "__________________________________________________________________________________________________\n",
      "conv2d_transpose_3 (Conv2DTrans (None, 128, 800, 16) 2064        conv2d_17[0][0]                  \n",
      "__________________________________________________________________________________________________\n",
      "concatenate_3 (Concatenate)     (None, 128, 800, 32) 0           conv2d_transpose_3[0][0]         \n",
      "                                                                 conv2d_3[0][0]                   \n",
      "__________________________________________________________________________________________________\n",
      "conv2d_18 (Conv2D)              (None, 128, 800, 16) 4624        concatenate_3[0][0]              \n",
      "__________________________________________________________________________________________________\n",
      "conv2d_19 (Conv2D)              (None, 128, 800, 16) 2320        conv2d_18[0][0]                  \n",
      "__________________________________________________________________________________________________\n",
      "conv2d_transpose_4 (Conv2DTrans (None, 256, 1600, 8) 520         conv2d_19[0][0]                  \n",
      "__________________________________________________________________________________________________\n",
      "concatenate_4 (Concatenate)     (None, 256, 1600, 16 0           conv2d_transpose_4[0][0]         \n",
      "                                                                 conv2d_1[0][0]                   \n",
      "__________________________________________________________________________________________________\n",
      "conv2d_20 (Conv2D)              (None, 256, 1600, 8) 1160        concatenate_4[0][0]              \n",
      "__________________________________________________________________________________________________\n",
      "conv2d_21 (Conv2D)              (None, 256, 1600, 8) 584         conv2d_20[0][0]                  \n",
      "__________________________________________________________________________________________________\n",
      "conv2d_22 (Conv2D)              (None, 256, 1600, 4) 36          conv2d_21[0][0]                  \n",
      "==================================================================================================\n",
      "Total params: 600,612\n",
      "Trainable params: 600,612\n",
      "Non-trainable params: 0\n",
      "__________________________________________________________________________________________________\n"
     ]
    }
   ],
   "source": [
    "model = build_model((256, 1600, 1))\n",
    "model.summary()"
   ]
  },
  {
   "cell_type": "code",
   "execution_count": 16,
   "metadata": {
    "_cell_guid": "b1076dfc-b9ad-4769-8c92-a6c4dae69d19",
    "_uuid": "8f2839f25d086af736a60e9eeb907d3b93b6e0e5",
    "execution": {
     "iopub.execute_input": "2021-04-13T13:52:04.326258Z",
     "iopub.status.busy": "2021-04-13T13:52:04.325660Z",
     "iopub.status.idle": "2021-04-13T22:35:25.269960Z",
     "shell.execute_reply": "2021-04-13T22:35:25.269280Z"
    },
    "papermill": {
     "duration": 31400.967623,
     "end_time": "2021-04-13T22:35:25.270143",
     "exception": false,
     "start_time": "2021-04-13T13:52:04.302520",
     "status": "completed"
    },
    "tags": []
   },
   "outputs": [
    {
     "name": "stdout",
     "output_type": "stream",
     "text": [
      "Epoch 1/100\n",
      "333/333 - 306s - loss: 0.1209 - dice_coef: 0.0519 - val_loss: 0.0581 - val_dice_coef: 0.0831\n",
      "\n",
      "Epoch 00001: val_dice_coef improved from -inf to 0.08308, saving model to model.h5\n",
      "Epoch 2/100\n",
      "333/333 - 261s - loss: 0.0532 - dice_coef: 0.1217 - val_loss: 0.0485 - val_dice_coef: 0.1682\n",
      "\n",
      "Epoch 00002: val_dice_coef improved from 0.08308 to 0.16815, saving model to model.h5\n",
      "Epoch 3/100\n",
      "333/333 - 261s - loss: 0.0429 - dice_coef: 0.2597 - val_loss: 0.0405 - val_dice_coef: 0.2910\n",
      "\n",
      "Epoch 00003: val_dice_coef improved from 0.16815 to 0.29103, saving model to model.h5\n",
      "Epoch 4/100\n",
      "333/333 - 262s - loss: 0.0403 - dice_coef: 0.3041 - val_loss: 0.0376 - val_dice_coef: 0.3244\n",
      "\n",
      "Epoch 00004: val_dice_coef improved from 0.29103 to 0.32438, saving model to model.h5\n",
      "Epoch 5/100\n",
      "333/333 - 262s - loss: 0.0382 - dice_coef: 0.3343 - val_loss: 0.0365 - val_dice_coef: 0.3511\n",
      "\n",
      "Epoch 00005: val_dice_coef improved from 0.32438 to 0.35115, saving model to model.h5\n",
      "Epoch 6/100\n",
      "333/333 - 261s - loss: 0.0376 - dice_coef: 0.3467 - val_loss: 0.0378 - val_dice_coef: 0.3311\n",
      "\n",
      "Epoch 00006: val_dice_coef did not improve from 0.35115\n",
      "Epoch 7/100\n",
      "333/333 - 262s - loss: 0.0368 - dice_coef: 0.3566 - val_loss: 0.0357 - val_dice_coef: 0.4150\n",
      "\n",
      "Epoch 00007: val_dice_coef improved from 0.35115 to 0.41499, saving model to model.h5\n",
      "Epoch 8/100\n",
      "333/333 - 260s - loss: 0.0368 - dice_coef: 0.3639 - val_loss: 0.0361 - val_dice_coef: 0.3191\n",
      "\n",
      "Epoch 00008: val_dice_coef did not improve from 0.41499\n",
      "Epoch 9/100\n",
      "333/333 - 262s - loss: 0.0356 - dice_coef: 0.3726 - val_loss: 0.0343 - val_dice_coef: 0.3550\n",
      "\n",
      "Epoch 00009: val_dice_coef did not improve from 0.41499\n",
      "Epoch 10/100\n",
      "333/333 - 262s - loss: 0.0347 - dice_coef: 0.3871 - val_loss: 0.0370 - val_dice_coef: 0.4203\n",
      "\n",
      "Epoch 00010: val_dice_coef improved from 0.41499 to 0.42025, saving model to model.h5\n",
      "Epoch 11/100\n",
      "333/333 - 261s - loss: 0.0346 - dice_coef: 0.3911 - val_loss: 0.0337 - val_dice_coef: 0.4120\n",
      "\n",
      "Epoch 00011: val_dice_coef did not improve from 0.42025\n",
      "Epoch 12/100\n",
      "333/333 - 261s - loss: 0.0340 - dice_coef: 0.3968 - val_loss: 0.0335 - val_dice_coef: 0.3902\n",
      "\n",
      "Epoch 00012: val_dice_coef did not improve from 0.42025\n",
      "Epoch 13/100\n",
      "333/333 - 272s - loss: 0.0333 - dice_coef: 0.4029 - val_loss: 0.0335 - val_dice_coef: 0.3691\n",
      "\n",
      "Epoch 00013: val_dice_coef did not improve from 0.42025\n",
      "Epoch 14/100\n",
      "333/333 - 303s - loss: 0.0330 - dice_coef: 0.4080 - val_loss: 0.0314 - val_dice_coef: 0.3792\n",
      "\n",
      "Epoch 00014: val_dice_coef did not improve from 0.42025\n",
      "Epoch 15/100\n",
      "333/333 - 303s - loss: 0.0326 - dice_coef: 0.4133 - val_loss: 0.0315 - val_dice_coef: 0.4604\n",
      "\n",
      "Epoch 00015: val_dice_coef improved from 0.42025 to 0.46040, saving model to model.h5\n",
      "Epoch 16/100\n",
      "333/333 - 302s - loss: 0.0316 - dice_coef: 0.4233 - val_loss: 0.0297 - val_dice_coef: 0.4382\n",
      "\n",
      "Epoch 00016: val_dice_coef did not improve from 0.46040\n",
      "Epoch 17/100\n",
      "333/333 - 300s - loss: 0.0316 - dice_coef: 0.4281 - val_loss: 0.0318 - val_dice_coef: 0.4205\n",
      "\n",
      "Epoch 00017: val_dice_coef did not improve from 0.46040\n",
      "Epoch 18/100\n",
      "333/333 - 302s - loss: 0.0310 - dice_coef: 0.4344 - val_loss: 0.0289 - val_dice_coef: 0.4452\n",
      "\n",
      "Epoch 00018: val_dice_coef did not improve from 0.46040\n",
      "Epoch 19/100\n",
      "333/333 - 301s - loss: 0.0308 - dice_coef: 0.4469 - val_loss: 0.0291 - val_dice_coef: 0.4924\n",
      "\n",
      "Epoch 00019: val_dice_coef improved from 0.46040 to 0.49241, saving model to model.h5\n",
      "Epoch 20/100\n",
      "333/333 - 304s - loss: 0.0300 - dice_coef: 0.4549 - val_loss: 0.0284 - val_dice_coef: 0.4721\n",
      "\n",
      "Epoch 00020: val_dice_coef did not improve from 0.49241\n",
      "Epoch 21/100\n",
      "333/333 - 302s - loss: 0.0292 - dice_coef: 0.4701 - val_loss: 0.0276 - val_dice_coef: 0.4599\n",
      "\n",
      "Epoch 00021: val_dice_coef did not improve from 0.49241\n",
      "Epoch 22/100\n",
      "333/333 - 300s - loss: 0.0286 - dice_coef: 0.4787 - val_loss: 0.0345 - val_dice_coef: 0.4336\n",
      "\n",
      "Epoch 00022: val_dice_coef did not improve from 0.49241\n",
      "Epoch 23/100\n",
      "333/333 - 306s - loss: 0.0292 - dice_coef: 0.4672 - val_loss: 0.0272 - val_dice_coef: 0.5146\n",
      "\n",
      "Epoch 00023: val_dice_coef improved from 0.49241 to 0.51461, saving model to model.h5\n",
      "Epoch 24/100\n",
      "333/333 - 308s - loss: 0.0283 - dice_coef: 0.4849 - val_loss: 0.0268 - val_dice_coef: 0.5066\n",
      "\n",
      "Epoch 00024: val_dice_coef did not improve from 0.51461\n",
      "Epoch 25/100\n",
      "333/333 - 310s - loss: 0.0283 - dice_coef: 0.4849 - val_loss: 0.0261 - val_dice_coef: 0.5137\n",
      "\n",
      "Epoch 00025: val_dice_coef did not improve from 0.51461\n",
      "Epoch 26/100\n",
      "333/333 - 308s - loss: 0.0275 - dice_coef: 0.4960 - val_loss: 0.0255 - val_dice_coef: 0.5144\n",
      "\n",
      "Epoch 00026: val_dice_coef did not improve from 0.51461\n",
      "Epoch 27/100\n",
      "333/333 - 310s - loss: 0.0271 - dice_coef: 0.5000 - val_loss: 0.0263 - val_dice_coef: 0.5024\n",
      "\n",
      "Epoch 00027: val_dice_coef did not improve from 0.51461\n",
      "Epoch 28/100\n",
      "333/333 - 310s - loss: 0.0274 - dice_coef: 0.4992 - val_loss: 0.0248 - val_dice_coef: 0.5410\n",
      "\n",
      "Epoch 00028: val_dice_coef improved from 0.51461 to 0.54098, saving model to model.h5\n",
      "Epoch 29/100\n",
      "333/333 - 313s - loss: 0.0265 - dice_coef: 0.5113 - val_loss: 0.0254 - val_dice_coef: 0.5254\n",
      "\n",
      "Epoch 00029: val_dice_coef did not improve from 0.54098\n",
      "Epoch 30/100\n",
      "333/333 - 311s - loss: 0.0260 - dice_coef: 0.5169 - val_loss: 0.0246 - val_dice_coef: 0.5620\n",
      "\n",
      "Epoch 00030: val_dice_coef improved from 0.54098 to 0.56197, saving model to model.h5\n",
      "Epoch 31/100\n",
      "333/333 - 311s - loss: 0.0262 - dice_coef: 0.5148 - val_loss: 0.0259 - val_dice_coef: 0.5239\n",
      "\n",
      "Epoch 00031: val_dice_coef did not improve from 0.56197\n",
      "Epoch 32/100\n",
      "333/333 - 311s - loss: 0.0258 - dice_coef: 0.5204 - val_loss: 0.0262 - val_dice_coef: 0.5279\n",
      "\n",
      "Epoch 00032: val_dice_coef did not improve from 0.56197\n",
      "Epoch 33/100\n",
      "333/333 - 314s - loss: 0.0262 - dice_coef: 0.5194 - val_loss: 0.0247 - val_dice_coef: 0.5632\n",
      "\n",
      "Epoch 00033: val_dice_coef improved from 0.56197 to 0.56317, saving model to model.h5\n",
      "Epoch 34/100\n",
      "333/333 - 309s - loss: 0.0256 - dice_coef: 0.5258 - val_loss: 0.0247 - val_dice_coef: 0.4940\n",
      "\n",
      "Epoch 00034: val_dice_coef did not improve from 0.56317\n",
      "Epoch 35/100\n",
      "333/333 - 309s - loss: 0.0249 - dice_coef: 0.5364 - val_loss: 0.0247 - val_dice_coef: 0.5686\n",
      "\n",
      "Epoch 00035: val_dice_coef improved from 0.56317 to 0.56861, saving model to model.h5\n",
      "Epoch 36/100\n",
      "333/333 - 309s - loss: 0.0251 - dice_coef: 0.5320 - val_loss: 0.0247 - val_dice_coef: 0.5190\n",
      "\n",
      "Epoch 00036: val_dice_coef did not improve from 0.56861\n",
      "Epoch 37/100\n",
      "333/333 - 310s - loss: 0.0249 - dice_coef: 0.5376 - val_loss: 0.0241 - val_dice_coef: 0.5206\n",
      "\n",
      "Epoch 00037: val_dice_coef did not improve from 0.56861\n",
      "Epoch 38/100\n",
      "333/333 - 309s - loss: 0.0247 - dice_coef: 0.5373 - val_loss: 0.0254 - val_dice_coef: 0.5183\n",
      "\n",
      "Epoch 00038: val_dice_coef did not improve from 0.56861\n",
      "Epoch 39/100\n",
      "333/333 - 306s - loss: 0.0246 - dice_coef: 0.5396 - val_loss: 0.0260 - val_dice_coef: 0.5284\n",
      "\n",
      "Epoch 00039: val_dice_coef did not improve from 0.56861\n",
      "Epoch 40/100\n",
      "333/333 - 306s - loss: 0.0247 - dice_coef: 0.5385 - val_loss: 0.0235 - val_dice_coef: 0.5484\n",
      "\n",
      "Epoch 00040: val_dice_coef did not improve from 0.56861\n",
      "Epoch 41/100\n",
      "333/333 - 305s - loss: 0.0243 - dice_coef: 0.5443 - val_loss: 0.0256 - val_dice_coef: 0.5248\n",
      "\n",
      "Epoch 00041: val_dice_coef did not improve from 0.56861\n",
      "Epoch 42/100\n",
      "333/333 - 307s - loss: 0.0235 - dice_coef: 0.5560 - val_loss: 0.0227 - val_dice_coef: 0.5715\n",
      "\n",
      "Epoch 00042: val_dice_coef improved from 0.56861 to 0.57152, saving model to model.h5\n",
      "Epoch 43/100\n",
      "333/333 - 311s - loss: 0.0237 - dice_coef: 0.5552 - val_loss: 0.0240 - val_dice_coef: 0.5606\n",
      "\n",
      "Epoch 00043: val_dice_coef did not improve from 0.57152\n",
      "Epoch 44/100\n",
      "333/333 - 309s - loss: 0.0244 - dice_coef: 0.5437 - val_loss: 0.0242 - val_dice_coef: 0.5861\n",
      "\n",
      "Epoch 00044: val_dice_coef improved from 0.57152 to 0.58608, saving model to model.h5\n",
      "Epoch 45/100\n",
      "333/333 - 307s - loss: 0.0240 - dice_coef: 0.5480 - val_loss: 0.0236 - val_dice_coef: 0.5640\n",
      "\n",
      "Epoch 00045: val_dice_coef did not improve from 0.58608\n",
      "Epoch 46/100\n",
      "333/333 - 311s - loss: 0.0236 - dice_coef: 0.5538 - val_loss: 0.0231 - val_dice_coef: 0.5588\n",
      "\n",
      "Epoch 00046: val_dice_coef did not improve from 0.58608\n",
      "Epoch 47/100\n",
      "333/333 - 309s - loss: 0.0237 - dice_coef: 0.5539 - val_loss: 0.0235 - val_dice_coef: 0.5752\n",
      "\n",
      "Epoch 00047: val_dice_coef did not improve from 0.58608\n",
      "Epoch 48/100\n",
      "333/333 - 309s - loss: 0.0229 - dice_coef: 0.5656 - val_loss: 0.0227 - val_dice_coef: 0.5531\n",
      "\n",
      "Epoch 00048: val_dice_coef did not improve from 0.58608\n",
      "Epoch 49/100\n",
      "333/333 - 306s - loss: 0.0232 - dice_coef: 0.5630 - val_loss: 0.0228 - val_dice_coef: 0.5699\n",
      "\n",
      "Epoch 00049: val_dice_coef did not improve from 0.58608\n",
      "Epoch 50/100\n",
      "333/333 - 301s - loss: 0.0229 - dice_coef: 0.5655 - val_loss: 0.0222 - val_dice_coef: 0.5836\n",
      "\n",
      "Epoch 00050: val_dice_coef did not improve from 0.58608\n",
      "Epoch 51/100\n",
      "333/333 - 303s - loss: 0.0227 - dice_coef: 0.5696 - val_loss: 0.0225 - val_dice_coef: 0.5950\n",
      "\n",
      "Epoch 00051: val_dice_coef improved from 0.58608 to 0.59500, saving model to model.h5\n",
      "Epoch 52/100\n",
      "333/333 - 299s - loss: 0.0226 - dice_coef: 0.5733 - val_loss: 0.0230 - val_dice_coef: 0.5643\n",
      "\n",
      "Epoch 00052: val_dice_coef did not improve from 0.59500\n",
      "Epoch 53/100\n",
      "333/333 - 301s - loss: 0.0230 - dice_coef: 0.5635 - val_loss: 0.0266 - val_dice_coef: 0.5150\n",
      "\n",
      "Epoch 00053: val_dice_coef did not improve from 0.59500\n",
      "Epoch 54/100\n",
      "333/333 - 300s - loss: 0.0226 - dice_coef: 0.5712 - val_loss: 0.0225 - val_dice_coef: 0.5855\n",
      "\n",
      "Epoch 00054: val_dice_coef did not improve from 0.59500\n",
      "Epoch 55/100\n",
      "333/333 - 311s - loss: 0.0226 - dice_coef: 0.5718 - val_loss: 0.0246 - val_dice_coef: 0.5414\n",
      "\n",
      "Epoch 00055: val_dice_coef did not improve from 0.59500\n",
      "Epoch 56/100\n",
      "333/333 - 312s - loss: 0.0227 - dice_coef: 0.5683 - val_loss: 0.0230 - val_dice_coef: 0.5727\n",
      "\n",
      "Epoch 00056: val_dice_coef did not improve from 0.59500\n",
      "Epoch 57/100\n",
      "333/333 - 312s - loss: 0.0224 - dice_coef: 0.5770 - val_loss: 0.0218 - val_dice_coef: 0.5613\n",
      "\n",
      "Epoch 00057: val_dice_coef did not improve from 0.59500\n",
      "Epoch 58/100\n",
      "333/333 - 311s - loss: 0.0220 - dice_coef: 0.5830 - val_loss: 0.0234 - val_dice_coef: 0.5440\n",
      "\n",
      "Epoch 00058: val_dice_coef did not improve from 0.59500\n",
      "Epoch 59/100\n",
      "333/333 - 313s - loss: 0.0221 - dice_coef: 0.5801 - val_loss: 0.0219 - val_dice_coef: 0.5905\n",
      "\n",
      "Epoch 00059: val_dice_coef did not improve from 0.59500\n",
      "Epoch 60/100\n",
      "333/333 - 320s - loss: 0.0221 - dice_coef: 0.5814 - val_loss: 0.0224 - val_dice_coef: 0.6048\n",
      "\n",
      "Epoch 00060: val_dice_coef improved from 0.59500 to 0.60478, saving model to model.h5\n",
      "Epoch 61/100\n",
      "333/333 - 317s - loss: 0.0219 - dice_coef: 0.5830 - val_loss: 0.0240 - val_dice_coef: 0.5825\n",
      "\n",
      "Epoch 00061: val_dice_coef did not improve from 0.60478\n",
      "Epoch 62/100\n",
      "333/333 - 307s - loss: 0.0217 - dice_coef: 0.5854 - val_loss: 0.0221 - val_dice_coef: 0.5682\n",
      "\n",
      "Epoch 00062: val_dice_coef did not improve from 0.60478\n",
      "Epoch 63/100\n",
      "333/333 - 308s - loss: 0.0223 - dice_coef: 0.5804 - val_loss: 0.0213 - val_dice_coef: 0.5955\n",
      "\n",
      "Epoch 00063: val_dice_coef did not improve from 0.60478\n",
      "Epoch 64/100\n",
      "333/333 - 313s - loss: 0.0217 - dice_coef: 0.5845 - val_loss: 0.0217 - val_dice_coef: 0.5872\n",
      "\n",
      "Epoch 00064: val_dice_coef did not improve from 0.60478\n",
      "Epoch 65/100\n",
      "333/333 - 310s - loss: 0.0221 - dice_coef: 0.5804 - val_loss: 0.0223 - val_dice_coef: 0.5906\n",
      "\n",
      "Epoch 00065: val_dice_coef did not improve from 0.60478\n",
      "Epoch 66/100\n",
      "333/333 - 320s - loss: 0.0215 - dice_coef: 0.5870 - val_loss: 0.0226 - val_dice_coef: 0.5917\n",
      "\n",
      "Epoch 00066: val_dice_coef did not improve from 0.60478\n",
      "Epoch 67/100\n",
      "333/333 - 320s - loss: 0.0216 - dice_coef: 0.5888 - val_loss: 0.0218 - val_dice_coef: 0.6208\n",
      "\n",
      "Epoch 00067: val_dice_coef improved from 0.60478 to 0.62085, saving model to model.h5\n",
      "Epoch 68/100\n",
      "333/333 - 330s - loss: 0.0215 - dice_coef: 0.5897 - val_loss: 0.0249 - val_dice_coef: 0.5600\n",
      "\n",
      "Epoch 00068: val_dice_coef did not improve from 0.62085\n",
      "Epoch 69/100\n",
      "333/333 - 336s - loss: 0.0216 - dice_coef: 0.5877 - val_loss: 0.0218 - val_dice_coef: 0.6025\n",
      "\n",
      "Epoch 00069: val_dice_coef did not improve from 0.62085\n",
      "Epoch 70/100\n",
      "333/333 - 341s - loss: 0.0221 - dice_coef: 0.5786 - val_loss: 0.0239 - val_dice_coef: 0.5925\n",
      "\n",
      "Epoch 00070: val_dice_coef did not improve from 0.62085\n",
      "Epoch 71/100\n",
      "333/333 - 337s - loss: 0.0210 - dice_coef: 0.5969 - val_loss: 0.0221 - val_dice_coef: 0.5894\n",
      "\n",
      "Epoch 00071: val_dice_coef did not improve from 0.62085\n",
      "Epoch 72/100\n",
      "333/333 - 332s - loss: 0.0212 - dice_coef: 0.5946 - val_loss: 0.0213 - val_dice_coef: 0.5934\n",
      "\n",
      "Epoch 00072: val_dice_coef did not improve from 0.62085\n",
      "Epoch 73/100\n",
      "333/333 - 339s - loss: 0.0205 - dice_coef: 0.6035 - val_loss: 0.0215 - val_dice_coef: 0.6054\n",
      "\n",
      "Epoch 00073: val_dice_coef did not improve from 0.62085\n",
      "Epoch 74/100\n",
      "333/333 - 326s - loss: 0.0210 - dice_coef: 0.6006 - val_loss: 0.0223 - val_dice_coef: 0.6110\n",
      "\n",
      "Epoch 00074: val_dice_coef did not improve from 0.62085\n",
      "Epoch 75/100\n",
      "333/333 - 316s - loss: 0.0206 - dice_coef: 0.6028 - val_loss: 0.0215 - val_dice_coef: 0.6114\n",
      "\n",
      "Epoch 00075: val_dice_coef did not improve from 0.62085\n",
      "Epoch 76/100\n",
      "333/333 - 319s - loss: 0.0207 - dice_coef: 0.6024 - val_loss: 0.0213 - val_dice_coef: 0.6080\n",
      "\n",
      "Epoch 00076: val_dice_coef did not improve from 0.62085\n",
      "Epoch 77/100\n",
      "333/333 - 326s - loss: 0.0209 - dice_coef: 0.5999 - val_loss: 0.0215 - val_dice_coef: 0.6171\n",
      "\n",
      "Epoch 00077: val_dice_coef did not improve from 0.62085\n",
      "Epoch 78/100\n",
      "333/333 - 333s - loss: 0.0205 - dice_coef: 0.6068 - val_loss: 0.0214 - val_dice_coef: 0.6202\n",
      "\n",
      "Epoch 00078: val_dice_coef did not improve from 0.62085\n",
      "Epoch 79/100\n",
      "333/333 - 328s - loss: 0.0203 - dice_coef: 0.6091 - val_loss: 0.0215 - val_dice_coef: 0.6085\n",
      "\n",
      "Epoch 00079: val_dice_coef did not improve from 0.62085\n",
      "Epoch 80/100\n",
      "333/333 - 331s - loss: 0.0206 - dice_coef: 0.6043 - val_loss: 0.0223 - val_dice_coef: 0.6134\n",
      "\n",
      "Epoch 00080: val_dice_coef did not improve from 0.62085\n",
      "Epoch 81/100\n",
      "333/333 - 328s - loss: 0.0206 - dice_coef: 0.6067 - val_loss: 0.0234 - val_dice_coef: 0.5851\n",
      "\n",
      "Epoch 00081: val_dice_coef did not improve from 0.62085\n",
      "Epoch 82/100\n",
      "333/333 - 329s - loss: 0.0207 - dice_coef: 0.6014 - val_loss: 0.0223 - val_dice_coef: 0.5998\n",
      "\n",
      "Epoch 00082: val_dice_coef did not improve from 0.62085\n",
      "Epoch 83/100\n",
      "333/333 - 330s - loss: 0.0213 - dice_coef: 0.5962 - val_loss: 0.0223 - val_dice_coef: 0.5938\n",
      "\n",
      "Epoch 00083: val_dice_coef did not improve from 0.62085\n",
      "Epoch 84/100\n",
      "333/333 - 336s - loss: 0.0209 - dice_coef: 0.6003 - val_loss: 0.0221 - val_dice_coef: 0.5959\n",
      "\n",
      "Epoch 00084: val_dice_coef did not improve from 0.62085\n",
      "Epoch 85/100\n",
      "333/333 - 353s - loss: 0.0201 - dice_coef: 0.6109 - val_loss: 0.0222 - val_dice_coef: 0.6015\n",
      "\n",
      "Epoch 00085: val_dice_coef did not improve from 0.62085\n",
      "Epoch 86/100\n",
      "333/333 - 372s - loss: 0.0207 - dice_coef: 0.6011 - val_loss: 0.0218 - val_dice_coef: 0.5816\n",
      "\n",
      "Epoch 00086: val_dice_coef did not improve from 0.62085\n",
      "Epoch 87/100\n",
      "333/333 - 377s - loss: 0.0200 - dice_coef: 0.6146 - val_loss: 0.0212 - val_dice_coef: 0.6040\n",
      "\n",
      "Epoch 00087: val_dice_coef did not improve from 0.62085\n",
      "Epoch 88/100\n",
      "333/333 - 378s - loss: 0.0205 - dice_coef: 0.6035 - val_loss: 0.0227 - val_dice_coef: 0.6303\n",
      "\n",
      "Epoch 00088: val_dice_coef improved from 0.62085 to 0.63025, saving model to model.h5\n",
      "Epoch 89/100\n",
      "333/333 - 351s - loss: 0.0203 - dice_coef: 0.6102 - val_loss: 0.0222 - val_dice_coef: 0.6001\n",
      "\n",
      "Epoch 00089: val_dice_coef did not improve from 0.63025\n",
      "Epoch 90/100\n",
      "333/333 - 351s - loss: 0.0199 - dice_coef: 0.6155 - val_loss: 0.0225 - val_dice_coef: 0.6132\n",
      "\n",
      "Epoch 00090: val_dice_coef did not improve from 0.63025\n",
      "Epoch 91/100\n",
      "333/333 - 351s - loss: 0.0202 - dice_coef: 0.6121 - val_loss: 0.0222 - val_dice_coef: 0.5793\n",
      "\n",
      "Epoch 00091: val_dice_coef did not improve from 0.63025\n",
      "Epoch 92/100\n",
      "333/333 - 352s - loss: 0.0200 - dice_coef: 0.6123 - val_loss: 0.0213 - val_dice_coef: 0.6072\n",
      "\n",
      "Epoch 00092: val_dice_coef did not improve from 0.63025\n",
      "Epoch 93/100\n",
      "333/333 - 350s - loss: 0.0195 - dice_coef: 0.6204 - val_loss: 0.0219 - val_dice_coef: 0.5966\n",
      "\n",
      "Epoch 00093: val_dice_coef did not improve from 0.63025\n",
      "Epoch 94/100\n",
      "333/333 - 354s - loss: 0.0203 - dice_coef: 0.6080 - val_loss: 0.0227 - val_dice_coef: 0.6197\n",
      "\n",
      "Epoch 00094: val_dice_coef did not improve from 0.63025\n",
      "Epoch 95/100\n",
      "333/333 - 353s - loss: 0.0198 - dice_coef: 0.6159 - val_loss: 0.0217 - val_dice_coef: 0.6051\n",
      "\n",
      "Epoch 00095: val_dice_coef did not improve from 0.63025\n",
      "Epoch 96/100\n",
      "333/333 - 352s - loss: 0.0205 - dice_coef: 0.6099 - val_loss: 0.0217 - val_dice_coef: 0.6126\n",
      "\n",
      "Epoch 00096: val_dice_coef did not improve from 0.63025\n",
      "Epoch 97/100\n",
      "333/333 - 352s - loss: 0.0201 - dice_coef: 0.6130 - val_loss: 0.0210 - val_dice_coef: 0.6252\n",
      "\n",
      "Epoch 00097: val_dice_coef did not improve from 0.63025\n",
      "Epoch 98/100\n",
      "333/333 - 348s - loss: 0.0203 - dice_coef: 0.6100 - val_loss: 0.0236 - val_dice_coef: 0.6052\n",
      "\n",
      "Epoch 00098: val_dice_coef did not improve from 0.63025\n",
      "Epoch 99/100\n",
      "333/333 - 346s - loss: 0.0197 - dice_coef: 0.6174 - val_loss: 0.0214 - val_dice_coef: 0.6139\n",
      "\n",
      "Epoch 00099: val_dice_coef did not improve from 0.63025\n",
      "Epoch 100/100\n",
      "333/333 - 343s - loss: 0.0195 - dice_coef: 0.6216 - val_loss: 0.0215 - val_dice_coef: 0.6148\n",
      "\n",
      "Epoch 00100: val_dice_coef did not improve from 0.63025\n"
     ]
    }
   ],
   "source": [
    "mc = ModelCheckpoint(\n",
    "    'model.h5', \n",
    "    monitor='val_dice_coef', \n",
    "    verbose=1, \n",
    "    save_best_only=True, \n",
    "    save_weights_only=False,\n",
    "    mode='max'\n",
    ")\n",
    "\n",
    "es = EarlyStopping(monitor='val_loss', mode='min', verbose=2, patience=30)\n",
    "\n",
    "history = model.fit(\n",
    "    train_generator,\n",
    "    validation_data=val_generator,\n",
    "    callbacks=[mc,es],\n",
    "    verbose=2, \n",
    "    epochs=100\n",
    ")"
   ]
  },
  {
   "cell_type": "markdown",
   "metadata": {
    "_cell_guid": "b1076dfc-b9ad-4769-8c92-a6c4dae69d19",
    "_uuid": "8f2839f25d086af736a60e9eeb907d3b93b6e0e5",
    "papermill": {
     "duration": 0.085829,
     "end_time": "2021-04-13T22:35:25.539737",
     "exception": false,
     "start_time": "2021-04-13T22:35:25.453908",
     "status": "completed"
    },
    "tags": []
   },
   "source": [
    "## Evaluation"
   ]
  },
  {
   "cell_type": "code",
   "execution_count": 17,
   "metadata": {
    "execution": {
     "iopub.execute_input": "2021-04-13T22:35:25.723769Z",
     "iopub.status.busy": "2021-04-13T22:35:25.722540Z",
     "iopub.status.idle": "2021-04-13T22:35:25.726111Z",
     "shell.execute_reply": "2021-04-13T22:35:25.725565Z"
    },
    "papermill": {
     "duration": 0.100778,
     "end_time": "2021-04-13T22:35:25.726260",
     "exception": false,
     "start_time": "2021-04-13T22:35:25.625482",
     "status": "completed"
    },
    "tags": []
   },
   "outputs": [],
   "source": [
    "def history_plot(model_id, history1):\n",
    "\tplt.figure(figsize=(14,16)) \n",
    "\t# plot loss\n",
    "\tplt.subplot(2, 1, 1)\n",
    "\tplt.title('Cross Entropy Loss - ' + model_id, fontsize = 12)\n",
    "\tplt.plot(history1.history['loss'], color='blue', label='train base')\n",
    "\tplt.plot(history1.history['val_loss'], color='cyan', label='val base')\n",
    "\tplt.xlabel(\"Epochs\",fontsize = 12)\n",
    "\tplt.ylabel(\"Loss\", fontsize = 12)\n",
    "\tplt.legend(loc='upper right')\n",
    "\n",
    "\t# plot accuracy\n",
    "\tplt.subplot(2, 1, 2)\n",
    "\tplt.title('Classification Accuracy ' + model_id, fontsize = 10)\n",
    "\tplt.plot(history1.history['dice_coef'], color='blue', label='train base')\n",
    "\tplt.plot(history1.history['val_dice_coef'], color='cyan', label='val base')\n",
    "\tplt.xlabel(\"Epochs\", fontsize = 12)\n",
    "\tplt.ylabel(\"dice_coef\", fontsize = 12)\n",
    "\tplt.legend(loc='lower right')\n",
    "\n",
    "\tplt.show()"
   ]
  },
  {
   "cell_type": "code",
   "execution_count": 18,
   "metadata": {
    "execution": {
     "iopub.execute_input": "2021-04-13T22:35:25.910187Z",
     "iopub.status.busy": "2021-04-13T22:35:25.909205Z",
     "iopub.status.idle": "2021-04-13T22:35:25.913148Z",
     "shell.execute_reply": "2021-04-13T22:35:25.913705Z"
    },
    "papermill": {
     "duration": 0.100394,
     "end_time": "2021-04-13T22:35:25.913891",
     "exception": false,
     "start_time": "2021-04-13T22:35:25.813497",
     "status": "completed"
    },
    "tags": []
   },
   "outputs": [
    {
     "data": {
      "text/plain": [
       "dict_keys(['loss', 'dice_coef', 'val_loss', 'val_dice_coef'])"
      ]
     },
     "execution_count": 18,
     "metadata": {},
     "output_type": "execute_result"
    }
   ],
   "source": [
    "history.history.keys()"
   ]
  },
  {
   "cell_type": "code",
   "execution_count": 19,
   "metadata": {
    "execution": {
     "iopub.execute_input": "2021-04-13T22:35:26.101812Z",
     "iopub.status.busy": "2021-04-13T22:35:26.100654Z",
     "iopub.status.idle": "2021-04-13T22:35:26.555900Z",
     "shell.execute_reply": "2021-04-13T22:35:26.556624Z"
    },
    "papermill": {
     "duration": 0.558184,
     "end_time": "2021-04-13T22:35:26.556816",
     "exception": false,
     "start_time": "2021-04-13T22:35:25.998632",
     "status": "completed"
    },
    "tags": []
   },
   "outputs": [
    {
     "data": {
      "image/png": "[encoded data removed]",
      "text/plain": [
       "<Figure size 1008x1152 with 2 Axes>"
      ]
     },
     "metadata": {
      "needs_background": "light"
     },
     "output_type": "display_data"
    }
   ],
   "source": [
    "history_plot('UNET Model', history)"
   ]
  },
  {
   "cell_type": "code",
   "execution_count": 20,
   "metadata": {
    "_cell_guid": "b1076dfc-b9ad-4769-8c92-a6c4dae69d19",
    "_uuid": "8f2839f25d086af736a60e9eeb907d3b93b6e0e5",
    "execution": {
     "iopub.execute_input": "2021-04-13T22:35:26.778810Z",
     "iopub.status.busy": "2021-04-13T22:35:26.768750Z",
     "iopub.status.idle": "2021-04-13T22:35:26.805715Z",
     "shell.execute_reply": "2021-04-13T22:35:26.804824Z"
    },
    "papermill": {
     "duration": 0.158611,
     "end_time": "2021-04-13T22:35:26.805890",
     "exception": false,
     "start_time": "2021-04-13T22:35:26.647279",
     "status": "completed"
    },
    "tags": []
   },
   "outputs": [],
   "source": [
    "model.load_weights('model.h5')"
   ]
  },
  {
   "cell_type": "code",
   "execution_count": 21,
   "metadata": {
    "execution": {
     "iopub.execute_input": "2021-04-13T22:35:27.011295Z",
     "iopub.status.busy": "2021-04-13T22:35:27.010138Z",
     "iopub.status.idle": "2021-04-13T22:35:27.161203Z",
     "shell.execute_reply": "2021-04-13T22:35:27.160648Z"
    },
    "papermill": {
     "duration": 0.260972,
     "end_time": "2021-04-13T22:35:27.161359",
     "exception": false,
     "start_time": "2021-04-13T22:35:26.900387",
     "status": "completed"
    },
    "tags": []
   },
   "outputs": [],
   "source": [
    "model.save('severstal-segmentation_unetDataAugDice.h5', save_format=\"h5\")"
   ]
  }
 ],
 "metadata": {
  "kernelspec": {
   "display_name": "Python 3",
   "language": "python",
   "name": "python3"
  },
  "language_info": {
   "codemirror_mode": {
    "name": "ipython",
    "version": 3
   },
   "file_extension": ".py",
   "mimetype": "text/x-python",
   "name": "python",
   "nbconvert_exporter": "python",
   "pygments_lexer": "ipython3",
   "version": "3.7.9"
  },
  "papermill": {
   "default_parameters": {},
   "duration": 31424.763709,
   "end_time": "2021-04-13T22:35:30.448643",
   "environment_variables": {},
   "exception": null,
   "input_path": "__notebook__.ipynb",
   "output_path": "__notebook__.ipynb",
   "parameters": {},
   "start_time": "2021-04-13T13:51:45.684934",
   "version": "2.2.2"
  }
 },
 "nbformat": 4,
 "nbformat_minor": 4
}
