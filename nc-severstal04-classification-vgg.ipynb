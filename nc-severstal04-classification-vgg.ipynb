{
 "cells": [
  {
   "cell_type": "code",
   "execution_count": 1,
   "metadata": {
    "execution": {
     "iopub.execute_input": "2021-03-19T12:08:17.812717Z",
     "iopub.status.busy": "2021-03-19T12:08:17.812005Z",
     "iopub.status.idle": "2021-03-19T12:08:24.077151Z",
     "shell.execute_reply": "2021-03-19T12:08:24.077737Z"
    },
    "papermill": {
     "duration": 6.291746,
     "end_time": "2021-03-19T12:08:24.077956",
     "exception": false,
     "start_time": "2021-03-19T12:08:17.786210",
     "status": "completed"
    },
    "tags": []
   },
   "outputs": [],
   "source": [
    "import os\n",
    "import cv2\n",
    "import numpy as np\n",
    "import pandas as pd\n",
    "from tensorflow.keras import layers\n",
    "from tensorflow.keras.callbacks import Callback, ModelCheckpoint, ReduceLROnPlateau,EarlyStopping\n",
    "from tensorflow.keras.preprocessing.image import ImageDataGenerator\n",
    "from tensorflow.keras.models import Sequential, Model, load_model\n",
    "from tensorflow.keras.layers import Input, Dense, Conv2D, MaxPooling2D\n",
    "from tensorflow.keras.layers import GlobalAveragePooling2D, AveragePooling2D\n",
    "from tensorflow.keras.layers import ZeroPadding2D, Dropout, Flatten, add, Reshape\n",
    "from tensorflow.keras.layers import Activation, BatchNormalization\n",
    "from tensorflow.keras.optimizers import Adam, SGD, Nadam\n",
    "from tensorflow.keras.utils import plot_model,to_categorical\n",
    "from tensorflow.keras import backend as K\n",
    "from tensorflow.keras import initializers\n",
    "from tensorflow.keras.preprocessing.image import ImageDataGenerator\n",
    "from tensorflow.keras.applications import DenseNet121\n",
    "from tqdm import tqdm\n",
    "from sklearn.model_selection import train_test_split\n",
    "from sklearn.metrics import confusion_matrix, classification_report\n",
    "import matplotlib.pyplot as plt\n",
    "import seaborn as sns\n",
    "from tensorflow.keras.applications.vgg16 import preprocess_input\n",
    "from tensorflow.keras.applications.vgg16 import decode_predictions\n",
    "from tensorflow.keras.applications.vgg16 import VGG16"
   ]
  },
  {
   "cell_type": "markdown",
   "metadata": {
    "papermill": {
     "duration": 0.019574,
     "end_time": "2021-03-19T12:08:24.117547",
     "exception": false,
     "start_time": "2021-03-19T12:08:24.097973",
     "status": "completed"
    },
    "tags": []
   },
   "source": [
    "## Read train and test files"
   ]
  },
  {
   "cell_type": "code",
   "execution_count": 2,
   "metadata": {
    "execution": {
     "iopub.execute_input": "2021-03-19T12:08:24.188865Z",
     "iopub.status.busy": "2021-03-19T12:08:24.187635Z",
     "iopub.status.idle": "2021-03-19T12:08:24.773653Z",
     "shell.execute_reply": "2021-03-19T12:08:24.774397Z"
    },
    "papermill": {
     "duration": 0.635475,
     "end_time": "2021-03-19T12:08:24.774602",
     "exception": false,
     "start_time": "2021-03-19T12:08:24.139127",
     "status": "completed"
    },
    "tags": []
   },
   "outputs": [
    {
     "name": "stdout",
     "output_type": "stream",
     "text": [
      "(7095, 3)\n"
     ]
    }
   ],
   "source": [
    "train_df = pd.read_csv('../input/severstal-steel-defect-detection/train.csv')\n",
    "\n",
    "print(train_df.shape)"
   ]
  },
  {
   "cell_type": "code",
   "execution_count": 3,
   "metadata": {
    "execution": {
     "iopub.execute_input": "2021-03-19T12:08:24.818559Z",
     "iopub.status.busy": "2021-03-19T12:08:24.817515Z",
     "iopub.status.idle": "2021-03-19T12:08:24.825726Z",
     "shell.execute_reply": "2021-03-19T12:08:24.826147Z"
    },
    "papermill": {
     "duration": 0.036796,
     "end_time": "2021-03-19T12:08:24.826252",
     "exception": false,
     "start_time": "2021-03-19T12:08:24.789456",
     "status": "completed"
    },
    "tags": []
   },
   "outputs": [
    {
     "data": {
      "text/html": [
       "<div>\n",
       "<style scoped>\n",
       "    .dataframe tbody tr th:only-of-type {\n",
       "        vertical-align: middle;\n",
       "    }\n",
       "\n",
       "    .dataframe tbody tr th {\n",
       "        vertical-align: top;\n",
       "    }\n",
       "\n",
       "    .dataframe thead th {\n",
       "        text-align: right;\n",
       "    }\n",
       "</style>\n",
       "<table border=\"1\" class=\"dataframe\">\n",
       "  <thead>\n",
       "    <tr style=\"text-align: right;\">\n",
       "      <th></th>\n",
       "      <th>ImageId</th>\n",
       "      <th>ClassId</th>\n",
       "      <th>EncodedPixels</th>\n",
       "    </tr>\n",
       "  </thead>\n",
       "  <tbody>\n",
       "    <tr>\n",
       "      <th>0</th>\n",
       "      <td>0002cc93b.jpg</td>\n",
       "      <td>1</td>\n",
       "      <td>29102 12 29346 24 29602 24 29858 24 30114 24 3...</td>\n",
       "    </tr>\n",
       "    <tr>\n",
       "      <th>1</th>\n",
       "      <td>0007a71bf.jpg</td>\n",
       "      <td>3</td>\n",
       "      <td>18661 28 18863 82 19091 110 19347 110 19603 11...</td>\n",
       "    </tr>\n",
       "    <tr>\n",
       "      <th>2</th>\n",
       "      <td>000a4bcdd.jpg</td>\n",
       "      <td>1</td>\n",
       "      <td>37607 3 37858 8 38108 14 38359 20 38610 25 388...</td>\n",
       "    </tr>\n",
       "    <tr>\n",
       "      <th>3</th>\n",
       "      <td>000f6bf48.jpg</td>\n",
       "      <td>4</td>\n",
       "      <td>131973 1 132228 4 132483 6 132738 8 132993 11 ...</td>\n",
       "    </tr>\n",
       "    <tr>\n",
       "      <th>4</th>\n",
       "      <td>0014fce06.jpg</td>\n",
       "      <td>3</td>\n",
       "      <td>229501 11 229741 33 229981 55 230221 77 230468...</td>\n",
       "    </tr>\n",
       "  </tbody>\n",
       "</table>\n",
       "</div>"
      ],
      "text/plain": [
       "         ImageId  ClassId                                      EncodedPixels\n",
       "0  0002cc93b.jpg        1  29102 12 29346 24 29602 24 29858 24 30114 24 3...\n",
       "1  0007a71bf.jpg        3  18661 28 18863 82 19091 110 19347 110 19603 11...\n",
       "2  000a4bcdd.jpg        1  37607 3 37858 8 38108 14 38359 20 38610 25 388...\n",
       "3  000f6bf48.jpg        4  131973 1 132228 4 132483 6 132738 8 132993 11 ...\n",
       "4  0014fce06.jpg        3  229501 11 229741 33 229981 55 230221 77 230468..."
      ]
     },
     "execution_count": 3,
     "metadata": {},
     "output_type": "execute_result"
    }
   ],
   "source": [
    "train_df.head()"
   ]
  },
  {
   "cell_type": "markdown",
   "metadata": {
    "papermill": {
     "duration": 0.013532,
     "end_time": "2021-03-19T12:08:24.854540",
     "exception": false,
     "start_time": "2021-03-19T12:08:24.841008",
     "status": "completed"
    },
    "tags": []
   },
   "source": [
    "## Combine defected and no-defect images"
   ]
  },
  {
   "cell_type": "code",
   "execution_count": 4,
   "metadata": {
    "execution": {
     "iopub.execute_input": "2021-03-19T12:08:24.891156Z",
     "iopub.status.busy": "2021-03-19T12:08:24.890427Z",
     "iopub.status.idle": "2021-03-19T12:08:26.939152Z",
     "shell.execute_reply": "2021-03-19T12:08:26.939985Z"
    },
    "papermill": {
     "duration": 2.071679,
     "end_time": "2021-03-19T12:08:26.940152",
     "exception": false,
     "start_time": "2021-03-19T12:08:24.868473",
     "status": "completed"
    },
    "tags": []
   },
   "outputs": [
    {
     "name": "stdout",
     "output_type": "stream",
     "text": [
      "(12568, 2)\n",
      "1    6666\n",
      "0    5902\n",
      "Name: defect_label, dtype: int64\n"
     ]
    }
   ],
   "source": [
    "# Data Pre-Processing\n",
    "TRAIN_PATH = '../input/severstal-steel-defect-detection/train_images/'\n",
    "TEST_PATH = '../input/severstal-steel-defect-detection/test_images/'\n",
    "\n",
    "train_flist = os.listdir(TRAIN_PATH) \n",
    "\n",
    "image_defects = train_df['ImageId'].unique().tolist()\n",
    "image_no_defects=[item for item in train_flist if item not in image_defects]\n",
    "\n",
    "#df_bin is the dataframe with label defect based on train_df \n",
    "df_bin = train_df.drop_duplicates(subset=['ImageId'], keep='last').copy()\n",
    "df_bin.loc[:, 'defect_label'] = 1\n",
    "\n",
    "df_noDefect_bin = pd.DataFrame(image_no_defects,columns=['ImageId'])\n",
    "df_noDefect_bin.loc[:, 'defect_label'] = 0\n",
    "\n",
    "frames = [df_bin[['ImageId', \"defect_label\"]], df_noDefect_bin]\n",
    "df = pd.concat(frames).reset_index(drop=True)\n",
    "print(df.shape)\n",
    "print(df['defect_label'].value_counts())"
   ]
  },
  {
   "cell_type": "code",
   "execution_count": 5,
   "metadata": {
    "execution": {
     "iopub.execute_input": "2021-03-19T12:08:26.979871Z",
     "iopub.status.busy": "2021-03-19T12:08:26.979155Z",
     "iopub.status.idle": "2021-03-19T12:08:26.982823Z",
     "shell.execute_reply": "2021-03-19T12:08:26.983234Z"
    },
    "papermill": {
     "duration": 0.027148,
     "end_time": "2021-03-19T12:08:26.983338",
     "exception": false,
     "start_time": "2021-03-19T12:08:26.956190",
     "status": "completed"
    },
    "tags": []
   },
   "outputs": [
    {
     "data": {
      "text/html": [
       "<div>\n",
       "<style scoped>\n",
       "    .dataframe tbody tr th:only-of-type {\n",
       "        vertical-align: middle;\n",
       "    }\n",
       "\n",
       "    .dataframe tbody tr th {\n",
       "        vertical-align: top;\n",
       "    }\n",
       "\n",
       "    .dataframe thead th {\n",
       "        text-align: right;\n",
       "    }\n",
       "</style>\n",
       "<table border=\"1\" class=\"dataframe\">\n",
       "  <thead>\n",
       "    <tr style=\"text-align: right;\">\n",
       "      <th></th>\n",
       "      <th>ImageId</th>\n",
       "      <th>defect_label</th>\n",
       "    </tr>\n",
       "  </thead>\n",
       "  <tbody>\n",
       "    <tr>\n",
       "      <th>0</th>\n",
       "      <td>0002cc93b.jpg</td>\n",
       "      <td>1</td>\n",
       "    </tr>\n",
       "  </tbody>\n",
       "</table>\n",
       "</div>"
      ],
      "text/plain": [
       "         ImageId  defect_label\n",
       "0  0002cc93b.jpg             1"
      ]
     },
     "execution_count": 5,
     "metadata": {},
     "output_type": "execute_result"
    }
   ],
   "source": [
    "df.head(1)"
   ]
  },
  {
   "cell_type": "markdown",
   "metadata": {
    "papermill": {
     "duration": 0.014427,
     "end_time": "2021-03-19T12:08:27.012285",
     "exception": false,
     "start_time": "2021-03-19T12:08:26.997858",
     "status": "completed"
    },
    "tags": []
   },
   "source": [
    "## Split train data, load and resave images"
   ]
  },
  {
   "cell_type": "code",
   "execution_count": 6,
   "metadata": {
    "execution": {
     "iopub.execute_input": "2021-03-19T12:08:27.057384Z",
     "iopub.status.busy": "2021-03-19T12:08:27.056767Z",
     "iopub.status.idle": "2021-03-19T12:12:20.952645Z",
     "shell.execute_reply": "2021-03-19T12:12:20.952151Z"
    },
    "papermill": {
     "duration": 233.925629,
     "end_time": "2021-03-19T12:12:20.952758",
     "exception": false,
     "start_time": "2021-03-19T12:08:27.027129",
     "status": "completed"
    },
    "tags": []
   },
   "outputs": [
    {
     "name": "stderr",
     "output_type": "stream",
     "text": [
      "100%|██████████| 6597/6597 [02:01<00:00, 54.51it/s]\n",
      "100%|██████████| 2200/2200 [00:40<00:00, 54.77it/s]\n",
      "100%|██████████| 3771/3771 [01:12<00:00, 51.91it/s]"
     ]
    },
    {
     "name": "stdout",
     "output_type": "stream",
     "text": [
      "(6597, 2) (2200, 2) (3771, 2)\n",
      "1    3499\n",
      "0    3098\n",
      "Name: defect_label, dtype: int64\n",
      "1    1167\n",
      "0    1033\n",
      "Name: defect_label, dtype: int64\n",
      "1    2000\n",
      "0    1771\n",
      "Name: defect_label, dtype: int64\n"
     ]
    },
    {
     "name": "stderr",
     "output_type": "stream",
     "text": [
      "\n",
      "/opt/conda/lib/python3.7/site-packages/ipykernel_launcher.py:43: SettingWithCopyWarning: \n",
      "A value is trying to be set on a copy of a slice from a DataFrame.\n",
      "Try using .loc[row_indexer,col_indexer] = value instead\n",
      "\n",
      "See the caveats in the documentation: https://pandas.pydata.org/pandas-docs/stable/user_guide/indexing.html#returning-a-view-versus-a-copy\n"
     ]
    }
   ],
   "source": [
    "nb_images = df.shape[0]\n",
    "df_train, df_test = train_test_split(df, test_size=0.3, \n",
    "                                                    stratify = df['defect_label'], \n",
    "                                                    random_state=2021)\n",
    "\n",
    "df_train, df_val = train_test_split(df_train, test_size=0.25, \n",
    "                                                  stratify = df_train['defect_label'],\n",
    "                                                  random_state=2021) \n",
    "\n",
    "# 0.25 x 0.8 = 0.2\n",
    "\n",
    "IMAGE_SIZE = 224\n",
    "\n",
    "def load_img(code, base, resize=True):\n",
    "    path = f'{base}/{code}'\n",
    "    img = cv2.imread(path)\n",
    "    img = cv2.cvtColor(img, cv2.COLOR_BGR2RGB)\n",
    "    if resize:\n",
    "        img = cv2.resize(img, (IMAGE_SIZE, IMAGE_SIZE))\n",
    "    return img\n",
    "\n",
    "def validate_path(path):\n",
    "    if not os.path.exists(path):\n",
    "        os.makedirs(path)\n",
    "\n",
    "train_path = '../tmp/train'\n",
    "validate_path(train_path)\n",
    "val_path = '../tmp/val'\n",
    "validate_path(val_path)\n",
    "test_path = '../tmp/test'\n",
    "validate_path(test_path)\n",
    "\n",
    "def process_img(df, train_path):\n",
    "    #read image, resize and save\n",
    "    for code in tqdm(df['ImageId']):\n",
    "        img = load_img(\n",
    "            code,\n",
    "            base='../input/severstal-steel-defect-detection/train_images'\n",
    "        )\n",
    "        path = code.replace('.jpg', '')\n",
    "        cv2.imwrite(f'{train_path}/{path}.png', img)\n",
    "\n",
    "    df['ImageId'] = df['ImageId'].apply(lambda x: x.replace('.jpg', '.png'))\n",
    "    return df\n",
    "df_train = process_img(df_train,train_path)\n",
    "\n",
    "df_val = process_img(df_val,val_path)\n",
    "\n",
    "df_test = process_img(df_test,test_path)\n",
    "\n",
    "print(df_train.shape,df_val.shape,df_test.shape)\n",
    "print(df_train['defect_label'].value_counts())\n",
    "print(df_val['defect_label'].value_counts())\n",
    "print(df_test['defect_label'].value_counts())"
   ]
  },
  {
   "cell_type": "markdown",
   "metadata": {
    "papermill": {
     "duration": 0.590493,
     "end_time": "2021-03-19T12:12:22.119755",
     "exception": false,
     "start_time": "2021-03-19T12:12:21.529262",
     "status": "completed"
    },
    "tags": []
   },
   "source": [
    "## Define ImageDataGenerator and data augmentation"
   ]
  },
  {
   "cell_type": "code",
   "execution_count": 7,
   "metadata": {
    "execution": {
     "iopub.execute_input": "2021-03-19T12:12:23.317129Z",
     "iopub.status.busy": "2021-03-19T12:12:23.315746Z",
     "iopub.status.idle": "2021-03-19T12:12:23.423395Z",
     "shell.execute_reply": "2021-03-19T12:12:23.424155Z"
    },
    "papermill": {
     "duration": 0.720726,
     "end_time": "2021-03-19T12:12:23.424349",
     "exception": false,
     "start_time": "2021-03-19T12:12:22.703623",
     "status": "completed"
    },
    "tags": []
   },
   "outputs": [
    {
     "name": "stdout",
     "output_type": "stream",
     "text": [
      "Found 6597 validated image filenames.\n",
      "Found 2200 validated image filenames.\n",
      "Found 3771 validated image filenames.\n"
     ]
    }
   ],
   "source": [
    "BATCH_SIZE = 32\n",
    "\n",
    "# Using original generator\n",
    "data_generator = ImageDataGenerator(\n",
    "        zoom_range=0.1,  # set range for random zoom\n",
    "        # set mode for filling points outside the input boundaries\n",
    "        fill_mode='constant',\n",
    "        cval=0.,\n",
    "        rotation_range=10,\n",
    "        height_shift_range=0.05,\n",
    "        width_shift_range=0.05,\n",
    "        horizontal_flip=True,\n",
    "        vertical_flip=True,\n",
    "        rescale=1/255.,\n",
    "    )\n",
    "val_generator = ImageDataGenerator(\n",
    "        rescale=1/255.\n",
    "    )\n",
    "\n",
    "train_gen = data_generator.flow_from_dataframe(\n",
    "        df_train, \n",
    "        directory='../tmp/train',\n",
    "        x_col='ImageId', \n",
    "        y_col='defect_label', \n",
    "        class_mode='raw',\n",
    "        target_size=(IMAGE_SIZE, IMAGE_SIZE),\n",
    "        batch_size=BATCH_SIZE,\n",
    "        )\n",
    "\n",
    "val_gen =  val_generator.flow_from_dataframe(\n",
    "        df_val, \n",
    "        directory='../tmp/val',\n",
    "        x_col='ImageId', \n",
    "        y_col='defect_label', \n",
    "        class_mode='raw',\n",
    "        target_size=(IMAGE_SIZE, IMAGE_SIZE),\n",
    "        batch_size=BATCH_SIZE,\n",
    "        )\n",
    "test_gen =  val_generator.flow_from_dataframe(\n",
    "        df_test, \n",
    "        directory='../tmp/test',\n",
    "        x_col='ImageId', \n",
    "        y_col='defect_label', \n",
    "        class_mode='raw',\n",
    "        target_size=(IMAGE_SIZE, IMAGE_SIZE),\n",
    "        batch_size=BATCH_SIZE,\n",
    "        shuffle=False\n",
    "        )\n"
   ]
  },
  {
   "cell_type": "markdown",
   "metadata": {
    "papermill": {
     "duration": 0.59389,
     "end_time": "2021-03-19T12:12:24.602958",
     "exception": false,
     "start_time": "2021-03-19T12:12:24.009068",
     "status": "completed"
    },
    "tags": []
   },
   "source": [
    "## Define Model"
   ]
  },
  {
   "cell_type": "code",
   "execution_count": 8,
   "metadata": {
    "execution": {
     "iopub.execute_input": "2021-03-19T12:12:25.989239Z",
     "iopub.status.busy": "2021-03-19T12:12:25.987873Z",
     "iopub.status.idle": "2021-03-19T12:12:29.661378Z",
     "shell.execute_reply": "2021-03-19T12:12:29.660682Z"
    },
    "papermill": {
     "duration": 4.460607,
     "end_time": "2021-03-19T12:12:29.661545",
     "exception": false,
     "start_time": "2021-03-19T12:12:25.200938",
     "status": "completed"
    },
    "tags": []
   },
   "outputs": [
    {
     "name": "stdout",
     "output_type": "stream",
     "text": [
      "Downloading data from https://storage.googleapis.com/tensorflow/keras-applications/vgg16/vgg16_weights_tf_dim_ordering_tf_kernels_notop.h5\n",
      "58892288/58889256 [==============================] - 0s 0us/step\n",
      "Model: \"functional_1\"\n",
      "_________________________________________________________________\n",
      "Layer (type)                 Output Shape              Param #   \n",
      "=================================================================\n",
      "input_1 (InputLayer)         [(None, 224, 224, 3)]     0         \n",
      "_________________________________________________________________\n",
      "block1_conv1 (Conv2D)        (None, 224, 224, 64)      1792      \n",
      "_________________________________________________________________\n",
      "block1_conv2 (Conv2D)        (None, 224, 224, 64)      36928     \n",
      "_________________________________________________________________\n",
      "block1_pool (MaxPooling2D)   (None, 112, 112, 64)      0         \n",
      "_________________________________________________________________\n",
      "block2_conv1 (Conv2D)        (None, 112, 112, 128)     73856     \n",
      "_________________________________________________________________\n",
      "block2_conv2 (Conv2D)        (None, 112, 112, 128)     147584    \n",
      "_________________________________________________________________\n",
      "block2_pool (MaxPooling2D)   (None, 56, 56, 128)       0         \n",
      "_________________________________________________________________\n",
      "block3_conv1 (Conv2D)        (None, 56, 56, 256)       295168    \n",
      "_________________________________________________________________\n",
      "block3_conv2 (Conv2D)        (None, 56, 56, 256)       590080    \n",
      "_________________________________________________________________\n",
      "block3_conv3 (Conv2D)        (None, 56, 56, 256)       590080    \n",
      "_________________________________________________________________\n",
      "block3_pool (MaxPooling2D)   (None, 28, 28, 256)       0         \n",
      "_________________________________________________________________\n",
      "block4_conv1 (Conv2D)        (None, 28, 28, 512)       1180160   \n",
      "_________________________________________________________________\n",
      "block4_conv2 (Conv2D)        (None, 28, 28, 512)       2359808   \n",
      "_________________________________________________________________\n",
      "block4_conv3 (Conv2D)        (None, 28, 28, 512)       2359808   \n",
      "_________________________________________________________________\n",
      "block4_pool (MaxPooling2D)   (None, 14, 14, 512)       0         \n",
      "_________________________________________________________________\n",
      "block5_conv1 (Conv2D)        (None, 14, 14, 512)       2359808   \n",
      "_________________________________________________________________\n",
      "block5_conv2 (Conv2D)        (None, 14, 14, 512)       2359808   \n",
      "_________________________________________________________________\n",
      "block5_conv3 (Conv2D)        (None, 14, 14, 512)       2359808   \n",
      "_________________________________________________________________\n",
      "block5_pool (MaxPooling2D)   (None, 7, 7, 512)         0         \n",
      "_________________________________________________________________\n",
      "flatten (Flatten)            (None, 25088)             0         \n",
      "_________________________________________________________________\n",
      "dense (Dense)                (None, 256)               6422784   \n",
      "_________________________________________________________________\n",
      "dense_1 (Dense)              (None, 1)                 257       \n",
      "=================================================================\n",
      "Total params: 21,137,729\n",
      "Trainable params: 6,423,041\n",
      "Non-trainable params: 14,714,688\n",
      "_________________________________________________________________\n"
     ]
    }
   ],
   "source": [
    "input_shape = (IMAGE_SIZE,IMAGE_SIZE,3)\n",
    "\n",
    "def build_model():\n",
    "    \n",
    "    model = VGG16(weights='imagenet',include_top=False, input_shape=input_shape)\n",
    "    # add new classifier layers\n",
    "    for layer in model.layers:\n",
    "        layer.trainable = False\n",
    "\n",
    "    flat1 = Flatten()(model.layers[-1].output)\n",
    "    den1 = Dense(256, activation= 'relu')(flat1)\n",
    "    output = Dense(1, activation='sigmoid')(den1)\n",
    "    # define new model\n",
    "    model = Model(inputs=model.inputs, outputs=output)\n",
    "\n",
    "    model.compile(\n",
    "        loss='binary_crossentropy',\n",
    "        optimizer= Adam(learning_rate = 0.001),\n",
    "        metrics=['accuracy']\n",
    "    )\n",
    "    \n",
    "\n",
    "    return model\n",
    "model = build_model()\n",
    "model.summary()"
   ]
  },
  {
   "cell_type": "markdown",
   "metadata": {
    "papermill": {
     "duration": 0.599944,
     "end_time": "2021-03-19T12:12:30.864978",
     "exception": false,
     "start_time": "2021-03-19T12:12:30.265034",
     "status": "completed"
    },
    "tags": []
   },
   "source": [
    "## Model training"
   ]
  },
  {
   "cell_type": "code",
   "execution_count": 9,
   "metadata": {
    "execution": {
     "iopub.execute_input": "2021-03-19T12:12:32.039346Z",
     "iopub.status.busy": "2021-03-19T12:12:32.038596Z",
     "iopub.status.idle": "2021-03-19T12:12:32.041419Z",
     "shell.execute_reply": "2021-03-19T12:12:32.040963Z"
    },
    "papermill": {
     "duration": 0.59569,
     "end_time": "2021-03-19T12:12:32.041509",
     "exception": false,
     "start_time": "2021-03-19T12:12:31.445819",
     "status": "completed"
    },
    "tags": []
   },
   "outputs": [],
   "source": [
    "epochs = 50\n",
    "\n",
    "import math\n",
    "# We take the ceiling because we do not drop the remainder of the batch\n",
    "compute_steps_per_epoch = lambda x: int(math.ceil(1. * x / BATCH_SIZE))\n",
    "\n",
    "steps_per_epoch = compute_steps_per_epoch(df_train.shape[0])\n",
    "validation_steps = compute_steps_per_epoch(df_val.shape[0])\n",
    "\n",
    "es = EarlyStopping(monitor='val_loss', mode='min', verbose=2, patience=20)\n",
    "reduce_lr = ReduceLROnPlateau(monitor='val_loss', patience=5, verbose=1, min_lr=1e-6)\n",
    "\n",
    "mc = ModelCheckpoint(\n",
    "    'model.h5', \n",
    "    monitor='val_accuracy', \n",
    "    verbose=1, \n",
    "    save_best_only=True, \n",
    "    save_weights_only=False,\n",
    "    mode='auto'\n",
    ")"
   ]
  },
  {
   "cell_type": "code",
   "execution_count": 10,
   "metadata": {
    "execution": {
     "iopub.execute_input": "2021-03-19T12:12:33.202992Z",
     "iopub.status.busy": "2021-03-19T12:12:33.202248Z",
     "iopub.status.idle": "2021-03-19T13:31:26.323993Z",
     "shell.execute_reply": "2021-03-19T13:31:26.323069Z"
    },
    "papermill": {
     "duration": 4733.69914,
     "end_time": "2021-03-19T13:31:26.324111",
     "exception": false,
     "start_time": "2021-03-19T12:12:32.624971",
     "status": "completed"
    },
    "tags": []
   },
   "outputs": [
    {
     "name": "stdout",
     "output_type": "stream",
     "text": [
      "Epoch 1/50\n",
      "207/207 [==============================] - ETA: 0s - loss: 0.6612 - accuracy: 0.6799\n",
      "Epoch 00001: val_accuracy improved from -inf to 0.69182, saving model to model.h5\n",
      "207/207 [==============================] - 94s 452ms/step - loss: 0.6612 - accuracy: 0.6799 - val_loss: 0.5413 - val_accuracy: 0.6918\n",
      "Epoch 2/50\n",
      "207/207 [==============================] - ETA: 0s - loss: 0.4772 - accuracy: 0.7606\n",
      "Epoch 00002: val_accuracy improved from 0.69182 to 0.79500, saving model to model.h5\n",
      "207/207 [==============================] - 91s 440ms/step - loss: 0.4772 - accuracy: 0.7606 - val_loss: 0.4326 - val_accuracy: 0.7950\n",
      "Epoch 3/50\n",
      "207/207 [==============================] - ETA: 0s - loss: 0.4579 - accuracy: 0.7693\n",
      "Epoch 00003: val_accuracy improved from 0.79500 to 0.80045, saving model to model.h5\n",
      "207/207 [==============================] - 91s 442ms/step - loss: 0.4579 - accuracy: 0.7693 - val_loss: 0.4258 - val_accuracy: 0.8005\n",
      "Epoch 4/50\n",
      "207/207 [==============================] - ETA: 0s - loss: 0.4231 - accuracy: 0.7941\n",
      "Epoch 00004: val_accuracy did not improve from 0.80045\n",
      "207/207 [==============================] - 91s 439ms/step - loss: 0.4231 - accuracy: 0.7941 - val_loss: 0.4143 - val_accuracy: 0.7941\n",
      "Epoch 5/50\n",
      "207/207 [==============================] - ETA: 0s - loss: 0.4260 - accuracy: 0.7910\n",
      "Epoch 00005: val_accuracy did not improve from 0.80045\n",
      "207/207 [==============================] - 90s 435ms/step - loss: 0.4260 - accuracy: 0.7910 - val_loss: 0.4730 - val_accuracy: 0.7723\n",
      "Epoch 6/50\n",
      "207/207 [==============================] - ETA: 0s - loss: 0.3930 - accuracy: 0.8067\n",
      "Epoch 00006: val_accuracy did not improve from 0.80045\n",
      "207/207 [==============================] - 92s 442ms/step - loss: 0.3930 - accuracy: 0.8067 - val_loss: 0.4095 - val_accuracy: 0.7982\n",
      "Epoch 7/50\n",
      "207/207 [==============================] - ETA: 0s - loss: 0.3734 - accuracy: 0.8255\n",
      "Epoch 00007: val_accuracy did not improve from 0.80045\n",
      "207/207 [==============================] - 91s 439ms/step - loss: 0.3734 - accuracy: 0.8255 - val_loss: 0.4295 - val_accuracy: 0.7845\n",
      "Epoch 8/50\n",
      "207/207 [==============================] - ETA: 0s - loss: 0.3687 - accuracy: 0.8264\n",
      "Epoch 00008: val_accuracy improved from 0.80045 to 0.82409, saving model to model.h5\n",
      "207/207 [==============================] - 91s 438ms/step - loss: 0.3687 - accuracy: 0.8264 - val_loss: 0.3748 - val_accuracy: 0.8241\n",
      "Epoch 9/50\n",
      "207/207 [==============================] - ETA: 0s - loss: 0.3806 - accuracy: 0.8166\n",
      "Epoch 00009: val_accuracy did not improve from 0.82409\n",
      "207/207 [==============================] - 91s 438ms/step - loss: 0.3806 - accuracy: 0.8166 - val_loss: 0.3989 - val_accuracy: 0.8164\n",
      "Epoch 10/50\n",
      "207/207 [==============================] - ETA: 0s - loss: 0.3607 - accuracy: 0.8325\n",
      "Epoch 00010: val_accuracy improved from 0.82409 to 0.83500, saving model to model.h5\n",
      "207/207 [==============================] - 92s 443ms/step - loss: 0.3607 - accuracy: 0.8325 - val_loss: 0.3641 - val_accuracy: 0.8350\n",
      "Epoch 11/50\n",
      "207/207 [==============================] - ETA: 0s - loss: 0.3539 - accuracy: 0.8354\n",
      "Epoch 00011: val_accuracy improved from 0.83500 to 0.84045, saving model to model.h5\n",
      "207/207 [==============================] - 94s 454ms/step - loss: 0.3539 - accuracy: 0.8354 - val_loss: 0.3574 - val_accuracy: 0.8405\n",
      "Epoch 12/50\n",
      "207/207 [==============================] - ETA: 0s - loss: 0.3528 - accuracy: 0.8404\n",
      "Epoch 00012: val_accuracy did not improve from 0.84045\n",
      "207/207 [==============================] - 93s 451ms/step - loss: 0.3528 - accuracy: 0.8404 - val_loss: 0.4055 - val_accuracy: 0.8050\n",
      "Epoch 13/50\n",
      "207/207 [==============================] - ETA: 0s - loss: 0.3415 - accuracy: 0.8440\n",
      "Epoch 00013: val_accuracy did not improve from 0.84045\n",
      "207/207 [==============================] - 91s 441ms/step - loss: 0.3415 - accuracy: 0.8440 - val_loss: 0.3852 - val_accuracy: 0.8064\n",
      "Epoch 14/50\n",
      "207/207 [==============================] - ETA: 0s - loss: 0.3334 - accuracy: 0.8484\n",
      "Epoch 00014: val_accuracy improved from 0.84045 to 0.84136, saving model to model.h5\n",
      "207/207 [==============================] - 93s 451ms/step - loss: 0.3334 - accuracy: 0.8484 - val_loss: 0.3499 - val_accuracy: 0.8414\n",
      "Epoch 15/50\n",
      "207/207 [==============================] - ETA: 0s - loss: 0.3351 - accuracy: 0.8443\n",
      "Epoch 00015: val_accuracy improved from 0.84136 to 0.84227, saving model to model.h5\n",
      "207/207 [==============================] - 92s 446ms/step - loss: 0.3351 - accuracy: 0.8443 - val_loss: 0.3438 - val_accuracy: 0.8423\n",
      "Epoch 16/50\n",
      "207/207 [==============================] - ETA: 0s - loss: 0.3256 - accuracy: 0.8510\n",
      "Epoch 00016: val_accuracy improved from 0.84227 to 0.84409, saving model to model.h5\n",
      "207/207 [==============================] - 93s 450ms/step - loss: 0.3256 - accuracy: 0.8510 - val_loss: 0.3448 - val_accuracy: 0.8441\n",
      "Epoch 17/50\n",
      "207/207 [==============================] - ETA: 0s - loss: 0.3207 - accuracy: 0.8539\n",
      "Epoch 00017: val_accuracy did not improve from 0.84409\n",
      "207/207 [==============================] - 92s 445ms/step - loss: 0.3207 - accuracy: 0.8539 - val_loss: 0.3527 - val_accuracy: 0.8382\n",
      "Epoch 18/50\n",
      "207/207 [==============================] - ETA: 0s - loss: 0.3270 - accuracy: 0.8507\n",
      "Epoch 00018: val_accuracy did not improve from 0.84409\n",
      "207/207 [==============================] - 92s 446ms/step - loss: 0.3270 - accuracy: 0.8507 - val_loss: 0.3451 - val_accuracy: 0.8441\n",
      "Epoch 19/50\n",
      "207/207 [==============================] - ETA: 0s - loss: 0.3123 - accuracy: 0.8605\n",
      "Epoch 00019: val_accuracy improved from 0.84409 to 0.84636, saving model to model.h5\n",
      "207/207 [==============================] - 95s 461ms/step - loss: 0.3123 - accuracy: 0.8605 - val_loss: 0.3428 - val_accuracy: 0.8464\n",
      "Epoch 20/50\n",
      "207/207 [==============================] - ETA: 0s - loss: 0.3219 - accuracy: 0.8521\n",
      "Epoch 00020: val_accuracy improved from 0.84636 to 0.85136, saving model to model.h5\n",
      "207/207 [==============================] - 96s 464ms/step - loss: 0.3219 - accuracy: 0.8521 - val_loss: 0.3329 - val_accuracy: 0.8514\n",
      "Epoch 21/50\n",
      "207/207 [==============================] - ETA: 0s - loss: 0.3123 - accuracy: 0.8599\n",
      "Epoch 00021: val_accuracy did not improve from 0.85136\n",
      "207/207 [==============================] - 96s 465ms/step - loss: 0.3123 - accuracy: 0.8599 - val_loss: 0.3559 - val_accuracy: 0.8386\n",
      "Epoch 22/50\n",
      "207/207 [==============================] - ETA: 0s - loss: 0.3147 - accuracy: 0.8552\n",
      "Epoch 00022: val_accuracy improved from 0.85136 to 0.85318, saving model to model.h5\n",
      "207/207 [==============================] - 97s 469ms/step - loss: 0.3147 - accuracy: 0.8552 - val_loss: 0.3276 - val_accuracy: 0.8532\n",
      "Epoch 23/50\n",
      "207/207 [==============================] - ETA: 0s - loss: 0.3048 - accuracy: 0.8636\n",
      "Epoch 00023: val_accuracy did not improve from 0.85318\n",
      "207/207 [==============================] - 97s 469ms/step - loss: 0.3048 - accuracy: 0.8636 - val_loss: 0.3341 - val_accuracy: 0.8514\n",
      "Epoch 24/50\n",
      "207/207 [==============================] - ETA: 0s - loss: 0.3031 - accuracy: 0.8643\n",
      "Epoch 00024: val_accuracy did not improve from 0.85318\n",
      "207/207 [==============================] - 98s 473ms/step - loss: 0.3031 - accuracy: 0.8643 - val_loss: 0.3882 - val_accuracy: 0.8282\n",
      "Epoch 25/50\n",
      "207/207 [==============================] - ETA: 0s - loss: 0.2947 - accuracy: 0.8693\n",
      "Epoch 00025: val_accuracy improved from 0.85318 to 0.85773, saving model to model.h5\n",
      "207/207 [==============================] - 95s 460ms/step - loss: 0.2947 - accuracy: 0.8693 - val_loss: 0.3205 - val_accuracy: 0.8577\n",
      "Epoch 26/50\n",
      "207/207 [==============================] - ETA: 0s - loss: 0.2908 - accuracy: 0.8716\n",
      "Epoch 00026: val_accuracy did not improve from 0.85773\n",
      "207/207 [==============================] - 97s 470ms/step - loss: 0.2908 - accuracy: 0.8716 - val_loss: 0.3461 - val_accuracy: 0.8495\n",
      "Epoch 27/50\n",
      "207/207 [==============================] - ETA: 0s - loss: 0.2875 - accuracy: 0.8716\n",
      "Epoch 00027: val_accuracy did not improve from 0.85773\n",
      "207/207 [==============================] - 97s 469ms/step - loss: 0.2875 - accuracy: 0.8716 - val_loss: 0.3474 - val_accuracy: 0.8509\n",
      "Epoch 28/50\n",
      "207/207 [==============================] - ETA: 0s - loss: 0.2917 - accuracy: 0.8718\n",
      "Epoch 00028: val_accuracy improved from 0.85773 to 0.86091, saving model to model.h5\n",
      "207/207 [==============================] - 98s 474ms/step - loss: 0.2917 - accuracy: 0.8718 - val_loss: 0.3186 - val_accuracy: 0.8609\n",
      "Epoch 29/50\n",
      "207/207 [==============================] - ETA: 0s - loss: 0.2934 - accuracy: 0.8675\n",
      "Epoch 00029: val_accuracy did not improve from 0.86091\n",
      "207/207 [==============================] - 99s 481ms/step - loss: 0.2934 - accuracy: 0.8675 - val_loss: 0.3513 - val_accuracy: 0.8427\n",
      "Epoch 30/50\n",
      "207/207 [==============================] - ETA: 0s - loss: 0.2867 - accuracy: 0.8733\n",
      "Epoch 00030: val_accuracy did not improve from 0.86091\n",
      "207/207 [==============================] - 97s 469ms/step - loss: 0.2867 - accuracy: 0.8733 - val_loss: 0.3215 - val_accuracy: 0.8582\n",
      "Epoch 31/50\n",
      "207/207 [==============================] - ETA: 0s - loss: 0.2812 - accuracy: 0.8790\n",
      "Epoch 00031: val_accuracy did not improve from 0.86091\n",
      "207/207 [==============================] - 95s 457ms/step - loss: 0.2812 - accuracy: 0.8790 - val_loss: 0.3417 - val_accuracy: 0.8436\n",
      "Epoch 32/50\n",
      "207/207 [==============================] - ETA: 0s - loss: 0.2811 - accuracy: 0.8724\n",
      "Epoch 00032: val_accuracy did not improve from 0.86091\n",
      "207/207 [==============================] - 94s 453ms/step - loss: 0.2811 - accuracy: 0.8724 - val_loss: 0.3262 - val_accuracy: 0.8545\n",
      "Epoch 33/50\n",
      "207/207 [==============================] - ETA: 0s - loss: 0.2829 - accuracy: 0.8733\n",
      "Epoch 00033: val_accuracy improved from 0.86091 to 0.86273, saving model to model.h5\n",
      "207/207 [==============================] - 94s 455ms/step - loss: 0.2829 - accuracy: 0.8733 - val_loss: 0.3136 - val_accuracy: 0.8627\n",
      "Epoch 34/50\n",
      "207/207 [==============================] - ETA: 0s - loss: 0.2681 - accuracy: 0.8833\n",
      "Epoch 00034: val_accuracy did not improve from 0.86273\n",
      "207/207 [==============================] - 92s 446ms/step - loss: 0.2681 - accuracy: 0.8833 - val_loss: 0.3357 - val_accuracy: 0.8514\n",
      "Epoch 35/50\n",
      "207/207 [==============================] - ETA: 0s - loss: 0.2803 - accuracy: 0.8798\n",
      "Epoch 00035: val_accuracy did not improve from 0.86273\n",
      "207/207 [==============================] - 95s 460ms/step - loss: 0.2803 - accuracy: 0.8798 - val_loss: 0.3203 - val_accuracy: 0.8586\n",
      "Epoch 36/50\n",
      "207/207 [==============================] - ETA: 0s - loss: 0.2779 - accuracy: 0.8781\n",
      "Epoch 00036: val_accuracy improved from 0.86273 to 0.87000, saving model to model.h5\n",
      "207/207 [==============================] - 94s 455ms/step - loss: 0.2779 - accuracy: 0.8781 - val_loss: 0.3137 - val_accuracy: 0.8700\n",
      "Epoch 37/50\n",
      "207/207 [==============================] - ETA: 0s - loss: 0.2720 - accuracy: 0.8812\n",
      "Epoch 00037: val_accuracy did not improve from 0.87000\n",
      "207/207 [==============================] - 91s 441ms/step - loss: 0.2720 - accuracy: 0.8812 - val_loss: 0.3478 - val_accuracy: 0.8477\n",
      "Epoch 38/50\n",
      "207/207 [==============================] - ETA: 0s - loss: 0.2698 - accuracy: 0.8806\n",
      "Epoch 00038: val_accuracy did not improve from 0.87000\n",
      "\n",
      "Epoch 00038: ReduceLROnPlateau reducing learning rate to 0.00010000000474974513.\n",
      "207/207 [==============================] - 94s 453ms/step - loss: 0.2698 - accuracy: 0.8806 - val_loss: 0.3201 - val_accuracy: 0.8532\n",
      "Epoch 39/50\n",
      "207/207 [==============================] - ETA: 0s - loss: 0.2441 - accuracy: 0.8978\n",
      "Epoch 00039: val_accuracy did not improve from 0.87000\n",
      "207/207 [==============================] - 95s 460ms/step - loss: 0.2441 - accuracy: 0.8978 - val_loss: 0.3191 - val_accuracy: 0.8577\n",
      "Epoch 40/50\n",
      "207/207 [==============================] - ETA: 0s - loss: 0.2362 - accuracy: 0.9025\n",
      "Epoch 00040: val_accuracy did not improve from 0.87000\n",
      "207/207 [==============================] - 92s 445ms/step - loss: 0.2362 - accuracy: 0.9025 - val_loss: 0.3215 - val_accuracy: 0.8564\n",
      "Epoch 41/50\n",
      "207/207 [==============================] - ETA: 0s - loss: 0.2317 - accuracy: 0.8977\n",
      "Epoch 00041: val_accuracy did not improve from 0.87000\n",
      "207/207 [==============================] - 94s 452ms/step - loss: 0.2317 - accuracy: 0.8977 - val_loss: 0.3215 - val_accuracy: 0.8586\n",
      "Epoch 42/50\n",
      "207/207 [==============================] - ETA: 0s - loss: 0.2284 - accuracy: 0.9036\n",
      "Epoch 00042: val_accuracy did not improve from 0.87000\n",
      "207/207 [==============================] - 94s 453ms/step - loss: 0.2284 - accuracy: 0.9036 - val_loss: 0.3195 - val_accuracy: 0.8600\n",
      "Epoch 43/50\n",
      "207/207 [==============================] - ETA: 0s - loss: 0.2324 - accuracy: 0.9000\n",
      "Epoch 00043: val_accuracy did not improve from 0.87000\n",
      "207/207 [==============================] - 93s 447ms/step - loss: 0.2324 - accuracy: 0.9000 - val_loss: 0.3064 - val_accuracy: 0.8700\n",
      "Epoch 44/50\n",
      "207/207 [==============================] - ETA: 0s - loss: 0.2316 - accuracy: 0.9015\n",
      "Epoch 00044: val_accuracy did not improve from 0.87000\n",
      "207/207 [==============================] - 95s 459ms/step - loss: 0.2316 - accuracy: 0.9015 - val_loss: 0.3143 - val_accuracy: 0.8641\n",
      "Epoch 45/50\n",
      "207/207 [==============================] - ETA: 0s - loss: 0.2351 - accuracy: 0.9028\n",
      "Epoch 00045: val_accuracy did not improve from 0.87000\n",
      "207/207 [==============================] - 95s 461ms/step - loss: 0.2351 - accuracy: 0.9028 - val_loss: 0.3127 - val_accuracy: 0.8664\n",
      "Epoch 46/50\n",
      "207/207 [==============================] - ETA: 0s - loss: 0.2292 - accuracy: 0.9050\n",
      "Epoch 00046: val_accuracy did not improve from 0.87000\n",
      "207/207 [==============================] - 94s 456ms/step - loss: 0.2292 - accuracy: 0.9050 - val_loss: 0.3135 - val_accuracy: 0.8659\n",
      "Epoch 47/50\n",
      "207/207 [==============================] - ETA: 0s - loss: 0.2217 - accuracy: 0.9068\n",
      "Epoch 00047: val_accuracy improved from 0.87000 to 0.87545, saving model to model.h5\n",
      "207/207 [==============================] - 97s 467ms/step - loss: 0.2217 - accuracy: 0.9068 - val_loss: 0.3061 - val_accuracy: 0.8755\n",
      "Epoch 48/50\n",
      "207/207 [==============================] - ETA: 0s - loss: 0.2290 - accuracy: 0.9045\n",
      "Epoch 00048: val_accuracy did not improve from 0.87545\n",
      "207/207 [==============================] - 97s 467ms/step - loss: 0.2290 - accuracy: 0.9045 - val_loss: 0.3107 - val_accuracy: 0.8727\n",
      "Epoch 49/50\n",
      "207/207 [==============================] - ETA: 0s - loss: 0.2272 - accuracy: 0.9077\n",
      "Epoch 00049: val_accuracy did not improve from 0.87545\n",
      "207/207 [==============================] - 94s 454ms/step - loss: 0.2272 - accuracy: 0.9077 - val_loss: 0.3125 - val_accuracy: 0.8709\n",
      "Epoch 50/50\n",
      "207/207 [==============================] - ETA: 0s - loss: 0.2262 - accuracy: 0.9034\n",
      "Epoch 00050: val_accuracy did not improve from 0.87545\n",
      "207/207 [==============================] - 96s 464ms/step - loss: 0.2262 - accuracy: 0.9034 - val_loss: 0.3100 - val_accuracy: 0.8718\n"
     ]
    }
   ],
   "source": [
    "history = model.fit(\n",
    "    train_gen,\n",
    "    steps_per_epoch= steps_per_epoch,\n",
    "    validation_data=val_gen,\n",
    "    validation_steps= validation_steps,\n",
    "    epochs=epochs,\n",
    "    callbacks=[es,mc,reduce_lr]\n",
    ")"
   ]
  },
  {
   "cell_type": "code",
   "execution_count": 11,
   "metadata": {
    "execution": {
     "iopub.execute_input": "2021-03-19T13:31:33.635321Z",
     "iopub.status.busy": "2021-03-19T13:31:33.632250Z",
     "iopub.status.idle": "2021-03-19T13:31:33.938373Z",
     "shell.execute_reply": "2021-03-19T13:31:33.938850Z"
    },
    "papermill": {
     "duration": 3.789021,
     "end_time": "2021-03-19T13:31:33.938979",
     "exception": false,
     "start_time": "2021-03-19T13:31:30.149958",
     "status": "completed"
    },
    "tags": []
   },
   "outputs": [
    {
     "name": "stdout",
     "output_type": "stream",
     "text": [
      "dict_keys(['loss', 'accuracy', 'val_loss', 'val_accuracy', 'lr'])\n"
     ]
    },
    {
     "data": {
      "image/png": "[encoded data removed]",
      "text/plain": [
       "<Figure size 1008x1152 with 2 Axes>"
      ]
     },
     "metadata": {
      "needs_background": "light"
     },
     "output_type": "display_data"
    }
   ],
   "source": [
    "def history_plot(model_id, history1):\n",
    "\tplt.figure(figsize=(14,16)) \n",
    "\t# plot loss\n",
    "\tplt.subplot(2, 1, 1)\n",
    "\tplt.title('Cross Entropy Loss - ' + model_id, fontsize = 12)\n",
    "\tplt.plot(history1.history['loss'], color='blue', label='train base')\n",
    "\tplt.plot(history1.history['val_loss'], color='cyan', label='val base')\n",
    "\tplt.xlabel(\"Epochs\",fontsize = 12)\n",
    "\tplt.ylabel(\"Loss\", fontsize = 12)\n",
    "\tplt.legend(loc='upper right')\n",
    "\n",
    "\t# plot accuracy\n",
    "\tplt.subplot(2, 1, 2)\n",
    "\tplt.title('Classification Accuracy ' + model_id, fontsize = 10)\n",
    "\tplt.plot(history1.history['accuracy'], color='blue', label='train base')\n",
    "\tplt.plot(history1.history['val_accuracy'], color='cyan', label='val base')\n",
    "\tplt.xlabel(\"Epochs\", fontsize = 12)\n",
    "\tplt.ylabel(\"Accuracy\", fontsize = 12)\n",
    "\tplt.legend(loc='lower right')\n",
    "\n",
    "\tplt.show()\n",
    "\n",
    "print(history.history.keys())\n",
    "\n",
    "history_plot('CNN Model', history)"
   ]
  },
  {
   "cell_type": "code",
   "execution_count": 12,
   "metadata": {
    "execution": {
     "iopub.execute_input": "2021-03-19T13:31:41.265069Z",
     "iopub.status.busy": "2021-03-19T13:31:41.237805Z",
     "iopub.status.idle": "2021-03-19T13:31:56.069792Z",
     "shell.execute_reply": "2021-03-19T13:31:56.068719Z"
    },
    "papermill": {
     "duration": 18.640054,
     "end_time": "2021-03-19T13:31:56.069923",
     "exception": false,
     "start_time": "2021-03-19T13:31:37.429869",
     "status": "completed"
    },
    "tags": []
   },
   "outputs": [
    {
     "name": "stdout",
     "output_type": "stream",
     "text": [
      "predicting...\n",
      "118/118 [==============================] - 14s 121ms/step\n",
      "              precision    recall  f1-score   support\n",
      "\n",
      "   No Defect       0.88      0.87      0.87      1771\n",
      "      Defect       0.89      0.89      0.89      2000\n",
      "\n",
      "    accuracy                           0.88      3771\n",
      "   macro avg       0.88      0.88      0.88      3771\n",
      "weighted avg       0.88      0.88      0.88      3771\n",
      "\n"
     ]
    }
   ],
   "source": [
    "# Save results as CSV files\n",
    "model.load_weights('model.h5')\n",
    "#saved_model = load_model(checkpoint_best_model)\n",
    "\n",
    "category_names = [\"No Defect\", \"Defect\"]\n",
    "\n",
    "y_test = df_test['defect_label']\n",
    "\n",
    "STEP_SIZE_TEST = compute_steps_per_epoch(y_test.shape[0])\n",
    "print('predicting...')\n",
    "\n",
    "predictions = model.predict(\n",
    "    test_gen,\n",
    "    steps = STEP_SIZE_TEST,\n",
    "    verbose=1)\n",
    "\n",
    "y_pred = (predictions > 0.5).astype(\"int32\")\n",
    "\n",
    "# classification report\n",
    "report_string = classification_report(y_test, y_pred, target_names=category_names)\n",
    "print(report_string)"
   ]
  },
  {
   "cell_type": "code",
   "execution_count": 13,
   "metadata": {
    "execution": {
     "iopub.execute_input": "2021-03-19T13:32:03.451312Z",
     "iopub.status.busy": "2021-03-19T13:32:03.450413Z",
     "iopub.status.idle": "2021-03-19T13:32:03.646499Z",
     "shell.execute_reply": "2021-03-19T13:32:03.647072Z"
    },
    "papermill": {
     "duration": 3.837162,
     "end_time": "2021-03-19T13:32:03.647209",
     "exception": false,
     "start_time": "2021-03-19T13:31:59.810047",
     "status": "completed"
    },
    "tags": []
   },
   "outputs": [
    {
     "data": {
      "image/png": "[encoded data removed]",
      "text/plain": [
       "<Figure size 432x360 with 2 Axes>"
      ]
     },
     "metadata": {
      "needs_background": "light"
     },
     "output_type": "display_data"
    }
   ],
   "source": [
    "def plot_cm(y_true, y_pred, figsize=(6,5)):\n",
    "    cm = confusion_matrix(y_true, y_pred, labels=np.unique(y_true))\n",
    "    cm_sum = np.sum(cm, axis=1, keepdims=True)\n",
    "    cm_perc = cm / cm_sum.astype(float) * 100\n",
    "    annot = np.empty_like(cm).astype(str)\n",
    "    nrows, ncols = cm.shape\n",
    "    for i in range(nrows):\n",
    "        for j in range(ncols):\n",
    "            c = cm[i, j]\n",
    "            p = cm_perc[i, j]\n",
    "            if i == j:\n",
    "                s = cm_sum[i]\n",
    "                annot[i, j] = '%.1f%%\\n%d/%d' % (p, c, s)\n",
    "            elif c == 0:\n",
    "                annot[i, j] = ''\n",
    "            elif i<j:\n",
    "                annot[i, j] = '%.1f%%\\n%d\\nFP' % (p, c)\n",
    "            else:\n",
    "                annot[i, j] = '%.1f%%\\n%d\\nFN' % (p, c)\n",
    "    #cm = pd.DataFrame(cm, index=np.unique(y_true), columns=np.unique(y_true))\n",
    "    cm = pd.DataFrame(cm, index=category_names, columns=category_names)\n",
    "    cm.index.name = 'Actual'\n",
    "    cm.columns.name = 'Predicted'\n",
    "    fig, ax = plt.subplots(figsize=figsize)\n",
    "    sns.set(font_scale=1.4)\n",
    "    sns.heatmap(cm, cmap= \"YlGnBu\", annot=annot, fmt='', ax=ax, annot_kws={\"fontsize\":12})\n",
    "\n",
    "plot_cm(y_test, y_pred, figsize=(6,5))"
   ]
  },
  {
   "cell_type": "code",
   "execution_count": 14,
   "metadata": {
    "execution": {
     "iopub.execute_input": "2021-03-19T13:32:10.828799Z",
     "iopub.status.busy": "2021-03-19T13:32:10.827846Z",
     "iopub.status.idle": "2021-03-19T13:32:11.208862Z",
     "shell.execute_reply": "2021-03-19T13:32:11.209253Z"
    },
    "papermill": {
     "duration": 4.034902,
     "end_time": "2021-03-19T13:32:11.209389",
     "exception": false,
     "start_time": "2021-03-19T13:32:07.174487",
     "status": "completed"
    },
    "tags": []
   },
   "outputs": [
    {
     "name": "stdout",
     "output_type": "stream",
     "text": [
      "ROC AUC=0.950\n"
     ]
    },
    {
     "data": {
      "image/png": "[encoded data removed]",
      "text/plain": [
       "<Figure size 432x288 with 1 Axes>"
      ]
     },
     "metadata": {},
     "output_type": "display_data"
    }
   ],
   "source": [
    "from sklearn.metrics import roc_curve, auc, roc_auc_score\n",
    "\n",
    "# calculate scores\n",
    "auc = roc_auc_score(y_test, predictions)\n",
    "# summarize scores\n",
    "print('ROC AUC=%.3f' % (auc))\n",
    "# calculate roc curves\n",
    "\n",
    "ns_fpr, ns_tpr, _ = roc_curve(y_test, predictions)\n",
    "\n",
    "# plot the roc curve for the model\n",
    "plt.plot(ns_fpr, ns_tpr, linestyle='--', label=\"AUC = \"+ str(auc))\n",
    "plt.plot([0, 1], [0, 1], color='navy', lw=2, linestyle='--')\n",
    "# axis labels\n",
    "plt.xlabel('False Positive Rate')\n",
    "plt.ylabel('True Positive Rate')\n",
    "# show the legend\n",
    "plt.legend()\n",
    "# show the plot\n",
    "plt.show()"
   ]
  },
  {
   "cell_type": "code",
   "execution_count": 15,
   "metadata": {
    "execution": {
     "iopub.execute_input": "2021-03-19T13:32:18.350203Z",
     "iopub.status.busy": "2021-03-19T13:32:18.349307Z",
     "iopub.status.idle": "2021-03-19T13:32:18.577095Z",
     "shell.execute_reply": "2021-03-19T13:32:18.576580Z"
    },
    "papermill": {
     "duration": 3.764023,
     "end_time": "2021-03-19T13:32:18.577196",
     "exception": false,
     "start_time": "2021-03-19T13:32:14.813173",
     "status": "completed"
    },
    "tags": []
   },
   "outputs": [],
   "source": [
    "model.save('severstal-classification-VGG.h5', save_format=\"h5\")\n"
   ]
  },
  {
   "cell_type": "code",
   "execution_count": null,
   "metadata": {
    "papermill": {
     "duration": 3.513549,
     "end_time": "2021-03-19T13:32:25.830961",
     "exception": false,
     "start_time": "2021-03-19T13:32:22.317412",
     "status": "completed"
    },
    "tags": []
   },
   "outputs": [],
   "source": []
  }
 ],
 "metadata": {
  "kernelspec": {
   "display_name": "Python 3",
   "language": "python",
   "name": "python3"
  },
  "language_info": {
   "codemirror_mode": {
    "name": "ipython",
    "version": 3
   },
   "file_extension": ".py",
   "mimetype": "text/x-python",
   "name": "python",
   "nbconvert_exporter": "python",
   "pygments_lexer": "ipython3",
   "version": "3.8.3"
  },
  "papermill": {
   "duration": 5057.220036,
   "end_time": "2021-03-19T13:32:30.943316",
   "environment_variables": {},
   "exception": null,
   "input_path": "__notebook__.ipynb",
   "output_path": "__notebook__.ipynb",
   "parameters": {},
   "start_time": "2021-03-19T12:08:13.723280",
   "version": "2.1.0"
  }
 },
 "nbformat": 4,
 "nbformat_minor": 4
}
