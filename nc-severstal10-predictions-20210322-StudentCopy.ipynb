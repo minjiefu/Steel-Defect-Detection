{
 "cells": [
  {
   "cell_type": "code",
   "execution_count": 1,
   "metadata": {
    "_cell_guid": "b1076dfc-b9ad-4769-8c92-a6c4dae69d19",
    "_uuid": "8f2839f25d086af736a60e9eeb907d3b93b6e0e5",
    "execution": {
     "iopub.execute_input": "2021-03-21T14:09:07.363069Z",
     "iopub.status.busy": "2021-03-21T14:09:07.362442Z",
     "iopub.status.idle": "2021-03-21T14:09:13.425216Z",
     "shell.execute_reply": "2021-03-21T14:09:13.424141Z"
    },
    "papermill": {
     "duration": 6.084899,
     "end_time": "2021-03-21T14:09:13.425410",
     "exception": false,
     "start_time": "2021-03-21T14:09:07.340511",
     "status": "completed"
    },
    "tags": []
   },
   "outputs": [],
   "source": [
    "import os\n",
    "import gc\n",
    "import cv2\n",
    "import keras\n",
    "from keras import backend as K\n",
    "from keras import layers\n",
    "from keras.preprocessing.image import ImageDataGenerator\n",
    "from keras.models import Model, load_model\n",
    "from keras.layers import Input\n",
    "from keras.layers.convolutional import Conv2D, Conv2DTranspose\n",
    "from keras.layers.pooling import MaxPooling2D\n",
    "from keras.layers.merge import concatenate\n",
    "from keras.optimizers import Adam\n",
    "from keras.callbacks import Callback, ModelCheckpoint\n",
    "import matplotlib.pyplot as plt\n",
    "import numpy as np\n",
    "import pandas as pd\n",
    "from tqdm import tqdm\n",
    "from sklearn.model_selection import train_test_split"
   ]
  },
  {
   "cell_type": "markdown",
   "metadata": {
    "papermill": {
     "duration": 0.013763,
     "end_time": "2021-03-21T14:09:13.453607",
     "exception": false,
     "start_time": "2021-03-21T14:09:13.439844",
     "status": "completed"
    },
    "tags": []
   },
   "source": [
    "# Read submission samples"
   ]
  },
  {
   "cell_type": "code",
   "execution_count": 2,
   "metadata": {
    "execution": {
     "iopub.execute_input": "2021-03-21T14:09:13.487604Z",
     "iopub.status.busy": "2021-03-21T14:09:13.487015Z",
     "iopub.status.idle": "2021-03-21T14:09:13.521688Z",
     "shell.execute_reply": "2021-03-21T14:09:13.522146Z"
    },
    "papermill": {
     "duration": 0.054773,
     "end_time": "2021-03-21T14:09:13.522298",
     "exception": false,
     "start_time": "2021-03-21T14:09:13.467525",
     "status": "completed"
    },
    "tags": []
   },
   "outputs": [
    {
     "name": "stdout",
     "output_type": "stream",
     "text": [
      "(5506, 3)\n"
     ]
    },
    {
     "data": {
      "text/html": [
       "<div>\n",
       "<style scoped>\n",
       "    .dataframe tbody tr th:only-of-type {\n",
       "        vertical-align: middle;\n",
       "    }\n",
       "\n",
       "    .dataframe tbody tr th {\n",
       "        vertical-align: top;\n",
       "    }\n",
       "\n",
       "    .dataframe thead th {\n",
       "        text-align: right;\n",
       "    }\n",
       "</style>\n",
       "<table border=\"1\" class=\"dataframe\">\n",
       "  <thead>\n",
       "    <tr style=\"text-align: right;\">\n",
       "      <th></th>\n",
       "      <th>ImageId</th>\n",
       "      <th>EncodedPixels</th>\n",
       "      <th>ClassId</th>\n",
       "    </tr>\n",
       "  </thead>\n",
       "  <tbody>\n",
       "    <tr>\n",
       "      <th>0</th>\n",
       "      <td>0000f269f.jpg</td>\n",
       "      <td>1 409600</td>\n",
       "      <td>0</td>\n",
       "    </tr>\n",
       "    <tr>\n",
       "      <th>1</th>\n",
       "      <td>000ccc2ac.jpg</td>\n",
       "      <td>1 409600</td>\n",
       "      <td>0</td>\n",
       "    </tr>\n",
       "    <tr>\n",
       "      <th>2</th>\n",
       "      <td>002451917.jpg</td>\n",
       "      <td>1 409600</td>\n",
       "      <td>0</td>\n",
       "    </tr>\n",
       "    <tr>\n",
       "      <th>3</th>\n",
       "      <td>003c5da97.jpg</td>\n",
       "      <td>1 409600</td>\n",
       "      <td>0</td>\n",
       "    </tr>\n",
       "    <tr>\n",
       "      <th>4</th>\n",
       "      <td>0042e163f.jpg</td>\n",
       "      <td>1 409600</td>\n",
       "      <td>0</td>\n",
       "    </tr>\n",
       "  </tbody>\n",
       "</table>\n",
       "</div>"
      ],
      "text/plain": [
       "         ImageId EncodedPixels  ClassId\n",
       "0  0000f269f.jpg      1 409600        0\n",
       "1  000ccc2ac.jpg      1 409600        0\n",
       "2  002451917.jpg      1 409600        0\n",
       "3  003c5da97.jpg      1 409600        0\n",
       "4  0042e163f.jpg      1 409600        0"
      ]
     },
     "execution_count": 2,
     "metadata": {},
     "output_type": "execute_result"
    }
   ],
   "source": [
    "submission_df = pd.read_csv('../input/severstal-steel-defect-detection/sample_submission.csv')\n",
    "print(submission_df.shape)\n",
    "submission_df.head()\n"
   ]
  },
  {
   "cell_type": "code",
   "execution_count": 3,
   "metadata": {
    "execution": {
     "iopub.execute_input": "2021-03-21T14:09:13.559225Z",
     "iopub.status.busy": "2021-03-21T14:09:13.558387Z",
     "iopub.status.idle": "2021-03-21T14:09:13.569085Z",
     "shell.execute_reply": "2021-03-21T14:09:13.568487Z"
    },
    "papermill": {
     "duration": 0.031614,
     "end_time": "2021-03-21T14:09:13.569239",
     "exception": false,
     "start_time": "2021-03-21T14:09:13.537625",
     "status": "completed"
    },
    "tags": []
   },
   "outputs": [
    {
     "name": "stdout",
     "output_type": "stream",
     "text": [
      "(5506, 1)\n"
     ]
    },
    {
     "data": {
      "text/html": [
       "<div>\n",
       "<style scoped>\n",
       "    .dataframe tbody tr th:only-of-type {\n",
       "        vertical-align: middle;\n",
       "    }\n",
       "\n",
       "    .dataframe tbody tr th {\n",
       "        vertical-align: top;\n",
       "    }\n",
       "\n",
       "    .dataframe thead th {\n",
       "        text-align: right;\n",
       "    }\n",
       "</style>\n",
       "<table border=\"1\" class=\"dataframe\">\n",
       "  <thead>\n",
       "    <tr style=\"text-align: right;\">\n",
       "      <th></th>\n",
       "      <th>ImageId</th>\n",
       "    </tr>\n",
       "  </thead>\n",
       "  <tbody>\n",
       "    <tr>\n",
       "      <th>0</th>\n",
       "      <td>0000f269f.jpg</td>\n",
       "    </tr>\n",
       "    <tr>\n",
       "      <th>1</th>\n",
       "      <td>000ccc2ac.jpg</td>\n",
       "    </tr>\n",
       "    <tr>\n",
       "      <th>2</th>\n",
       "      <td>002451917.jpg</td>\n",
       "    </tr>\n",
       "    <tr>\n",
       "      <th>3</th>\n",
       "      <td>003c5da97.jpg</td>\n",
       "    </tr>\n",
       "    <tr>\n",
       "      <th>4</th>\n",
       "      <td>0042e163f.jpg</td>\n",
       "    </tr>\n",
       "  </tbody>\n",
       "</table>\n",
       "</div>"
      ],
      "text/plain": [
       "         ImageId\n",
       "0  0000f269f.jpg\n",
       "1  000ccc2ac.jpg\n",
       "2  002451917.jpg\n",
       "3  003c5da97.jpg\n",
       "4  0042e163f.jpg"
      ]
     },
     "execution_count": 3,
     "metadata": {},
     "output_type": "execute_result"
    }
   ],
   "source": [
    "unique_test_images = submission_df['ImageId'].unique()\n",
    "len(unique_test_images)\n",
    "test_df = pd.DataFrame(unique_test_images, columns=['ImageId'])\n",
    "print(test_df.shape)\n",
    "test_df.head()"
   ]
  },
  {
   "cell_type": "code",
   "execution_count": 4,
   "metadata": {
    "execution": {
     "iopub.execute_input": "2021-03-21T14:09:13.603088Z",
     "iopub.status.busy": "2021-03-21T14:09:13.602556Z",
     "iopub.status.idle": "2021-03-21T14:09:13.606637Z",
     "shell.execute_reply": "2021-03-21T14:09:13.606153Z"
    },
    "papermill": {
     "duration": 0.022178,
     "end_time": "2021-03-21T14:09:13.606756",
     "exception": false,
     "start_time": "2021-03-21T14:09:13.584578",
     "status": "completed"
    },
    "tags": []
   },
   "outputs": [],
   "source": [
    "TEST_PATH = '../input/severstal-steel-defect-detection/test_images/'\n"
   ]
  },
  {
   "cell_type": "code",
   "execution_count": 5,
   "metadata": {
    "execution": {
     "iopub.execute_input": "2021-03-21T14:09:13.643180Z",
     "iopub.status.busy": "2021-03-21T14:09:13.641513Z",
     "iopub.status.idle": "2021-03-21T14:09:13.643769Z",
     "shell.execute_reply": "2021-03-21T14:09:13.644176Z"
    },
    "papermill": {
     "duration": 0.021836,
     "end_time": "2021-03-21T14:09:13.644305",
     "exception": false,
     "start_time": "2021-03-21T14:09:13.622469",
     "status": "completed"
    },
    "tags": []
   },
   "outputs": [],
   "source": [
    "BATCH_SIZE = 32\n",
    "IMAGE_SIZE = 256"
   ]
  },
  {
   "cell_type": "code",
   "execution_count": 6,
   "metadata": {
    "execution": {
     "iopub.execute_input": "2021-03-21T14:09:13.692365Z",
     "iopub.status.busy": "2021-03-21T14:09:13.691868Z",
     "iopub.status.idle": "2021-03-21T14:09:27.504048Z",
     "shell.execute_reply": "2021-03-21T14:09:27.503458Z"
    },
    "papermill": {
     "duration": 13.843805,
     "end_time": "2021-03-21T14:09:27.504197",
     "exception": false,
     "start_time": "2021-03-21T14:09:13.660392",
     "status": "completed"
    },
    "tags": []
   },
   "outputs": [
    {
     "name": "stdout",
     "output_type": "stream",
     "text": [
      "Found 5506 validated image filenames.\n"
     ]
    }
   ],
   "source": [
    "submit_test_gen = ImageDataGenerator(rescale=1/255.).flow_from_dataframe(\n",
    "        test_df,\n",
    "        directory='../input/severstal-steel-defect-detection/test_images/',\n",
    "        x_col='ImageId',\n",
    "        class_mode=None,\n",
    "        target_size=(IMAGE_SIZE, IMAGE_SIZE),\n",
    "        batch_size=BATCH_SIZE,\n",
    "        shuffle=False\n",
    "    )"
   ]
  },
  {
   "cell_type": "markdown",
   "metadata": {
    "papermill": {
     "duration": 0.017112,
     "end_time": "2021-03-21T14:09:27.540679",
     "exception": false,
     "start_time": "2021-03-21T14:09:27.523567",
     "status": "completed"
    },
    "tags": []
   },
   "source": [
    "# Classification Prediction"
   ]
  },
  {
   "cell_type": "code",
   "execution_count": 7,
   "metadata": {
    "execution": {
     "iopub.execute_input": "2021-03-21T14:09:27.582885Z",
     "iopub.status.busy": "2021-03-21T14:09:27.582295Z",
     "iopub.status.idle": "2021-03-21T14:10:53.501539Z",
     "shell.execute_reply": "2021-03-21T14:10:53.501107Z"
    },
    "papermill": {
     "duration": 85.943236,
     "end_time": "2021-03-21T14:10:53.501672",
     "exception": false,
     "start_time": "2021-03-21T14:09:27.558436",
     "status": "completed"
    },
    "tags": []
   },
   "outputs": [
    {
     "name": "stdout",
     "output_type": "stream",
     "text": [
      "predicting...\n",
      "173/173 [==============================] - 76s 413ms/step\n"
     ]
    },
    {
     "data": {
      "text/html": [
       "<div>\n",
       "<style scoped>\n",
       "    .dataframe tbody tr th:only-of-type {\n",
       "        vertical-align: middle;\n",
       "    }\n",
       "\n",
       "    .dataframe tbody tr th {\n",
       "        vertical-align: top;\n",
       "    }\n",
       "\n",
       "    .dataframe thead th {\n",
       "        text-align: right;\n",
       "    }\n",
       "</style>\n",
       "<table border=\"1\" class=\"dataframe\">\n",
       "  <thead>\n",
       "    <tr style=\"text-align: right;\">\n",
       "      <th></th>\n",
       "      <th>ImageId</th>\n",
       "      <th>defect_label</th>\n",
       "    </tr>\n",
       "  </thead>\n",
       "  <tbody>\n",
       "    <tr>\n",
       "      <th>0</th>\n",
       "      <td>0000f269f.jpg</td>\n",
       "      <td>1</td>\n",
       "    </tr>\n",
       "    <tr>\n",
       "      <th>1</th>\n",
       "      <td>000ccc2ac.jpg</td>\n",
       "      <td>1</td>\n",
       "    </tr>\n",
       "    <tr>\n",
       "      <th>2</th>\n",
       "      <td>002451917.jpg</td>\n",
       "      <td>1</td>\n",
       "    </tr>\n",
       "    <tr>\n",
       "      <th>3</th>\n",
       "      <td>003c5da97.jpg</td>\n",
       "      <td>1</td>\n",
       "    </tr>\n",
       "    <tr>\n",
       "      <th>4</th>\n",
       "      <td>0042e163f.jpg</td>\n",
       "      <td>1</td>\n",
       "    </tr>\n",
       "  </tbody>\n",
       "</table>\n",
       "</div>"
      ],
      "text/plain": [
       "         ImageId  defect_label\n",
       "0  0000f269f.jpg             1\n",
       "1  000ccc2ac.jpg             1\n",
       "2  002451917.jpg             1\n",
       "3  003c5da97.jpg             1\n",
       "4  0042e163f.jpg             1"
      ]
     },
     "execution_count": 7,
     "metadata": {},
     "output_type": "execute_result"
    }
   ],
   "source": [
    "model = <YOUR_CODE_HERE>('../input/ncseverstal03classificationdensenet/severstal-classification-DenseNet.h5')\n",
    "\n",
    "import math\n",
    "# We take the ceiling because we do not drop the remainder of the batch\n",
    "compute_steps_per_epoch = lambda x: int(math.ceil(1. * x / BATCH_SIZE))\n",
    "\n",
    "STEP_SIZE_TEST = compute_steps_per_epoch(test_df.shape[0])\n",
    "print('predicting...')\n",
    "\n",
    "submit_test = model.<YOUR_CODE_HERE>(\n",
    "    submit_test_gen,\n",
    "    steps=STEP_SIZE_TEST,\n",
    "    verbose=1\n",
    ")\n",
    "\n",
    "test_df['defect_label'] = (<YOUR_CODE_HERE> > <YOUR_CODE_HERE>).astype(\"int32\")\n",
    "test_df.head()"
   ]
  },
  {
   "cell_type": "code",
   "execution_count": 8,
   "metadata": {
    "execution": {
     "iopub.execute_input": "2021-03-21T14:10:53.632250Z",
     "iopub.status.busy": "2021-03-21T14:10:53.631489Z",
     "iopub.status.idle": "2021-03-21T14:10:53.638030Z",
     "shell.execute_reply": "2021-03-21T14:10:53.637618Z"
    },
    "papermill": {
     "duration": 0.072755,
     "end_time": "2021-03-21T14:10:53.638142",
     "exception": false,
     "start_time": "2021-03-21T14:10:53.565387",
     "status": "completed"
    },
    "scrolled": true,
    "tags": []
   },
   "outputs": [
    {
     "data": {
      "text/plain": [
       "1    3430\n",
       "0    2076\n",
       "Name: defect_label, dtype: int64"
      ]
     },
     "execution_count": 8,
     "metadata": {},
     "output_type": "execute_result"
    }
   ],
   "source": [
    "test_df.defect_label.<YOUR_CODE_HERE>()"
   ]
  },
  {
   "cell_type": "code",
   "execution_count": 9,
   "metadata": {
    "execution": {
     "iopub.execute_input": "2021-03-21T14:10:53.769201Z",
     "iopub.status.busy": "2021-03-21T14:10:53.768412Z",
     "iopub.status.idle": "2021-03-21T14:10:53.793109Z",
     "shell.execute_reply": "2021-03-21T14:10:53.793533Z"
    },
    "papermill": {
     "duration": 0.092014,
     "end_time": "2021-03-21T14:10:53.793670",
     "exception": false,
     "start_time": "2021-03-21T14:10:53.701656",
     "status": "completed"
    },
    "tags": []
   },
   "outputs": [
    {
     "data": {
      "text/plain": [
       "(3430, 2)"
      ]
     },
     "execution_count": 9,
     "metadata": {},
     "output_type": "execute_result"
    }
   ],
   "source": [
    "test_df_defect =  test_df[test_df['defect_label'] == 1].copy()\n",
    "test_df_defect.shape"
   ]
  },
  {
   "cell_type": "code",
   "execution_count": 10,
   "metadata": {
    "execution": {
     "iopub.execute_input": "2021-03-21T14:10:53.926696Z",
     "iopub.status.busy": "2021-03-21T14:10:53.923525Z",
     "iopub.status.idle": "2021-03-21T14:10:53.929706Z",
     "shell.execute_reply": "2021-03-21T14:10:53.930148Z"
    },
    "papermill": {
     "duration": 0.074538,
     "end_time": "2021-03-21T14:10:53.930290",
     "exception": false,
     "start_time": "2021-03-21T14:10:53.855752",
     "status": "completed"
    },
    "tags": []
   },
   "outputs": [
    {
     "data": {
      "text/plain": [
       "(2076, 2)"
      ]
     },
     "execution_count": 10,
     "metadata": {},
     "output_type": "execute_result"
    }
   ],
   "source": [
    "test_df_noDefect =  test_df[test_df['defect_label'] == 0].copy()\n",
    "test_df_noDefect.shape"
   ]
  },
  {
   "cell_type": "markdown",
   "metadata": {
    "papermill": {
     "duration": 0.064271,
     "end_time": "2021-03-21T14:10:54.058139",
     "exception": false,
     "start_time": "2021-03-21T14:10:53.993868",
     "status": "completed"
    },
    "tags": []
   },
   "source": [
    "# Segmentation Prediction\n",
    "## Functions"
   ]
  },
  {
   "cell_type": "code",
   "execution_count": 11,
   "metadata": {
    "execution": {
     "iopub.execute_input": "2021-03-21T14:10:54.196803Z",
     "iopub.status.busy": "2021-03-21T14:10:54.195732Z",
     "iopub.status.idle": "2021-03-21T14:10:54.198580Z",
     "shell.execute_reply": "2021-03-21T14:10:54.198087Z"
    },
    "papermill": {
     "duration": 0.076739,
     "end_time": "2021-03-21T14:10:54.198708",
     "exception": false,
     "start_time": "2021-03-21T14:10:54.121969",
     "status": "completed"
    },
    "tags": []
   },
   "outputs": [],
   "source": [
    "def mask2rle(img):\n",
    "    '''\n",
    "    img: numpy array, 1 - mask, 0 - background\n",
    "    Returns run length as string formated\n",
    "    '''\n",
    "    pixels= img.T.flatten()\n",
    "    pixels = np.concatenate([[0], pixels, [0]])\n",
    "    runs = np.where(pixels[1:] != pixels[:-1])[0] + 1\n",
    "    runs[1::2] -= runs[::2]\n",
    "    return ' '.join(str(x) for x in runs)\n",
    "\n",
    "def rle2mask(rle, input_shape):\n",
    "    width, height = input_shape[:2]\n",
    "    \n",
    "    mask= np.zeros( width*height ).astype(np.uint8)\n",
    "    \n",
    "    array = np.asarray([int(x) for x in rle.split()])\n",
    "    starts = array[0::2]\n",
    "    starts-=1\n",
    "    lengths = array[1::2]\n",
    "\n",
    "    current_position = 0\n",
    "    for index, start in enumerate(starts):\n",
    "        mask[int(start):int(start+lengths[index])] = 1\n",
    "        current_position += lengths[index]\n",
    "        \n",
    "    return mask.reshape(height, width).T\n",
    "\n",
    "def build_rles(masks):\n",
    "    width, height, depth = masks.shape\n",
    "    \n",
    "    rles = [mask2rle(masks[:, :, i])\n",
    "            for i in range(depth)]\n",
    "    \n",
    "    return rles"
   ]
  },
  {
   "cell_type": "code",
   "execution_count": 12,
   "metadata": {
    "execution": {
     "iopub.execute_input": "2021-03-21T14:10:54.347651Z",
     "iopub.status.busy": "2021-03-21T14:10:54.341943Z",
     "iopub.status.idle": "2021-03-21T14:10:54.350605Z",
     "shell.execute_reply": "2021-03-21T14:10:54.350118Z"
    },
    "papermill": {
     "duration": 0.085348,
     "end_time": "2021-03-21T14:10:54.350750",
     "exception": false,
     "start_time": "2021-03-21T14:10:54.265402",
     "status": "completed"
    },
    "tags": []
   },
   "outputs": [],
   "source": [
    "class DataGenerator(keras.utils.Sequence):\n",
    "    'Generates data for Keras'\n",
    "    def __init__(self, list_IDs, df, target_df=None, mode='fit',\n",
    "                 base_path='../input/severstal-steel-defect-detection/train_images',\n",
    "                 batch_size=32, dim=(256, 1600), n_channels=1,\n",
    "                 n_classes=4, random_state=2021, shuffle=True):\n",
    "        self.dim = dim\n",
    "        self.batch_size = batch_size\n",
    "        self.df = df\n",
    "        self.mode = mode\n",
    "        self.base_path = base_path\n",
    "        self.target_df = target_df\n",
    "        self.list_IDs = list_IDs\n",
    "        self.n_channels = n_channels\n",
    "        self.n_classes = n_classes\n",
    "        self.shuffle = shuffle\n",
    "        self.random_state = random_state\n",
    "        \n",
    "        self.on_epoch_end()\n",
    "\n",
    "    def __len__(self):\n",
    "        'Denotes the number of batches per epoch'\n",
    "        return int(np.floor(len(self.list_IDs) / self.batch_size))\n",
    "\n",
    "    def __getitem__(self, index):\n",
    "        'Generate one batch of data'\n",
    "        # Generate indexes of the batch\n",
    "        indexes = self.indexes[index*self.batch_size:(index+1)*self.batch_size]\n",
    "\n",
    "        # Find list of IDs\n",
    "        list_IDs_batch = [self.list_IDs[k] for k in indexes]\n",
    "        \n",
    "        X = self.__generate_X(list_IDs_batch)\n",
    "        \n",
    "        if self.mode == 'fit':\n",
    "            y = self.__generate_y(list_IDs_batch)\n",
    "            return X, y\n",
    "        \n",
    "        elif self.mode == 'predict':\n",
    "            return X\n",
    "\n",
    "        else:\n",
    "            raise AttributeError('The mode parameter should be set to \"fit\" or \"predict\".')\n",
    "        \n",
    "    def on_epoch_end(self):\n",
    "        'Updates indexes after each epoch'\n",
    "        self.indexes = np.arange(len(self.list_IDs))\n",
    "        if self.shuffle == True:\n",
    "            np.random.seed(self.random_state)\n",
    "            np.random.shuffle(self.indexes)\n",
    "    \n",
    "    def __generate_X(self, list_IDs_batch):\n",
    "        'Generates data containing batch_size samples'\n",
    "        # Initialization\n",
    "        X = np.empty((self.batch_size, *self.dim, self.n_channels))\n",
    "        \n",
    "        # Generate data\n",
    "        for i, ID in enumerate(list_IDs_batch):\n",
    "            im_name = self.df['ImageId'].iloc[ID]\n",
    "            img_path = f\"{self.base_path}/{im_name}\"\n",
    "            if self.n_channels == 1:\n",
    "                img = self.__load_grayscale(img_path)\n",
    "            else:\n",
    "                img = self.__load_rgb(img_path)\n",
    "            \n",
    "            # Store samples\n",
    "            X[i,] = img\n",
    "\n",
    "        return X\n",
    "    \n",
    "    def __generate_y(self, list_IDs_batch):\n",
    "        y = np.empty((self.batch_size, *self.dim, self.n_classes), dtype=int)\n",
    "        \n",
    "        for i, ID in enumerate(list_IDs_batch):\n",
    "            im_name = self.df['ImageId'].iloc[ID]\n",
    "            image_df = self.target_df[self.target_df['ImageId'] == im_name].copy().reset_index()\n",
    "\n",
    "            masks = np.zeros((*self.dim, self.n_classes))\n",
    "            \n",
    "            for j in range(len(image_df)):\n",
    "                rle = image_df.loc[j,'EncodedPixels']\n",
    "                cls =  image_df.loc[j,'ClassId']\n",
    "                masks[:, :, cls-1] = rle2mask(rle, self.dim)\n",
    "    \n",
    "            y[i, ] = masks\n",
    "\n",
    "        return y\n",
    "    \n",
    "    def __load_grayscale(self, img_path):\n",
    "        img = cv2.imread(img_path, cv2.IMREAD_GRAYSCALE)\n",
    "        img = img.astype(np.float32) / 255.\n",
    "        img = np.expand_dims(img, axis=-1)\n",
    "\n",
    "        return img\n",
    "    \n",
    "    def __load_rgb(self, img_path):\n",
    "        img = cv2.imread(img_path)\n",
    "        img = cv2.cvtColor(img, cv2.COLOR_BGR2RGB)\n",
    "        img = img.astype(np.float32) / 255.\n",
    "\n",
    "        return img"
   ]
  },
  {
   "cell_type": "code",
   "execution_count": 13,
   "metadata": {
    "execution": {
     "iopub.execute_input": "2021-03-21T14:10:54.480115Z",
     "iopub.status.busy": "2021-03-21T14:10:54.479475Z",
     "iopub.status.idle": "2021-03-21T14:10:54.483347Z",
     "shell.execute_reply": "2021-03-21T14:10:54.482906Z"
    },
    "papermill": {
     "duration": 0.069407,
     "end_time": "2021-03-21T14:10:54.483464",
     "exception": false,
     "start_time": "2021-03-21T14:10:54.414057",
     "status": "completed"
    },
    "tags": []
   },
   "outputs": [],
   "source": [
    "def dice_coef(y_true, y_pred, smooth=1):\n",
    "    y_true_f = K.flatten(y_true)\n",
    "    y_pred_f = K.flatten(y_pred)\n",
    "    intersection = K.sum(y_true_f * y_pred_f)\n",
    "    return (2. * intersection + smooth) / (K.sum(y_true_f) + K.sum(y_pred_f) + smooth)"
   ]
  },
  {
   "cell_type": "markdown",
   "metadata": {
    "papermill": {
     "duration": 0.062363,
     "end_time": "2021-03-21T14:10:54.608781",
     "exception": false,
     "start_time": "2021-03-21T14:10:54.546418",
     "status": "completed"
    },
    "tags": []
   },
   "source": [
    "## Load segmentation saved model"
   ]
  },
  {
   "cell_type": "code",
   "execution_count": 14,
   "metadata": {
    "execution": {
     "iopub.execute_input": "2021-03-21T14:10:54.751015Z",
     "iopub.status.busy": "2021-03-21T14:10:54.749106Z",
     "iopub.status.idle": "2021-03-21T14:10:54.751571Z",
     "shell.execute_reply": "2021-03-21T14:10:54.751976Z"
    },
    "papermill": {
     "duration": 0.080697,
     "end_time": "2021-03-21T14:10:54.752108",
     "exception": false,
     "start_time": "2021-03-21T14:10:54.671411",
     "status": "completed"
    },
    "tags": []
   },
   "outputs": [],
   "source": [
    "def load_segmentation_model_and_predict(model_path,submission_file,n_channels):\n",
    "    dependencies = {\n",
    "        'dice_coef': dice_coef\n",
    "    }\n",
    "\n",
    "    model = load_model(model_path, custom_objects=<YOUR_CODE_HERE> )\n",
    "    \n",
    "    df = []\n",
    "    step = 300\n",
    "    \n",
    "    #Prediction for the predicted defected images  \n",
    "    for i in range(0, test_df_defect.shape[0], step):\n",
    "        batch_idx = list(\n",
    "            range(i, min(test_df_defect.shape[0], i + step))\n",
    "        )\n",
    "\n",
    "        test_generator = DataGenerator(\n",
    "            batch_idx,\n",
    "            df=test_df_defect,\n",
    "            shuffle=<YOUR_CODE_HERE>,\n",
    "            mode='<YOUR_CODE_HERE>',\n",
    "            base_path='../input/severstal-steel-defect-detection/test_images',\n",
    "            target_df=test_df_defect,\n",
    "            batch_size=1,\n",
    "            n_classes=<YOUR_CODE_HERE>,\n",
    "            n_channels=n_channels\n",
    "        )\n",
    "\n",
    "        batch_pred_masks = model.predict(\n",
    "            test_generator, \n",
    "            verbose=1,\n",
    "            )\n",
    "\n",
    "        for j, b in tqdm(enumerate(batch_idx)):\n",
    "            filename = test_df_defect['ImageId'].iloc[b]\n",
    "\n",
    "            data = {'ImageId':  [filename, filename, filename, filename],\n",
    "            'ClassId': [1,2,3,4],\n",
    "            'EncodedPixels': ['','','','' ]\n",
    "            }\n",
    "            image_df = pd.DataFrame(data, columns = ['ImageId','ClassId','EncodedPixels'])\n",
    "\n",
    "            pred_masks = batch_pred_masks[j, ].round().astype(int)\n",
    "            pred_rles = build_rles(pred_masks)\n",
    "            for i in range(4):\n",
    "                image_df.loc[i,'EncodedPixels'] = pred_rles[i]\n",
    "\n",
    "            df.append(image_df)\n",
    "\n",
    "        gc.collect()\n",
    "    df = pd.concat(df)\n",
    "        \n",
    "    #Now, we combine results from the predicted masks with the rest of images that our first CNN classified as having all 4 masks missing.\n",
    "\n",
    "    tt = []\n",
    "    for img in test_df_noDefect.index:\n",
    "            image_df = pd.DataFrame(columns = ['ImageId','ClassId','EncodedPixels'])\n",
    "            for i in range(4):\n",
    "                image_df.loc[i,'EncodedPixels'] = np.nan\n",
    "                image_df.loc[i,'ClassId'] = i+1\n",
    "                image_df.loc[i,'ImageId'] = test_df_noDefect.loc[img, \"ImageId\"]            \n",
    "\n",
    "            tt.append(image_df)\n",
    "\n",
    "    tt = pd.concat(tt)\n",
    "\n",
    "    #merge the defected predictions and no-defected \n",
    "    final_submission_df = pd.<YOUR_CODE_HERE>([df, tt])\n",
    "    \n",
    "    final_submission_df[\"EncodedPixels\"] = final_submission_df[\"EncodedPixels\"].apply(lambda x: np.nan if x == '' else x)\n",
    "    final_submission_df[\"ClassId\"] = final_submission_df[\"ClassId\"].astype(str)\n",
    "    final_submission_df['ImageId_ClassId'] = final_submission_df['ImageId']  + \"_\" + final_submission_df[\"ClassId\"]\n",
    "\n",
    "    final_submission_df[['ImageId_ClassId', 'EncodedPixels']].to_csv(submission_file, index=False)\n",
    "    print(\"Model: \", model_path)\n",
    "    print(\"Generated submission file: \", submission_file)"
   ]
  },
  {
   "cell_type": "markdown",
   "metadata": {
    "papermill": {
     "duration": 0.062342,
     "end_time": "2021-03-21T14:10:54.880852",
     "exception": false,
     "start_time": "2021-03-21T14:10:54.818510",
     "status": "completed"
    },
    "tags": []
   },
   "source": [
    "# Predictions and Submission file Gerneration for each model"
   ]
  },
  {
   "cell_type": "code",
   "execution_count": 15,
   "metadata": {
    "execution": {
     "iopub.execute_input": "2021-03-21T14:10:55.011682Z",
     "iopub.status.busy": "2021-03-21T14:10:55.011162Z",
     "iopub.status.idle": "2021-03-21T14:12:56.196094Z",
     "shell.execute_reply": "2021-03-21T14:12:56.195328Z"
    },
    "papermill": {
     "duration": 121.252328,
     "end_time": "2021-03-21T14:12:56.196230",
     "exception": false,
     "start_time": "2021-03-21T14:10:54.943902",
     "status": "completed"
    },
    "tags": []
   },
   "outputs": [
    {
     "name": "stdout",
     "output_type": "stream",
     "text": [
      "300/300 [==============================] - 4s 11ms/step\n"
     ]
    },
    {
     "name": "stderr",
     "output_type": "stream",
     "text": [
      "300it [00:04, 71.62it/s]\n"
     ]
    },
    {
     "name": "stdout",
     "output_type": "stream",
     "text": [
      "300/300 [==============================] - 3s 10ms/step\n"
     ]
    },
    {
     "name": "stderr",
     "output_type": "stream",
     "text": [
      "300it [00:04, 72.76it/s]\n"
     ]
    },
    {
     "name": "stdout",
     "output_type": "stream",
     "text": [
      "300/300 [==============================] - 3s 9ms/step\n"
     ]
    },
    {
     "name": "stderr",
     "output_type": "stream",
     "text": [
      "300it [00:04, 73.11it/s]\n"
     ]
    },
    {
     "name": "stdout",
     "output_type": "stream",
     "text": [
      "300/300 [==============================] - 3s 9ms/step\n"
     ]
    },
    {
     "name": "stderr",
     "output_type": "stream",
     "text": [
      "300it [00:04, 74.22it/s]\n"
     ]
    },
    {
     "name": "stdout",
     "output_type": "stream",
     "text": [
      "300/300 [==============================] - 3s 10ms/step\n"
     ]
    },
    {
     "name": "stderr",
     "output_type": "stream",
     "text": [
      "300it [00:03, 75.48it/s]\n"
     ]
    },
    {
     "name": "stdout",
     "output_type": "stream",
     "text": [
      "300/300 [==============================] - 3s 10ms/step\n"
     ]
    },
    {
     "name": "stderr",
     "output_type": "stream",
     "text": [
      "300it [00:04, 73.48it/s]\n"
     ]
    },
    {
     "name": "stdout",
     "output_type": "stream",
     "text": [
      "300/300 [==============================] - 3s 10ms/step\n"
     ]
    },
    {
     "name": "stderr",
     "output_type": "stream",
     "text": [
      "300it [00:04, 72.44it/s]\n"
     ]
    },
    {
     "name": "stdout",
     "output_type": "stream",
     "text": [
      "300/300 [==============================] - 3s 10ms/step\n"
     ]
    },
    {
     "name": "stderr",
     "output_type": "stream",
     "text": [
      "300it [00:04, 66.66it/s]\n"
     ]
    },
    {
     "name": "stdout",
     "output_type": "stream",
     "text": [
      "300/300 [==============================] - 3s 9ms/step\n"
     ]
    },
    {
     "name": "stderr",
     "output_type": "stream",
     "text": [
      "300it [00:04, 71.53it/s]\n"
     ]
    },
    {
     "name": "stdout",
     "output_type": "stream",
     "text": [
      "300/300 [==============================] - 3s 9ms/step\n"
     ]
    },
    {
     "name": "stderr",
     "output_type": "stream",
     "text": [
      "300it [00:04, 69.18it/s]\n"
     ]
    },
    {
     "name": "stdout",
     "output_type": "stream",
     "text": [
      "300/300 [==============================] - 3s 9ms/step\n"
     ]
    },
    {
     "name": "stderr",
     "output_type": "stream",
     "text": [
      "300it [00:04, 74.76it/s]\n"
     ]
    },
    {
     "name": "stdout",
     "output_type": "stream",
     "text": [
      "130/130 [==============================] - 1s 11ms/step\n"
     ]
    },
    {
     "name": "stderr",
     "output_type": "stream",
     "text": [
      "130it [00:01, 71.72it/s]\n"
     ]
    },
    {
     "name": "stdout",
     "output_type": "stream",
     "text": [
      "Model:  ../input/ncseverstalsegmentationunetdataaugloss/severstal-segmentation_unetDataAugLoss.h5\n",
      "Generated submission file:  submission-ncseverstalsegmentationunetdataaugloss.csv\n"
     ]
    }
   ],
   "source": [
    "model_path = '../input/ncseverstalsegmentationunetdataaugloss/severstal-segmentation_unetDataAugLoss.h5'\n",
    "\n",
    "submission_file = 'submission-ncseverstalsegmentationunetdataaugloss.csv'\n",
    "n_channels = 1\n",
    "load_segmentation_model_and_predict(model_path,submission_file,n_channels)\n"
   ]
  },
  {
   "cell_type": "code",
   "execution_count": 16,
   "metadata": {
    "execution": {
     "iopub.execute_input": "2021-03-21T14:12:56.860114Z",
     "iopub.status.busy": "2021-03-21T14:12:56.859511Z",
     "iopub.status.idle": "2021-03-21T14:14:55.637073Z",
     "shell.execute_reply": "2021-03-21T14:14:55.638199Z"
    },
    "papermill": {
     "duration": 119.11185,
     "end_time": "2021-03-21T14:14:55.638424",
     "exception": false,
     "start_time": "2021-03-21T14:12:56.526574",
     "status": "completed"
    },
    "tags": []
   },
   "outputs": [
    {
     "name": "stdout",
     "output_type": "stream",
     "text": [
      "300/300 [==============================] - 3s 9ms/step\n"
     ]
    },
    {
     "name": "stderr",
     "output_type": "stream",
     "text": [
      "300it [00:04, 72.32it/s]\n"
     ]
    },
    {
     "name": "stdout",
     "output_type": "stream",
     "text": [
      "300/300 [==============================] - 3s 9ms/step\n"
     ]
    },
    {
     "name": "stderr",
     "output_type": "stream",
     "text": [
      "300it [00:04, 66.14it/s]\n"
     ]
    },
    {
     "name": "stdout",
     "output_type": "stream",
     "text": [
      "300/300 [==============================] - 3s 9ms/step\n"
     ]
    },
    {
     "name": "stderr",
     "output_type": "stream",
     "text": [
      "300it [00:04, 74.15it/s]\n"
     ]
    },
    {
     "name": "stdout",
     "output_type": "stream",
     "text": [
      "300/300 [==============================] - 3s 10ms/step\n"
     ]
    },
    {
     "name": "stderr",
     "output_type": "stream",
     "text": [
      "300it [00:03, 76.40it/s]\n"
     ]
    },
    {
     "name": "stdout",
     "output_type": "stream",
     "text": [
      "300/300 [==============================] - 3s 10ms/step\n"
     ]
    },
    {
     "name": "stderr",
     "output_type": "stream",
     "text": [
      "300it [00:03, 78.28it/s]\n"
     ]
    },
    {
     "name": "stdout",
     "output_type": "stream",
     "text": [
      "300/300 [==============================] - 3s 11ms/step\n"
     ]
    },
    {
     "name": "stderr",
     "output_type": "stream",
     "text": [
      "300it [00:03, 78.27it/s]\n"
     ]
    },
    {
     "name": "stdout",
     "output_type": "stream",
     "text": [
      "300/300 [==============================] - 3s 9ms/step\n"
     ]
    },
    {
     "name": "stderr",
     "output_type": "stream",
     "text": [
      "300it [00:04, 71.31it/s]\n"
     ]
    },
    {
     "name": "stdout",
     "output_type": "stream",
     "text": [
      "300/300 [==============================] - 3s 9ms/step\n"
     ]
    },
    {
     "name": "stderr",
     "output_type": "stream",
     "text": [
      "300it [00:04, 69.66it/s]\n"
     ]
    },
    {
     "name": "stdout",
     "output_type": "stream",
     "text": [
      "300/300 [==============================] - 3s 9ms/step\n"
     ]
    },
    {
     "name": "stderr",
     "output_type": "stream",
     "text": [
      "300it [00:04, 68.17it/s]\n"
     ]
    },
    {
     "name": "stdout",
     "output_type": "stream",
     "text": [
      "300/300 [==============================] - 3s 9ms/step\n"
     ]
    },
    {
     "name": "stderr",
     "output_type": "stream",
     "text": [
      "300it [00:04, 68.44it/s]\n"
     ]
    },
    {
     "name": "stdout",
     "output_type": "stream",
     "text": [
      "300/300 [==============================] - 3s 9ms/step\n"
     ]
    },
    {
     "name": "stderr",
     "output_type": "stream",
     "text": [
      "300it [00:03, 75.06it/s]\n"
     ]
    },
    {
     "name": "stdout",
     "output_type": "stream",
     "text": [
      "130/130 [==============================] - 1s 9ms/step\n"
     ]
    },
    {
     "name": "stderr",
     "output_type": "stream",
     "text": [
      "130it [00:01, 76.45it/s]\n"
     ]
    },
    {
     "name": "stdout",
     "output_type": "stream",
     "text": [
      "Model:  ../input/nc-severstalsegmentationunetdataaugdice/severstal-segmentation_unetDataAugDice.h5\n",
      "Generated submission file:  submission-ncseverstalsegmentationunetdataaugdice.csv\n"
     ]
    }
   ],
   "source": [
    "model_path = '../input/nc-severstalsegmentationunetdataaugdice/severstal-segmentation_unetDataAugDice.h5'\n",
    "submission_file = 'submission-ncseverstalsegmentationunetdataaugdice.csv'\n",
    "n_channels = 1\n",
    "load_segmentation_model_and_predict(model_path,submission_file,n_channels)"
   ]
  },
  {
   "cell_type": "code",
   "execution_count": 17,
   "metadata": {
    "execution": {
     "iopub.execute_input": "2021-03-21T14:14:56.886087Z",
     "iopub.status.busy": "2021-03-21T14:14:56.885395Z",
     "iopub.status.idle": "2021-03-21T14:16:56.915206Z",
     "shell.execute_reply": "2021-03-21T14:16:56.914353Z"
    },
    "papermill": {
     "duration": 120.668679,
     "end_time": "2021-03-21T14:16:56.915346",
     "exception": false,
     "start_time": "2021-03-21T14:14:56.246667",
     "status": "completed"
    },
    "tags": []
   },
   "outputs": [
    {
     "name": "stdout",
     "output_type": "stream",
     "text": [
      "300/300 [==============================] - 3s 9ms/step\n"
     ]
    },
    {
     "name": "stderr",
     "output_type": "stream",
     "text": [
      "300it [00:04, 73.06it/s]\n"
     ]
    },
    {
     "name": "stdout",
     "output_type": "stream",
     "text": [
      "300/300 [==============================] - 3s 10ms/step\n"
     ]
    },
    {
     "name": "stderr",
     "output_type": "stream",
     "text": [
      "300it [00:04, 73.69it/s]\n"
     ]
    },
    {
     "name": "stdout",
     "output_type": "stream",
     "text": [
      "300/300 [==============================] - 3s 9ms/step\n"
     ]
    },
    {
     "name": "stderr",
     "output_type": "stream",
     "text": [
      "300it [00:04, 71.00it/s]\n"
     ]
    },
    {
     "name": "stdout",
     "output_type": "stream",
     "text": [
      "300/300 [==============================] - 3s 12ms/step\n"
     ]
    },
    {
     "name": "stderr",
     "output_type": "stream",
     "text": [
      "300it [00:03, 76.11it/s]\n"
     ]
    },
    {
     "name": "stdout",
     "output_type": "stream",
     "text": [
      "300/300 [==============================] - 3s 10ms/step\n"
     ]
    },
    {
     "name": "stderr",
     "output_type": "stream",
     "text": [
      "300it [00:03, 75.06it/s]\n"
     ]
    },
    {
     "name": "stdout",
     "output_type": "stream",
     "text": [
      "300/300 [==============================] - 3s 9ms/step\n"
     ]
    },
    {
     "name": "stderr",
     "output_type": "stream",
     "text": [
      "300it [00:04, 74.16it/s]\n"
     ]
    },
    {
     "name": "stdout",
     "output_type": "stream",
     "text": [
      "300/300 [==============================] - 3s 10ms/step\n"
     ]
    },
    {
     "name": "stderr",
     "output_type": "stream",
     "text": [
      "300it [00:04, 64.09it/s]\n"
     ]
    },
    {
     "name": "stdout",
     "output_type": "stream",
     "text": [
      "300/300 [==============================] - 3s 9ms/step\n"
     ]
    },
    {
     "name": "stderr",
     "output_type": "stream",
     "text": [
      "300it [00:04, 71.27it/s]\n"
     ]
    },
    {
     "name": "stdout",
     "output_type": "stream",
     "text": [
      "300/300 [==============================] - 3s 9ms/step\n"
     ]
    },
    {
     "name": "stderr",
     "output_type": "stream",
     "text": [
      "300it [00:04, 70.74it/s]\n"
     ]
    },
    {
     "name": "stdout",
     "output_type": "stream",
     "text": [
      "300/300 [==============================] - 3s 9ms/step\n"
     ]
    },
    {
     "name": "stderr",
     "output_type": "stream",
     "text": [
      "300it [00:04, 68.62it/s]\n"
     ]
    },
    {
     "name": "stdout",
     "output_type": "stream",
     "text": [
      "300/300 [==============================] - 3s 10ms/step\n"
     ]
    },
    {
     "name": "stderr",
     "output_type": "stream",
     "text": [
      "300it [00:04, 73.89it/s]\n"
     ]
    },
    {
     "name": "stdout",
     "output_type": "stream",
     "text": [
      "130/130 [==============================] - 1s 10ms/step\n"
     ]
    },
    {
     "name": "stderr",
     "output_type": "stream",
     "text": [
      "130it [00:01, 75.02it/s]\n"
     ]
    },
    {
     "name": "stdout",
     "output_type": "stream",
     "text": [
      "Model:  ../input/ncseverstal05segmentationunet/severstal-segmentation_UNET.h5\n",
      "Generated submission file:  submission-ncseverstal05segmentationunet.csv\n"
     ]
    }
   ],
   "source": [
    "model_path = '../input/ncseverstal05segmentationunet/severstal-segmentation_UNET.h5'\n",
    "submission_file = 'submission-ncseverstal05segmentationunet.csv'\n",
    "n_channels = 1\n",
    "load_segmentation_model_and_predict(model_path,submission_file,n_channels)"
   ]
  },
  {
   "cell_type": "code",
   "execution_count": 18,
   "metadata": {
    "execution": {
     "iopub.execute_input": "2021-03-21T14:16:58.839866Z",
     "iopub.status.busy": "2021-03-21T14:16:58.838962Z",
     "iopub.status.idle": "2021-03-21T14:21:42.966718Z",
     "shell.execute_reply": "2021-03-21T14:21:42.967139Z"
    },
    "papermill": {
     "duration": 285.192088,
     "end_time": "2021-03-21T14:21:42.967304",
     "exception": false,
     "start_time": "2021-03-21T14:16:57.775216",
     "status": "completed"
    },
    "tags": []
   },
   "outputs": [
    {
     "name": "stdout",
     "output_type": "stream",
     "text": [
      "300/300 [==============================] - 18s 55ms/step\n"
     ]
    },
    {
     "name": "stderr",
     "output_type": "stream",
     "text": [
      "300it [00:04, 65.78it/s]\n"
     ]
    },
    {
     "name": "stdout",
     "output_type": "stream",
     "text": [
      "300/300 [==============================] - 17s 55ms/step\n"
     ]
    },
    {
     "name": "stderr",
     "output_type": "stream",
     "text": [
      "300it [00:03, 82.65it/s]\n"
     ]
    },
    {
     "name": "stdout",
     "output_type": "stream",
     "text": [
      "300/300 [==============================] - 17s 56ms/step\n"
     ]
    },
    {
     "name": "stderr",
     "output_type": "stream",
     "text": [
      "300it [00:03, 78.64it/s]\n"
     ]
    },
    {
     "name": "stdout",
     "output_type": "stream",
     "text": [
      "300/300 [==============================] - 17s 56ms/step\n"
     ]
    },
    {
     "name": "stderr",
     "output_type": "stream",
     "text": [
      "300it [00:03, 80.51it/s]\n"
     ]
    },
    {
     "name": "stdout",
     "output_type": "stream",
     "text": [
      "300/300 [==============================] - 17s 56ms/step\n"
     ]
    },
    {
     "name": "stderr",
     "output_type": "stream",
     "text": [
      "300it [00:03, 79.81it/s]\n"
     ]
    },
    {
     "name": "stdout",
     "output_type": "stream",
     "text": [
      "300/300 [==============================] - 17s 56ms/step\n"
     ]
    },
    {
     "name": "stderr",
     "output_type": "stream",
     "text": [
      "300it [00:03, 82.23it/s]\n"
     ]
    },
    {
     "name": "stdout",
     "output_type": "stream",
     "text": [
      "300/300 [==============================] - 17s 56ms/step\n"
     ]
    },
    {
     "name": "stderr",
     "output_type": "stream",
     "text": [
      "300it [00:03, 82.45it/s]\n"
     ]
    },
    {
     "name": "stdout",
     "output_type": "stream",
     "text": [
      "300/300 [==============================] - 17s 55ms/step\n"
     ]
    },
    {
     "name": "stderr",
     "output_type": "stream",
     "text": [
      "300it [00:04, 74.91it/s]\n"
     ]
    },
    {
     "name": "stdout",
     "output_type": "stream",
     "text": [
      "300/300 [==============================] - 17s 55ms/step\n"
     ]
    },
    {
     "name": "stderr",
     "output_type": "stream",
     "text": [
      "300it [00:03, 75.49it/s]\n"
     ]
    },
    {
     "name": "stdout",
     "output_type": "stream",
     "text": [
      "300/300 [==============================] - 17s 56ms/step\n"
     ]
    },
    {
     "name": "stderr",
     "output_type": "stream",
     "text": [
      "300it [00:03, 77.13it/s]\n"
     ]
    },
    {
     "name": "stdout",
     "output_type": "stream",
     "text": [
      "300/300 [==============================] - 17s 56ms/step\n"
     ]
    },
    {
     "name": "stderr",
     "output_type": "stream",
     "text": [
      "300it [00:04, 61.12it/s]\n"
     ]
    },
    {
     "name": "stdout",
     "output_type": "stream",
     "text": [
      "130/130 [==============================] - 7s 56ms/step\n"
     ]
    },
    {
     "name": "stderr",
     "output_type": "stream",
     "text": [
      "130it [00:01, 77.85it/s]\n"
     ]
    },
    {
     "name": "stdout",
     "output_type": "stream",
     "text": [
      "Model:  ../input/ncseverstal06segmentationunetxception/severstal-segmentation_UnetXception.h5\n",
      "Generated submission file:  submission-ncseverstal06segmentationunetxception.csv\n"
     ]
    }
   ],
   "source": [
    "model_path = '../input/ncseverstal06segmentationunetxception/severstal-segmentation_UnetXception.h5'\n",
    "submission_file = 'submission-ncseverstal06segmentationunetxception.csv'\n",
    "n_channels = 3\n",
    "load_segmentation_model_and_predict(model_path,submission_file,n_channels)"
   ]
  },
  {
   "cell_type": "code",
   "execution_count": 19,
   "metadata": {
    "execution": {
     "iopub.execute_input": "2021-03-21T14:21:46.746715Z",
     "iopub.status.busy": "2021-03-21T14:21:46.745712Z",
     "iopub.status.idle": "2021-03-21T14:24:10.737526Z",
     "shell.execute_reply": "2021-03-21T14:24:10.738021Z"
    },
    "papermill": {
     "duration": 145.955224,
     "end_time": "2021-03-21T14:24:10.738178",
     "exception": false,
     "start_time": "2021-03-21T14:21:44.782954",
     "status": "completed"
    },
    "tags": []
   },
   "outputs": [
    {
     "name": "stdout",
     "output_type": "stream",
     "text": [
      "300/300 [==============================] - 5s 16ms/step\n"
     ]
    },
    {
     "name": "stderr",
     "output_type": "stream",
     "text": [
      "300it [00:03, 77.94it/s]\n"
     ]
    },
    {
     "name": "stdout",
     "output_type": "stream",
     "text": [
      "300/300 [==============================] - 5s 16ms/step\n"
     ]
    },
    {
     "name": "stderr",
     "output_type": "stream",
     "text": [
      "300it [00:03, 78.29it/s]\n"
     ]
    },
    {
     "name": "stdout",
     "output_type": "stream",
     "text": [
      "300/300 [==============================] - 5s 16ms/step\n"
     ]
    },
    {
     "name": "stderr",
     "output_type": "stream",
     "text": [
      "300it [00:05, 55.66it/s]\n"
     ]
    },
    {
     "name": "stdout",
     "output_type": "stream",
     "text": [
      "300/300 [==============================] - 5s 16ms/step\n"
     ]
    },
    {
     "name": "stderr",
     "output_type": "stream",
     "text": [
      "300it [00:03, 78.07it/s]\n"
     ]
    },
    {
     "name": "stdout",
     "output_type": "stream",
     "text": [
      "300/300 [==============================] - 5s 16ms/step\n"
     ]
    },
    {
     "name": "stderr",
     "output_type": "stream",
     "text": [
      "300it [00:03, 78.82it/s]\n"
     ]
    },
    {
     "name": "stdout",
     "output_type": "stream",
     "text": [
      "300/300 [==============================] - 5s 16ms/step\n"
     ]
    },
    {
     "name": "stderr",
     "output_type": "stream",
     "text": [
      "300it [00:04, 63.63it/s]\n"
     ]
    },
    {
     "name": "stdout",
     "output_type": "stream",
     "text": [
      "300/300 [==============================] - 5s 16ms/step\n"
     ]
    },
    {
     "name": "stderr",
     "output_type": "stream",
     "text": [
      "300it [00:03, 78.23it/s]\n"
     ]
    },
    {
     "name": "stdout",
     "output_type": "stream",
     "text": [
      "300/300 [==============================] - 5s 16ms/step\n"
     ]
    },
    {
     "name": "stderr",
     "output_type": "stream",
     "text": [
      "300it [00:03, 77.95it/s]\n"
     ]
    },
    {
     "name": "stdout",
     "output_type": "stream",
     "text": [
      "300/300 [==============================] - 5s 16ms/step\n"
     ]
    },
    {
     "name": "stderr",
     "output_type": "stream",
     "text": [
      "300it [00:04, 60.44it/s]\n"
     ]
    },
    {
     "name": "stdout",
     "output_type": "stream",
     "text": [
      "300/300 [==============================] - 5s 15ms/step\n"
     ]
    },
    {
     "name": "stderr",
     "output_type": "stream",
     "text": [
      "300it [00:03, 75.48it/s]\n"
     ]
    },
    {
     "name": "stdout",
     "output_type": "stream",
     "text": [
      "300/300 [==============================] - 5s 15ms/step\n"
     ]
    },
    {
     "name": "stderr",
     "output_type": "stream",
     "text": [
      "300it [00:04, 74.48it/s]\n"
     ]
    },
    {
     "name": "stdout",
     "output_type": "stream",
     "text": [
      "130/130 [==============================] - 2s 16ms/step\n"
     ]
    },
    {
     "name": "stderr",
     "output_type": "stream",
     "text": [
      "130it [00:01, 79.40it/s]\n"
     ]
    },
    {
     "name": "stdout",
     "output_type": "stream",
     "text": [
      "Model:  ../input/ncseverstal07segmentationunetbn/severstal-segmentation_unetBN.h5\n",
      "Generated submission file:  submission-ncseverstal07segmentationunetbn.csv\n"
     ]
    }
   ],
   "source": [
    "model_path = '../input/ncseverstal07segmentationunetbn/severstal-segmentation_unetBN.h5'\n",
    "submission_file = 'submission-ncseverstal07segmentationunetbn.csv'\n",
    "n_channels = 1\n",
    "load_segmentation_model_and_predict(model_path,submission_file,n_channels)"
   ]
  },
  {
   "cell_type": "code",
   "execution_count": 20,
   "metadata": {
    "execution": {
     "iopub.execute_input": "2021-03-21T14:24:15.208610Z",
     "iopub.status.busy": "2021-03-21T14:24:15.207787Z",
     "iopub.status.idle": "2021-03-21T14:24:15.211526Z",
     "shell.execute_reply": "2021-03-21T14:24:15.211113Z"
    },
    "papermill": {
     "duration": 2.346727,
     "end_time": "2021-03-21T14:24:15.211643",
     "exception": false,
     "start_time": "2021-03-21T14:24:12.864916",
     "status": "completed"
    },
    "tags": []
   },
   "outputs": [
    {
     "data": {
      "text/plain": [
       "\"\\nimport pandas as pd\\n\\ns = pd.read_csv('../input/csvfiles/submission.csv')\\n\\ns.to_csv('submission.csv',index=False)\\ns.head()\\n\""
      ]
     },
     "execution_count": 20,
     "metadata": {},
     "output_type": "execute_result"
    }
   ],
   "source": [
    "# Create a sepertate file to submit the result. \n",
    "'''\n",
    "import pandas as pd\n",
    "\n",
    "s = pd.read_csv('../input/csvfiles/submission.csv')\n",
    "\n",
    "s.to_csv('submission.csv',index=False)\n",
    "s.head()\n",
    "'''"
   ]
  },
  {
   "cell_type": "code",
   "execution_count": null,
   "metadata": {
    "papermill": {
     "duration": 2.133065,
     "end_time": "2021-03-21T14:24:19.449416",
     "exception": false,
     "start_time": "2021-03-21T14:24:17.316351",
     "status": "completed"
    },
    "tags": []
   },
   "outputs": [],
   "source": []
  }
 ],
 "metadata": {
  "kernelspec": {
   "display_name": "Python 3",
   "language": "python",
   "name": "python3"
  },
  "language_info": {
   "codemirror_mode": {
    "name": "ipython",
    "version": 3
   },
   "file_extension": ".py",
   "mimetype": "text/x-python",
   "name": "python",
   "nbconvert_exporter": "python",
   "pygments_lexer": "ipython3",
   "version": "3.8.3"
  },
  "papermill": {
   "default_parameters": {},
   "duration": 922.497472,
   "end_time": "2021-03-21T14:24:25.004382",
   "environment_variables": {},
   "exception": null,
   "input_path": "__notebook__.ipynb",
   "output_path": "__notebook__.ipynb",
   "parameters": {},
   "start_time": "2021-03-21T14:09:02.506910",
   "version": "2.2.2"
  }
 },
 "nbformat": 4,
 "nbformat_minor": 4
}
